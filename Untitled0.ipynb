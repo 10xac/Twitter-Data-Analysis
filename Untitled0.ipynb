{
  "nbformat": 4,
  "nbformat_minor": 0,
  "metadata": {
    "colab": {
      "name": "Untitled0.ipynb",
      "provenance": [],
      "collapsed_sections": [],
      "authorship_tag": "ABX9TyMf2XTVNyuyqv2lNEj1XOp6",
      "include_colab_link": true
    },
    "kernelspec": {
      "name": "python3",
      "display_name": "Python 3"
    },
    "language_info": {
      "name": "python"
    }
  },
  "cells": [
    {
      "cell_type": "markdown",
      "metadata": {
        "id": "view-in-github",
        "colab_type": "text"
      },
      "source": [
        "<a href=\"https://colab.research.google.com/github/AmonKi/Twitter-Data-Analysis/blob/fix_bug/Untitled0.ipynb\" target=\"_parent\"><img src=\"https://colab.research.google.com/assets/colab-badge.svg\" alt=\"Open In Colab\"/></a>"
      ]
    },
    {
      "cell_type": "markdown",
      "metadata": {
        "id": "nn-9FopTr2fW"
      },
      "source": [
        "Interim Report"
      ]
    },
    {
      "cell_type": "markdown",
      "metadata": {
        "id": "gGWkY1Hbr8YC"
      },
      "source": [
        "Abstract\n",
        "In the current world, twitter is among the leading sources of data on the trends, because oit gathers people's opinions on a given subject. Therefore, in this case, we going to consider data extracted from twitter about covid19 in Africa. The focus here is analysing the opinions of people about covid19 in Africa and in the specific countries. Since, data changes regularly, prediction is vital for analysis for it helps to establish future operations. The approach in this case is to build a model that will be able to show the drifting of data. This is achieved by cleaning the available data and obtaining the pattern that can affirm any data drifting. Eventually, the model will be able to inform the decisions and behavior that pertains covid19 as it will tell incase of data alteration.\n",
        "\n",
        "Introduction\n",
        "It is firmly known that people have varied ideas on issues of affecting them, and bringing these points together may yied a substancial decision. But the question is how to get the best idea from an individual. Social media das proven to be the resorceful in bringing people together and varied sentiments together. Tweets contain the mood and the opinions of people on a particular matter, hence, worth analysing these opinions that will help to inform future decisions and impact the society positively. To improve or increase the efficiency of a ceratyin production, feedback report is essential. Feedback is extracted then cleaned ensuring no errors or unhelpful information, and creating a model based on the pattern of the data. MLOps pipeline ensures the order is f\n",
        "\n",
        "\n",
        " - a section that motivates the r data analysis of a twitter data. You should address the following points\n",
        "The importance of analysing twitter data\n",
        "The importance of setting up an MLOps pipeline\n",
        "\n",
        "* Data\n",
        "How it is collected - it is from twitter \n",
        "Key information about the data: format of data, number of rows, keywords used to collect the data, etc.\n",
        "\n",
        "* Method - the MLOps components you plan to implement\n",
        "A flow chart demonstrating the different components in your MLOps design and their interaction\n",
        "How you implemented the different components \n",
        "Implementation details e.g. Travis CI, unit testing coverage, Streamlit for dashboard, etc. \n",
        "* Result and Discussion \n",
        "Which parts you have implemented so far\n",
        "Figures and insights you extracted so far\n",
        "What you plan to do the rest of the week\n",
        "The challenge you faced"
      ]
    }
  ]
}