{
  "nbformat": 4,
  "nbformat_minor": 0,
  "metadata": {
    "colab": {
      "name": "Copy of Modeling_Twitter.ipynb",
      "provenance": [],
      "collapsed_sections": [],
      "include_colab_link": true
    },
    "kernelspec": {
      "display_name": "Python 3",
      "name": "python3"
    },
    "language_info": {
      "name": "python"
    }
  },
  "cells": [
    {
      "cell_type": "markdown",
      "metadata": {
        "id": "view-in-github",
        "colab_type": "text"
      },
      "source": [
        "<a href=\"https://colab.research.google.com/github/d1m3j1/Twitter-Data-Analysis/blob/notebook/Modeling_Twitter.ipynb\" target=\"_parent\"><img src=\"https://colab.research.google.com/assets/colab-badge.svg\" alt=\"Open In Colab\"/></a>"
      ]
    },
    {
      "cell_type": "markdown",
      "metadata": {
        "id": "XwFOba1pbdVc"
      },
      "source": [
        "## **Objective **\n",
        "### Social Media Tweet Analysis on Twitter Dataset\n",
        "*   Topic Modeling on Twitter Dataset\n",
        "\n",
        "\n",
        "*   Reference for [Topic modeling ](https://https://towardsdatascience.com/evaluate-topic-model-in-python-latent-dirichlet-allocation-lda-7d57484bb5d0)\n",
        "\n",
        "*   Sentiment analysis on Twitter Dataset\n",
        "\n"
      ]
    },
    {
      "cell_type": "markdown",
      "metadata": {
        "id": "SN9Lla4UO1SS"
      },
      "source": [
        "\n",
        "\n",
        "\n",
        "\n",
        "\n",
        "### **Business understanding**"
      ]
    },
    {
      "cell_type": "markdown",
      "metadata": {
        "id": "Dbu9rgu4iSTe"
      },
      "source": [
        "### **Topic modeling**\n",
        "Topic modeling is a type of statistical model for discovering the abstract \"topics\" that occur in a collection of texts.\n",
        " It is an unsupervised approach used for finding and observing the bunch of words (called “topics”) in large clusters of texts.\n",
        " **Topic models** are built around the idea that the semantics of our document are actually being governed by some hidden, or “latent,” variables that we are not observing.\n",
        "\n",
        "*   Our task here is to discover abstract topics from tweets.\n",
        "\n",
        "\n",
        "### **Sentiment analysis**\n",
        " It is used in social media monitoring, allowing businesses to gain insights about how customers feel about certain topics, and detect urgent issues in real time before they spiral out of control.\n",
        "\n",
        "\n",
        "*   Our task here is to classify a tweet as a positive or negative tweet sentiment wise.\n",
        "\n",
        "\n"
      ]
    },
    {
      "cell_type": "code",
      "metadata": {
        "id": "Vsmv5wkz0VFu"
      },
      "source": [
        ""
      ],
      "execution_count": null,
      "outputs": []
    },
    {
      "cell_type": "markdown",
      "metadata": {
        "id": "REuN7elQ0Vvr"
      },
      "source": [
        "**Topic modeling **is a machine learning technique that automatically analyzes text data to determine cluster words for a set of documents. \n",
        "\n",
        "\n",
        "*   unsupervised machine learning because it doesn’t require a predefined list of tags or training data that’s been previously classified by humans.\n",
        "*   doesn’t require training, it’s a quick and easy way to start analyzing your data."
      ]
    },
    {
      "cell_type": "markdown",
      "metadata": {
        "id": "hQuEQFUIy2_3"
      },
      "source": [
        "## Data Understanding\n",
        "### Loading necessary packages"
      ]
    },
    {
      "cell_type": "code",
      "source": [
        "!pip install pyLDAvis"
      ],
      "metadata": {
        "colab": {
          "base_uri": "https://localhost:8080/"
        },
        "id": "8VSbF927s9IW",
        "outputId": "fbe54e29-8b36-4c41-dbdc-f16671515777"
      },
      "execution_count": 58,
      "outputs": [
        {
          "output_type": "stream",
          "name": "stdout",
          "text": [
            "Requirement already satisfied: pyLDAvis in /usr/local/lib/python3.7/dist-packages (3.3.1)\n",
            "Requirement already satisfied: joblib in /usr/local/lib/python3.7/dist-packages (from pyLDAvis) (1.1.0)\n",
            "Requirement already satisfied: pandas>=1.2.0 in /usr/local/lib/python3.7/dist-packages (from pyLDAvis) (1.3.5)\n",
            "Requirement already satisfied: numpy>=1.20.0 in /usr/local/lib/python3.7/dist-packages (from pyLDAvis) (1.21.6)\n",
            "Requirement already satisfied: sklearn in /usr/local/lib/python3.7/dist-packages (from pyLDAvis) (0.0)\n",
            "Requirement already satisfied: scipy in /usr/local/lib/python3.7/dist-packages (from pyLDAvis) (1.4.1)\n",
            "Requirement already satisfied: setuptools in /usr/local/lib/python3.7/dist-packages (from pyLDAvis) (57.4.0)\n",
            "Requirement already satisfied: scikit-learn in /usr/local/lib/python3.7/dist-packages (from pyLDAvis) (1.0.2)\n",
            "Requirement already satisfied: funcy in /usr/local/lib/python3.7/dist-packages (from pyLDAvis) (1.17)\n",
            "Requirement already satisfied: jinja2 in /usr/local/lib/python3.7/dist-packages (from pyLDAvis) (2.11.3)\n",
            "Requirement already satisfied: gensim in /usr/local/lib/python3.7/dist-packages (from pyLDAvis) (3.6.0)\n",
            "Requirement already satisfied: numexpr in /usr/local/lib/python3.7/dist-packages (from pyLDAvis) (2.8.1)\n",
            "Requirement already satisfied: future in /usr/local/lib/python3.7/dist-packages (from pyLDAvis) (0.16.0)\n",
            "Requirement already satisfied: pytz>=2017.3 in /usr/local/lib/python3.7/dist-packages (from pandas>=1.2.0->pyLDAvis) (2022.1)\n",
            "Requirement already satisfied: python-dateutil>=2.7.3 in /usr/local/lib/python3.7/dist-packages (from pandas>=1.2.0->pyLDAvis) (2.8.2)\n",
            "Requirement already satisfied: six>=1.5 in /usr/local/lib/python3.7/dist-packages (from python-dateutil>=2.7.3->pandas>=1.2.0->pyLDAvis) (1.15.0)\n",
            "Requirement already satisfied: smart-open>=1.2.1 in /usr/local/lib/python3.7/dist-packages (from gensim->pyLDAvis) (5.2.1)\n",
            "Requirement already satisfied: MarkupSafe>=0.23 in /usr/local/lib/python3.7/dist-packages (from jinja2->pyLDAvis) (2.0.1)\n",
            "Requirement already satisfied: packaging in /usr/local/lib/python3.7/dist-packages (from numexpr->pyLDAvis) (21.3)\n",
            "Requirement already satisfied: pyparsing!=3.0.5,>=2.0.2 in /usr/local/lib/python3.7/dist-packages (from packaging->numexpr->pyLDAvis) (3.0.8)\n",
            "Requirement already satisfied: threadpoolctl>=2.0.0 in /usr/local/lib/python3.7/dist-packages (from scikit-learn->pyLDAvis) (3.1.0)\n"
          ]
        }
      ]
    },
    {
      "cell_type": "code",
      "metadata": {
        "id": "CTUmMBAOyt-g"
      },
      "source": [
        "import warnings\n",
        "warnings.filterwarnings('ignore')\n",
        "from nltk.corpus import stopwords\n",
        "import gensim\n",
        "import nltk\n",
        "import plotly.graph_objs as go\n",
        "import gensim.corpora as corpora\n",
        "from gensim.utils import simple_preprocess\n",
        "from gensim.models import CoherenceModel\n",
        "import spacy\n",
        "import matplotlib.pyplot as plt\n",
        "import seaborn as sns\n",
        "from wordcloud import STOPWORDS,WordCloud\n",
        "import gensim\n",
        "from gensim.models import CoherenceModel\n",
        "from gensim import corpora\n",
        "import pandas as pd\n",
        "from pprint import pprint\n",
        "import string\n",
        "import os\n",
        "import re"
      ],
      "execution_count": 1,
      "outputs": []
    },
    {
      "cell_type": "markdown",
      "metadata": {
        "id": "J4_9Y5q6zOK-"
      },
      "source": [
        "Data acquisition\n",
        "\n",
        "For this example we have two option for data acquisition:\n",
        "\n",
        "*   You can download Twitter dataset directly from Twitter\n",
        "*   By registering as a developer using this link [Here](https://developer.twitter.com/en) \n",
        "\n",
        "*   Or you can use downloaded data found at Week0/data/cleaned_fintech_data.csv \n",
        "\n"
      ]
    },
    {
      "cell_type": "code",
      "metadata": {
        "colab": {
          "base_uri": "https://localhost:8080/"
        },
        "id": "2wFXGgT1xe80",
        "outputId": "1870f229-50fc-43ee-9ae3-14479fb73989"
      },
      "source": [
        "from google.colab import drive\n",
        "drive.mount('/content/drive')"
      ],
      "execution_count": null,
      "outputs": [
        {
          "output_type": "stream",
          "text": [
            "Mounted at /content/drive\n"
          ],
          "name": "stdout"
        }
      ]
    },
    {
      "cell_type": "code",
      "metadata": {
        "id": "BQC4abqKkjIO"
      },
      "source": [
        "#data loader class\n",
        "class DataLoader:\n",
        "  def __init__(self,dir_name,file_name):\n",
        "    self.dir_name=dir_name\n",
        "    self.file_name = file_name\n",
        "    \n",
        " \n",
        "  def read_csv(self):\n",
        "    os.chdir(self.dir_name)\n",
        "    tweets_df=pd.read_csv(self.file_name)\n",
        "    return tweets_df\n",
        "  \n",
        "    "
      ],
      "execution_count": 2,
      "outputs": []
    },
    {
      "cell_type": "code",
      "metadata": {
        "id": "U3mUs9wfqbJJ"
      },
      "source": [
        "#object creation\n",
        "DataLoader_obj= DataLoader('/content/','processed_tweet_data.csv')\n"
      ],
      "execution_count": 74,
      "outputs": []
    },
    {
      "cell_type": "code",
      "metadata": {
        "colab": {
          "base_uri": "https://localhost:8080/",
          "height": 49
        },
        "id": "aE9Bs0UxrG5z",
        "outputId": "9796e618-498a-4135-bc6e-f528107f4fd9"
      },
      "source": [
        "tweets_df=DataLoader_obj.read_csv()\n",
        "tweets_df.dropna()\n"
      ],
      "execution_count": 75,
      "outputs": [
        {
          "output_type": "execute_result",
          "data": {
            "text/plain": [
              "Empty DataFrame\n",
              "Columns: [statuses_count, created_at, source, original_text, polarity, subjectivity, lang, favorite_count, retweet_count, screen_name, followers_count, friends_count, sensitivity, hashtags, user_mentions, place]\n",
              "Index: []"
            ],
            "text/html": [
              "\n",
              "  <div id=\"df-849f7608-d71f-4a36-8085-f77a980f1936\">\n",
              "    <div class=\"colab-df-container\">\n",
              "      <div>\n",
              "<style scoped>\n",
              "    .dataframe tbody tr th:only-of-type {\n",
              "        vertical-align: middle;\n",
              "    }\n",
              "\n",
              "    .dataframe tbody tr th {\n",
              "        vertical-align: top;\n",
              "    }\n",
              "\n",
              "    .dataframe thead th {\n",
              "        text-align: right;\n",
              "    }\n",
              "</style>\n",
              "<table border=\"1\" class=\"dataframe\">\n",
              "  <thead>\n",
              "    <tr style=\"text-align: right;\">\n",
              "      <th></th>\n",
              "      <th>statuses_count</th>\n",
              "      <th>created_at</th>\n",
              "      <th>source</th>\n",
              "      <th>original_text</th>\n",
              "      <th>polarity</th>\n",
              "      <th>subjectivity</th>\n",
              "      <th>lang</th>\n",
              "      <th>favorite_count</th>\n",
              "      <th>retweet_count</th>\n",
              "      <th>screen_name</th>\n",
              "      <th>followers_count</th>\n",
              "      <th>friends_count</th>\n",
              "      <th>sensitivity</th>\n",
              "      <th>hashtags</th>\n",
              "      <th>user_mentions</th>\n",
              "      <th>place</th>\n",
              "    </tr>\n",
              "  </thead>\n",
              "  <tbody>\n",
              "  </tbody>\n",
              "</table>\n",
              "</div>\n",
              "      <button class=\"colab-df-convert\" onclick=\"convertToInteractive('df-849f7608-d71f-4a36-8085-f77a980f1936')\"\n",
              "              title=\"Convert this dataframe to an interactive table.\"\n",
              "              style=\"display:none;\">\n",
              "        \n",
              "  <svg xmlns=\"http://www.w3.org/2000/svg\" height=\"24px\"viewBox=\"0 0 24 24\"\n",
              "       width=\"24px\">\n",
              "    <path d=\"M0 0h24v24H0V0z\" fill=\"none\"/>\n",
              "    <path d=\"M18.56 5.44l.94 2.06.94-2.06 2.06-.94-2.06-.94-.94-2.06-.94 2.06-2.06.94zm-11 1L8.5 8.5l.94-2.06 2.06-.94-2.06-.94L8.5 2.5l-.94 2.06-2.06.94zm10 10l.94 2.06.94-2.06 2.06-.94-2.06-.94-.94-2.06-.94 2.06-2.06.94z\"/><path d=\"M17.41 7.96l-1.37-1.37c-.4-.4-.92-.59-1.43-.59-.52 0-1.04.2-1.43.59L10.3 9.45l-7.72 7.72c-.78.78-.78 2.05 0 2.83L4 21.41c.39.39.9.59 1.41.59.51 0 1.02-.2 1.41-.59l7.78-7.78 2.81-2.81c.8-.78.8-2.07 0-2.86zM5.41 20L4 18.59l7.72-7.72 1.47 1.35L5.41 20z\"/>\n",
              "  </svg>\n",
              "      </button>\n",
              "      \n",
              "  <style>\n",
              "    .colab-df-container {\n",
              "      display:flex;\n",
              "      flex-wrap:wrap;\n",
              "      gap: 12px;\n",
              "    }\n",
              "\n",
              "    .colab-df-convert {\n",
              "      background-color: #E8F0FE;\n",
              "      border: none;\n",
              "      border-radius: 50%;\n",
              "      cursor: pointer;\n",
              "      display: none;\n",
              "      fill: #1967D2;\n",
              "      height: 32px;\n",
              "      padding: 0 0 0 0;\n",
              "      width: 32px;\n",
              "    }\n",
              "\n",
              "    .colab-df-convert:hover {\n",
              "      background-color: #E2EBFA;\n",
              "      box-shadow: 0px 1px 2px rgba(60, 64, 67, 0.3), 0px 1px 3px 1px rgba(60, 64, 67, 0.15);\n",
              "      fill: #174EA6;\n",
              "    }\n",
              "\n",
              "    [theme=dark] .colab-df-convert {\n",
              "      background-color: #3B4455;\n",
              "      fill: #D2E3FC;\n",
              "    }\n",
              "\n",
              "    [theme=dark] .colab-df-convert:hover {\n",
              "      background-color: #434B5C;\n",
              "      box-shadow: 0px 1px 3px 1px rgba(0, 0, 0, 0.15);\n",
              "      filter: drop-shadow(0px 1px 2px rgba(0, 0, 0, 0.3));\n",
              "      fill: #FFFFFF;\n",
              "    }\n",
              "  </style>\n",
              "\n",
              "      <script>\n",
              "        const buttonEl =\n",
              "          document.querySelector('#df-849f7608-d71f-4a36-8085-f77a980f1936 button.colab-df-convert');\n",
              "        buttonEl.style.display =\n",
              "          google.colab.kernel.accessAllowed ? 'block' : 'none';\n",
              "\n",
              "        async function convertToInteractive(key) {\n",
              "          const element = document.querySelector('#df-849f7608-d71f-4a36-8085-f77a980f1936');\n",
              "          const dataTable =\n",
              "            await google.colab.kernel.invokeFunction('convertToInteractive',\n",
              "                                                     [key], {});\n",
              "          if (!dataTable) return;\n",
              "\n",
              "          const docLinkHtml = 'Like what you see? Visit the ' +\n",
              "            '<a target=\"_blank\" href=https://colab.research.google.com/notebooks/data_table.ipynb>data table notebook</a>'\n",
              "            + ' to learn more about interactive tables.';\n",
              "          element.innerHTML = '';\n",
              "          dataTable['output_type'] = 'display_data';\n",
              "          await google.colab.output.renderOutput(dataTable, element);\n",
              "          const docLink = document.createElement('div');\n",
              "          docLink.innerHTML = docLinkHtml;\n",
              "          element.appendChild(docLink);\n",
              "        }\n",
              "      </script>\n",
              "    </div>\n",
              "  </div>\n",
              "  "
            ]
          },
          "metadata": {},
          "execution_count": 75
        }
      ]
    },
    {
      "cell_type": "code",
      "source": [
        "tweets_df.head()"
      ],
      "metadata": {
        "colab": {
          "base_uri": "https://localhost:8080/",
          "height": 250
        },
        "id": "y4WANVsyxNA9",
        "outputId": "6ca7ac49-85ca-4a42-f7ca-e33de7177bb0"
      },
      "execution_count": null,
      "outputs": [
        {
          "output_type": "execute_result",
          "data": {
            "text/plain": [
              "  statuses_count                      created_at  \\\n",
              "0             40  Fri Apr 22 22:20:18 +0000 2022   \n",
              "1             40  Fri Apr 22 22:19:16 +0000 2022   \n",
              "2             40  Fri Apr 22 22:17:28 +0000 2022   \n",
              "3             40  Fri Apr 22 22:17:20 +0000 2022   \n",
              "4             40  Fri Apr 22 22:13:15 +0000 2022   \n",
              "\n",
              "                                              source  \\\n",
              "0  <a href=\"http://twitter.com/download/android\" ...   \n",
              "1  <a href=\"http://twitter.com/download/android\" ...   \n",
              "2  <a href=\"http://twitter.com/download/android\" ...   \n",
              "3  <a href=\"http://twitter.com/download/android\" ...   \n",
              "4  <a href=\"http://twitter.com/download/android\" ...   \n",
              "\n",
              "                                       original_text  polarity  subjectivity  \\\n",
              "0  RT @nikitheblogger: Irre: Annalena Baerbock sa...       0.0           0.0   \n",
              "1  RT @sagt_mit: Merkel schaffte es in 1 Jahr 1 M...       0.0           0.0   \n",
              "2  RT @Kryptonoun: @WRi007 Pharma in Lebensmittel...       0.0           0.0   \n",
              "3  RT @WRi007: Die #Deutschen sind ein braves Vol...       0.0           0.0   \n",
              "4  RT @RolandTichy: Baerbock verkündet mal so neb...       0.0           0.0   \n",
              "\n",
              "  lang  favorite_count  retweet_count   screen_name followers_count  \\\n",
              "0   de          2356.0          355.0  McMc74078966               3   \n",
              "1   de          1985.0          505.0  McMc74078966               3   \n",
              "2   de            16.0            4.0  McMc74078966               3   \n",
              "3   de          1242.0          332.0  McMc74078966               3   \n",
              "4   de          1329.0          386.0  McMc74078966               3   \n",
              "\n",
              "  friends_count sensitivity                                  hashtags  \\\n",
              "0            12         NaN                                       NaN   \n",
              "1            12         NaN                                       NaN   \n",
              "2            12         NaN                                       NaN   \n",
              "3            12         NaN  Deutschen Spritpreisen inflation Abgaben   \n",
              "4            12         NaN                                       NaN   \n",
              "\n",
              "       user_mentions place  \n",
              "0     nikitheblogger   NaN  \n",
              "1           sagt_mit   NaN  \n",
              "2  Kryptonoun WRi007   NaN  \n",
              "3             WRi007   NaN  \n",
              "4        RolandTichy   NaN  "
            ],
            "text/html": [
              "\n",
              "  <div id=\"df-37f21937-bf1b-4033-af7c-a21d804bf0e8\">\n",
              "    <div class=\"colab-df-container\">\n",
              "      <div>\n",
              "<style scoped>\n",
              "    .dataframe tbody tr th:only-of-type {\n",
              "        vertical-align: middle;\n",
              "    }\n",
              "\n",
              "    .dataframe tbody tr th {\n",
              "        vertical-align: top;\n",
              "    }\n",
              "\n",
              "    .dataframe thead th {\n",
              "        text-align: right;\n",
              "    }\n",
              "</style>\n",
              "<table border=\"1\" class=\"dataframe\">\n",
              "  <thead>\n",
              "    <tr style=\"text-align: right;\">\n",
              "      <th></th>\n",
              "      <th>statuses_count</th>\n",
              "      <th>created_at</th>\n",
              "      <th>source</th>\n",
              "      <th>original_text</th>\n",
              "      <th>polarity</th>\n",
              "      <th>subjectivity</th>\n",
              "      <th>lang</th>\n",
              "      <th>favorite_count</th>\n",
              "      <th>retweet_count</th>\n",
              "      <th>screen_name</th>\n",
              "      <th>followers_count</th>\n",
              "      <th>friends_count</th>\n",
              "      <th>sensitivity</th>\n",
              "      <th>hashtags</th>\n",
              "      <th>user_mentions</th>\n",
              "      <th>place</th>\n",
              "    </tr>\n",
              "  </thead>\n",
              "  <tbody>\n",
              "    <tr>\n",
              "      <th>0</th>\n",
              "      <td>40</td>\n",
              "      <td>Fri Apr 22 22:20:18 +0000 2022</td>\n",
              "      <td>&lt;a href=\"http://twitter.com/download/android\" ...</td>\n",
              "      <td>RT @nikitheblogger: Irre: Annalena Baerbock sa...</td>\n",
              "      <td>0.0</td>\n",
              "      <td>0.0</td>\n",
              "      <td>de</td>\n",
              "      <td>2356.0</td>\n",
              "      <td>355.0</td>\n",
              "      <td>McMc74078966</td>\n",
              "      <td>3</td>\n",
              "      <td>12</td>\n",
              "      <td>NaN</td>\n",
              "      <td>NaN</td>\n",
              "      <td>nikitheblogger</td>\n",
              "      <td>NaN</td>\n",
              "    </tr>\n",
              "    <tr>\n",
              "      <th>1</th>\n",
              "      <td>40</td>\n",
              "      <td>Fri Apr 22 22:19:16 +0000 2022</td>\n",
              "      <td>&lt;a href=\"http://twitter.com/download/android\" ...</td>\n",
              "      <td>RT @sagt_mit: Merkel schaffte es in 1 Jahr 1 M...</td>\n",
              "      <td>0.0</td>\n",
              "      <td>0.0</td>\n",
              "      <td>de</td>\n",
              "      <td>1985.0</td>\n",
              "      <td>505.0</td>\n",
              "      <td>McMc74078966</td>\n",
              "      <td>3</td>\n",
              "      <td>12</td>\n",
              "      <td>NaN</td>\n",
              "      <td>NaN</td>\n",
              "      <td>sagt_mit</td>\n",
              "      <td>NaN</td>\n",
              "    </tr>\n",
              "    <tr>\n",
              "      <th>2</th>\n",
              "      <td>40</td>\n",
              "      <td>Fri Apr 22 22:17:28 +0000 2022</td>\n",
              "      <td>&lt;a href=\"http://twitter.com/download/android\" ...</td>\n",
              "      <td>RT @Kryptonoun: @WRi007 Pharma in Lebensmittel...</td>\n",
              "      <td>0.0</td>\n",
              "      <td>0.0</td>\n",
              "      <td>de</td>\n",
              "      <td>16.0</td>\n",
              "      <td>4.0</td>\n",
              "      <td>McMc74078966</td>\n",
              "      <td>3</td>\n",
              "      <td>12</td>\n",
              "      <td>NaN</td>\n",
              "      <td>NaN</td>\n",
              "      <td>Kryptonoun WRi007</td>\n",
              "      <td>NaN</td>\n",
              "    </tr>\n",
              "    <tr>\n",
              "      <th>3</th>\n",
              "      <td>40</td>\n",
              "      <td>Fri Apr 22 22:17:20 +0000 2022</td>\n",
              "      <td>&lt;a href=\"http://twitter.com/download/android\" ...</td>\n",
              "      <td>RT @WRi007: Die #Deutschen sind ein braves Vol...</td>\n",
              "      <td>0.0</td>\n",
              "      <td>0.0</td>\n",
              "      <td>de</td>\n",
              "      <td>1242.0</td>\n",
              "      <td>332.0</td>\n",
              "      <td>McMc74078966</td>\n",
              "      <td>3</td>\n",
              "      <td>12</td>\n",
              "      <td>NaN</td>\n",
              "      <td>Deutschen Spritpreisen inflation Abgaben</td>\n",
              "      <td>WRi007</td>\n",
              "      <td>NaN</td>\n",
              "    </tr>\n",
              "    <tr>\n",
              "      <th>4</th>\n",
              "      <td>40</td>\n",
              "      <td>Fri Apr 22 22:13:15 +0000 2022</td>\n",
              "      <td>&lt;a href=\"http://twitter.com/download/android\" ...</td>\n",
              "      <td>RT @RolandTichy: Baerbock verkündet mal so neb...</td>\n",
              "      <td>0.0</td>\n",
              "      <td>0.0</td>\n",
              "      <td>de</td>\n",
              "      <td>1329.0</td>\n",
              "      <td>386.0</td>\n",
              "      <td>McMc74078966</td>\n",
              "      <td>3</td>\n",
              "      <td>12</td>\n",
              "      <td>NaN</td>\n",
              "      <td>NaN</td>\n",
              "      <td>RolandTichy</td>\n",
              "      <td>NaN</td>\n",
              "    </tr>\n",
              "  </tbody>\n",
              "</table>\n",
              "</div>\n",
              "      <button class=\"colab-df-convert\" onclick=\"convertToInteractive('df-37f21937-bf1b-4033-af7c-a21d804bf0e8')\"\n",
              "              title=\"Convert this dataframe to an interactive table.\"\n",
              "              style=\"display:none;\">\n",
              "        \n",
              "  <svg xmlns=\"http://www.w3.org/2000/svg\" height=\"24px\"viewBox=\"0 0 24 24\"\n",
              "       width=\"24px\">\n",
              "    <path d=\"M0 0h24v24H0V0z\" fill=\"none\"/>\n",
              "    <path d=\"M18.56 5.44l.94 2.06.94-2.06 2.06-.94-2.06-.94-.94-2.06-.94 2.06-2.06.94zm-11 1L8.5 8.5l.94-2.06 2.06-.94-2.06-.94L8.5 2.5l-.94 2.06-2.06.94zm10 10l.94 2.06.94-2.06 2.06-.94-2.06-.94-.94-2.06-.94 2.06-2.06.94z\"/><path d=\"M17.41 7.96l-1.37-1.37c-.4-.4-.92-.59-1.43-.59-.52 0-1.04.2-1.43.59L10.3 9.45l-7.72 7.72c-.78.78-.78 2.05 0 2.83L4 21.41c.39.39.9.59 1.41.59.51 0 1.02-.2 1.41-.59l7.78-7.78 2.81-2.81c.8-.78.8-2.07 0-2.86zM5.41 20L4 18.59l7.72-7.72 1.47 1.35L5.41 20z\"/>\n",
              "  </svg>\n",
              "      </button>\n",
              "      \n",
              "  <style>\n",
              "    .colab-df-container {\n",
              "      display:flex;\n",
              "      flex-wrap:wrap;\n",
              "      gap: 12px;\n",
              "    }\n",
              "\n",
              "    .colab-df-convert {\n",
              "      background-color: #E8F0FE;\n",
              "      border: none;\n",
              "      border-radius: 50%;\n",
              "      cursor: pointer;\n",
              "      display: none;\n",
              "      fill: #1967D2;\n",
              "      height: 32px;\n",
              "      padding: 0 0 0 0;\n",
              "      width: 32px;\n",
              "    }\n",
              "\n",
              "    .colab-df-convert:hover {\n",
              "      background-color: #E2EBFA;\n",
              "      box-shadow: 0px 1px 2px rgba(60, 64, 67, 0.3), 0px 1px 3px 1px rgba(60, 64, 67, 0.15);\n",
              "      fill: #174EA6;\n",
              "    }\n",
              "\n",
              "    [theme=dark] .colab-df-convert {\n",
              "      background-color: #3B4455;\n",
              "      fill: #D2E3FC;\n",
              "    }\n",
              "\n",
              "    [theme=dark] .colab-df-convert:hover {\n",
              "      background-color: #434B5C;\n",
              "      box-shadow: 0px 1px 3px 1px rgba(0, 0, 0, 0.15);\n",
              "      filter: drop-shadow(0px 1px 2px rgba(0, 0, 0, 0.3));\n",
              "      fill: #FFFFFF;\n",
              "    }\n",
              "  </style>\n",
              "\n",
              "      <script>\n",
              "        const buttonEl =\n",
              "          document.querySelector('#df-37f21937-bf1b-4033-af7c-a21d804bf0e8 button.colab-df-convert');\n",
              "        buttonEl.style.display =\n",
              "          google.colab.kernel.accessAllowed ? 'block' : 'none';\n",
              "\n",
              "        async function convertToInteractive(key) {\n",
              "          const element = document.querySelector('#df-37f21937-bf1b-4033-af7c-a21d804bf0e8');\n",
              "          const dataTable =\n",
              "            await google.colab.kernel.invokeFunction('convertToInteractive',\n",
              "                                                     [key], {});\n",
              "          if (!dataTable) return;\n",
              "\n",
              "          const docLinkHtml = 'Like what you see? Visit the ' +\n",
              "            '<a target=\"_blank\" href=https://colab.research.google.com/notebooks/data_table.ipynb>data table notebook</a>'\n",
              "            + ' to learn more about interactive tables.';\n",
              "          element.innerHTML = '';\n",
              "          dataTable['output_type'] = 'display_data';\n",
              "          await google.colab.output.renderOutput(dataTable, element);\n",
              "          const docLink = document.createElement('div');\n",
              "          docLink.innerHTML = docLinkHtml;\n",
              "          element.appendChild(docLink);\n",
              "        }\n",
              "      </script>\n",
              "    </div>\n",
              "  </div>\n",
              "  "
            ]
          },
          "metadata": {},
          "execution_count": 5
        }
      ]
    },
    {
      "cell_type": "code",
      "source": [
        "tweets_df['lang'].unique()"
      ],
      "metadata": {
        "colab": {
          "base_uri": "https://localhost:8080/"
        },
        "id": "YBk2hl3NbKnq",
        "outputId": "b1ce88f2-f907-4f1b-cb1d-1e41f727f8a4"
      },
      "execution_count": null,
      "outputs": [
        {
          "output_type": "execute_result",
          "data": {
            "text/plain": [
              "array(['de', 'und', 'en', 'fr', 'hu', 'nl', 'lt', 'ro', 'pt', 'fi', 'ja',\n",
              "       'ar', 'in', 'tr', 'it', 'ca', 'ur', 'sl', 'hi', 'cs', 'es', 'pl',\n",
              "       'tl', 'ht', 'et', 'ru', 'da', 'no', 'uk', 'sv', 'cy', 'th', 'ko',\n",
              "       nan, 'Yujin_030901', 'zh', 'lv', 'te', 'ml', 'bn', 'GDSroy', 'mr',\n",
              "       'ShivaKJSP', 'eu', 'kn', 'or', 'ta', 'ne', 'gu', 'pa', 'fa', 'km',\n",
              "       'si'], dtype=object)"
            ]
          },
          "metadata": {},
          "execution_count": 6
        }
      ]
    },
    {
      "cell_type": "code",
      "source": [
        "# extract english rows and drop lang column with other remaining languages\n",
        "tweet_df_2 = tweets_df[tweets_df.lang == 'en'].drop('lang', axis=1).reset_index(drop = True)\n",
        "\n",
        "#check for the uniques values in locations columns \n",
        "tweet_df_2['place'].value_counts().head(30)"
      ],
      "metadata": {
        "colab": {
          "base_uri": "https://localhost:8080/"
        },
        "id": "eFr_bO4GbiS2",
        "outputId": "5b611159-7293-4aca-fb42-2aa6d4b5620f"
      },
      "execution_count": 76,
      "outputs": [
        {
          "output_type": "execute_result",
          "data": {
            "text/plain": [
              "India                      519\n",
              "United States              254\n",
              "Sri Lanka                  228\n",
              "London, England            195\n",
              "Canada                     193\n",
              "New Delhi                  177\n",
              "Mumbai                     144\n",
              "Mars                       143\n",
              "Kenya                      133\n",
              "Chennai, India             113\n",
              "Hyderabad, India           103\n",
              "San Francisco, CA          100\n",
              "Ireland                     98\n",
              "Boston, MA                  97\n",
              "Texas                       96\n",
              "United Kingdom              96\n",
              "London                      94\n",
              "Sydney, New South Wales     93\n",
              "Melbourne, Victoria         93\n",
              "South Africa                93\n",
              "Nairobi Kenya               93\n",
              "Bankura, India              92\n",
              "UK                          89\n",
              "Nairobi, Kenya              89\n",
              "Dallas, TX                  86\n",
              "Metaverse                   82\n",
              "New Delhi, India            80\n",
              "California, USA             76\n",
              "Mumbai, India               74\n",
              "England, United Kingdom     59\n",
              "Name: place, dtype: int64"
            ]
          },
          "metadata": {},
          "execution_count": 76
        }
      ]
    },
    {
      "cell_type": "code",
      "source": [
        "#Renaming necessary rows from the column\n",
        "def rename(first, second):\n",
        "  return tweet_df_2['place'].replace(first, second, inplace = True)\n",
        "\n",
        "rename('England, United Kingdom', 'United Kingdom')\n",
        "rename('London, England', 'United Kingdom')\n",
        "rename('London', 'United Kingdom')\n",
        "rename('London, UK', 'United Kingdom')\n",
        "rename('East London', 'United Kingdom')\n",
        "rename('England', 'United Kingdom')\n",
        "rename('UK', 'United Kingdom')\n",
        "rename('Texas, USA', 'United States')\n",
        "rename('Dallas, TX', 'United States')\n",
        "rename('Texas', 'United States')\n",
        "rename('us', 'United States')\n",
        "rename('USA', 'United States')\n",
        "rename('Boston, MA', 'United States')\n",
        "rename('San Francisco, CA', 'United States')\n",
        "rename('New York, NY', 'United States')\n",
        "rename('New York', 'United States')\n",
        "rename('San Diego, CA', 'United States')\n",
        "rename('New York, USA', 'United States')\n",
        "rename('Florida, USA', 'United States')\n",
        "rename('Los Angeles, CA', 'United States')\n",
        "rename('California, USA', 'United States')\n",
        "rename('Washington, DC', 'United States')\n",
        "rename('Chicago, IL', 'United States')\n",
        "rename('New Delhi, India', 'India')\n",
        "rename('Chennai, India', 'India')\n",
        "rename('Hyderabad, India', 'India')\n",
        "rename('Hyderabad, India', 'India')\n",
        "rename('Mumbai, INDIA', 'India')\n",
        "rename('Asansol, India', 'India')\n",
        "rename('Mumbai, India', 'India')\n",
        "rename('Madanapalle, India', 'India')\n",
        "rename('New Delhi', 'India')\n",
        "rename('Mumbai', 'India')\n",
        "rename('Bankura, India', 'India')\n",
        "rename('Nairobi, Kenya', 'Kenya')\n",
        "rename('Nairobi Kenya', 'Kenya')\n",
        "rename('Sydney, New South Wales', 'Australia')\n",
        "rename('Melbourne, Victoria', 'Australia')"
      ],
      "metadata": {
        "id": "4TtisnfYmvYU"
      },
      "execution_count": 77,
      "outputs": []
    },
    {
      "cell_type": "code",
      "source": [
        "tweet_df_2['place'].value_counts().head(30)"
      ],
      "metadata": {
        "colab": {
          "base_uri": "https://localhost:8080/"
        },
        "id": "UTUqI90-oUWw",
        "outputId": "6637272d-668d-480e-ba7c-bce9ce72b225"
      },
      "execution_count": 7,
      "outputs": [
        {
          "output_type": "execute_result",
          "data": {
            "text/plain": [
              "India                           1461\n",
              "United States                    839\n",
              "United Kingdom                   583\n",
              "Kenya                            315\n",
              "Sri Lanka                        228\n",
              "Canada                           193\n",
              "Australia                        186\n",
              "Mars                             143\n",
              "Ireland                           98\n",
              "South Africa                      93\n",
              "Metaverse                         82\n",
              "Boston                            50\n",
              "Burbank, CA                       50\n",
              "Saddle Hills County, Alberta      50\n",
              "Abuja & London                    50\n",
              "Instagram: pastexpirycom          50\n",
              "Scottsdale, Arizona               50\n",
              "Limassol                          50\n",
              "Get a FREE demo ⬇️⬇️              50\n",
              "The Stock Market                  50\n",
              "Michigan, USA                     50\n",
              "Columbus, OH                      50\n",
              "Palo Alto, CA                     50\n",
              "Global                            50\n",
              "sri lanka                         50\n",
              "Bannockburn, IL                   50\n",
              "Austin, Texas                     50\n",
              "New Mexico, USA                   50\n",
              "saarbrücken                       50\n",
              "Baltimore, MD                     50\n",
              "Name: place, dtype: int64"
            ]
          },
          "metadata": {},
          "execution_count": 7
        }
      ]
    },
    {
      "cell_type": "code",
      "metadata": {
        "colab": {
          "base_uri": "https://localhost:8080/"
        },
        "id": "31p0WZaVQbDG",
        "outputId": "9c1f4124-fa5e-42cb-aa1f-035b2c4b70f7"
      },
      "source": [
        "len(tweets_df)"
      ],
      "execution_count": null,
      "outputs": [
        {
          "output_type": "execute_result",
          "data": {
            "text/plain": [
              "5621"
            ]
          },
          "metadata": {
            "tags": []
          },
          "execution_count": 6
        }
      ]
    },
    {
      "cell_type": "code",
      "source": [
        "emoji_pattern = re.compile('['\n",
        "        u\"\\U0001F600-\\U0001F64F\"  # emoticons\n",
        "        u\"\\U0001F300-\\U0001F5FF\"  # symbols & pictographs\n",
        "        u\"\\U0001F680-\\U0001F6FF\"  # transport & map symbols\n",
        "        u\"\\U0001F1E0-\\U0001F1FF\"  # flags (iOS)\n",
        "                           \"]+\", flags=re.UNICODE)"
      ],
      "metadata": {
        "id": "vayOFkdvhsiL"
      },
      "execution_count": null,
      "outputs": []
    },
    {
      "cell_type": "code",
      "source": [
        "#Removing @names, links, images,  because they don't convey any sentiment\n",
        "class PrepareData:\n",
        "  def __init__(self,df):\n",
        "    self.df=df\n",
        "    \n",
        "  def preprocess_data(self):\n",
        "    tweets_df = self.df.loc[self.df['lang'] ==\"en\"]\n",
        "    tweets_df = str(self.df)\n",
        "    #Remove emojis\n",
        "    tweets_df = emoji_pattern.sub(r'', self.df)\n",
        "    #Remove identifications\n",
        "    tweets_df = re.sub(r'RT @\\w+:', '', self.df)\n",
        "    tweets_df = re.sub(r'@\\w+', '', self.df)\n",
        "    #Remove links\n",
        "    tweets_df = re.sub(r'https,?://[^/s]+[/s]?', '', self.df)    \n",
        "    \n",
        "    #text Preprocessing\n",
        "    tweets_df['original_text'] = tweets_df['original_text'].astype(str)\n",
        "    tweets_df['original_text'] = tweets_df['original_text'].apply(lambda x: x.lower())\n",
        "    tweet_df_2['original_text'] = tweet_df_2['original_text'].apply(lambda x : clean_tweet(x))\n",
        "    tweets_df['original_text'] = tweets_df['original_text'].apply(lambda x: clean_tweet(x))\n",
        "    tweets_df['original_text'] = tweets_df['original_text'].apply(lambda x: x.translate(str.maketrans(' ', ' ', string.punctuation)))\n",
        "  \n",
        "    return tweets_df\n"
      ],
      "metadata": {
        "id": "Fv-yfAFeCYX9"
      },
      "execution_count": null,
      "outputs": []
    },
    {
      "cell_type": "code",
      "source": [
        "#Removing @names, links, images,  because they don't convey any sentiment\n",
        "class PrepareData:\n",
        "  def __init__(self,df):\n",
        "    self.df=df\n",
        "    \n",
        "  def preprocess_data(self):\n",
        "    tweets_df = self.df.loc[self.df['lang'] ==\"en\"]\n",
        "    tweets_df = str(self.df)\n",
        "    #Remove emojis\n",
        "    tweets_df = emoji_pattern.sub(r'', self.df)\n",
        "    #Remove identifications\n",
        "    tweets_df = re.sub(r'RT @\\w+:', '', self.df)\n",
        "    tweets_df = re.sub(r'@\\w+', '', self.df)\n",
        "    #Remove links\n",
        "    tweets_df = re.sub(r'https,?://[^/s]+[/s]?', '', self.df)    \n",
        "    \n",
        "    #text Preprocessing\n",
        "    tweets_df['original_text'] = tweets_df['original_text'].astype(str)\n",
        "    tweets_df['original_text'] = tweets_df['original_text'].apply(lambda x: x.lower())\n",
        "    tweet_df_2['original_text'] = tweet_df_2['original_text'].apply(lambda x : clean_tweet(x))\n",
        "    tweets_df['original_text'] = tweets_df['original_text'].apply(lambda x: clean_tweet(x))\n",
        "    tweets_df['original_text'] = tweets_df['original_text'].apply(lambda x: x.translate(str.maketrans(' ', ' ', string.punctuation)))\n",
        "  \n",
        "    return tweets_df\n"
      ],
      "metadata": {
        "id": "yNdTooGVipFi"
      },
      "execution_count": 93,
      "outputs": []
    },
    {
      "cell_type": "code",
      "source": [
        "tweet_df_2 = tweets_df\n",
        "tweet_df_2"
      ],
      "metadata": {
        "colab": {
          "base_uri": "https://localhost:8080/",
          "height": 641
        },
        "id": "PRnbthWyym7N",
        "outputId": "2a72a5cd-fb98-43c8-8e29-c1cf66954485"
      },
      "execution_count": 80,
      "outputs": [
        {
          "output_type": "execute_result",
          "data": {
            "text/plain": [
              "      statuses_count                      created_at  \\\n",
              "0                281  Fri Apr 22 22:17:05 +0000 2022   \n",
              "1                281  Fri Apr 22 13:44:53 +0000 2022   \n",
              "2                281  Fri Apr 22 06:10:34 +0000 2022   \n",
              "3                281  Thu Apr 21 17:22:09 +0000 2022   \n",
              "4                281  Thu Apr 21 10:32:26 +0000 2022   \n",
              "...              ...                             ...   \n",
              "16460          21272  Fri Apr 22 15:22:56 +0000 2022   \n",
              "16461          21272  Fri Apr 22 15:22:29 +0000 2022   \n",
              "16462          21272  Fri Apr 22 15:01:27 +0000 2022   \n",
              "16463          21272  Fri Apr 22 14:58:12 +0000 2022   \n",
              "16464          21272  Fri Apr 22 14:44:35 +0000 2022   \n",
              "\n",
              "                                                  source  \\\n",
              "0      <a href=\"http://twitter.com/download/android\" ...   \n",
              "1      <a href=\"http://twitter.com/download/android\" ...   \n",
              "2      <a href=\"http://twitter.com/download/android\" ...   \n",
              "3      <a href=\"http://twitter.com/download/android\" ...   \n",
              "4      <a href=\"http://twitter.com/download/android\" ...   \n",
              "...                                                  ...   \n",
              "16460  <a href=\"http://twitter.com/download/iphone\" r...   \n",
              "16461  <a href=\"http://twitter.com/download/iphone\" r...   \n",
              "16462  <a href=\"http://twitter.com/download/iphone\" r...   \n",
              "16463  <a href=\"http://twitter.com/download/iphone\" r...   \n",
              "16464  <a href=\"http://twitter.com/download/iphone\" r...   \n",
              "\n",
              "                                           original_text  polarity  \\\n",
              "0      the 10-year yield is telling us that there's a...      0.16   \n",
              "1      german 10y mortgage rate went from 0,8% to 2,5...      0.15   \n",
              "2                                       when? ko2ffhkazg      0.00   \n",
              "3      the 30-year mortgage rate in the us rises to 5...      0.00   \n",
              "4      rates rise until something breaks … is anythin...     -0.40   \n",
              "...                                                  ...       ...   \n",
              "16460  best wishes &amp; heartfelt congratulations to...      0.50   \n",
              "16461  thank you  for this beautiful message of commu...      0.85   \n",
              "16462                                 agree ? r54zjw3kgb      0.00   \n",
              "16463  1. peace yatra by late sunil dutt from mumbai ...     -0.30   \n",
              "16464  gujarat congress mla arrested for a tweet - no...      0.00   \n",
              "\n",
              "       subjectivity  favorite_count  retweet_count      screen_name  \\\n",
              "0          0.540000           188.0           43.0  davideiacovozzi   \n",
              "1          0.175000           179.0           32.0  davideiacovozzi   \n",
              "2          0.000000           193.0           26.0  davideiacovozzi   \n",
              "3          0.183333           620.0          213.0  davideiacovozzi   \n",
              "4          0.400000          1787.0          417.0  davideiacovozzi   \n",
              "...             ...             ...            ...              ...   \n",
              "16460      0.729630          2924.0          300.0    kitukalesatya   \n",
              "16461      1.000000         14671.0         5006.0    kitukalesatya   \n",
              "16462      0.000000          5056.0          973.0    kitukalesatya   \n",
              "16463      0.600000           636.0          115.0    kitukalesatya   \n",
              "16464      0.000000          1025.0          203.0    kitukalesatya   \n",
              "\n",
              "      followers_count friends_count sensitivity            hashtags  \\\n",
              "0                  18            55         NaN  gold silver crypto   \n",
              "1                  18            55         NaN                 NaN   \n",
              "2                  18            55         NaN                 NaN   \n",
              "3                  18            55         NaN                 NaN   \n",
              "4                  18            55         NaN                 NaN   \n",
              "...               ...           ...         ...                 ...   \n",
              "16460             706           643         NaN                 NaN   \n",
              "16461             706           643         NaN                 NaN   \n",
              "16462             706           643         NaN                 NaN   \n",
              "16463             706           643         NaN                 NaN   \n",
              "16464             706           643         NaN                 NaN   \n",
              "\n",
              "                               user_mentions place  \n",
              "0                            NorthstarCharts   NaN  \n",
              "1                             MichaelAArouet   NaN  \n",
              "2                                   goldseek   NaN  \n",
              "3                             charliebilello   NaN  \n",
              "4                             biancoresearch   NaN  \n",
              "...                                      ...   ...  \n",
              "16460  CHARANJITCHANNI RajaBrar_INC BB__Ashu   NaN  \n",
              "16461                pbhushan1 BajpayeeManoj   NaN  \n",
              "16462                         s_shreyatweets   NaN  \n",
              "16463                                tejjINC   NaN  \n",
              "16464                          Parthtiwari25   NaN  \n",
              "\n",
              "[16465 rows x 15 columns]"
            ],
            "text/html": [
              "\n",
              "  <div id=\"df-625c16b2-b584-47dc-9fb4-116948135a32\">\n",
              "    <div class=\"colab-df-container\">\n",
              "      <div>\n",
              "<style scoped>\n",
              "    .dataframe tbody tr th:only-of-type {\n",
              "        vertical-align: middle;\n",
              "    }\n",
              "\n",
              "    .dataframe tbody tr th {\n",
              "        vertical-align: top;\n",
              "    }\n",
              "\n",
              "    .dataframe thead th {\n",
              "        text-align: right;\n",
              "    }\n",
              "</style>\n",
              "<table border=\"1\" class=\"dataframe\">\n",
              "  <thead>\n",
              "    <tr style=\"text-align: right;\">\n",
              "      <th></th>\n",
              "      <th>statuses_count</th>\n",
              "      <th>created_at</th>\n",
              "      <th>source</th>\n",
              "      <th>original_text</th>\n",
              "      <th>polarity</th>\n",
              "      <th>subjectivity</th>\n",
              "      <th>favorite_count</th>\n",
              "      <th>retweet_count</th>\n",
              "      <th>screen_name</th>\n",
              "      <th>followers_count</th>\n",
              "      <th>friends_count</th>\n",
              "      <th>sensitivity</th>\n",
              "      <th>hashtags</th>\n",
              "      <th>user_mentions</th>\n",
              "      <th>place</th>\n",
              "    </tr>\n",
              "  </thead>\n",
              "  <tbody>\n",
              "    <tr>\n",
              "      <th>0</th>\n",
              "      <td>281</td>\n",
              "      <td>Fri Apr 22 22:17:05 +0000 2022</td>\n",
              "      <td>&lt;a href=\"http://twitter.com/download/android\" ...</td>\n",
              "      <td>the 10-year yield is telling us that there's a...</td>\n",
              "      <td>0.16</td>\n",
              "      <td>0.540000</td>\n",
              "      <td>188.0</td>\n",
              "      <td>43.0</td>\n",
              "      <td>davideiacovozzi</td>\n",
              "      <td>18</td>\n",
              "      <td>55</td>\n",
              "      <td>NaN</td>\n",
              "      <td>gold silver crypto</td>\n",
              "      <td>NorthstarCharts</td>\n",
              "      <td>NaN</td>\n",
              "    </tr>\n",
              "    <tr>\n",
              "      <th>1</th>\n",
              "      <td>281</td>\n",
              "      <td>Fri Apr 22 13:44:53 +0000 2022</td>\n",
              "      <td>&lt;a href=\"http://twitter.com/download/android\" ...</td>\n",
              "      <td>german 10y mortgage rate went from 0,8% to 2,5...</td>\n",
              "      <td>0.15</td>\n",
              "      <td>0.175000</td>\n",
              "      <td>179.0</td>\n",
              "      <td>32.0</td>\n",
              "      <td>davideiacovozzi</td>\n",
              "      <td>18</td>\n",
              "      <td>55</td>\n",
              "      <td>NaN</td>\n",
              "      <td>NaN</td>\n",
              "      <td>MichaelAArouet</td>\n",
              "      <td>NaN</td>\n",
              "    </tr>\n",
              "    <tr>\n",
              "      <th>2</th>\n",
              "      <td>281</td>\n",
              "      <td>Fri Apr 22 06:10:34 +0000 2022</td>\n",
              "      <td>&lt;a href=\"http://twitter.com/download/android\" ...</td>\n",
              "      <td>when? ko2ffhkazg</td>\n",
              "      <td>0.00</td>\n",
              "      <td>0.000000</td>\n",
              "      <td>193.0</td>\n",
              "      <td>26.0</td>\n",
              "      <td>davideiacovozzi</td>\n",
              "      <td>18</td>\n",
              "      <td>55</td>\n",
              "      <td>NaN</td>\n",
              "      <td>NaN</td>\n",
              "      <td>goldseek</td>\n",
              "      <td>NaN</td>\n",
              "    </tr>\n",
              "    <tr>\n",
              "      <th>3</th>\n",
              "      <td>281</td>\n",
              "      <td>Thu Apr 21 17:22:09 +0000 2022</td>\n",
              "      <td>&lt;a href=\"http://twitter.com/download/android\" ...</td>\n",
              "      <td>the 30-year mortgage rate in the us rises to 5...</td>\n",
              "      <td>0.00</td>\n",
              "      <td>0.183333</td>\n",
              "      <td>620.0</td>\n",
              "      <td>213.0</td>\n",
              "      <td>davideiacovozzi</td>\n",
              "      <td>18</td>\n",
              "      <td>55</td>\n",
              "      <td>NaN</td>\n",
              "      <td>NaN</td>\n",
              "      <td>charliebilello</td>\n",
              "      <td>NaN</td>\n",
              "    </tr>\n",
              "    <tr>\n",
              "      <th>4</th>\n",
              "      <td>281</td>\n",
              "      <td>Thu Apr 21 10:32:26 +0000 2022</td>\n",
              "      <td>&lt;a href=\"http://twitter.com/download/android\" ...</td>\n",
              "      <td>rates rise until something breaks … is anythin...</td>\n",
              "      <td>-0.40</td>\n",
              "      <td>0.400000</td>\n",
              "      <td>1787.0</td>\n",
              "      <td>417.0</td>\n",
              "      <td>davideiacovozzi</td>\n",
              "      <td>18</td>\n",
              "      <td>55</td>\n",
              "      <td>NaN</td>\n",
              "      <td>NaN</td>\n",
              "      <td>biancoresearch</td>\n",
              "      <td>NaN</td>\n",
              "    </tr>\n",
              "    <tr>\n",
              "      <th>...</th>\n",
              "      <td>...</td>\n",
              "      <td>...</td>\n",
              "      <td>...</td>\n",
              "      <td>...</td>\n",
              "      <td>...</td>\n",
              "      <td>...</td>\n",
              "      <td>...</td>\n",
              "      <td>...</td>\n",
              "      <td>...</td>\n",
              "      <td>...</td>\n",
              "      <td>...</td>\n",
              "      <td>...</td>\n",
              "      <td>...</td>\n",
              "      <td>...</td>\n",
              "      <td>...</td>\n",
              "    </tr>\n",
              "    <tr>\n",
              "      <th>16460</th>\n",
              "      <td>21272</td>\n",
              "      <td>Fri Apr 22 15:22:56 +0000 2022</td>\n",
              "      <td>&lt;a href=\"http://twitter.com/download/iphone\" r...</td>\n",
              "      <td>best wishes &amp;amp; heartfelt congratulations to...</td>\n",
              "      <td>0.50</td>\n",
              "      <td>0.729630</td>\n",
              "      <td>2924.0</td>\n",
              "      <td>300.0</td>\n",
              "      <td>kitukalesatya</td>\n",
              "      <td>706</td>\n",
              "      <td>643</td>\n",
              "      <td>NaN</td>\n",
              "      <td>NaN</td>\n",
              "      <td>CHARANJITCHANNI RajaBrar_INC BB__Ashu</td>\n",
              "      <td>NaN</td>\n",
              "    </tr>\n",
              "    <tr>\n",
              "      <th>16461</th>\n",
              "      <td>21272</td>\n",
              "      <td>Fri Apr 22 15:22:29 +0000 2022</td>\n",
              "      <td>&lt;a href=\"http://twitter.com/download/iphone\" r...</td>\n",
              "      <td>thank you  for this beautiful message of commu...</td>\n",
              "      <td>0.85</td>\n",
              "      <td>1.000000</td>\n",
              "      <td>14671.0</td>\n",
              "      <td>5006.0</td>\n",
              "      <td>kitukalesatya</td>\n",
              "      <td>706</td>\n",
              "      <td>643</td>\n",
              "      <td>NaN</td>\n",
              "      <td>NaN</td>\n",
              "      <td>pbhushan1 BajpayeeManoj</td>\n",
              "      <td>NaN</td>\n",
              "    </tr>\n",
              "    <tr>\n",
              "      <th>16462</th>\n",
              "      <td>21272</td>\n",
              "      <td>Fri Apr 22 15:01:27 +0000 2022</td>\n",
              "      <td>&lt;a href=\"http://twitter.com/download/iphone\" r...</td>\n",
              "      <td>agree ? r54zjw3kgb</td>\n",
              "      <td>0.00</td>\n",
              "      <td>0.000000</td>\n",
              "      <td>5056.0</td>\n",
              "      <td>973.0</td>\n",
              "      <td>kitukalesatya</td>\n",
              "      <td>706</td>\n",
              "      <td>643</td>\n",
              "      <td>NaN</td>\n",
              "      <td>NaN</td>\n",
              "      <td>s_shreyatweets</td>\n",
              "      <td>NaN</td>\n",
              "    </tr>\n",
              "    <tr>\n",
              "      <th>16463</th>\n",
              "      <td>21272</td>\n",
              "      <td>Fri Apr 22 14:58:12 +0000 2022</td>\n",
              "      <td>&lt;a href=\"http://twitter.com/download/iphone\" r...</td>\n",
              "      <td>1. peace yatra by late sunil dutt from mumbai ...</td>\n",
              "      <td>-0.30</td>\n",
              "      <td>0.600000</td>\n",
              "      <td>636.0</td>\n",
              "      <td>115.0</td>\n",
              "      <td>kitukalesatya</td>\n",
              "      <td>706</td>\n",
              "      <td>643</td>\n",
              "      <td>NaN</td>\n",
              "      <td>NaN</td>\n",
              "      <td>tejjINC</td>\n",
              "      <td>NaN</td>\n",
              "    </tr>\n",
              "    <tr>\n",
              "      <th>16464</th>\n",
              "      <td>21272</td>\n",
              "      <td>Fri Apr 22 14:44:35 +0000 2022</td>\n",
              "      <td>&lt;a href=\"http://twitter.com/download/iphone\" r...</td>\n",
              "      <td>gujarat congress mla arrested for a tweet - no...</td>\n",
              "      <td>0.00</td>\n",
              "      <td>0.000000</td>\n",
              "      <td>1025.0</td>\n",
              "      <td>203.0</td>\n",
              "      <td>kitukalesatya</td>\n",
              "      <td>706</td>\n",
              "      <td>643</td>\n",
              "      <td>NaN</td>\n",
              "      <td>NaN</td>\n",
              "      <td>Parthtiwari25</td>\n",
              "      <td>NaN</td>\n",
              "    </tr>\n",
              "  </tbody>\n",
              "</table>\n",
              "<p>16465 rows × 15 columns</p>\n",
              "</div>\n",
              "      <button class=\"colab-df-convert\" onclick=\"convertToInteractive('df-625c16b2-b584-47dc-9fb4-116948135a32')\"\n",
              "              title=\"Convert this dataframe to an interactive table.\"\n",
              "              style=\"display:none;\">\n",
              "        \n",
              "  <svg xmlns=\"http://www.w3.org/2000/svg\" height=\"24px\"viewBox=\"0 0 24 24\"\n",
              "       width=\"24px\">\n",
              "    <path d=\"M0 0h24v24H0V0z\" fill=\"none\"/>\n",
              "    <path d=\"M18.56 5.44l.94 2.06.94-2.06 2.06-.94-2.06-.94-.94-2.06-.94 2.06-2.06.94zm-11 1L8.5 8.5l.94-2.06 2.06-.94-2.06-.94L8.5 2.5l-.94 2.06-2.06.94zm10 10l.94 2.06.94-2.06 2.06-.94-2.06-.94-.94-2.06-.94 2.06-2.06.94z\"/><path d=\"M17.41 7.96l-1.37-1.37c-.4-.4-.92-.59-1.43-.59-.52 0-1.04.2-1.43.59L10.3 9.45l-7.72 7.72c-.78.78-.78 2.05 0 2.83L4 21.41c.39.39.9.59 1.41.59.51 0 1.02-.2 1.41-.59l7.78-7.78 2.81-2.81c.8-.78.8-2.07 0-2.86zM5.41 20L4 18.59l7.72-7.72 1.47 1.35L5.41 20z\"/>\n",
              "  </svg>\n",
              "      </button>\n",
              "      \n",
              "  <style>\n",
              "    .colab-df-container {\n",
              "      display:flex;\n",
              "      flex-wrap:wrap;\n",
              "      gap: 12px;\n",
              "    }\n",
              "\n",
              "    .colab-df-convert {\n",
              "      background-color: #E8F0FE;\n",
              "      border: none;\n",
              "      border-radius: 50%;\n",
              "      cursor: pointer;\n",
              "      display: none;\n",
              "      fill: #1967D2;\n",
              "      height: 32px;\n",
              "      padding: 0 0 0 0;\n",
              "      width: 32px;\n",
              "    }\n",
              "\n",
              "    .colab-df-convert:hover {\n",
              "      background-color: #E2EBFA;\n",
              "      box-shadow: 0px 1px 2px rgba(60, 64, 67, 0.3), 0px 1px 3px 1px rgba(60, 64, 67, 0.15);\n",
              "      fill: #174EA6;\n",
              "    }\n",
              "\n",
              "    [theme=dark] .colab-df-convert {\n",
              "      background-color: #3B4455;\n",
              "      fill: #D2E3FC;\n",
              "    }\n",
              "\n",
              "    [theme=dark] .colab-df-convert:hover {\n",
              "      background-color: #434B5C;\n",
              "      box-shadow: 0px 1px 3px 1px rgba(0, 0, 0, 0.15);\n",
              "      filter: drop-shadow(0px 1px 2px rgba(0, 0, 0, 0.3));\n",
              "      fill: #FFFFFF;\n",
              "    }\n",
              "  </style>\n",
              "\n",
              "      <script>\n",
              "        const buttonEl =\n",
              "          document.querySelector('#df-625c16b2-b584-47dc-9fb4-116948135a32 button.colab-df-convert');\n",
              "        buttonEl.style.display =\n",
              "          google.colab.kernel.accessAllowed ? 'block' : 'none';\n",
              "\n",
              "        async function convertToInteractive(key) {\n",
              "          const element = document.querySelector('#df-625c16b2-b584-47dc-9fb4-116948135a32');\n",
              "          const dataTable =\n",
              "            await google.colab.kernel.invokeFunction('convertToInteractive',\n",
              "                                                     [key], {});\n",
              "          if (!dataTable) return;\n",
              "\n",
              "          const docLinkHtml = 'Like what you see? Visit the ' +\n",
              "            '<a target=\"_blank\" href=https://colab.research.google.com/notebooks/data_table.ipynb>data table notebook</a>'\n",
              "            + ' to learn more about interactive tables.';\n",
              "          element.innerHTML = '';\n",
              "          dataTable['output_type'] = 'display_data';\n",
              "          await google.colab.output.renderOutput(dataTable, element);\n",
              "          const docLink = document.createElement('div');\n",
              "          docLink.innerHTML = docLinkHtml;\n",
              "          element.appendChild(docLink);\n",
              "        }\n",
              "      </script>\n",
              "    </div>\n",
              "  </div>\n",
              "  "
            ]
          },
          "metadata": {},
          "execution_count": 80
        }
      ]
    },
    {
      "cell_type": "code",
      "source": [
        "x = tweet_df_2['place'].value_counts()[:15].index\n",
        "y = tweet_df_2['place'].value_counts()[:15].values\n",
        "\n",
        "fig = go.Figure()\n",
        "fig.add_trace(go.Bar(x = x, y = y))\n",
        "\n",
        "fig.update_layout(\n",
        "    title = 'Tweet from Countries',\n",
        "    height = 600,\n",
        "    width = 1300,\n",
        "    )\n",
        "\n",
        "fig.show(renderer = 'colab')"
      ],
      "metadata": {
        "colab": {
          "base_uri": "https://localhost:8080/",
          "height": 617
        },
        "id": "1ZpsgMK5yuD1",
        "outputId": "d90ad352-6108-43d1-8976-8bebf431b27b"
      },
      "execution_count": 9,
      "outputs": [
        {
          "output_type": "display_data",
          "data": {
            "text/html": [
              "<html>\n",
              "<head><meta charset=\"utf-8\" /></head>\n",
              "<body>\n",
              "    <div>            <script src=\"https://cdnjs.cloudflare.com/ajax/libs/mathjax/2.7.5/MathJax.js?config=TeX-AMS-MML_SVG\"></script><script type=\"text/javascript\">if (window.MathJax) {MathJax.Hub.Config({SVG: {font: \"STIX-Web\"}});}</script>                <script type=\"text/javascript\">window.PlotlyConfig = {MathJaxConfig: 'local'};</script>\n",
              "        <script src=\"https://cdn.plot.ly/plotly-2.8.3.min.js\"></script>                <div id=\"bf6754b9-2b42-432f-8604-ec56f1a2850f\" class=\"plotly-graph-div\" style=\"height:600px; width:1300px;\"></div>            <script type=\"text/javascript\">                                    window.PLOTLYENV=window.PLOTLYENV || {};                                    if (document.getElementById(\"bf6754b9-2b42-432f-8604-ec56f1a2850f\")) {                    Plotly.newPlot(                        \"bf6754b9-2b42-432f-8604-ec56f1a2850f\",                        [{\"x\":[\"India\",\"United States\",\"United Kingdom\",\"Kenya\",\"Sri Lanka\",\"Canada\",\"Australia\",\"Mars\",\"Ireland\",\"South Africa\",\"Metaverse\",\"Boston\",\"Burbank, CA\",\"Saddle Hills County, Alberta\",\"Abuja & London\"],\"y\":[1461,839,583,315,228,193,186,143,98,93,82,50,50,50,50],\"type\":\"bar\"}],                        {\"template\":{\"data\":{\"bar\":[{\"error_x\":{\"color\":\"#2a3f5f\"},\"error_y\":{\"color\":\"#2a3f5f\"},\"marker\":{\"line\":{\"color\":\"#E5ECF6\",\"width\":0.5},\"pattern\":{\"fillmode\":\"overlay\",\"size\":10,\"solidity\":0.2}},\"type\":\"bar\"}],\"barpolar\":[{\"marker\":{\"line\":{\"color\":\"#E5ECF6\",\"width\":0.5},\"pattern\":{\"fillmode\":\"overlay\",\"size\":10,\"solidity\":0.2}},\"type\":\"barpolar\"}],\"carpet\":[{\"aaxis\":{\"endlinecolor\":\"#2a3f5f\",\"gridcolor\":\"white\",\"linecolor\":\"white\",\"minorgridcolor\":\"white\",\"startlinecolor\":\"#2a3f5f\"},\"baxis\":{\"endlinecolor\":\"#2a3f5f\",\"gridcolor\":\"white\",\"linecolor\":\"white\",\"minorgridcolor\":\"white\",\"startlinecolor\":\"#2a3f5f\"},\"type\":\"carpet\"}],\"choropleth\":[{\"colorbar\":{\"outlinewidth\":0,\"ticks\":\"\"},\"type\":\"choropleth\"}],\"contour\":[{\"colorbar\":{\"outlinewidth\":0,\"ticks\":\"\"},\"colorscale\":[[0.0,\"#0d0887\"],[0.1111111111111111,\"#46039f\"],[0.2222222222222222,\"#7201a8\"],[0.3333333333333333,\"#9c179e\"],[0.4444444444444444,\"#bd3786\"],[0.5555555555555556,\"#d8576b\"],[0.6666666666666666,\"#ed7953\"],[0.7777777777777778,\"#fb9f3a\"],[0.8888888888888888,\"#fdca26\"],[1.0,\"#f0f921\"]],\"type\":\"contour\"}],\"contourcarpet\":[{\"colorbar\":{\"outlinewidth\":0,\"ticks\":\"\"},\"type\":\"contourcarpet\"}],\"heatmap\":[{\"colorbar\":{\"outlinewidth\":0,\"ticks\":\"\"},\"colorscale\":[[0.0,\"#0d0887\"],[0.1111111111111111,\"#46039f\"],[0.2222222222222222,\"#7201a8\"],[0.3333333333333333,\"#9c179e\"],[0.4444444444444444,\"#bd3786\"],[0.5555555555555556,\"#d8576b\"],[0.6666666666666666,\"#ed7953\"],[0.7777777777777778,\"#fb9f3a\"],[0.8888888888888888,\"#fdca26\"],[1.0,\"#f0f921\"]],\"type\":\"heatmap\"}],\"heatmapgl\":[{\"colorbar\":{\"outlinewidth\":0,\"ticks\":\"\"},\"colorscale\":[[0.0,\"#0d0887\"],[0.1111111111111111,\"#46039f\"],[0.2222222222222222,\"#7201a8\"],[0.3333333333333333,\"#9c179e\"],[0.4444444444444444,\"#bd3786\"],[0.5555555555555556,\"#d8576b\"],[0.6666666666666666,\"#ed7953\"],[0.7777777777777778,\"#fb9f3a\"],[0.8888888888888888,\"#fdca26\"],[1.0,\"#f0f921\"]],\"type\":\"heatmapgl\"}],\"histogram\":[{\"marker\":{\"pattern\":{\"fillmode\":\"overlay\",\"size\":10,\"solidity\":0.2}},\"type\":\"histogram\"}],\"histogram2d\":[{\"colorbar\":{\"outlinewidth\":0,\"ticks\":\"\"},\"colorscale\":[[0.0,\"#0d0887\"],[0.1111111111111111,\"#46039f\"],[0.2222222222222222,\"#7201a8\"],[0.3333333333333333,\"#9c179e\"],[0.4444444444444444,\"#bd3786\"],[0.5555555555555556,\"#d8576b\"],[0.6666666666666666,\"#ed7953\"],[0.7777777777777778,\"#fb9f3a\"],[0.8888888888888888,\"#fdca26\"],[1.0,\"#f0f921\"]],\"type\":\"histogram2d\"}],\"histogram2dcontour\":[{\"colorbar\":{\"outlinewidth\":0,\"ticks\":\"\"},\"colorscale\":[[0.0,\"#0d0887\"],[0.1111111111111111,\"#46039f\"],[0.2222222222222222,\"#7201a8\"],[0.3333333333333333,\"#9c179e\"],[0.4444444444444444,\"#bd3786\"],[0.5555555555555556,\"#d8576b\"],[0.6666666666666666,\"#ed7953\"],[0.7777777777777778,\"#fb9f3a\"],[0.8888888888888888,\"#fdca26\"],[1.0,\"#f0f921\"]],\"type\":\"histogram2dcontour\"}],\"mesh3d\":[{\"colorbar\":{\"outlinewidth\":0,\"ticks\":\"\"},\"type\":\"mesh3d\"}],\"parcoords\":[{\"line\":{\"colorbar\":{\"outlinewidth\":0,\"ticks\":\"\"}},\"type\":\"parcoords\"}],\"pie\":[{\"automargin\":true,\"type\":\"pie\"}],\"scatter\":[{\"marker\":{\"colorbar\":{\"outlinewidth\":0,\"ticks\":\"\"}},\"type\":\"scatter\"}],\"scatter3d\":[{\"line\":{\"colorbar\":{\"outlinewidth\":0,\"ticks\":\"\"}},\"marker\":{\"colorbar\":{\"outlinewidth\":0,\"ticks\":\"\"}},\"type\":\"scatter3d\"}],\"scattercarpet\":[{\"marker\":{\"colorbar\":{\"outlinewidth\":0,\"ticks\":\"\"}},\"type\":\"scattercarpet\"}],\"scattergeo\":[{\"marker\":{\"colorbar\":{\"outlinewidth\":0,\"ticks\":\"\"}},\"type\":\"scattergeo\"}],\"scattergl\":[{\"marker\":{\"colorbar\":{\"outlinewidth\":0,\"ticks\":\"\"}},\"type\":\"scattergl\"}],\"scattermapbox\":[{\"marker\":{\"colorbar\":{\"outlinewidth\":0,\"ticks\":\"\"}},\"type\":\"scattermapbox\"}],\"scatterpolar\":[{\"marker\":{\"colorbar\":{\"outlinewidth\":0,\"ticks\":\"\"}},\"type\":\"scatterpolar\"}],\"scatterpolargl\":[{\"marker\":{\"colorbar\":{\"outlinewidth\":0,\"ticks\":\"\"}},\"type\":\"scatterpolargl\"}],\"scatterternary\":[{\"marker\":{\"colorbar\":{\"outlinewidth\":0,\"ticks\":\"\"}},\"type\":\"scatterternary\"}],\"surface\":[{\"colorbar\":{\"outlinewidth\":0,\"ticks\":\"\"},\"colorscale\":[[0.0,\"#0d0887\"],[0.1111111111111111,\"#46039f\"],[0.2222222222222222,\"#7201a8\"],[0.3333333333333333,\"#9c179e\"],[0.4444444444444444,\"#bd3786\"],[0.5555555555555556,\"#d8576b\"],[0.6666666666666666,\"#ed7953\"],[0.7777777777777778,\"#fb9f3a\"],[0.8888888888888888,\"#fdca26\"],[1.0,\"#f0f921\"]],\"type\":\"surface\"}],\"table\":[{\"cells\":{\"fill\":{\"color\":\"#EBF0F8\"},\"line\":{\"color\":\"white\"}},\"header\":{\"fill\":{\"color\":\"#C8D4E3\"},\"line\":{\"color\":\"white\"}},\"type\":\"table\"}]},\"layout\":{\"annotationdefaults\":{\"arrowcolor\":\"#2a3f5f\",\"arrowhead\":0,\"arrowwidth\":1},\"autotypenumbers\":\"strict\",\"coloraxis\":{\"colorbar\":{\"outlinewidth\":0,\"ticks\":\"\"}},\"colorscale\":{\"diverging\":[[0,\"#8e0152\"],[0.1,\"#c51b7d\"],[0.2,\"#de77ae\"],[0.3,\"#f1b6da\"],[0.4,\"#fde0ef\"],[0.5,\"#f7f7f7\"],[0.6,\"#e6f5d0\"],[0.7,\"#b8e186\"],[0.8,\"#7fbc41\"],[0.9,\"#4d9221\"],[1,\"#276419\"]],\"sequential\":[[0.0,\"#0d0887\"],[0.1111111111111111,\"#46039f\"],[0.2222222222222222,\"#7201a8\"],[0.3333333333333333,\"#9c179e\"],[0.4444444444444444,\"#bd3786\"],[0.5555555555555556,\"#d8576b\"],[0.6666666666666666,\"#ed7953\"],[0.7777777777777778,\"#fb9f3a\"],[0.8888888888888888,\"#fdca26\"],[1.0,\"#f0f921\"]],\"sequentialminus\":[[0.0,\"#0d0887\"],[0.1111111111111111,\"#46039f\"],[0.2222222222222222,\"#7201a8\"],[0.3333333333333333,\"#9c179e\"],[0.4444444444444444,\"#bd3786\"],[0.5555555555555556,\"#d8576b\"],[0.6666666666666666,\"#ed7953\"],[0.7777777777777778,\"#fb9f3a\"],[0.8888888888888888,\"#fdca26\"],[1.0,\"#f0f921\"]]},\"colorway\":[\"#636efa\",\"#EF553B\",\"#00cc96\",\"#ab63fa\",\"#FFA15A\",\"#19d3f3\",\"#FF6692\",\"#B6E880\",\"#FF97FF\",\"#FECB52\"],\"font\":{\"color\":\"#2a3f5f\"},\"geo\":{\"bgcolor\":\"white\",\"lakecolor\":\"white\",\"landcolor\":\"#E5ECF6\",\"showlakes\":true,\"showland\":true,\"subunitcolor\":\"white\"},\"hoverlabel\":{\"align\":\"left\"},\"hovermode\":\"closest\",\"mapbox\":{\"style\":\"light\"},\"paper_bgcolor\":\"white\",\"plot_bgcolor\":\"#E5ECF6\",\"polar\":{\"angularaxis\":{\"gridcolor\":\"white\",\"linecolor\":\"white\",\"ticks\":\"\"},\"bgcolor\":\"#E5ECF6\",\"radialaxis\":{\"gridcolor\":\"white\",\"linecolor\":\"white\",\"ticks\":\"\"}},\"scene\":{\"xaxis\":{\"backgroundcolor\":\"#E5ECF6\",\"gridcolor\":\"white\",\"gridwidth\":2,\"linecolor\":\"white\",\"showbackground\":true,\"ticks\":\"\",\"zerolinecolor\":\"white\"},\"yaxis\":{\"backgroundcolor\":\"#E5ECF6\",\"gridcolor\":\"white\",\"gridwidth\":2,\"linecolor\":\"white\",\"showbackground\":true,\"ticks\":\"\",\"zerolinecolor\":\"white\"},\"zaxis\":{\"backgroundcolor\":\"#E5ECF6\",\"gridcolor\":\"white\",\"gridwidth\":2,\"linecolor\":\"white\",\"showbackground\":true,\"ticks\":\"\",\"zerolinecolor\":\"white\"}},\"shapedefaults\":{\"line\":{\"color\":\"#2a3f5f\"}},\"ternary\":{\"aaxis\":{\"gridcolor\":\"white\",\"linecolor\":\"white\",\"ticks\":\"\"},\"baxis\":{\"gridcolor\":\"white\",\"linecolor\":\"white\",\"ticks\":\"\"},\"bgcolor\":\"#E5ECF6\",\"caxis\":{\"gridcolor\":\"white\",\"linecolor\":\"white\",\"ticks\":\"\"}},\"title\":{\"x\":0.05},\"xaxis\":{\"automargin\":true,\"gridcolor\":\"white\",\"linecolor\":\"white\",\"ticks\":\"\",\"title\":{\"standoff\":15},\"zerolinecolor\":\"white\",\"zerolinewidth\":2},\"yaxis\":{\"automargin\":true,\"gridcolor\":\"white\",\"linecolor\":\"white\",\"ticks\":\"\",\"title\":{\"standoff\":15},\"zerolinecolor\":\"white\",\"zerolinewidth\":2}}},\"title\":{\"text\":\"Tweet from Countries\"},\"height\":600,\"width\":1300},                        {\"responsive\": true}                    ).then(function(){\n",
              "                            \n",
              "var gd = document.getElementById('bf6754b9-2b42-432f-8604-ec56f1a2850f');\n",
              "var x = new MutationObserver(function (mutations, observer) {{\n",
              "        var display = window.getComputedStyle(gd).display;\n",
              "        if (!display || display === 'none') {{\n",
              "            console.log([gd, 'removed!']);\n",
              "            Plotly.purge(gd);\n",
              "            observer.disconnect();\n",
              "        }}\n",
              "}});\n",
              "\n",
              "// Listen for the removal of the full notebook cells\n",
              "var notebookContainer = gd.closest('#notebook-container');\n",
              "if (notebookContainer) {{\n",
              "    x.observe(notebookContainer, {childList: true});\n",
              "}}\n",
              "\n",
              "// Listen for the clearing of the current output cell\n",
              "var outputEl = gd.closest('.output');\n",
              "if (outputEl) {{\n",
              "    x.observe(outputEl, {childList: true});\n",
              "}}\n",
              "\n",
              "                        })                };                            </script>        </div>\n",
              "</body>\n",
              "</html>"
            ]
          },
          "metadata": {}
        }
      ]
    },
    {
      "cell_type": "code",
      "source": [
        "nltk.download('stopwords')\n",
        "stopwords_set = nltk.corpus.stopwords.words('english')\n",
        "stopwords_set.extend(['from', 'subject', 're', 'edu', 'use'])"
      ],
      "metadata": {
        "colab": {
          "base_uri": "https://localhost:8080/"
        },
        "id": "HiTwonrGxgN_",
        "outputId": "4b199aa5-8aea-476c-d713-12426bfd264c"
      },
      "execution_count": 81,
      "outputs": [
        {
          "output_type": "stream",
          "name": "stdout",
          "text": [
            "[nltk_data] Downloading package stopwords to /root/nltk_data...\n",
            "[nltk_data]   Package stopwords is already up-to-date!\n"
          ]
        }
      ]
    },
    {
      "cell_type": "code",
      "source": [
        "#Tokeninzing words and clean-up text\n",
        "def sent_to_words(sentences):\n",
        "  for sentence in sentences:\n",
        "    yield(gensim.utils.simple_preprocess(str(sentence), deacc=True))  # deacc=True removes punctuations\n",
        "\n",
        "data_words = list(sent_to_words(tweet_df_2['original_text']))\n",
        "\n",
        "print(data_words[:1])"
      ],
      "metadata": {
        "colab": {
          "base_uri": "https://localhost:8080/"
        },
        "id": "XSwUEeZjyPyT",
        "outputId": "188f8e88-5a2d-40fc-be78-2c900cee3ce0"
      },
      "execution_count": 82,
      "outputs": [
        {
          "output_type": "stream",
          "name": "stdout",
          "text": [
            "[['the', 'year', 'yield', 'is', 'telling', 'us', 'that', 'there', 'high', 'risk', 'of', 'something', 'breaking', 'in', 'the', 'system', 'gold', 'silver', 'crypto']]\n"
          ]
        }
      ]
    },
    {
      "cell_type": "markdown",
      "source": [
        "##Creating Bigram and Trigram Model"
      ],
      "metadata": {
        "id": "zCkZ54j50Q7S"
      }
    },
    {
      "cell_type": "code",
      "source": [
        "# Build the bigram and trigram models\n",
        "bigram = gensim.models.Phrases(data_words, min_count=5, threshold=100) # higher threshold fewer phrases.\n",
        "trigram = gensim.models.Phrases(bigram[data_words], threshold=100)  \n",
        "\n",
        "# Faster way to get a sentence clubbed as a trigram/bigram\n",
        "bigram_mod = gensim.models.phrases.Phraser(bigram)\n",
        "trigram_mod = gensim.models.phrases.Phraser(trigram)\n",
        "\n",
        "# trigram\n",
        "print(trigram_mod[bigram_mod[data_words[0]]])"
      ],
      "metadata": {
        "colab": {
          "base_uri": "https://localhost:8080/"
        },
        "id": "LLib3ZId0Nsr",
        "outputId": "0afd3a99-719f-4543-dd22-5429c482b958"
      },
      "execution_count": 83,
      "outputs": [
        {
          "output_type": "stream",
          "name": "stdout",
          "text": [
            "['the', 'year', 'yield', 'is', 'telling', 'us', 'that', 'there', 'high', 'risk', 'of', 'something', 'breaking', 'in', 'the', 'system_gold_silver', 'crypto']\n"
          ]
        }
      ]
    },
    {
      "cell_type": "code",
      "source": [
        "# Define functions to remove stopwords, make bigrams, trigrams and lemmatization\n",
        "def remove_stopwords(texts):\n",
        "    return [[word for word in simple_preprocess(str(doc)) if word not in stopwords_set] for doc in texts]\n",
        "\n",
        "def make_bigrams(texts):\n",
        "    return [bigram_mod[doc] for doc in texts]\n",
        "\n",
        "def make_trigrams(texts):\n",
        "    return [trigram_mod[bigram_mod[doc]] for doc in texts]\n",
        "\n",
        "def lemmatization(texts, allowed_postags=['NOUN', 'ADJ', 'VERB', 'ADV']):\n",
        "    \"\"\"https://spacy.io/api/annotation\"\"\"\n",
        "    texts_out = []\n",
        "    for sent in texts:\n",
        "        doc = nlp(\" \".join(sent)) \n",
        "        texts_out.append([token.lemma_ for token in doc if token.pos_ in allowed_postags])\n",
        "    return texts_out\n",
        "\n",
        "# Remove Stop Words\n",
        "data_words_nostops = remove_stopwords(data_words)\n",
        "\n",
        "# Form Bigrams\n",
        "data_words_bigrams = make_bigrams(data_words_nostops)\n",
        "\n",
        "# Initialize spacy 'en' model, keeping only tagger component (for efficiency)\n",
        "nlp = spacy.load('en', disable=['parser', 'ner'])\n",
        "\n",
        "# Do lemmatization keeping only noun, adj, vb, adv\n",
        "data_lemmatized = lemmatization(data_words_bigrams, allowed_postags=['NOUN', 'ADJ', 'VERB', 'ADV'])"
      ],
      "metadata": {
        "id": "r82Uq0uZz7t-"
      },
      "execution_count": null,
      "outputs": []
    },
    {
      "cell_type": "code",
      "source": [
        "print(data_lemmatized[:1])"
      ],
      "metadata": {
        "colab": {
          "base_uri": "https://localhost:8080/"
        },
        "id": "esTLqOe4fJ71",
        "outputId": "2f0db68e-40e5-486b-e82c-b9ddccdf3ca4"
      },
      "execution_count": 85,
      "outputs": [
        {
          "output_type": "stream",
          "name": "stdout",
          "text": [
            "[['year', 'yield', 'tell', 'high', 'risk', 'break', 'system']]\n"
          ]
        }
      ]
    },
    {
      "cell_type": "code",
      "source": [
        "# Create Dictionary\n",
        "id2word = corpora.Dictionary(data_lemmatized)\n",
        "\n",
        "# Create Corpus\n",
        "texts = data_lemmatized\n",
        "\n",
        "# Term Document Frequency\n",
        "corpus = [id2word.doc2bow(text) for text in texts]\n",
        "\n",
        "# View\n",
        "print(corpus[:1])\n"
      ],
      "metadata": {
        "colab": {
          "base_uri": "https://localhost:8080/"
        },
        "id": "cnB2fqZyWCk-",
        "outputId": "e8b990f0-6e07-4fe5-916c-cb9bec5bf5e7"
      },
      "execution_count": 86,
      "outputs": [
        {
          "output_type": "stream",
          "name": "stdout",
          "text": [
            "[[(0, 1), (1, 1), (2, 1), (3, 1), (4, 1), (5, 1), (6, 1)]]\n"
          ]
        }
      ]
    },
    {
      "cell_type": "code",
      "source": [
        "# Human readable format of corpus (term-frequency)\n",
        "read_format = [[(id2word[id], freq) for id, freq in cp] for cp in corpus]"
      ],
      "metadata": {
        "id": "fTzoPt_GWCjE"
      },
      "execution_count": 87,
      "outputs": []
    },
    {
      "cell_type": "markdown",
      "metadata": {
        "id": "UiOucOjxYYZl"
      },
      "source": [
        "### Topic Modeling using Latent Dirichlet Allocation \n",
        "based on the distributional hypothesis, (i.e. similar topics make use of similar words) and the statistical mixture hypothesis (i.e. documents talk about several topics) for which a statistical distribution can be determined. \n",
        "\n",
        "*  The purpose of LDA is mapping each teweets in our corpus to a set of topics \n",
        "which covers a good deal of the words in the tweet\n",
        "\n"
      ]
    },
    {
      "cell_type": "code",
      "metadata": {
        "id": "aHqC02L_NUMG"
      },
      "source": [
        "# Build LDA model\n",
        "lda_model = gensim.models.ldamodel.LdaModel(corpus = corpus,\n",
        "                                           id2word=id2word,\n",
        "                                           num_topics=5, \n",
        "                                           random_state=100, \n",
        "                                           update_every=1,\n",
        "                                           chunksize=100,\n",
        "                                           passes=10,\n",
        "                                           alpha='auto',\n",
        "                                           per_word_topics=True)"
      ],
      "execution_count": null,
      "outputs": []
    },
    {
      "cell_type": "code",
      "metadata": {
        "colab": {
          "base_uri": "https://localhost:8080/"
        },
        "id": "aa5pVKgnmpzn",
        "outputId": "fbdfa99a-0fd1-4333-ddc7-77e4d13cc6e0"
      },
      "source": [
        "pprint(lda_model.show_topics(formatted=False))"
      ],
      "execution_count": 71,
      "outputs": [
        {
          "output_type": "stream",
          "name": "stdout",
          "text": [
            "[(0,\n",
            "  [('level', 0.023767931),\n",
            "   ('government', 0.01615424),\n",
            "   ('want', 0.014647724),\n",
            "   ('even', 0.01436198),\n",
            "   ('may', 0.011875476),\n",
            "   ('story', 0.0113919005),\n",
            "   ('start', 0.011198992),\n",
            "   ('life', 0.01066228),\n",
            "   ('world', 0.010436555),\n",
            "   ('report', 0.009116626)]),\n",
            " (1,\n",
            "  [('take', 0.022599876),\n",
            "   ('power', 0.015510931),\n",
            "   ('state', 0.013746052),\n",
            "   ('thank', 0.012571241),\n",
            "   ('price', 0.0123921),\n",
            "   ('tell', 0.01051736),\n",
            "   ('big', 0.010495168),\n",
            "   ('tamil', 0.009828248),\n",
            "   ('would', 0.009554321),\n",
            "   ('watch', 0.009429148)]),\n",
            " (2,\n",
            "  [('year', 0.014608484),\n",
            "   ('amp', 0.01384011),\n",
            "   ('today', 0.012212249),\n",
            "   ('follow', 0.011946685),\n",
            "   ('give', 0.01106696),\n",
            "   ('high', 0.010144731),\n",
            "   ('new', 0.009623735),\n",
            "   ('still', 0.008687857),\n",
            "   ('many', 0.008054487),\n",
            "   ('become', 0.007511882)]),\n",
            " (3,\n",
            "  [('go', 0.029821087),\n",
            "   ('say', 0.022441491),\n",
            "   ('people', 0.021179715),\n",
            "   ('make', 0.019301184),\n",
            "   ('read', 0.01667678),\n",
            "   ('know', 0.015361498),\n",
            "   ('day', 0.014921448),\n",
            "   ('get', 0.012954676),\n",
            "   ('need', 0.011493552),\n",
            "   ('work', 0.011317436)]),\n",
            " (4,\n",
            "  [('time', 0.018209822),\n",
            "   ('country', 0.015402126),\n",
            "   ('come', 0.012110362),\n",
            "   ('think', 0.011938482),\n",
            "   ('never', 0.011344027),\n",
            "   ('see', 0.011026678),\n",
            "   ('also', 0.011011893),\n",
            "   ('part', 0.009455116),\n",
            "   ('live', 0.008975147),\n",
            "   ('ask', 0.0087227775)])]\n"
          ]
        }
      ]
    },
    {
      "cell_type": "markdown",
      "metadata": {
        "id": "0dDmumROo4zX"
      },
      "source": [
        "Each line is a topic with individual topic terms and weights. Topic0  can be termed as climate change, and Topic4 can be termed as government and carbon emission."
      ]
    },
    {
      "cell_type": "markdown",
      "metadata": {
        "id": "1pLR7-4AtZzT"
      },
      "source": [
        "# **Model Analysis**\n",
        "\n",
        "Perplexity is also a measure of model quality and in natural language processing is often used as “perplexity per number of words”. It describes how well a model predicts a sample, i.e. how much it is “perplexed” by a sample from the observed data. The lower the score, the better the model for the given data.\n",
        "\n",
        "A coherence matrix is used to test the model for accuracy. Topic coherence is a measure that compares different topic models based on their human-interpretability. The coherence score ‘C_V’ provides a numerical value to the interpretability of the topics"
      ]
    },
    {
      "cell_type": "code",
      "metadata": {
        "id": "JWDGb45QqRoZ"
      },
      "source": [
        "# Compute Perplexity\n",
        "\n",
        "#It's a measure of how good the model is. The lower the better. Perplexity is a negative value\n",
        "print('\\nPerplexity: ', lda_model.log_perplexity(corpus))  \n",
        "doc_lda = lda_model[corpus]\n",
        "\n",
        "\n",
        "# Compute Coherence Score\n",
        "coherence_model_lda = CoherenceModel(model=lda_model, texts=data_lemmatized, dictionary=id2word, coherence='c_v')\n",
        "coherence_lda = coherence_model_lda.get_coherence()\n",
        "print('\\n Ldamodel Coherence Score/Accuracy on Tweets: ', coherence_lda)"
      ],
      "execution_count": null,
      "outputs": []
    },
    {
      "cell_type": "markdown",
      "metadata": {
        "id": "_KR1oX1q5dUD"
      },
      "source": [
        "Basic Ldamodel Coherence Score 0.58 This means that the model has performed reasonably well in topic modeling."
      ]
    },
    {
      "cell_type": "code",
      "metadata": {
        "id": "yAyoNCIWlGql"
      },
      "source": [
        "!pip install pyLDAvis "
      ],
      "execution_count": null,
      "outputs": []
    },
    {
      "cell_type": "markdown",
      "metadata": {
        "id": "eylzfskkr8f7"
      },
      "source": [
        "**Anlayizing results**\n",
        "Exploring the Intertopic Distance Plot can help you learn about how topics relate to each other, including potential higher-level structure between groups of topics"
      ]
    },
    {
      "cell_type": "code",
      "metadata": {
        "colab": {
          "base_uri": "https://localhost:8080/",
          "height": 861
        },
        "id": "6gJXbv8Jkjg-",
        "outputId": "6ce0e520-3df5-4ac9-e763-8841b01a5f4b"
      },
      "source": [
        "import pyLDAvis.gensim_models as gensimvis\n",
        "import pickle \n",
        "import pyLDAvis\n",
        "# Visualize the topics\n",
        "pyLDAvis.enable_notebook()\n",
        "\n",
        "LDAvis_prepared = gensimvis.prepare(lda_model, corpus, id2word)\n",
        "LDAvis_prepared"
      ],
      "execution_count": 90,
      "outputs": [
        {
          "output_type": "execute_result",
          "data": {
            "text/plain": [
              "PreparedData(topic_coordinates=              x         y  topics  cluster       Freq\n",
              "topic                                                \n",
              "3      0.285469 -0.014746       1        1  25.583812\n",
              "2     -0.058039  0.254391       2        1  22.494777\n",
              "1     -0.086427 -0.121478       3        1  18.596162\n",
              "4     -0.065246 -0.045373       4        1  17.388663\n",
              "0     -0.075757 -0.072794       5        1  15.936585, topic_info=         Term        Freq       Total Category  logprob  loglift\n",
              "10         go  703.000000  703.000000  Default  30.0000  30.0000\n",
              "100       say  529.000000  529.000000  Default  29.0000  29.0000\n",
              "186    people  499.000000  499.000000  Default  28.0000  28.0000\n",
              "701      take  387.000000  387.000000  Default  27.0000  27.0000\n",
              "18      level  349.000000  349.000000  Default  26.0000  26.0000\n",
              "...       ...         ...         ...      ...      ...      ...\n",
              "3964   detail   79.909300   80.673505   Topic5  -5.2134   1.8270\n",
              "1037     ever   74.469783   75.210021   Topic5  -5.2839   1.8267\n",
              "248   believe   76.273382   77.033819   Topic5  -5.2600   1.8266\n",
              "1251   policy   68.573544   69.314811   Topic5  -5.3664   1.8258\n",
              "406     close   68.682980   69.432659   Topic5  -5.3648   1.8257\n",
              "\n",
              "[184 rows x 6 columns], token_table=      Topic      Freq    Term\n",
              "term                         \n",
              "825       4  0.993653    also\n",
              "767       3  0.997229  always\n",
              "440       2  0.998163     amp\n",
              "487       4  0.996762     ask\n",
              "1181      5  0.989705  attack\n",
              "...     ...       ...     ...\n",
              "176       1  0.998308    work\n",
              "53        5  0.993721   world\n",
              "109       3  0.997559   would\n",
              "302       4  0.991074   write\n",
              "5         2  0.998553    year\n",
              "\n",
              "[161 rows x 3 columns], R=30, lambda_step=0.01, plot_opts={'xlab': 'PC1', 'ylab': 'PC2'}, topic_order=[4, 3, 2, 5, 1])"
            ],
            "text/html": [
              "\n",
              "<link rel=\"stylesheet\" type=\"text/css\" href=\"https://cdn.jsdelivr.net/gh/bmabey/pyLDAvis@3.3.1/pyLDAvis/js/ldavis.v1.0.0.css\">\n",
              "\n",
              "\n",
              "<div id=\"ldavis_el581397664474140962819390161\"></div>\n",
              "<script type=\"text/javascript\">\n",
              "\n",
              "var ldavis_el581397664474140962819390161_data = {\"mdsDat\": {\"x\": [0.2854686271055721, -0.05803874882789519, -0.08642653501392356, -0.06524640975035806, -0.07575693351339476], \"y\": [-0.01474581705044203, 0.25439057300661505, -0.12147793154490362, -0.04537302378026024, -0.07279380063100914], \"topics\": [1, 2, 3, 4, 5], \"cluster\": [1, 1, 1, 1, 1], \"Freq\": [25.58381195780272, 22.4947772017219, 18.59616198174926, 17.388663459050743, 15.93658539967538]}, \"tinfo\": {\"Term\": [\"go\", \"say\", \"people\", \"take\", \"level\", \"make\", \"read\", \"time\", \"know\", \"day\", \"year\", \"power\", \"government\", \"country\", \"amp\", \"get\", \"state\", \"want\", \"even\", \"follow\", \"need\", \"thank\", \"work\", \"price\", \"good\", \"give\", \"come\", \"think\", \"protest\", \"today\", \"go\", \"say\", \"people\", \"make\", \"read\", \"know\", \"day\", \"get\", \"need\", \"work\", \"good\", \"protest\", \"last\", \"police\", \"let\", \"show\", \"face\", \"week\", \"call\", \"public\", \"change\", \"stop\", \"must\", \"person\", \"man\", \"back\", \"crisis\", \"could\", \"help\", \"order\", \"today\", \"year\", \"amp\", \"follow\", \"give\", \"high\", \"new\", \"still\", \"many\", \"become\", \"support\", \"right\", \"well\", \"increase\", \"continue\", \"way\", \"buy\", \"month\", \"fuel\", \"stock\", \"food\", \"learn\", \"inflation\", \"hour\", \"set\", \"word\", \"use\", \"great\", \"thing\", \"congratulation\", \"understand\", \"today\", \"take\", \"power\", \"state\", \"thank\", \"price\", \"big\", \"tell\", \"would\", \"watch\", \"share\", \"find\", \"look\", \"join\", \"issue\", \"russian\", \"rise\", \"check\", \"always\", \"child\", \"break\", \"reach\", \"fall\", \"pay\", \"woman\", \"http\", \"business\", \"video\", \"official\", \"war\", \"vote\", \"tamil\", \"time\", \"country\", \"come\", \"think\", \"never\", \"see\", \"also\", \"part\", \"live\", \"ask\", \"try\", \"lose\", \"first\", \"kill\", \"company\", \"question\", \"fire\", \"political\", \"party\", \"seem\", \"write\", \"nation\", \"poor\", \"happen\", \"stand\", \"trading\", \"case\", \"sign\", \"win\", \"hike\", \"poster\", \"level\", \"government\", \"want\", \"even\", \"may\", \"story\", \"start\", \"life\", \"world\", \"report\", \"leader\", \"love\", \"target\", \"delivery\", \"open\", \"large\", \"really\", \"bring\", \"late\", \"talk\", \"meet\", \"award\", \"attack\", \"demand\", \"keep\", \"detail\", \"ever\", \"believe\", \"policy\", \"close\"], \"Freq\": [703.0, 529.0, 499.0, 387.0, 349.0, 455.0, 393.0, 292.0, 362.0, 352.0, 303.0, 266.0, 237.0, 247.0, 287.0, 306.0, 236.0, 215.0, 211.0, 248.0, 271.0, 216.0, 267.0, 213.0, 254.0, 230.0, 194.0, 191.0, 247.0, 424.0, 702.8252646404078, 528.9024965303925, 499.1648722479986, 454.8915190253635, 393.0394062981308, 362.04076303859614, 351.6696386595773, 305.3166170926813, 270.88075274450915, 266.7300421975343, 253.35592308668242, 246.67790671272562, 184.81951643719157, 182.1943050011247, 178.13187522082163, 170.86313277191763, 156.29724526046638, 149.733563673579, 150.7023144884577, 134.53584970538225, 131.5828119663252, 130.58555976519008, 130.98108920711584, 128.82835107860572, 127.70096047229981, 122.34473018203045, 125.40139136699932, 123.02315536270538, 122.08310347930936, 121.03589428539826, 170.40881167570785, 302.7230453395951, 286.80048716180096, 247.56414336624755, 229.33412804923697, 210.22331418104207, 199.4270232563774, 180.03335955435273, 166.90842091203652, 155.6643294487288, 152.52412889521648, 148.17725227488575, 149.32302955276785, 150.05285005741487, 140.05880007963566, 122.82293746903586, 115.02291327823956, 112.39999056971489, 111.53464106956638, 115.63013528606592, 112.27531740332977, 109.92590369078187, 106.66483192348159, 102.05884354898885, 99.01361461339928, 99.43208028936347, 95.43918089523285, 94.67443839452176, 93.33295705414301, 93.22612604601223, 92.97677971324198, 253.06728640779323, 387.1578066331277, 265.71729509538045, 235.48321142963445, 215.35755421597736, 212.2886979760617, 179.79241554288598, 180.17257840393015, 163.6747897822647, 161.53046256164518, 159.75753920380257, 156.3351800046727, 146.37203486082066, 145.57169535429807, 140.570498797183, 124.61621479295633, 116.40707101797601, 113.97607406900156, 102.56226969481366, 103.37617049191405, 101.97171537629971, 103.17577450332308, 99.73366368332817, 93.90117596825415, 92.94162691034832, 100.56124542945263, 83.98221669999646, 75.34039596051691, 74.20616950273939, 74.75634308425055, 73.48270655933335, 168.3674270925863, 291.6960576935603, 246.7206628177797, 193.99117193766068, 191.2378893169315, 181.71554899958522, 176.63205732341234, 176.39522623455494, 151.45781514674584, 143.76939035205467, 139.7267769058452, 134.07223512452063, 130.09532272494596, 122.22968860181433, 104.284605388628, 99.14851110336465, 99.87236388112244, 98.9466788009299, 97.43359294639589, 88.56954608586352, 85.91571760396067, 85.02368864575, 82.24567862157005, 82.00565497504239, 79.8655746636581, 78.36894390777036, 85.77023991180364, 76.19749000395348, 74.30808514366024, 72.17712749122624, 73.72686808499319, 94.31145802604753, 348.93561965385874, 237.1594707893911, 215.04238650718676, 210.84739932607107, 174.34316956115666, 167.24382901722433, 164.4117495075093, 156.53231348708934, 153.21846298080052, 133.84066164361184, 132.86663269523743, 121.81971234284815, 128.6365340395162, 126.09565553686862, 112.64079627201475, 91.62019357314098, 90.09224966567085, 89.245554503512, 89.06492456152833, 88.60447612906954, 88.48719860826378, 88.30334874717201, 85.1390364798867, 84.82496105809373, 81.3944893202441, 79.90929992254485, 74.46978324258886, 76.27338230563636, 68.57354393890851, 68.68298017050621], \"Total\": [703.0, 529.0, 499.0, 387.0, 349.0, 455.0, 393.0, 292.0, 362.0, 352.0, 303.0, 266.0, 237.0, 247.0, 287.0, 306.0, 236.0, 215.0, 211.0, 248.0, 271.0, 216.0, 267.0, 213.0, 254.0, 230.0, 194.0, 191.0, 247.0, 424.0, 703.5489744045592, 529.6260813364757, 499.8869261880789, 455.6122858334507, 393.7753874850529, 362.7641185396926, 352.3906166535421, 306.0357391305412, 271.60623428192616, 267.4526370007397, 254.071488098829, 247.41137977207174, 185.53850427631423, 182.92638911478699, 178.8518115420437, 171.58711375114376, 157.0313729768476, 150.44889752596444, 151.4246665733597, 135.271765565035, 132.30689474413055, 131.3078247320514, 131.70728545263478, 129.5551017707764, 128.4220487651922, 123.06034557106496, 126.13520986046206, 123.74415166537217, 122.79890909108896, 121.76421379598168, 424.0092283095291, 303.4390500912895, 287.5281362918097, 248.2941109419906, 230.05124617848688, 210.94142678421125, 200.1403692100276, 180.7541872239225, 167.6276558843551, 156.38770718610178, 153.24751228294164, 148.8934428592468, 150.04503867104324, 150.77873439073562, 140.778796545496, 123.54021406946055, 115.74008620994539, 113.11578623271237, 112.24882085193941, 116.37071160777293, 112.99897806764577, 110.66045065406963, 107.37767781309786, 102.79295433948546, 99.73098107495844, 100.16098874875367, 96.15306088107903, 95.3861797917267, 94.04779733561308, 93.96361067608366, 93.7256260517468, 424.0092283095291, 387.8819598719923, 266.4558723122344, 236.21100850256227, 216.08731024099112, 213.01176105254808, 180.51838290710668, 180.90660718755944, 164.40127974786853, 162.26231491283838, 160.48893907156642, 157.05790881629488, 147.09306373582862, 146.29920560415988, 141.29770086991525, 125.35357422274781, 117.13003473324612, 114.71016048849644, 103.28619524708344, 104.1075925577326, 102.69862426593644, 103.92964576232171, 100.46881832414526, 94.62844962801556, 93.6620158750764, 101.37525446943819, 84.71119872394063, 76.0678607081477, 74.93597743421302, 75.49564239898474, 74.21011921469011, 171.16010978959147, 292.4196910490098, 247.4547622847289, 194.71373997468302, 191.96580138278247, 182.44722770069953, 177.35363874341195, 177.12426226878944, 152.19656233775714, 144.49378151184052, 140.45485889631965, 134.7984538717129, 130.83165936428045, 122.95626319768462, 105.02534771245733, 99.87583897349606, 100.61270810774231, 99.68425163227293, 98.16554853271481, 89.30157635038454, 86.65289680114353, 85.76552435498064, 82.98598486110966, 82.74544827747194, 80.59992804716873, 79.09891208393142, 86.57829154799822, 76.9308072684133, 75.04684868769515, 72.90545573494686, 74.47639348891488, 245.89086295049879, 349.80249973814125, 237.9082379155671, 215.789515803858, 211.59878749357745, 175.07866951115517, 167.9948865558057, 165.15722347841125, 157.28016525827164, 153.96671271183956, 134.58612696360788, 133.61377806329693, 122.56359746051389, 129.43584133243698, 126.90672791811227, 113.40063024505412, 92.37266936218826, 90.83490373712793, 89.98466899705369, 89.8115331566026, 89.34865770371948, 89.23726829625005, 89.06918216947317, 85.88413510592594, 85.5798822479407, 82.12930465955424, 80.67350519031557, 75.2100206397837, 77.03381877943987, 69.31481079684582, 69.43265861675617], \"Category\": [\"Default\", \"Default\", \"Default\", \"Default\", \"Default\", \"Default\", \"Default\", \"Default\", \"Default\", \"Default\", \"Default\", \"Default\", \"Default\", \"Default\", \"Default\", \"Default\", \"Default\", \"Default\", \"Default\", \"Default\", \"Default\", \"Default\", \"Default\", \"Default\", \"Default\", \"Default\", \"Default\", \"Default\", \"Default\", \"Default\", \"Topic1\", \"Topic1\", \"Topic1\", \"Topic1\", \"Topic1\", \"Topic1\", \"Topic1\", \"Topic1\", \"Topic1\", \"Topic1\", \"Topic1\", \"Topic1\", \"Topic1\", \"Topic1\", \"Topic1\", \"Topic1\", \"Topic1\", \"Topic1\", \"Topic1\", \"Topic1\", \"Topic1\", \"Topic1\", \"Topic1\", \"Topic1\", \"Topic1\", \"Topic1\", \"Topic1\", \"Topic1\", \"Topic1\", \"Topic1\", \"Topic1\", \"Topic2\", \"Topic2\", \"Topic2\", \"Topic2\", \"Topic2\", \"Topic2\", \"Topic2\", \"Topic2\", \"Topic2\", \"Topic2\", \"Topic2\", \"Topic2\", \"Topic2\", \"Topic2\", \"Topic2\", \"Topic2\", \"Topic2\", \"Topic2\", \"Topic2\", \"Topic2\", \"Topic2\", \"Topic2\", \"Topic2\", \"Topic2\", \"Topic2\", \"Topic2\", \"Topic2\", \"Topic2\", \"Topic2\", \"Topic2\", \"Topic2\", \"Topic3\", \"Topic3\", \"Topic3\", \"Topic3\", \"Topic3\", \"Topic3\", \"Topic3\", \"Topic3\", \"Topic3\", \"Topic3\", \"Topic3\", \"Topic3\", \"Topic3\", \"Topic3\", \"Topic3\", \"Topic3\", \"Topic3\", \"Topic3\", \"Topic3\", \"Topic3\", \"Topic3\", \"Topic3\", \"Topic3\", \"Topic3\", \"Topic3\", \"Topic3\", \"Topic3\", \"Topic3\", \"Topic3\", \"Topic3\", \"Topic3\", \"Topic4\", \"Topic4\", \"Topic4\", \"Topic4\", \"Topic4\", \"Topic4\", \"Topic4\", \"Topic4\", \"Topic4\", \"Topic4\", \"Topic4\", \"Topic4\", \"Topic4\", \"Topic4\", \"Topic4\", \"Topic4\", \"Topic4\", \"Topic4\", \"Topic4\", \"Topic4\", \"Topic4\", \"Topic4\", \"Topic4\", \"Topic4\", \"Topic4\", \"Topic4\", \"Topic4\", \"Topic4\", \"Topic4\", \"Topic4\", \"Topic4\", \"Topic5\", \"Topic5\", \"Topic5\", \"Topic5\", \"Topic5\", \"Topic5\", \"Topic5\", \"Topic5\", \"Topic5\", \"Topic5\", \"Topic5\", \"Topic5\", \"Topic5\", \"Topic5\", \"Topic5\", \"Topic5\", \"Topic5\", \"Topic5\", \"Topic5\", \"Topic5\", \"Topic5\", \"Topic5\", \"Topic5\", \"Topic5\", \"Topic5\", \"Topic5\", \"Topic5\", \"Topic5\", \"Topic5\", \"Topic5\"], \"logprob\": [30.0, 29.0, 28.0, 27.0, 26.0, 25.0, 24.0, 23.0, 22.0, 21.0, 20.0, 19.0, 18.0, 17.0, 16.0, 15.0, 14.0, 13.0, 12.0, 11.0, 10.0, 9.0, 8.0, 7.0, 6.0, 5.0, 4.0, 3.0, 2.0, 1.0, -3.5125, -3.7968, -3.8547, -3.9476, -4.0937, -4.1759, -4.205, -4.3463, -4.466, -4.4814, -4.5329, -4.5596, -4.8483, -4.8626, -4.8851, -4.9268, -5.0159, -5.0588, -5.0523, -5.1658, -5.188, -5.1956, -5.1926, -5.2092, -5.218, -5.2608, -5.2361, -5.2553, -5.2629, -5.2716, -4.9294, -4.2262, -4.2802, -4.4273, -4.5038, -4.5908, -4.6435, -4.7458, -4.8215, -4.8913, -4.9116, -4.9406, -4.9329, -4.928, -4.9969, -5.1282, -5.1938, -5.2169, -5.2246, -5.1886, -5.218, -5.2392, -5.2693, -5.3134, -5.3437, -5.3395, -5.3805, -5.3885, -5.4028, -5.4039, -5.4066, -4.4053, -3.7898, -4.1662, -4.287, -4.3763, -4.3907, -4.5568, -4.5547, -4.6508, -4.6639, -4.675, -4.6966, -4.7625, -4.768, -4.8029, -4.9234, -4.9915, -5.0127, -5.1182, -5.1103, -5.1239, -5.1122, -5.1461, -5.2064, -5.2167, -5.1379, -5.318, -5.4266, -5.4418, -5.4344, -5.4516, -4.6225, -4.0058, -4.1732, -4.4137, -4.428, -4.4791, -4.5074, -4.5088, -4.6612, -4.7133, -4.7418, -4.7831, -4.8132, -4.8756, -5.0344, -5.0849, -5.0776, -5.0869, -5.1023, -5.1977, -5.2281, -5.2386, -5.2718, -5.2747, -5.3012, -5.3201, -5.2298, -5.3482, -5.3733, -5.4024, -5.3811, -5.1349, -3.7394, -4.1256, -4.2235, -4.2432, -4.4333, -4.4749, -4.4919, -4.541, -4.5624, -4.6977, -4.705, -4.7918, -4.7373, -4.7573, -4.8701, -5.0767, -5.0935, -5.1029, -5.1049, -5.1101, -5.1114, -5.1135, -5.15, -5.1537, -5.195, -5.2134, -5.2839, -5.26, -5.3664, -5.3648], \"loglift\": [30.0, 29.0, 28.0, 27.0, 26.0, 25.0, 24.0, 23.0, 22.0, 21.0, 20.0, 19.0, 18.0, 17.0, 16.0, 15.0, 14.0, 13.0, 12.0, 11.0, 10.0, 9.0, 8.0, 7.0, 6.0, 5.0, 4.0, 3.0, 2.0, 1.0, 1.3622, 1.3618, 1.3618, 1.3616, 1.3613, 1.3612, 1.3612, 1.3609, 1.3605, 1.3605, 1.3604, 1.3602, 1.3593, 1.3592, 1.3592, 1.359, 1.3585, 1.3584, 1.3584, 1.3578, 1.3577, 1.3577, 1.3577, 1.3576, 1.3576, 1.3574, 1.3574, 1.3574, 1.3574, 1.3572, 0.4517, 1.4895, 1.4894, 1.4889, 1.4888, 1.4885, 1.4883, 1.4879, 1.4876, 1.4873, 1.4872, 1.4871, 1.4871, 1.4871, 1.4868, 1.4861, 1.4857, 1.4855, 1.4855, 1.4855, 1.4855, 1.4852, 1.4852, 1.4847, 1.4847, 1.4846, 1.4844, 1.4844, 1.4843, 1.484, 1.4839, 0.9758, 1.6803, 1.6794, 1.6791, 1.6788, 1.6788, 1.6782, 1.6781, 1.6778, 1.6777, 1.6776, 1.6776, 1.6773, 1.6772, 1.6771, 1.6763, 1.676, 1.6758, 1.6752, 1.6752, 1.6751, 1.6749, 1.6749, 1.6745, 1.6745, 1.6742, 1.6736, 1.6726, 1.6724, 1.6724, 1.6724, 1.6658, 1.7469, 1.7464, 1.7456, 1.7456, 1.7453, 1.7453, 1.7452, 1.7445, 1.7443, 1.7442, 1.7439, 1.7437, 1.7434, 1.7423, 1.742, 1.742, 1.7419, 1.7419, 1.7411, 1.7408, 1.7407, 1.7404, 1.7404, 1.7402, 1.7401, 1.74, 1.7398, 1.7395, 1.7393, 1.7392, 0.7911, 1.8341, 1.8334, 1.8331, 1.833, 1.8323, 1.8321, 1.832, 1.8318, 1.8317, 1.831, 1.8309, 1.8305, 1.8304, 1.8301, 1.8298, 1.8284, 1.8283, 1.8283, 1.8282, 1.8282, 1.8281, 1.8279, 1.8278, 1.8277, 1.8276, 1.827, 1.8267, 1.8266, 1.8258, 1.8257]}, \"token.table\": {\"Topic\": [4, 3, 2, 4, 5, 5, 1, 2, 5, 3, 3, 5, 3, 2, 1, 4, 1, 3, 3, 5, 4, 4, 2, 2, 1, 4, 1, 1, 5, 5, 5, 5, 5, 1, 3, 3, 4, 4, 2, 2, 2, 1, 2, 1, 1, 5, 2, 4, 1, 2, 4, 2, 3, 2, 2, 3, 3, 5, 4, 1, 5, 1, 5, 5, 2, 1, 5, 5, 4, 3, 4, 5, 1, 1, 2, 5, 5, 2, 1, 4, 1, 4, 2, 3, 5, 1, 4, 4, 3, 1, 1, 1, 5, 4, 4, 1, 2, 3, 4, 5, 3, 3, 1, 1, 4, 3, 1, 5, 5, 2, 3, 3, 1, 4, 4, 2, 3, 1, 4, 4, 5, 3, 2, 2, 1, 5, 2, 3, 5, 1, 2, 3, 4, 5, 3, 3, 2, 4, 4, 1, 2, 4, 4, 2, 2, 3, 3, 5, 3, 3, 2, 1, 2, 4, 3, 2, 1, 5, 3, 4, 2], \"Freq\": [0.993652691876377, 0.9972291045633078, 0.998163183963069, 0.9967615296480742, 0.98970548978766, 0.9879960482017358, 0.9913835316637184, 0.9975208589403999, 0.9865796763574728, 0.9971283649966362, 0.993197335690424, 0.9890573693493729, 0.9916044308821753, 0.9936056189849132, 0.997195525782096, 0.9879007214214496, 0.997680432718763, 0.9938090881795283, 0.9893610779913253, 0.99376865836084, 0.9963344139207854, 0.9912307222397553, 0.9897448526174087, 0.9944679414471035, 0.9939863690093048, 0.998162240724203, 0.9910000557202236, 0.9988915236811593, 0.9928551627404866, 0.9932240821942162, 0.991651469850892, 0.9971701752138082, 0.9839114438542829, 0.9934320578283445, 0.9953336932596072, 0.9932642117530529, 0.9931358101097345, 0.9922227369894352, 0.9988154735491922, 0.9911594061757998, 0.997783309882002, 0.9966156268758553, 0.9954303825954011, 0.9992197069080744, 0.9957827298653353, 0.9961824024105906, 0.995951407294328, 0.9925567173358065, 0.9934941678472375, 0.9955370227718507, 0.993603429669486, 0.9922859076813121, 0.9962983622442958, 0.9948352505153839, 0.9964827157674685, 0.9978930947348582, 0.9979548378070525, 0.9862496746534568, 0.9902371405114071, 0.9978936215004709, 0.9959655884715527, 0.9970976144363423, 0.9909640429454919, 0.9954063265615753, 0.9940317371728926, 0.9952373334399051, 0.9977058490469851, 0.9982186866486847, 0.996582679844945, 0.9925688968054149, 0.9936432865842905, 0.9954015917271402, 0.9986561252791271, 0.9967135801893033, 0.9962556543486588, 0.9938389438635388, 0.9861350720402762, 0.990135892876907, 0.9946298684222056, 0.9881186580750971, 0.997767966248901, 0.9975487284387067, 0.9943021529613004, 0.9875096386774335, 0.9964671250575207, 0.9937238226884778, 0.9921380462253693, 0.9966229448268498, 0.9933587665180398, 0.998225746380602, 0.995715322953792, 0.9949357273203175, 0.9954582463224418, 0.9881267048354915, 0.990991066058737, 0.17487433035954855, 0.17080748546746602, 0.1504732610070534, 0.38228341985575726, 0.12200534676247572, 0.9982891264197764, 0.9952502103754802, 0.9983372641450416, 0.9979909660829824, 0.9939102314283581, 0.991055047330309, 0.9980308889034303, 0.9908085581337313, 0.9956449674507212, 0.993999447913288, 0.9903523060005943, 0.9971793845932185, 0.9988178804659773, 0.9980060248782175, 0.9924653782476328, 0.9926704714314499, 0.9969534406894647, 0.9965783342448707, 0.9860507308967553, 0.9861071150666981, 0.9929932009388465, 0.9948731919386851, 0.9958275532340052, 0.9968143908149122, 0.997655701534318, 0.9940778759627591, 0.9983848854754349, 0.9977262157995609, 0.9960977846485883, 0.005842482814654116, 0.005842482814654116, 0.9815371128618916, 0.005842482814654116, 0.9966327616218943, 0.9949885346828737, 0.994968190220062, 0.9888588848936677, 0.9949688883341432, 0.9985647647478723, 0.40093466993104937, 0.596685126426797, 0.9933205941390328, 0.9940766837543049, 0.9922579759419673, 0.9880080689006342, 0.9859617360313996, 0.9836933395674891, 0.9963412689401665, 0.993434821093841, 0.9983833898032375, 0.9956272208727369, 0.9970162790598917, 0.9930351667719293, 0.987580411838605, 0.9929318639056479, 0.9884087730836412, 0.9983075994096913, 0.9937212875769528, 0.997559144621721, 0.9910742182160263, 0.9985530863903066], \"Term\": [\"also\", \"always\", \"amp\", \"ask\", \"attack\", \"award\", \"back\", \"become\", \"believe\", \"big\", \"break\", \"bring\", \"business\", \"buy\", \"call\", \"case\", \"change\", \"check\", \"child\", \"close\", \"come\", \"company\", \"congratulation\", \"continue\", \"could\", \"country\", \"crisis\", \"day\", \"delivery\", \"demand\", \"detail\", \"even\", \"ever\", \"face\", \"fall\", \"find\", \"fire\", \"first\", \"follow\", \"food\", \"fuel\", \"get\", \"give\", \"go\", \"good\", \"government\", \"great\", \"happen\", \"help\", \"high\", \"hike\", \"hour\", \"http\", \"increase\", \"inflation\", \"issue\", \"join\", \"keep\", \"kill\", \"know\", \"large\", \"last\", \"late\", \"leader\", \"learn\", \"let\", \"level\", \"life\", \"live\", \"look\", \"lose\", \"love\", \"make\", \"man\", \"many\", \"may\", \"meet\", \"month\", \"must\", \"nation\", \"need\", \"never\", \"new\", \"official\", \"open\", \"order\", \"part\", \"party\", \"pay\", \"people\", \"person\", \"police\", \"policy\", \"political\", \"poor\", \"poster\", \"poster\", \"poster\", \"poster\", \"poster\", \"power\", \"price\", \"protest\", \"public\", \"question\", \"reach\", \"read\", \"really\", \"report\", \"right\", \"rise\", \"russian\", \"say\", \"see\", \"seem\", \"set\", \"share\", \"show\", \"sign\", \"stand\", \"start\", \"state\", \"still\", \"stock\", \"stop\", \"story\", \"support\", \"take\", \"talk\", \"tamil\", \"tamil\", \"tamil\", \"tamil\", \"target\", \"tell\", \"thank\", \"thing\", \"think\", \"time\", \"today\", \"today\", \"trading\", \"try\", \"understand\", \"use\", \"video\", \"vote\", \"want\", \"war\", \"watch\", \"way\", \"week\", \"well\", \"win\", \"woman\", \"word\", \"work\", \"world\", \"would\", \"write\", \"year\"]}, \"R\": 30, \"lambda.step\": 0.01, \"plot.opts\": {\"xlab\": \"PC1\", \"ylab\": \"PC2\"}, \"topic.order\": [4, 3, 2, 5, 1]};\n",
              "\n",
              "function LDAvis_load_lib(url, callback){\n",
              "  var s = document.createElement('script');\n",
              "  s.src = url;\n",
              "  s.async = true;\n",
              "  s.onreadystatechange = s.onload = callback;\n",
              "  s.onerror = function(){console.warn(\"failed to load library \" + url);};\n",
              "  document.getElementsByTagName(\"head\")[0].appendChild(s);\n",
              "}\n",
              "\n",
              "if(typeof(LDAvis) !== \"undefined\"){\n",
              "   // already loaded: just create the visualization\n",
              "   !function(LDAvis){\n",
              "       new LDAvis(\"#\" + \"ldavis_el581397664474140962819390161\", ldavis_el581397664474140962819390161_data);\n",
              "   }(LDAvis);\n",
              "}else if(typeof define === \"function\" && define.amd){\n",
              "   // require.js is available: use it to load d3/LDAvis\n",
              "   require.config({paths: {d3: \"https://d3js.org/d3.v5\"}});\n",
              "   require([\"d3\"], function(d3){\n",
              "      window.d3 = d3;\n",
              "      LDAvis_load_lib(\"https://cdn.jsdelivr.net/gh/bmabey/pyLDAvis@3.3.1/pyLDAvis/js/ldavis.v3.0.0.js\", function(){\n",
              "        new LDAvis(\"#\" + \"ldavis_el581397664474140962819390161\", ldavis_el581397664474140962819390161_data);\n",
              "      });\n",
              "    });\n",
              "}else{\n",
              "    // require.js not available: dynamically load d3 & LDAvis\n",
              "    LDAvis_load_lib(\"https://d3js.org/d3.v5.js\", function(){\n",
              "         LDAvis_load_lib(\"https://cdn.jsdelivr.net/gh/bmabey/pyLDAvis@3.3.1/pyLDAvis/js/ldavis.v3.0.0.js\", function(){\n",
              "                 new LDAvis(\"#\" + \"ldavis_el581397664474140962819390161\", ldavis_el581397664474140962819390161_data);\n",
              "            })\n",
              "         });\n",
              "}\n",
              "</script>"
            ]
          },
          "metadata": {},
          "execution_count": 90
        }
      ]
    }
  ]
}