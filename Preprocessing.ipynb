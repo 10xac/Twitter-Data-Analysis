{
 "cells": [
  {
   "cell_type": "code",
   "execution_count": 1,
   "id": "4face97e",
   "metadata": {},
   "outputs": [],
   "source": [
    "# Modules importation\n",
    "import pandas as pd\n",
    "import numpy as np\n",
    "\n",
    "from extract_dataframe import TweetDfExtractor\n",
    "from extract_dataframe import read_json\n",
    "from clean_tweets_dataframe import Clean_Tweets\n",
    "\n",
    "_, tweet_list = read_json(\"Economic_Twitter_Data.json\")"
   ]
  },
  {
   "cell_type": "code",
   "execution_count": 2,
   "id": "97a09f5f",
   "metadata": {
    "scrolled": false
   },
   "outputs": [
    {
     "name": "stdout",
     "output_type": "stream",
     "text": [
      "<class 'pandas.core.frame.DataFrame'>\n",
      "RangeIndex: 24625 entries, 0 to 24624\n",
      "Data columns (total 15 columns):\n",
      " #   Column              Non-Null Count  Dtype  \n",
      "---  ------              --------------  -----  \n",
      " 0   created_at          24625 non-null  object \n",
      " 1   source              24625 non-null  object \n",
      " 2   original_text       24625 non-null  object \n",
      " 3   polarity            24625 non-null  float64\n",
      " 4   subjectivity        24625 non-null  float64\n",
      " 5   lang                24625 non-null  object \n",
      " 6   favorite_count      0 non-null      object \n",
      " 7   retweet_count       0 non-null      object \n",
      " 8   original_author     24625 non-null  object \n",
      " 9   followers_count     24625 non-null  int64  \n",
      " 10  friends_count       24625 non-null  int64  \n",
      " 11  possibly_sensitive  9975 non-null   object \n",
      " 12  hashtags            24625 non-null  object \n",
      " 13  user_mentions       24625 non-null  object \n",
      " 14  place               24625 non-null  object \n",
      "dtypes: float64(2), int64(2), object(11)\n",
      "memory usage: 2.8+ MB\n"
     ]
    }
   ],
   "source": [
    "tweetDfExt = TweetDfExtractor(tweet_list)\n",
    "tweet_df = tweetDfExt.get_tweet_df() # Convert the list into a dataframe and extract some features\n",
    "tweet_df.info() # Get some information about the data set"
   ]
  },
  {
   "cell_type": "code",
   "execution_count": 3,
   "id": "20ceb4a0",
   "metadata": {},
   "outputs": [
    {
     "name": "stdout",
     "output_type": "stream",
     "text": [
      "Automation in Action...!!!\n"
     ]
    }
   ],
   "source": [
    "tweets_prepro = Clean_Tweets(tweet_df)\n",
    "# Drop duplicates\n",
    "tweet_df = tweets_prepro.drop_duplicate('original_text')\n",
    "# Convert \"created at\" into datetime object\n",
    "tweet_df = tweets_prepro.convert_to_datetime('created_at')"
   ]
  },
  {
   "cell_type": "code",
   "execution_count": 4,
   "id": "2e925d4b",
   "metadata": {},
   "outputs": [
    {
     "name": "stdout",
     "output_type": "stream",
     "text": [
      "(22370, 15)\n",
      "<class 'pandas.core.frame.DataFrame'>\n",
      "Int64Index: 22370 entries, 0 to 24624\n",
      "Data columns (total 15 columns):\n",
      " #   Column              Non-Null Count  Dtype              \n",
      "---  ------              --------------  -----              \n",
      " 0   created_at          22370 non-null  datetime64[ns, UTC]\n",
      " 1   source              22370 non-null  object             \n",
      " 2   original_text       22370 non-null  object             \n",
      " 3   polarity            22370 non-null  float64            \n",
      " 4   subjectivity        22370 non-null  float64            \n",
      " 5   lang                22370 non-null  object             \n",
      " 6   favorite_count      0 non-null      object             \n",
      " 7   retweet_count       0 non-null      object             \n",
      " 8   original_author     22370 non-null  object             \n",
      " 9   followers_count     22370 non-null  int64              \n",
      " 10  friends_count       22370 non-null  int64              \n",
      " 11  possibly_sensitive  9598 non-null   object             \n",
      " 12  hashtags            22370 non-null  object             \n",
      " 13  user_mentions       22370 non-null  object             \n",
      " 14  place               22370 non-null  object             \n",
      "dtypes: datetime64[ns, UTC](1), float64(2), int64(2), object(10)\n",
      "memory usage: 2.7+ MB\n"
     ]
    }
   ],
   "source": [
    "print(tweet_df.shape)\n",
    "tweet_df.info()"
   ]
  },
  {
   "cell_type": "code",
   "execution_count": 5,
   "id": "b5c00792",
   "metadata": {},
   "outputs": [
    {
     "data": {
      "text/plain": [
       "(15082, 15)"
      ]
     },
     "execution_count": 5,
     "metadata": {},
     "output_type": "execute_result"
    }
   ],
   "source": [
    "# Get only the english tweet\n",
    "tweet_df = tweets_prepro.remove_non_english_tweets()\n",
    "tweet_df.shape"
   ]
  },
  {
   "cell_type": "code",
   "execution_count": 6,
   "id": "9791a651",
   "metadata": {},
   "outputs": [
    {
     "data": {
      "text/html": [
       "<div>\n",
       "<style scoped>\n",
       "    .dataframe tbody tr th:only-of-type {\n",
       "        vertical-align: middle;\n",
       "    }\n",
       "\n",
       "    .dataframe tbody tr th {\n",
       "        vertical-align: top;\n",
       "    }\n",
       "\n",
       "    .dataframe thead th {\n",
       "        text-align: right;\n",
       "    }\n",
       "</style>\n",
       "<table border=\"1\" class=\"dataframe\">\n",
       "  <thead>\n",
       "    <tr style=\"text-align: right;\">\n",
       "      <th></th>\n",
       "      <th>polarity</th>\n",
       "      <th>subjectivity</th>\n",
       "      <th>followers_count</th>\n",
       "      <th>friends_count</th>\n",
       "    </tr>\n",
       "  </thead>\n",
       "  <tbody>\n",
       "    <tr>\n",
       "      <th>count</th>\n",
       "      <td>15082.000000</td>\n",
       "      <td>15082.000000</td>\n",
       "      <td>1.508200e+04</td>\n",
       "      <td>15082.000000</td>\n",
       "    </tr>\n",
       "    <tr>\n",
       "      <th>mean</th>\n",
       "      <td>0.088552</td>\n",
       "      <td>0.310867</td>\n",
       "      <td>5.621884e+04</td>\n",
       "      <td>1390.723710</td>\n",
       "    </tr>\n",
       "    <tr>\n",
       "      <th>std</th>\n",
       "      <td>0.276101</td>\n",
       "      <td>0.316366</td>\n",
       "      <td>4.397814e+05</td>\n",
       "      <td>3068.490121</td>\n",
       "    </tr>\n",
       "    <tr>\n",
       "      <th>min</th>\n",
       "      <td>-1.000000</td>\n",
       "      <td>0.000000</td>\n",
       "      <td>0.000000e+00</td>\n",
       "      <td>0.000000</td>\n",
       "    </tr>\n",
       "    <tr>\n",
       "      <th>25%</th>\n",
       "      <td>0.000000</td>\n",
       "      <td>0.000000</td>\n",
       "      <td>1.250000e+02</td>\n",
       "      <td>117.000000</td>\n",
       "    </tr>\n",
       "    <tr>\n",
       "      <th>50%</th>\n",
       "      <td>0.000000</td>\n",
       "      <td>0.275000</td>\n",
       "      <td>5.620000e+02</td>\n",
       "      <td>450.000000</td>\n",
       "    </tr>\n",
       "    <tr>\n",
       "      <th>75%</th>\n",
       "      <td>0.200000</td>\n",
       "      <td>0.525855</td>\n",
       "      <td>2.254000e+03</td>\n",
       "      <td>1507.000000</td>\n",
       "    </tr>\n",
       "    <tr>\n",
       "      <th>max</th>\n",
       "      <td>1.000000</td>\n",
       "      <td>1.000000</td>\n",
       "      <td>6.027402e+06</td>\n",
       "      <td>41866.000000</td>\n",
       "    </tr>\n",
       "  </tbody>\n",
       "</table>\n",
       "</div>"
      ],
      "text/plain": [
       "           polarity  subjectivity  followers_count  friends_count\n",
       "count  15082.000000  15082.000000     1.508200e+04   15082.000000\n",
       "mean       0.088552      0.310867     5.621884e+04    1390.723710\n",
       "std        0.276101      0.316366     4.397814e+05    3068.490121\n",
       "min       -1.000000      0.000000     0.000000e+00       0.000000\n",
       "25%        0.000000      0.000000     1.250000e+02     117.000000\n",
       "50%        0.000000      0.275000     5.620000e+02     450.000000\n",
       "75%        0.200000      0.525855     2.254000e+03    1507.000000\n",
       "max        1.000000      1.000000     6.027402e+06   41866.000000"
      ]
     },
     "execution_count": 6,
     "metadata": {},
     "output_type": "execute_result"
    }
   ],
   "source": [
    "# Descriptive statistics\n",
    "tweet_df.describe()"
   ]
  }
 ],
 "metadata": {
  "kernelspec": {
   "display_name": "Python 3 (ipykernel)",
   "language": "python",
   "name": "python3"
  },
  "language_info": {
   "codemirror_mode": {
    "name": "ipython",
    "version": 3
   },
   "file_extension": ".py",
   "mimetype": "text/x-python",
   "name": "python",
   "nbconvert_exporter": "python",
   "pygments_lexer": "ipython3",
   "version": "3.8.8"
  }
 },
 "nbformat": 4,
 "nbformat_minor": 5
}
