{
 "cells": [
  {
   "cell_type": "markdown",
   "metadata": {
    "id": "zDwep1K8Erxl"
   },
   "source": [
    "**Project:** Data Minining Project for  X company"
   ]
  },
  {
   "cell_type": "code",
   "execution_count": null,
   "metadata": {
    "id": "JzIu-UWIDXHw"
   },
   "outputs": [],
   "source": []
  },
  {
   "cell_type": "markdown",
   "metadata": {
    "id": "d7-ii3uyI8KY"
   },
   "source": [
    "The CRISP-DM Framework\n",
    "\n",
    "\n",
    "The CRISP-DM methodology provides a structured approach to planning a data mining project. It is a robust and well-proven methodology.\n",
    "* Business understanding (BU): Determine Business Objectives, Assess Situation, Determine Data Mining Goals, Produce Project Plan\n",
    "\n",
    "* Data understanding (DU): Collect Initial Data, Describe Data, Explore Data, Verify Data Quality\n",
    "\n",
    "* Data preparation (DP): Select Data, Clean Data, Construct Data, Integrate Data\n",
    "\n",
    "* Modeling (M): Select modeling technique, Generate Test Design, Build Model, Assess Model\n",
    "*  Evaluation (E): Evaluate Results, Review Process, Determine Next Steps\n",
    "*  Deployment (D): Plan Deployment, Plan Monitoring and Maintenance, Produce Final Report, Review Project\n",
    "\n",
    "\n",
    "References:\n",
    "\n",
    "[What is the CRISP-DM methodology?](https://www.sv-europe.com/crisp-dm-methodology/)\n",
    "\n",
    "[Introduction to CRISP DM Framework for Data Science and Machine Learning](https://www.linkedin.com/pulse/chapter-1-introduction-crisp-dm-framework-data-science-anshul-roy/)"
   ]
  },
  {
   "cell_type": "markdown",
   "metadata": {
    "id": "5lo7Ml7tMQOf"
   },
   "source": [
    "**Data Set**\n",
    "### The data is for company X which is trying to control attrition. \n",
    "### There are two sets of data: \"Existing employees\" and \"Employees who have left\". The following attributes are available for every employee.\n",
    "\n",
    "\n",
    "*   Satisfaction Level\n",
    "\n",
    "*   Last evaluation\n",
    "\n",
    "*   Number of projects\n",
    "\n",
    "*   Average monthly hours\n",
    "\n",
    "*   Time spent at the company\n",
    "*   Whether they have had a work accident\n",
    "\n",
    "\n",
    "*  Whether they have had a promotion in the last 5 years\n",
    "\n",
    "\n",
    "*   Departments (column sales)\n",
    "\n",
    "\n",
    "*   Salary\n",
    "\n",
    "\n",
    "*  Whether the employee has left\n",
    "\n",
    "\n",
    "\n",
    "\n",
    "\n",
    "\n",
    "\n",
    "\n",
    "\n",
    "\n",
    "\n",
    "\n",
    "\n",
    "\n",
    "\n",
    "\n"
   ]
  },
  {
   "cell_type": "markdown",
   "metadata": {
    "id": "sjSj2A2sSph_"
   },
   "source": [
    "**Your Role**\n",
    " \n",
    "\n",
    "*   As data science team member X company asked you to answer this two questions.\n",
    "*  What type of employees is leaving? \n",
    "\n",
    "*   Determine which employees are prone to leave next.\n",
    "\n",
    "\n",
    "\n",
    "\n"
   ]
  },
  {
   "cell_type": "markdown",
   "metadata": {
    "id": "ajdEVA7LiBUp"
   },
   "source": [
    "Business Understanding\n",
    "\n",
    "---\n",
    "\n",
    "This step mostly focuses on understanding the Business in all the different aspects. It follows the below different steps.\n",
    "\n",
    "\n",
    "\n",
    "\n",
    "* Identify the goal and frame the business problem.\n",
    "* Prepare Analytical Goal i.e. what type of performance metric and loss function to use\n",
    "* Gather information on resource, constraints, assumptions, risks etc\n",
    "* Gather information on resource, constraints, assumptions, risks etc\n",
    "*   Prepare Work Flow Chart"
   ]
  },
  {
   "cell_type": "markdown",
   "metadata": {
    "id": "J4MwiCYzj2_u"
   },
   "source": [
    "### Write the main objectives of this project in your words?\n",
    "minimum of 100 characters"
   ]
  },
  {
   "cell_type": "code",
   "execution_count": null,
   "metadata": {
    "id": "STyLda45j1Mf"
   },
   "outputs": [],
   "source": [
    "main_objectives ='''Add your answer text here\n",
    "you can create python string using (') or (\") or 3('), like the text here. The 3(') string can be used \n",
    "to write paragraphs, comments in the beginning of functions, etc.. Your answer to the above question \n",
    "should replace this text.\n",
    "'''"
   ]
  },
  {
   "cell_type": "code",
   "execution_count": null,
   "metadata": {
    "id": "CuOlxLxKMOLI"
   },
   "outputs": [],
   "source": [
    "assert len(main_objectives) > 100 \n",
    "### BEGIN HIDDEN TESTS\n",
    "assert len(main_objectives) > 80 \n",
    "### END HIDDEN TESTS"
   ]
  },
  {
   "cell_type": "markdown",
   "metadata": {
    "id": "NyXeNxlCkbaw"
   },
   "source": [
    "### Outline the different data analysis steps you will follow to carry out the project"
   ]
  },
  {
   "cell_type": "code",
   "execution_count": null,
   "metadata": {
    "id": "rC-tl8sUksQq"
   },
   "outputs": [],
   "source": [
    "dm_outline = '''Add your answer text here\n",
    "you can create python string using (') or (\") or 3('), like the text here. The 3(') string can be used \n",
    "to write paragraphs, comments in the beginning of functions, etc.. Your answer to the above question \n",
    "should replace this text.\n",
    "'''"
   ]
  },
  {
   "cell_type": "code",
   "execution_count": null,
   "metadata": {
    "id": "-K1mWuDoksTk"
   },
   "outputs": [],
   "source": [
    "assert len(dm_outline) > 100 \n",
    "### BEGIN HIDDEN TESTS\n",
    "assert len(dm_outline) > 70 \n",
    "### END HIDDEN TESTS"
   ]
  },
  {
   "cell_type": "markdown",
   "metadata": {
    "id": "pmUDFG1wkzUy"
   },
   "source": [
    "### What metrics will you use to measure the performance of your data analysis model? \n",
    "Write the equations of the metrics here"
   ]
  },
  {
   "cell_type": "markdown",
   "metadata": {
    "id": "KCNulojKk_BP"
   },
   "source": [
    "e.g. Precision = $\\frac{TP}{(TP + FP)}$\n",
    "\n"
   ]
  },
  {
   "cell_type": "markdown",
   "metadata": {
    "id": "vLS2YHoRk_EK"
   },
   "source": [
    "Why do you choose these metrics? minimum of 100 characters"
   ]
  },
  {
   "cell_type": "code",
   "execution_count": null,
   "metadata": {
    "id": "LSynT14KlPSJ"
   },
   "outputs": [],
   "source": [
    "why_metrics = '''Add your answer text here\n",
    "you can create python string using (') or (\") or 3('), like the text here. The 3(') string can be used \n",
    "to write paragraphs, comments in the beginning of functions, etc.. Your answer to the above question \n",
    "should replace this text.\n",
    "'''"
   ]
  },
  {
   "cell_type": "code",
   "execution_count": null,
   "metadata": {
    "id": "yr-Mk0E8lPVJ"
   },
   "outputs": [],
   "source": [
    "assert len(why_metrics) > 100 \n",
    "### BEGIN HIDDEN TESTS\n",
    "assert len(why_metrics) > 80 \n",
    "### END HIDDEN TESTS"
   ]
  },
  {
   "cell_type": "markdown",
   "metadata": {
    "id": "aAo19Ip6lUtm"
   },
   "source": [
    "### How would you know if your data analysis work is a success or not?\n",
    "minimum of 100 characters"
   ]
  },
  {
   "cell_type": "code",
   "execution_count": null,
   "metadata": {
    "id": "HESsiXW5llX-"
   },
   "outputs": [],
   "source": [
    "how_success = '''Add your answer text here\n",
    "you can create python string using (') or (\") or 3('), like the text here. The 3(') string can be used \n",
    "to write paragraphs, comments in the beginning of functions, etc.. Your answer to the above question \n",
    "should replace this text.\n",
    "'''"
   ]
  },
  {
   "cell_type": "code",
   "execution_count": null,
   "metadata": {
    "id": "FdUoiMIOlmXq"
   },
   "outputs": [],
   "source": [
    "assert len(how_success) > 100 \n",
    "### BEGIN HIDDEN TESTS\n",
    "assert len(how_success) > 80 \n",
    "### END HIDDEN TESTS"
   ]
  },
  {
   "cell_type": "markdown",
   "metadata": {
    "id": "DQE6dqo6l1TZ"
   },
   "source": [
    "## What kind of challenges do you expect in your analysis?\n",
    "List at least 3 challenges"
   ]
  },
  {
   "cell_type": "code",
   "execution_count": null,
   "metadata": {
    "id": "WrAhBQhQl8Lh"
   },
   "outputs": [],
   "source": [
    "challenge_text = '''Add your answer text here\n",
    "you can create python string using (') or (\") or 3('), like the text here. The 3(') string can be used \n",
    "to write paragraphs, comments in the beginning of functions, etc.. Your answer to the above question \n",
    "should replace this text.\n",
    "'''"
   ]
  },
  {
   "cell_type": "code",
   "execution_count": null,
   "metadata": {
    "id": "EedHa-Pll8X7"
   },
   "outputs": [],
   "source": [
    "assert len(challenge_text) > 100 \n",
    "### BEGIN HIDDEN TESTS\n",
    "assert len(how_success) > 80 \n",
    "### END HIDDEN TESTS"
   ]
  },
  {
   "cell_type": "markdown",
   "metadata": {
    "id": "ZcJ8M6uWDeSE"
   },
   "source": [
    "<h2>Using the processed twitter data from yesterday's challenge</h2>.\n",
    "\n",
    "\n",
    "- Form a new data frame (named `cleanTweet`), containing columns $\\textbf{clean-text}$ and $\\textbf{polarity}$.\n",
    "\n",
    "- Write a function `text_category` that takes a value `p` and returns, depending on the value of p, a string `'positive'`, `'negative'` or `'neutral'`.\n",
    "\n",
    "- Apply this function (`text_category`) on the $\\textbf{polarity}$ column of `cleanTweet` in 1 above to form a new column called $\\textbf{score}$ in `cleanTweet`.\n",
    "\n",
    "- Visualize The $\\textbf{score}$ column using piechart and barchart\n",
    "\n",
    "<h5>Now we want to build a classification model on the clean tweet following the steps below:</h5>\n",
    "\n",
    "* Remove rows from `cleanTweet` where $\\textbf{polarity}$ $= 0$ (i.e where $\\textbf{score}$ = Neutral) and reset the frame index.\n",
    "* Construct a column $\\textbf{scoremap}$ Use the mapping {'positive':1, 'negative':0} on the $\\textbf{score}$ column\n",
    "* Create feature and target variables `(X,y)` from $\\textbf{clean-text}$ and $\\textbf{scoremap}$ columns respectively.\n",
    "* Use `train_test_split` function to construct `(X_train, y_train)` and `(X_test, y_test)` from `(X,y)`\n",
    "\n",
    "* Build an `SGDClassifier` model from the vectorize train text data. Use `CountVectorizer()` with a $\\textit{trigram}$ parameter.\n",
    "\n",
    "* Evaluate your model on the test data.\n"
   ]
  },
  {
   "cell_type": "code",
   "execution_count": 60,
   "metadata": {
    "id": "85WxmGNGDcBY"
   },
   "outputs": [],
   "source": [
    "import pandas as pd\n",
    "import clean_tweets_dataframe \n"
   ]
  },
  {
   "cell_type": "code",
   "execution_count": 61,
   "metadata": {},
   "outputs": [],
   "source": [
    "def read_proccessed_data(csv_path):\n",
    "    df = pd.read_csv(csv_path)\n",
    "    return df"
   ]
  },
  {
   "cell_type": "code",
   "execution_count": 62,
   "metadata": {},
   "outputs": [],
   "source": [
    "\"\"\"reading processed data using pandas\"\"\"\n",
    "df = read_proccessed_data('processed_tweet_data.csv')"
   ]
  },
  {
   "cell_type": "code",
   "execution_count": 63,
   "metadata": {},
   "outputs": [
    {
     "name": "stdout",
     "output_type": "stream",
     "text": [
      "<class 'pandas.core.frame.DataFrame'>\n",
      "RangeIndex: 3720 entries, 0 to 3719\n",
      "Data columns (total 15 columns):\n",
      " #   Column              Non-Null Count  Dtype  \n",
      "---  ------              --------------  -----  \n",
      " 0   created_at          3720 non-null   object \n",
      " 1   source              3720 non-null   object \n",
      " 2   original_text       2248 non-null   object \n",
      " 3   polarity            3720 non-null   float64\n",
      " 4   subjectivity        3720 non-null   float64\n",
      " 5   lang                3720 non-null   object \n",
      " 6   favorite_count      3720 non-null   int64  \n",
      " 7   retweet_count       2810 non-null   float64\n",
      " 8   original_author     3720 non-null   object \n",
      " 9   followers_count     3720 non-null   int64  \n",
      " 10  friends_count       3720 non-null   int64  \n",
      " 11  possibly_sensitive  0 non-null      float64\n",
      " 12  hashtags            3720 non-null   object \n",
      " 13  user_mentions       3720 non-null   object \n",
      " 14  place               2430 non-null   object \n",
      "dtypes: float64(4), int64(3), object(8)\n",
      "memory usage: 436.1+ KB\n"
     ]
    }
   ],
   "source": [
    "\"\"\"Looking the columns\"\"\"\n",
    "df.info()"
   ]
  },
  {
   "cell_type": "code",
   "execution_count": 64,
   "metadata": {},
   "outputs": [
    {
     "data": {
      "text/plain": [
       " 0.000000    366\n",
       " 0.133333    200\n",
       " 0.337500    188\n",
       " 0.166667    160\n",
       " 0.508333    137\n",
       "            ... \n",
       " 0.093182      1\n",
       " 0.154107      1\n",
       "-0.030000      1\n",
       "-0.066667      1\n",
       " 0.028571      1\n",
       "Name: polarity, Length: 293, dtype: int64"
      ]
     },
     "execution_count": 64,
     "metadata": {},
     "output_type": "execute_result"
    }
   ],
   "source": [
    "df['polarity']\n",
    "df['polarity'].value_counts()\n"
   ]
  },
  {
   "cell_type": "code",
   "execution_count": 65,
   "metadata": {},
   "outputs": [
    {
     "data": {
      "text/plain": [
       "1472"
      ]
     },
     "execution_count": 65,
     "metadata": {},
     "output_type": "execute_result"
    }
   ],
   "source": [
    "df['original_text'].isnull().sum()\n"
   ]
  },
  {
   "cell_type": "code",
   "execution_count": 66,
   "metadata": {},
   "outputs": [
    {
     "data": {
      "text/plain": [
       "0"
      ]
     },
     "execution_count": 66,
     "metadata": {},
     "output_type": "execute_result"
    }
   ],
   "source": [
    "df['polarity'].isnull().sum()"
   ]
  },
  {
   "cell_type": "code",
   "execution_count": 67,
   "metadata": {},
   "outputs": [
    {
     "data": {
      "text/html": [
       "<div>\n",
       "<style scoped>\n",
       "    .dataframe tbody tr th:only-of-type {\n",
       "        vertical-align: middle;\n",
       "    }\n",
       "\n",
       "    .dataframe tbody tr th {\n",
       "        vertical-align: top;\n",
       "    }\n",
       "\n",
       "    .dataframe thead th {\n",
       "        text-align: right;\n",
       "    }\n",
       "</style>\n",
       "<table border=\"1\" class=\"dataframe\">\n",
       "  <thead>\n",
       "    <tr style=\"text-align: right;\">\n",
       "      <th></th>\n",
       "      <th>created_at</th>\n",
       "      <th>source</th>\n",
       "      <th>original_text</th>\n",
       "      <th>polarity</th>\n",
       "      <th>subjectivity</th>\n",
       "      <th>lang</th>\n",
       "      <th>favorite_count</th>\n",
       "      <th>retweet_count</th>\n",
       "      <th>original_author</th>\n",
       "      <th>followers_count</th>\n",
       "      <th>friends_count</th>\n",
       "      <th>possibly_sensitive</th>\n",
       "      <th>hashtags</th>\n",
       "      <th>user_mentions</th>\n",
       "      <th>place</th>\n",
       "    </tr>\n",
       "  </thead>\n",
       "  <tbody>\n",
       "    <tr>\n",
       "      <th>0</th>\n",
       "      <td>Fri Jun 18 17:55:49 +0000 2021</td>\n",
       "      <td>&lt;a href=\"http://twitter.com/download/iphone\" r...</td>\n",
       "      <td>🚨Africa is \"in the midst of a full-blown third...</td>\n",
       "      <td>0.166667</td>\n",
       "      <td>0.188889</td>\n",
       "      <td>en</td>\n",
       "      <td>548</td>\n",
       "      <td>612.0</td>\n",
       "      <td>ketuesriche</td>\n",
       "      <td>551</td>\n",
       "      <td>351</td>\n",
       "      <td>NaN</td>\n",
       "      <td>[]</td>\n",
       "      <td>[{'screen_name': 'TelGlobalHealth', 'name': 'T...</td>\n",
       "      <td>Mass</td>\n",
       "    </tr>\n",
       "    <tr>\n",
       "      <th>1</th>\n",
       "      <td>Fri Jun 18 17:55:59 +0000 2021</td>\n",
       "      <td>&lt;a href=\"https://mobile.twitter.com\" rel=\"nofo...</td>\n",
       "      <td>Dr Moeti is head of WHO in Africa, and one of ...</td>\n",
       "      <td>0.133333</td>\n",
       "      <td>0.455556</td>\n",
       "      <td>en</td>\n",
       "      <td>195</td>\n",
       "      <td>92.0</td>\n",
       "      <td>Grid1949</td>\n",
       "      <td>66</td>\n",
       "      <td>92</td>\n",
       "      <td>NaN</td>\n",
       "      <td>[]</td>\n",
       "      <td>[{'screen_name': 'globalhlthtwit', 'name': 'An...</td>\n",
       "      <td>Edinburgh, Scotland</td>\n",
       "    </tr>\n",
       "    <tr>\n",
       "      <th>2</th>\n",
       "      <td>Fri Jun 18 17:56:07 +0000 2021</td>\n",
       "      <td>&lt;a href=\"http://twitter.com/download/iphone\" r...</td>\n",
       "      <td>Thank you @research2note for creating this ama...</td>\n",
       "      <td>0.316667</td>\n",
       "      <td>0.483333</td>\n",
       "      <td>en</td>\n",
       "      <td>2</td>\n",
       "      <td>1.0</td>\n",
       "      <td>LeeTomlinson8</td>\n",
       "      <td>1195</td>\n",
       "      <td>1176</td>\n",
       "      <td>NaN</td>\n",
       "      <td>[{'text': 'red4research', 'indices': [103, 116]}]</td>\n",
       "      <td>[{'screen_name': 'NHSRDForum', 'name': 'NHS R&amp;...</td>\n",
       "      <td>NaN</td>\n",
       "    </tr>\n",
       "    <tr>\n",
       "      <th>3</th>\n",
       "      <td>Fri Jun 18 17:56:10 +0000 2021</td>\n",
       "      <td>&lt;a href=\"https://mobile.twitter.com\" rel=\"nofo...</td>\n",
       "      <td>Former Pfizer VP and Virologist, Dr. Michael Y...</td>\n",
       "      <td>0.086111</td>\n",
       "      <td>0.197222</td>\n",
       "      <td>en</td>\n",
       "      <td>1580</td>\n",
       "      <td>899.0</td>\n",
       "      <td>RIPNY08</td>\n",
       "      <td>2666</td>\n",
       "      <td>2704</td>\n",
       "      <td>NaN</td>\n",
       "      <td>[]</td>\n",
       "      <td>[{'screen_name': 'HighWireTalk', 'name': 'The ...</td>\n",
       "      <td>NaN</td>\n",
       "    </tr>\n",
       "    <tr>\n",
       "      <th>4</th>\n",
       "      <td>Fri Jun 18 17:56:20 +0000 2021</td>\n",
       "      <td>&lt;a href=\"http://twitter.com/download/android\" ...</td>\n",
       "      <td>I think it’s important that we don’t sell COVA...</td>\n",
       "      <td>0.280000</td>\n",
       "      <td>0.620000</td>\n",
       "      <td>en</td>\n",
       "      <td>72</td>\n",
       "      <td>20.0</td>\n",
       "      <td>pash22</td>\n",
       "      <td>28250</td>\n",
       "      <td>30819</td>\n",
       "      <td>NaN</td>\n",
       "      <td>[]</td>\n",
       "      <td>[{'screen_name': 'PeterHotez', 'name': 'Prof P...</td>\n",
       "      <td>United Kingdom</td>\n",
       "    </tr>\n",
       "    <tr>\n",
       "      <th>...</th>\n",
       "      <td>...</td>\n",
       "      <td>...</td>\n",
       "      <td>...</td>\n",
       "      <td>...</td>\n",
       "      <td>...</td>\n",
       "      <td>...</td>\n",
       "      <td>...</td>\n",
       "      <td>...</td>\n",
       "      <td>...</td>\n",
       "      <td>...</td>\n",
       "      <td>...</td>\n",
       "      <td>...</td>\n",
       "      <td>...</td>\n",
       "      <td>...</td>\n",
       "      <td>...</td>\n",
       "    </tr>\n",
       "    <tr>\n",
       "      <th>3715</th>\n",
       "      <td>Sat Jun 19 00:53:47 +0000 2021</td>\n",
       "      <td>&lt;a href=\"http://twitter.com/download/iphone\" r...</td>\n",
       "      <td>204,344 #COVID19 vaccines have been administer...</td>\n",
       "      <td>0.100000</td>\n",
       "      <td>0.400000</td>\n",
       "      <td>en</td>\n",
       "      <td>380</td>\n",
       "      <td>39.0</td>\n",
       "      <td>farshait</td>\n",
       "      <td>1489</td>\n",
       "      <td>4806</td>\n",
       "      <td>NaN</td>\n",
       "      <td>[{'text': 'COVID19', 'indices': [25, 33]}]</td>\n",
       "      <td>[{'screen_name': 'BogochIsaac', 'name': 'Isaac...</td>\n",
       "      <td>Toronto, Ontario</td>\n",
       "    </tr>\n",
       "    <tr>\n",
       "      <th>3716</th>\n",
       "      <td>Sat Jun 19 00:53:56 +0000 2021</td>\n",
       "      <td>&lt;a href=\"http://twitter.com/download/android\" ...</td>\n",
       "      <td>🚨Africa is \"in the midst of a full-blown third...</td>\n",
       "      <td>-0.386111</td>\n",
       "      <td>0.622222</td>\n",
       "      <td>en</td>\n",
       "      <td>614</td>\n",
       "      <td>685.0</td>\n",
       "      <td>anandan22</td>\n",
       "      <td>2072</td>\n",
       "      <td>688</td>\n",
       "      <td>NaN</td>\n",
       "      <td>[]</td>\n",
       "      <td>[{'screen_name': 'TelGlobalHealth', 'name': 'T...</td>\n",
       "      <td>ADI  🛫 GGN  🛫 Noida 🛫 SBC</td>\n",
       "    </tr>\n",
       "    <tr>\n",
       "      <th>3717</th>\n",
       "      <td>Sat Jun 19 00:54:00 +0000 2021</td>\n",
       "      <td>&lt;a href=\"http://twitter.com/download/iphone\" r...</td>\n",
       "      <td>I’m pleased to welcome the #WeCanDoThis bus to...</td>\n",
       "      <td>-0.050000</td>\n",
       "      <td>0.400000</td>\n",
       "      <td>en</td>\n",
       "      <td>946</td>\n",
       "      <td>306.0</td>\n",
       "      <td>nanteos620</td>\n",
       "      <td>168</td>\n",
       "      <td>667</td>\n",
       "      <td>NaN</td>\n",
       "      <td>[{'text': 'WeCanDoThis', 'indices': [44, 56]},...</td>\n",
       "      <td>[{'screen_name': 'CDCDirector', 'name': 'Roche...</td>\n",
       "      <td>Auburn, AL</td>\n",
       "    </tr>\n",
       "    <tr>\n",
       "      <th>3718</th>\n",
       "      <td>Sat Jun 19 00:54:03 +0000 2021</td>\n",
       "      <td>&lt;a href=\"http://twitter.com/download/android\" ...</td>\n",
       "      <td>In this interview, I discuss the possible lab ...</td>\n",
       "      <td>0.086111</td>\n",
       "      <td>0.197222</td>\n",
       "      <td>en</td>\n",
       "      <td>14</td>\n",
       "      <td>9.0</td>\n",
       "      <td>NVoluntaryist</td>\n",
       "      <td>1350</td>\n",
       "      <td>541</td>\n",
       "      <td>NaN</td>\n",
       "      <td>[]</td>\n",
       "      <td>[{'screen_name': 'jeremyrhammond', 'name': 'Je...</td>\n",
       "      <td>In the snowy mountains</td>\n",
       "    </tr>\n",
       "    <tr>\n",
       "      <th>3719</th>\n",
       "      <td>Sat Jun 19 00:54:19 +0000 2021</td>\n",
       "      <td>&lt;a href=\"http://twitter.com/download/iphone\" r...</td>\n",
       "      <td>I don't think we should rush emergency approve...</td>\n",
       "      <td>0.125000</td>\n",
       "      <td>0.325000</td>\n",
       "      <td>en</td>\n",
       "      <td>6</td>\n",
       "      <td>1.0</td>\n",
       "      <td>chrisjsmith14</td>\n",
       "      <td>41</td>\n",
       "      <td>72</td>\n",
       "      <td>NaN</td>\n",
       "      <td>[]</td>\n",
       "      <td>[{'screen_name': 'm_etxe_ar', 'name': 'M To', ...</td>\n",
       "      <td>NaN</td>\n",
       "    </tr>\n",
       "  </tbody>\n",
       "</table>\n",
       "<p>3720 rows × 15 columns</p>\n",
       "</div>"
      ],
      "text/plain": [
       "                          created_at  \\\n",
       "0     Fri Jun 18 17:55:49 +0000 2021   \n",
       "1     Fri Jun 18 17:55:59 +0000 2021   \n",
       "2     Fri Jun 18 17:56:07 +0000 2021   \n",
       "3     Fri Jun 18 17:56:10 +0000 2021   \n",
       "4     Fri Jun 18 17:56:20 +0000 2021   \n",
       "...                              ...   \n",
       "3715  Sat Jun 19 00:53:47 +0000 2021   \n",
       "3716  Sat Jun 19 00:53:56 +0000 2021   \n",
       "3717  Sat Jun 19 00:54:00 +0000 2021   \n",
       "3718  Sat Jun 19 00:54:03 +0000 2021   \n",
       "3719  Sat Jun 19 00:54:19 +0000 2021   \n",
       "\n",
       "                                                 source  \\\n",
       "0     <a href=\"http://twitter.com/download/iphone\" r...   \n",
       "1     <a href=\"https://mobile.twitter.com\" rel=\"nofo...   \n",
       "2     <a href=\"http://twitter.com/download/iphone\" r...   \n",
       "3     <a href=\"https://mobile.twitter.com\" rel=\"nofo...   \n",
       "4     <a href=\"http://twitter.com/download/android\" ...   \n",
       "...                                                 ...   \n",
       "3715  <a href=\"http://twitter.com/download/iphone\" r...   \n",
       "3716  <a href=\"http://twitter.com/download/android\" ...   \n",
       "3717  <a href=\"http://twitter.com/download/iphone\" r...   \n",
       "3718  <a href=\"http://twitter.com/download/android\" ...   \n",
       "3719  <a href=\"http://twitter.com/download/iphone\" r...   \n",
       "\n",
       "                                          original_text  polarity  \\\n",
       "0     🚨Africa is \"in the midst of a full-blown third...  0.166667   \n",
       "1     Dr Moeti is head of WHO in Africa, and one of ...  0.133333   \n",
       "2     Thank you @research2note for creating this ama...  0.316667   \n",
       "3     Former Pfizer VP and Virologist, Dr. Michael Y...  0.086111   \n",
       "4     I think it’s important that we don’t sell COVA...  0.280000   \n",
       "...                                                 ...       ...   \n",
       "3715  204,344 #COVID19 vaccines have been administer...  0.100000   \n",
       "3716  🚨Africa is \"in the midst of a full-blown third... -0.386111   \n",
       "3717  I’m pleased to welcome the #WeCanDoThis bus to... -0.050000   \n",
       "3718  In this interview, I discuss the possible lab ...  0.086111   \n",
       "3719  I don't think we should rush emergency approve...  0.125000   \n",
       "\n",
       "      subjectivity lang  favorite_count  retweet_count original_author  \\\n",
       "0         0.188889   en             548          612.0     ketuesriche   \n",
       "1         0.455556   en             195           92.0        Grid1949   \n",
       "2         0.483333   en               2            1.0   LeeTomlinson8   \n",
       "3         0.197222   en            1580          899.0         RIPNY08   \n",
       "4         0.620000   en              72           20.0          pash22   \n",
       "...            ...  ...             ...            ...             ...   \n",
       "3715      0.400000   en             380           39.0        farshait   \n",
       "3716      0.622222   en             614          685.0       anandan22   \n",
       "3717      0.400000   en             946          306.0      nanteos620   \n",
       "3718      0.197222   en              14            9.0   NVoluntaryist   \n",
       "3719      0.325000   en               6            1.0   chrisjsmith14   \n",
       "\n",
       "      followers_count  friends_count  possibly_sensitive  \\\n",
       "0                 551            351                 NaN   \n",
       "1                  66             92                 NaN   \n",
       "2                1195           1176                 NaN   \n",
       "3                2666           2704                 NaN   \n",
       "4               28250          30819                 NaN   \n",
       "...               ...            ...                 ...   \n",
       "3715             1489           4806                 NaN   \n",
       "3716             2072            688                 NaN   \n",
       "3717              168            667                 NaN   \n",
       "3718             1350            541                 NaN   \n",
       "3719               41             72                 NaN   \n",
       "\n",
       "                                               hashtags  \\\n",
       "0                                                    []   \n",
       "1                                                    []   \n",
       "2     [{'text': 'red4research', 'indices': [103, 116]}]   \n",
       "3                                                    []   \n",
       "4                                                    []   \n",
       "...                                                 ...   \n",
       "3715         [{'text': 'COVID19', 'indices': [25, 33]}]   \n",
       "3716                                                 []   \n",
       "3717  [{'text': 'WeCanDoThis', 'indices': [44, 56]},...   \n",
       "3718                                                 []   \n",
       "3719                                                 []   \n",
       "\n",
       "                                          user_mentions  \\\n",
       "0     [{'screen_name': 'TelGlobalHealth', 'name': 'T...   \n",
       "1     [{'screen_name': 'globalhlthtwit', 'name': 'An...   \n",
       "2     [{'screen_name': 'NHSRDForum', 'name': 'NHS R&...   \n",
       "3     [{'screen_name': 'HighWireTalk', 'name': 'The ...   \n",
       "4     [{'screen_name': 'PeterHotez', 'name': 'Prof P...   \n",
       "...                                                 ...   \n",
       "3715  [{'screen_name': 'BogochIsaac', 'name': 'Isaac...   \n",
       "3716  [{'screen_name': 'TelGlobalHealth', 'name': 'T...   \n",
       "3717  [{'screen_name': 'CDCDirector', 'name': 'Roche...   \n",
       "3718  [{'screen_name': 'jeremyrhammond', 'name': 'Je...   \n",
       "3719  [{'screen_name': 'm_etxe_ar', 'name': 'M To', ...   \n",
       "\n",
       "                          place  \n",
       "0                          Mass  \n",
       "1           Edinburgh, Scotland  \n",
       "2                           NaN  \n",
       "3                           NaN  \n",
       "4                United Kingdom  \n",
       "...                         ...  \n",
       "3715           Toronto, Ontario  \n",
       "3716  ADI  🛫 GGN  🛫 Noida 🛫 SBC  \n",
       "3717                 Auburn, AL  \n",
       "3718     In the snowy mountains  \n",
       "3719                        NaN  \n",
       "\n",
       "[3720 rows x 15 columns]"
      ]
     },
     "execution_count": 67,
     "metadata": {},
     "output_type": "execute_result"
    }
   ],
   "source": [
    "df"
   ]
  },
  {
   "cell_type": "code",
   "execution_count": 69,
   "metadata": {},
   "outputs": [
    {
     "data": {
      "text/plain": [
       "en    3720\n",
       "Name: lang, dtype: int64"
      ]
     },
     "execution_count": 69,
     "metadata": {},
     "output_type": "execute_result"
    }
   ],
   "source": [
    "df['lang'].value_counts()"
   ]
  },
  {
   "cell_type": "code",
   "execution_count": 70,
   "metadata": {},
   "outputs": [],
   "source": [
    "df = df.drop(df[df['lang'] != 'en'].index)"
   ]
  },
  {
   "cell_type": "code",
   "execution_count": 83,
   "metadata": {},
   "outputs": [],
   "source": [
    "cleanedTweet = pd.DataFrame(columns=['clean_text','polarity'])\n",
    "\n",
    "cleanedTweet['clean_text'] = df['original_text']\n",
    "cleanedTweet['polarity'] = df['polarity']\n",
    "cleanedTweet.dropna(inplace=True)\n",
    "\n"
   ]
  },
  {
   "cell_type": "code",
   "execution_count": 84,
   "metadata": {},
   "outputs": [
    {
     "data": {
      "text/plain": [
       "clean_text    0\n",
       "polarity      0\n",
       "dtype: int64"
      ]
     },
     "execution_count": 84,
     "metadata": {},
     "output_type": "execute_result"
    }
   ],
   "source": [
    "cleanedTweet.isnull().sum()"
   ]
  },
  {
   "cell_type": "code",
   "execution_count": 72,
   "metadata": {},
   "outputs": [
    {
     "name": "stdout",
     "output_type": "stream",
     "text": [
      "<class 'pandas.core.frame.DataFrame'>\n",
      "Int64Index: 3720 entries, 0 to 3719\n",
      "Data columns (total 2 columns):\n",
      " #   Column      Non-Null Count  Dtype  \n",
      "---  ------      --------------  -----  \n",
      " 0   clean_text  2248 non-null   object \n",
      " 1   polarity    3720 non-null   float64\n",
      "dtypes: float64(1), object(1)\n",
      "memory usage: 87.2+ KB\n"
     ]
    }
   ],
   "source": []
  },
  {
   "cell_type": "code",
   "execution_count": 87,
   "metadata": {},
   "outputs": [],
   "source": [
    "def text_category(p):\n",
    "    if p > 0:\n",
    "        return \"positive\"\n",
    "    elif p == 0:\n",
    "        return \"negative\"\n",
    "    else:\n",
    "        return \"neutral\""
   ]
  },
  {
   "cell_type": "code",
   "execution_count": 89,
   "metadata": {},
   "outputs": [],
   "source": [
    "cleanedTweet['score'] = cleanedTweet['polarity'].apply(text_category)"
   ]
  },
  {
   "cell_type": "code",
   "execution_count": 90,
   "metadata": {},
   "outputs": [
    {
     "data": {
      "text/html": [
       "<div>\n",
       "<style scoped>\n",
       "    .dataframe tbody tr th:only-of-type {\n",
       "        vertical-align: middle;\n",
       "    }\n",
       "\n",
       "    .dataframe tbody tr th {\n",
       "        vertical-align: top;\n",
       "    }\n",
       "\n",
       "    .dataframe thead th {\n",
       "        text-align: right;\n",
       "    }\n",
       "</style>\n",
       "<table border=\"1\" class=\"dataframe\">\n",
       "  <thead>\n",
       "    <tr style=\"text-align: right;\">\n",
       "      <th></th>\n",
       "      <th>clean_text</th>\n",
       "      <th>polarity</th>\n",
       "      <th>score</th>\n",
       "    </tr>\n",
       "  </thead>\n",
       "  <tbody>\n",
       "    <tr>\n",
       "      <th>0</th>\n",
       "      <td>🚨Africa is \"in the midst of a full-blown third...</td>\n",
       "      <td>0.166667</td>\n",
       "      <td>positive</td>\n",
       "    </tr>\n",
       "    <tr>\n",
       "      <th>1</th>\n",
       "      <td>Dr Moeti is head of WHO in Africa, and one of ...</td>\n",
       "      <td>0.133333</td>\n",
       "      <td>positive</td>\n",
       "    </tr>\n",
       "    <tr>\n",
       "      <th>2</th>\n",
       "      <td>Thank you @research2note for creating this ama...</td>\n",
       "      <td>0.316667</td>\n",
       "      <td>positive</td>\n",
       "    </tr>\n",
       "    <tr>\n",
       "      <th>3</th>\n",
       "      <td>Former Pfizer VP and Virologist, Dr. Michael Y...</td>\n",
       "      <td>0.086111</td>\n",
       "      <td>positive</td>\n",
       "    </tr>\n",
       "    <tr>\n",
       "      <th>4</th>\n",
       "      <td>I think it’s important that we don’t sell COVA...</td>\n",
       "      <td>0.280000</td>\n",
       "      <td>positive</td>\n",
       "    </tr>\n",
       "    <tr>\n",
       "      <th>...</th>\n",
       "      <td>...</td>\n",
       "      <td>...</td>\n",
       "      <td>...</td>\n",
       "    </tr>\n",
       "    <tr>\n",
       "      <th>3715</th>\n",
       "      <td>204,344 #COVID19 vaccines have been administer...</td>\n",
       "      <td>0.100000</td>\n",
       "      <td>positive</td>\n",
       "    </tr>\n",
       "    <tr>\n",
       "      <th>3716</th>\n",
       "      <td>🚨Africa is \"in the midst of a full-blown third...</td>\n",
       "      <td>-0.386111</td>\n",
       "      <td>neutral</td>\n",
       "    </tr>\n",
       "    <tr>\n",
       "      <th>3717</th>\n",
       "      <td>I’m pleased to welcome the #WeCanDoThis bus to...</td>\n",
       "      <td>-0.050000</td>\n",
       "      <td>neutral</td>\n",
       "    </tr>\n",
       "    <tr>\n",
       "      <th>3718</th>\n",
       "      <td>In this interview, I discuss the possible lab ...</td>\n",
       "      <td>0.086111</td>\n",
       "      <td>positive</td>\n",
       "    </tr>\n",
       "    <tr>\n",
       "      <th>3719</th>\n",
       "      <td>I don't think we should rush emergency approve...</td>\n",
       "      <td>0.125000</td>\n",
       "      <td>positive</td>\n",
       "    </tr>\n",
       "  </tbody>\n",
       "</table>\n",
       "<p>2248 rows × 3 columns</p>\n",
       "</div>"
      ],
      "text/plain": [
       "                                             clean_text  polarity     score\n",
       "0     🚨Africa is \"in the midst of a full-blown third...  0.166667  positive\n",
       "1     Dr Moeti is head of WHO in Africa, and one of ...  0.133333  positive\n",
       "2     Thank you @research2note for creating this ama...  0.316667  positive\n",
       "3     Former Pfizer VP and Virologist, Dr. Michael Y...  0.086111  positive\n",
       "4     I think it’s important that we don’t sell COVA...  0.280000  positive\n",
       "...                                                 ...       ...       ...\n",
       "3715  204,344 #COVID19 vaccines have been administer...  0.100000  positive\n",
       "3716  🚨Africa is \"in the midst of a full-blown third... -0.386111   neutral\n",
       "3717  I’m pleased to welcome the #WeCanDoThis bus to... -0.050000   neutral\n",
       "3718  In this interview, I discuss the possible lab ...  0.086111  positive\n",
       "3719  I don't think we should rush emergency approve...  0.125000  positive\n",
       "\n",
       "[2248 rows x 3 columns]"
      ]
     },
     "execution_count": 90,
     "metadata": {},
     "output_type": "execute_result"
    }
   ],
   "source": [
    "cleanedTweet"
   ]
  },
  {
   "cell_type": "code",
   "execution_count": 111,
   "metadata": {},
   "outputs": [
    {
     "data": {
      "text/plain": [
       "<matplotlib.axes._subplots.AxesSubplot at 0x1186cf950>"
      ]
     },
     "execution_count": 111,
     "metadata": {},
     "output_type": "execute_result"
    },
    {
     "data": {
      "image/png": "[encoded data removed]",
      "text/plain": [
       "<Figure size 576x576 with 1 Axes>"
      ]
     },
     "metadata": {
      "needs_background": "light"
     },
     "output_type": "display_data"
    }
   ],
   "source": [
    "score_group =  cleanedTweet.groupby(['score']).size()\n",
    "score_group.plot(kind=\"pie\", y=\"score\", title=\"score\", x=\"\", figsize=[8, 8])\n",
    "\n"
   ]
  },
  {
   "cell_type": "code",
   "execution_count": 113,
   "metadata": {},
   "outputs": [
    {
     "data": {
      "text/plain": [
       "<matplotlib.axes._subplots.AxesSubplot at 0x1186c4450>"
      ]
     },
     "execution_count": 113,
     "metadata": {},
     "output_type": "execute_result"
    },
    {
     "data": {
      "image/png": "[encoded data removed]",
      "text/plain": [
       "<Figure size 576x576 with 1 Axes>"
      ]
     },
     "metadata": {
      "needs_background": "light"
     },
     "output_type": "display_data"
    }
   ],
   "source": [
    "score_group.plot(kind=\"bar\", y=\"score\", title=\"score\",, figsize=[8, 8])\n"
   ]
  },
  {
   "cell_type": "code",
   "execution_count": 107,
   "metadata": {},
   "outputs": [
    {
     "data": {
      "text/plain": [
       "score\n",
       "negative     201\n",
       "neutral      360\n",
       "positive    1687\n",
       "dtype: int64"
      ]
     },
     "execution_count": 107,
     "metadata": {},
     "output_type": "execute_result"
    }
   ],
   "source": [
    "score_group"
   ]
  },
  {
   "cell_type": "code",
   "execution_count": 105,
   "metadata": {},
   "outputs": [],
   "source": [
    "score_group.plot?"
   ]
  },
  {
   "cell_type": "code",
   "execution_count": null,
   "metadata": {},
   "outputs": [],
   "source": []
  }
 ],
 "metadata": {
  "colab": {
   "collapsed_sections": [],
   "name": "Challenge_ Day2.ipynb",
   "provenance": []
  },
  "kernelspec": {
   "display_name": "Python 3",
   "language": "python",
   "name": "python3"
  },
  "language_info": {
   "codemirror_mode": {
    "name": "ipython",
    "version": 3
   },
   "file_extension": ".py",
   "mimetype": "text/x-python",
   "name": "python",
   "nbconvert_exporter": "python",
   "pygments_lexer": "ipython3",
   "version": "3.7.6"
  }
 },
 "nbformat": 4,
 "nbformat_minor": 1
}
