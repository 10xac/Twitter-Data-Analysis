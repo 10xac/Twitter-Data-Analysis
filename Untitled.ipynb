{
 "cells": [
  {
   "cell_type": "code",
   "execution_count": 24,
   "id": "b2f56ab3-722d-4f05-89d7-d73059bfc534",
   "metadata": {},
   "outputs": [],
   "source": [
    "import pandas as pd \n",
    "import numpy as np"
   ]
  },
  {
   "cell_type": "code",
   "execution_count": 17,
   "id": "e5b38bb6-3078-4300-b467-30e30934f09b",
   "metadata": {},
   "outputs": [],
   "source": [
    "df =pd.read_csv(\"/Users/alex/Desktop/10_acadamy/Twitter-Data-Analysis/data/covid19.csv\")"
   ]
  },
  {
   "cell_type": "code",
   "execution_count": 26,
   "id": "eebe10de-28c2-4d0e-92c8-67f41880d8de",
   "metadata": {},
   "outputs": [],
   "source": [
    "class CleanTweets:\n",
    "    def __init__(self, df:pd.DataFrame):\n",
    "        self.df = df\n",
    "        print('Automation in Action...!!!')\n"
   ]
  },
  {
   "cell_type": "code",
   "execution_count": 27,
   "id": "103545b8-1103-4823-b40f-f4fe841eaff7",
   "metadata": {},
   "outputs": [
    {
     "name": "stdout",
     "output_type": "stream",
     "text": [
      "<class 'str'>\n"
     ]
    }
   ],
   "source": [
    "print(type(\"clas\"))"
   ]
  },
  {
   "cell_type": "code",
   "execution_count": 28,
   "id": "28eebd2b-533a-4119-b336-bed8921185c9",
   "metadata": {},
   "outputs": [
    {
     "ename": "SyntaxError",
     "evalue": "unexpected EOF while parsing (3625675533.py, line 4)",
     "output_type": "error",
     "traceback": [
      "\u001b[0;36m  File \u001b[0;32m\"/var/folders/gd/ktcrdzpd1n93l_q5wz4ct1xm0000gn/T/ipykernel_42080/3625675533.py\"\u001b[0;36m, line \u001b[0;32m4\u001b[0m\n\u001b[0;31m    \u001b[0m\n\u001b[0m    ^\u001b[0m\n\u001b[0;31mSyntaxError\u001b[0m\u001b[0;31m:\u001b[0m unexpected EOF while parsing\n"
     ]
    }
   ],
   "source": [
    "class Atmospheric_Pressure:\n",
    "    def  altitude(h):\n",
    "        return \n",
    "        \n",
    "        "
   ]
  },
  {
   "cell_type": "code",
   "execution_count": 31,
   "id": "d165ed6a-44db-46ce-9eab-cafccf3799e3",
   "metadata": {},
   "outputs": [
    {
     "ename": "SyntaxError",
     "evalue": "unexpected EOF while parsing (157032853.py, line 3)",
     "output_type": "error",
     "traceback": [
      "\u001b[0;36m  File \u001b[0;32m\"/var/folders/gd/ktcrdzpd1n93l_q5wz4ct1xm0000gn/T/ipykernel_42080/157032853.py\"\u001b[0;36m, line \u001b[0;32m3\u001b[0m\n\u001b[0;31m    def  barometric(h , T):\u001b[0m\n\u001b[0m                           ^\u001b[0m\n\u001b[0;31mSyntaxError\u001b[0m\u001b[0;31m:\u001b[0m unexpected EOF while parsing\n"
     ]
    }
   ],
   "source": [
    "from math import exp\n",
    "\n",
    "def  barometric(h , T):\n"
   ]
  },
  {
   "cell_type": "code",
   "execution_count": 43,
   "id": "60780673-ce75-4501-bf66-76202e7a40ee",
   "metadata": {},
   "outputs": [],
   "source": [
    "def positive_number(number):\n",
    "    if number > 0:\n",
    "        print (\"True\")\n",
    "    return None\n",
    "positive_number(0)"
   ]
  },
  {
   "cell_type": "code",
   "execution_count": 42,
   "id": "3b434ff5-c780-4542-9512-02e2a3eb4c0c",
   "metadata": {},
   "outputs": [
    {
     "name": "stdout",
     "output_type": "stream",
     "text": [
      "True\n"
     ]
    }
   ],
   "source": [
    "def is_positive(number):\n",
    "  if number > 0:\n",
    "    print (\"True\")\n",
    "    return None\n",
    "is_positive(5)"
   ]
  },
  {
   "cell_type": "code",
   "execution_count": 44,
   "id": "a6bff42e-0bc3-4a84-8c74-4b9802e2c0cc",
   "metadata": {},
   "outputs": [],
   "source": [
    "def hint_user_name(hint):\n",
    "    if len(hint) >3:\n",
    "        print (\"user not found\")"
   ]
  },
  {
   "cell_type": "code",
   "execution_count": 47,
   "id": "e0c4f7b8-027a-4015-b046-9a0e1eca8a6b",
   "metadata": {},
   "outputs": [
    {
     "data": {
      "text/plain": [
       "False"
      ]
     },
     "execution_count": 47,
     "metadata": {},
     "output_type": "execute_result"
    }
   ],
   "source": [
    "def even_number(number):\n",
    "    if number % 2 == 0:\n",
    "        return True \n",
    "    return False\n"
   ]
  },
  {
   "cell_type": "code",
   "execution_count": 49,
   "id": "054da94c-eacb-488b-b153-09ac89f87a8b",
   "metadata": {},
   "outputs": [
    {
     "data": {
      "text/plain": [
       "False"
      ]
     },
     "execution_count": 49,
     "metadata": {},
     "output_type": "execute_result"
    }
   ],
   "source": [
    "\"big\" > \"small\""
   ]
  },
  {
   "cell_type": "code",
   "execution_count": 50,
   "id": "a296d989-5ccd-42ad-83c9-2377e23581ff",
   "metadata": {},
   "outputs": [
    {
     "data": {
      "text/plain": [
       "1"
      ]
     },
     "execution_count": 50,
     "metadata": {},
     "output_type": "execute_result"
    }
   ],
   "source": [
    "11%5"
   ]
  },
  {
   "cell_type": "code",
   "execution_count": 51,
   "id": "d93af86b-b159-4964-bcc7-fb15f74ad718",
   "metadata": {},
   "outputs": [
    {
     "name": "stdout",
     "output_type": "stream",
     "text": [
      "10\n"
     ]
    }
   ],
   "source": [
    "def sum(x, y):\n",
    "\t\treturn(x+y)\n",
    "print(sum(sum(1,2), sum(3,4)))"
   ]
  },
  {
   "cell_type": "code",
   "execution_count": 52,
   "id": "5fee544f-f5a9-4547-bc55-64afc72c433d",
   "metadata": {},
   "outputs": [],
   "source": [
    "def exam_grade(score):\n",
    "\tif score >= 95:\n",
    "\t\tprint(\"Top Score\")"
   ]
  },
  {
   "cell_type": "code",
   "execution_count": 53,
   "id": "c45d6516-3a13-4c1a-a641-e49b1ad3d791",
   "metadata": {},
   "outputs": [
    {
     "name": "stdout",
     "output_type": "stream",
     "text": [
      "Top Score\n"
     ]
    }
   ],
   "source": [
    "exam_grade(95)"
   ]
  },
  {
   "cell_type": "code",
   "execution_count": 54,
   "id": "77c53307-f802-4254-b0c4-ccae8c6cc59c",
   "metadata": {},
   "outputs": [
    {
     "name": "stdout",
     "output_type": "stream",
     "text": [
      "Pass\n",
      "<function exam_grade at 0x123455cb0>\n",
      "Fail\n",
      "<function exam_grade at 0x123455cb0>\n",
      "Fail\n",
      "<function exam_grade at 0x123455cb0>\n",
      "Pass\n",
      "<function exam_grade at 0x123455cb0>\n",
      "Top Score\n",
      "<function exam_grade at 0x123455cb0>\n",
      "Fail\n",
      "<function exam_grade at 0x123455cb0>\n"
     ]
    }
   ],
   "source": [
    "def exam_grade(score):\n",
    "\tif score > 95:\n",
    "\t\tprint(\"Top Score\")\n",
    "\telif score >= 65:\n",
    "\t\tprint(\"Pass\")\n",
    "\telse:\n",
    "\t\tscore < 65\n",
    "\t\tprint(\"Fail\")\n",
    "\treturn exam_grade\n",
    "print(exam_grade(65)) # Should be Pass\n",
    "print(exam_grade(55)) # Should be Fail\n",
    "print(exam_grade(60)) # Should be Pass\n",
    "print(exam_grade(95)) # Should be Pass\n",
    "print(exam_grade(100)) # Should be Top Score\n",
    "print(exam_grade(0)) # Should be Fail"
   ]
  },
  {
   "cell_type": "code",
   "execution_count": 70,
   "id": "423ae679-3abf-460f-af65-5540cb2dfd0a",
   "metadata": {},
   "outputs": [],
   "source": [
    "def exam_graad(scor):\n",
    "    if scor > 95:\n",
    "        print (\"Top score\")\n",
    "    elif scor > 65:\n",
    "        print (\"Pass\")\n",
    "    else:\n",
    "        print (\"fall\")\n",
    "    return None\n"
   ]
  },
  {
   "cell_type": "code",
   "execution_count": null,
   "id": "dc04368b-35d2-4d29-ab92-dcd91c53fd12",
   "metadata": {},
   "outputs": [],
   "source": []
  },
  {
   "cell_type": "code",
   "execution_count": null,
   "id": "fa1e95f9-0dfa-4330-a1e3-22f0bf43c01b",
   "metadata": {},
   "outputs": [],
   "source": [
    "print(format_name(\"Ella\", \"Fitzgerald\"))\n",
    "Name: Fitzgerald, Ella"
   ]
  },
  {
   "cell_type": "code",
   "execution_count": 76,
   "id": "88cb7cab-54b5-4708-b404-73f523bb024f",
   "metadata": {},
   "outputs": [
    {
     "ename": "TabError",
     "evalue": "inconsistent use of tabs and spaces in indentation (971280217.py, line 3)",
     "output_type": "error",
     "traceback": [
      "\u001b[0;36m  File \u001b[0;32m\"/var/folders/gd/ktcrdzpd1n93l_q5wz4ct1xm0000gn/T/ipykernel_42080/971280217.py\"\u001b[0;36m, line \u001b[0;32m3\u001b[0m\n\u001b[0;31m    print(format_name(\"Ella\", \"Fitzgerald\"))\u001b[0m\n\u001b[0m                                            ^\u001b[0m\n\u001b[0;31mTabError\u001b[0m\u001b[0;31m:\u001b[0m inconsistent use of tabs and spaces in indentation\n"
     ]
    }
   ],
   "source": [
    "def format_name(first_name, last_name):\n",
    "\tif format_name == \"Ella\" and \"Fitzgerald\":\n",
    "        \n",
    "\t\n",
    "\treturn string \n",
    "\n",
    "print(format_name(\"Ernest\", \"Hemingway\"))\n",
    "# Should return the string \"Name: Hemingway, Ernest\"\n",
    "\n",
    "print(format_name(\"\", \"Madonna\"))\n",
    "# Should return the string \"Name: Madonna\"\n",
    "\n",
    "print(format_name(\"Voltaire\", \"\"))\n",
    "# Should return the string \"Name: Voltaire\"\n",
    "\n",
    "print(format_name(\"\", \"\"))\n",
    "# Should return an empty string"
   ]
  },
  {
   "cell_type": "code",
   "execution_count": 78,
   "id": "e32bc026-dde9-4ca1-abbb-15e000b75f58",
   "metadata": {},
   "outputs": [
    {
     "name": "stdout",
     "output_type": "stream",
     "text": [
      "10\n"
     ]
    }
   ],
   "source": [
    "def sum(x, y):\n",
    "    return(x+y)\n",
    "print(sum(sum(1,2), sum(3,4)))"
   ]
  },
  {
   "cell_type": "code",
   "execution_count": 79,
   "id": "82c763ac-6638-4bba-932e-dbd893ae182b",
   "metadata": {},
   "outputs": [
    {
     "data": {
      "text/plain": [
       "True"
      ]
     },
     "execution_count": 79,
     "metadata": {},
     "output_type": "execute_result"
    }
   ],
   "source": [
    "((10 >= 5*2) and (10 <= 5*2))"
   ]
  },
  {
   "cell_type": "code",
   "execution_count": 82,
   "id": "987016ab-76a1-4678-aa2f-cd9bb19f1520",
   "metadata": {},
   "outputs": [
    {
     "name": "stdout",
     "output_type": "stream",
     "text": [
      "0\n",
      "0\n",
      "0\n",
      "0\n",
      "0\n",
      "0\n"
     ]
    }
   ],
   "source": [
    "def fractional_part(numerator, denominator):\n",
    "\t# Operate with numerator and denominator to \n",
    "# keep just the fractional part of the quotient\n",
    "\treturn 0\n",
    "\n",
    "print(fractional_part(5, 5)) # Should be 0\n",
    "print(fractional_part(5, 4)) # Should be 0.25\n",
    "print(fractional_part(5, 3)) # Should be 0.66...\n",
    "print(fractional_part(5, 2)) # Should be 0.5\n",
    "print(fractional_part(5, 0)) # Should be 0\n",
    "print(fractional_part(0, 5)) # Should be 0"
   ]
  },
  {
   "cell_type": "code",
   "execution_count": 83,
   "id": "427d64d6-0be1-497e-9632-c6b2e01dc823",
   "metadata": {},
   "outputs": [
    {
     "ename": "NameError",
     "evalue": "name 'string' is not defined",
     "output_type": "error",
     "traceback": [
      "\u001b[0;31m---------------------------------------------------------------------------\u001b[0m",
      "\u001b[0;31mNameError\u001b[0m                                 Traceback (most recent call last)",
      "\u001b[0;32m/var/folders/gd/ktcrdzpd1n93l_q5wz4ct1xm0000gn/T/ipykernel_42080/883688094.py\u001b[0m in \u001b[0;36m<module>\u001b[0;34m\u001b[0m\n\u001b[1;32m      4\u001b[0m         \u001b[0;32mreturn\u001b[0m \u001b[0mstring\u001b[0m\u001b[0;34m\u001b[0m\u001b[0;34m\u001b[0m\u001b[0m\n\u001b[1;32m      5\u001b[0m \u001b[0;34m\u001b[0m\u001b[0m\n\u001b[0;32m----> 6\u001b[0;31m \u001b[0mprint\u001b[0m\u001b[0;34m(\u001b[0m\u001b[0mformat_name\u001b[0m\u001b[0;34m(\u001b[0m\u001b[0;34m\"Ernest\"\u001b[0m\u001b[0;34m,\u001b[0m \u001b[0;34m\"Hemingway\"\u001b[0m\u001b[0;34m)\u001b[0m\u001b[0;34m)\u001b[0m\u001b[0;34m\u001b[0m\u001b[0;34m\u001b[0m\u001b[0m\n\u001b[0m\u001b[1;32m      7\u001b[0m \u001b[0;31m# Should return the string \"Name: Hemingway, Ernest\"\u001b[0m\u001b[0;34m\u001b[0m\u001b[0;34m\u001b[0m\u001b[0;34m\u001b[0m\u001b[0m\n\u001b[1;32m      8\u001b[0m \u001b[0;34m\u001b[0m\u001b[0m\n",
      "\u001b[0;32m/var/folders/gd/ktcrdzpd1n93l_q5wz4ct1xm0000gn/T/ipykernel_42080/883688094.py\u001b[0m in \u001b[0;36mformat_name\u001b[0;34m(first_name, last_name)\u001b[0m\n\u001b[1;32m      2\u001b[0m         \u001b[0;31m# code goes here\u001b[0m\u001b[0;34m\u001b[0m\u001b[0;34m\u001b[0m\u001b[0;34m\u001b[0m\u001b[0m\n\u001b[1;32m      3\u001b[0m \u001b[0;34m\u001b[0m\u001b[0m\n\u001b[0;32m----> 4\u001b[0;31m         \u001b[0;32mreturn\u001b[0m \u001b[0mstring\u001b[0m\u001b[0;34m\u001b[0m\u001b[0;34m\u001b[0m\u001b[0m\n\u001b[0m\u001b[1;32m      5\u001b[0m \u001b[0;34m\u001b[0m\u001b[0m\n\u001b[1;32m      6\u001b[0m \u001b[0mprint\u001b[0m\u001b[0;34m(\u001b[0m\u001b[0mformat_name\u001b[0m\u001b[0;34m(\u001b[0m\u001b[0;34m\"Ernest\"\u001b[0m\u001b[0;34m,\u001b[0m \u001b[0;34m\"Hemingway\"\u001b[0m\u001b[0;34m)\u001b[0m\u001b[0;34m)\u001b[0m\u001b[0;34m\u001b[0m\u001b[0;34m\u001b[0m\u001b[0m\n",
      "\u001b[0;31mNameError\u001b[0m: name 'string' is not defined"
     ]
    }
   ],
   "source": [
    "def format_name(first_name, last_name):\n",
    "\t# code goes here\n",
    "\t\n",
    "\treturn string \n",
    "\n",
    "print(format_name(\"Ernest\", \"Hemingway\"))\n",
    "# Should return the string \"Name: Hemingway, Ernest\"\n",
    "\n",
    "print(format_name(\"\", \"Madonna\"))\n",
    "# Should return the string \"Name: Madonna\"\n",
    "\n",
    "print(format_name(\"Voltaire\", \"\"))\n",
    "# Should return the string \"Name: Voltaire\"\n",
    "\n",
    "print(format_name(\"\", \"\"))\n",
    "# Should return an empty string"
   ]
  },
  {
   "cell_type": "code",
   "execution_count": 87,
   "id": "8d7afcb4-1754-46ad-b8fe-13a06a9ad9da",
   "metadata": {},
   "outputs": [
    {
     "name": "stdout",
     "output_type": "stream",
     "text": [
      "10\n"
     ]
    }
   ],
   "source": [
    "def sum(x, y):\n",
    "    return(x+y)\n",
    "print(sum(sum(1,2), sum (3,4)))"
   ]
  },
  {
   "cell_type": "code",
   "execution_count": null,
   "id": "93fa581b-7409-4359-9449-19297560f577",
   "metadata": {},
   "outputs": [],
   "source": []
  }
 ],
 "metadata": {
  "kernelspec": {
   "display_name": "Python [conda env:deeplearn]",
   "language": "python",
   "name": "conda-env-deeplearn-py"
  },
  "language_info": {
   "codemirror_mode": {
    "name": "ipython",
    "version": 3
   },
   "file_extension": ".py",
   "mimetype": "text/x-python",
   "name": "python",
   "nbconvert_exporter": "python",
   "pygments_lexer": "ipython3",
   "version": "3.7.11"
  }
 },
 "nbformat": 4,
 "nbformat_minor": 5
}
