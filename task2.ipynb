{
 "cells": [
  {
   "cell_type": "markdown",
   "metadata": {
    "id": "zDwep1K8Erxl"
   },
   "source": [
    "**Project:** Data Minining Project for  X company"
   ]
  },
  {
   "cell_type": "code",
   "execution_count": null,
   "metadata": {
    "id": "JzIu-UWIDXHw"
   },
   "outputs": [],
   "source": []
  },
  {
   "cell_type": "markdown",
   "metadata": {
    "id": "d7-ii3uyI8KY"
   },
   "source": [
    "The CRISP-DM Framework\n",
    "\n",
    "\n",
    "The CRISP-DM methodology provides a structured approach to planning a data mining project. It is a robust and well-proven methodology.\n",
    "* Business understanding (BU): Determine Business Objectives, Assess Situation, Determine Data Mining Goals, Produce Project Plan\n",
    "\n",
    "* Data understanding (DU): Collect Initial Data, Describe Data, Explore Data, Verify Data Quality\n",
    "\n",
    "* Data preparation (DP): Select Data, Clean Data, Construct Data, Integrate Data\n",
    "\n",
    "* Modeling (M): Select modeling technique, Generate Test Design, Build Model, Assess Model\n",
    "*  Evaluation (E): Evaluate Results, Review Process, Determine Next Steps\n",
    "*  Deployment (D): Plan Deployment, Plan Monitoring and Maintenance, Produce Final Report, Review Project\n",
    "\n",
    "\n",
    "References:\n",
    "\n",
    "[What is the CRISP-DM methodology?](https://www.sv-europe.com/crisp-dm-methodology/)\n",
    "\n",
    "[Introduction to CRISP DM Framework for Data Science and Machine Learning](https://www.linkedin.com/pulse/chapter-1-introduction-crisp-dm-framework-data-science-anshul-roy/)"
   ]
  },
  {
   "cell_type": "markdown",
   "metadata": {
    "id": "5lo7Ml7tMQOf"
   },
   "source": [
    "**Data Set**\n",
    "### The data is for company X which is trying to control attrition. \n",
    "### There are two sets of data: \"Existing employees\" and \"Employees who have left\". The following attributes are available for every employee.\n",
    "\n",
    "\n",
    "*   Satisfaction Level\n",
    "\n",
    "*   Last evaluation\n",
    "\n",
    "*   Number of projects\n",
    "\n",
    "*   Average monthly hours\n",
    "\n",
    "*   Time spent at the company\n",
    "*   Whether they have had a work accident\n",
    "\n",
    "\n",
    "*  Whether they have had a promotion in the last 5 years\n",
    "\n",
    "\n",
    "*   Departments (column sales)\n",
    "\n",
    "\n",
    "*   Salary\n",
    "\n",
    "\n",
    "*  Whether the employee has left\n",
    "\n",
    "\n",
    "\n",
    "\n",
    "\n",
    "\n",
    "\n",
    "\n",
    "\n",
    "\n",
    "\n",
    "\n",
    "\n",
    "\n",
    "\n",
    "\n"
   ]
  },
  {
   "cell_type": "markdown",
   "metadata": {
    "id": "sjSj2A2sSph_"
   },
   "source": [
    "**Your Role**\n",
    " \n",
    "\n",
    "*   As data science team member X company asked you to answer this two questions.\n",
    "*  What type of employees is leaving? \n",
    "\n",
    "*   Determine which employees are prone to leave next.\n",
    "\n",
    "\n",
    "\n",
    "\n"
   ]
  },
  {
   "cell_type": "markdown",
   "metadata": {
    "id": "ajdEVA7LiBUp"
   },
   "source": [
    "Business Understanding\n",
    "\n",
    "---\n",
    "\n",
    "This step mostly focuses on understanding the Business in all the different aspects. It follows the below different steps.\n",
    "\n",
    "\n",
    "\n",
    "\n",
    "* Identify the goal and frame the business problem.\n",
    "* Prepare Analytical Goal i.e. what type of performance metric and loss function to use\n",
    "* Gather information on resource, constraints, assumptions, risks etc\n",
    "* Gather information on resource, constraints, assumptions, risks etc\n",
    "*   Prepare Work Flow Chart"
   ]
  },
  {
   "cell_type": "markdown",
   "metadata": {
    "id": "J4MwiCYzj2_u"
   },
   "source": [
    "### Write the main objectives of this project in your words?\n",
    "minimum of 100 characters"
   ]
  },
  {
   "cell_type": "code",
   "execution_count": null,
   "metadata": {
    "id": "STyLda45j1Mf"
   },
   "outputs": [],
   "source": [
    "main_objectives ='''unticipate who is likely to leave, and what is causing them to leave. This might help keep the good emlployees\n",
    "'''"
   ]
  },
  {
   "cell_type": "code",
   "execution_count": null,
   "metadata": {
    "id": "CuOlxLxKMOLI"
   },
   "outputs": [],
   "source": [
    "assert len(main_objectives) > 100 \n",
    "### BEGIN HIDDEN TESTS\n",
    "assert len(main_objectives) > 80 \n",
    "### END HIDDEN TESTS"
   ]
  },
  {
   "cell_type": "markdown",
   "metadata": {
    "id": "NyXeNxlCkbaw"
   },
   "source": [
    "### Outline the different data analysis steps you will follow to carry out the project"
   ]
  },
  {
   "cell_type": "code",
   "execution_count": null,
   "metadata": {
    "id": "rC-tl8sUksQq"
   },
   "outputs": [],
   "source": [
    "dm_outline = '''I will perform EDA, try and find out the similarities and what is unique from this two tables. \n",
    "i would perfom feature selection and plot a box plot\n",
    "'''"
   ]
  },
  {
   "cell_type": "code",
   "execution_count": null,
   "metadata": {
    "id": "-K1mWuDoksTk"
   },
   "outputs": [],
   "source": [
    "assert len(dm_outline) > 100 \n",
    "### BEGIN HIDDEN TESTS\n",
    "assert len(dm_outline) > 70 \n",
    "### END HIDDEN TESTS"
   ]
  },
  {
   "cell_type": "markdown",
   "metadata": {
    "id": "pmUDFG1wkzUy"
   },
   "source": [
    "### What metrics will you use to measure the performance of your data analysis model? \n",
    "Write the equations of the metrics here"
   ]
  },
  {
   "cell_type": "markdown",
   "metadata": {
    "id": "KCNulojKk_BP"
   },
   "source": [
    "e.g. Precision = $\\frac{TP}{(TP + FP)}$\n",
    "\n"
   ]
  },
  {
   "cell_type": "markdown",
   "metadata": {
    "id": "vLS2YHoRk_EK"
   },
   "source": [
    "Why do you choose these metrics? minimum of 100 characters"
   ]
  },
  {
   "cell_type": "code",
   "execution_count": null,
   "metadata": {
    "id": "LSynT14KlPSJ"
   },
   "outputs": [],
   "source": [
    "why_metrics = '''it is known as a confusion metrix and it describes the complete performance of the model\n",
    "'''"
   ]
  },
  {
   "cell_type": "code",
   "execution_count": null,
   "metadata": {
    "id": "yr-Mk0E8lPVJ"
   },
   "outputs": [],
   "source": [
    "assert len(why_metrics) > 100 \n",
    "### BEGIN HIDDEN TESTS\n",
    "assert len(why_metrics) > 80 \n",
    "### END HIDDEN TESTS"
   ]
  },
  {
   "cell_type": "markdown",
   "metadata": {
    "id": "aAo19Ip6lUtm"
   },
   "source": [
    "### How would you know if your data analysis work is a success or not?\n",
    "minimum of 100 characters"
   ]
  },
  {
   "cell_type": "code",
   "execution_count": null,
   "metadata": {
    "id": "HESsiXW5llX-"
   },
   "outputs": [],
   "source": [
    "how_success = '''I will treat the current employee table as a train set and input a new record to test and\n",
    "the employee who left as the validation table because they have are truely gone.I will calulate the score afterwards \n",
    "'''"
   ]
  },
  {
   "cell_type": "code",
   "execution_count": null,
   "metadata": {
    "id": "FdUoiMIOlmXq"
   },
   "outputs": [],
   "source": [
    "assert len(how_success) > 100 \n",
    "### BEGIN HIDDEN TESTS\n",
    "assert len(how_success) > 80 \n",
    "### END HIDDEN TESTS"
   ]
  },
  {
   "cell_type": "markdown",
   "metadata": {
    "id": "DQE6dqo6l1TZ"
   },
   "source": [
    "## What kind of challenges do you expect in your analysis?\n",
    "List at least 3 challenges"
   ]
  },
  {
   "cell_type": "code",
   "execution_count": null,
   "metadata": {
    "id": "WrAhBQhQl8Lh"
   },
   "outputs": [],
   "source": [
    "challenge_text = '''1.\n",
    "'''"
   ]
  },
  {
   "cell_type": "code",
   "execution_count": null,
   "metadata": {
    "id": "EedHa-Pll8X7"
   },
   "outputs": [],
   "source": [
    "assert len(challenge_text) > 100 \n",
    "### BEGIN HIDDEN TESTS\n",
    "assert len(how_success) > 80 \n",
    "### END HIDDEN TESTS"
   ]
  },
  {
   "cell_type": "markdown",
   "metadata": {
    "id": "ZcJ8M6uWDeSE"
   },
   "source": [
    "<h2>Using the processed twitter data from yesterday's challenge</h2>.\n",
    "\n",
    "\n",
    "- Form a new data frame (named `cleanTweet`), containing columns $\\textbf{clean-text}$ and $\\textbf{polarity}$.\n",
    "\n",
    "- Write a function `text_category` that takes a value `p` and returns, depending on the value of p, a string `'positive'`, `'negative'` or `'neutral'`.\n",
    "\n",
    "- Apply this function (`text_category`) on the $\\textbf{polarity}$ column of `cleanTweet` in 1 above to form a new column called $\\textbf{score}$ in `cleanTweet`.\n",
    "\n",
    "- Visualize The $\\textbf{score}$ column using piechart and barchart\n",
    "\n",
    "<h5>Now we want to build a classification model on the clean tweet following the steps below:</h5>\n",
    "\n",
    "* Remove rows from `cleanTweet` where $\\textbf{polarity}$ $= 0$ (i.e where $\\textbf{score}$ = Neutral) and reset the frame index.\n",
    "* Construct a column $\\textbf{scoremap}$ Use the mapping {'positive':1, 'negative':0} on the $\\textbf{score}$ column\n",
    "* Create feature and target variables `(X,y)` from $\\textbf{clean-text}$ and $\\textbf{scoremap}$ columns respectively.\n",
    "* Use `train_test_split` function to construct `(X_train, y_train)` and `(X_test, y_test)` from `(X,y)`\n",
    "\n",
    "* Build an `SGDClassifier` model from the vectorize train text data. Use `CountVectorizer()` with a $\\textit{trigram}$ parameter.\n",
    "\n",
    "* Evaluate your model on the test data.\n"
   ]
  },
  {
   "cell_type": "code",
   "execution_count": 1,
   "metadata": {
    "id": "85WxmGNGDcBY"
   },
   "outputs": [],
   "source": [
    "import pandas as pd\n",
    "import numpy as np\n",
    "import sys\n",
    "import tweepy\n",
    "import os\n",
    "import nltk\n",
    "import pycountry\n",
    "import re\n",
    "import string\n",
    "from scipy.sparse import csr_matrix\n",
    "from matplotlib import pyplot as plt\n",
    "from sklearn.model_selection import train_test_split\n",
    "from sklearn.linear_model import SGDClassifier\n",
    "from sklearn.feature_extraction.text import CountVectorizer\n",
    "from sklearn.feature_extraction.text import TfidfTransformer\n",
    "from sklearn.pipeline import Pipeline\n",
    "from joblib import dump, load\n",
    "from scipy.sparse import save_npz, load_npz\n",
    "from sklearn.decomposition import NMF, LatentDirichletAllocation\n",
    "from textblob import TextBlob\n",
    "from wordcloud import WordCloud, STOPWORDS\n",
    "from nltk.corpus import stopwords\n",
    "from nltk.corpus import stopwords\n",
    "from PIL import Image\n",
    "from nltk.sentiment.vader import SentimentIntensityAnalyzer\n",
    "from langdetect import detect\n",
    "from nltk.stem import SnowballStemmer\n",
    "from nltk.sentiment.vader import SentimentIntensityAnalyzer\n"
   ]
  },
  {
   "cell_type": "code",
   "execution_count": 3,
   "metadata": {},
   "outputs": [
    {
     "data": {
      "text/html": [
       "<div>\n",
       "<style scoped>\n",
       "    .dataframe tbody tr th:only-of-type {\n",
       "        vertical-align: middle;\n",
       "    }\n",
       "\n",
       "    .dataframe tbody tr th {\n",
       "        vertical-align: top;\n",
       "    }\n",
       "\n",
       "    .dataframe thead th {\n",
       "        text-align: right;\n",
       "    }\n",
       "</style>\n",
       "<table border=\"1\" class=\"dataframe\">\n",
       "  <thead>\n",
       "    <tr style=\"text-align: right;\">\n",
       "      <th></th>\n",
       "      <th>created_at</th>\n",
       "      <th>source</th>\n",
       "      <th>original_text</th>\n",
       "      <th>polarity</th>\n",
       "      <th>subjectivity</th>\n",
       "      <th>lang</th>\n",
       "      <th>favorite_count</th>\n",
       "      <th>retweet_count</th>\n",
       "      <th>original_author</th>\n",
       "      <th>followers_count</th>\n",
       "      <th>friends_count</th>\n",
       "      <th>possibly_sensitive</th>\n",
       "      <th>hashtags</th>\n",
       "      <th>user_mentions</th>\n",
       "      <th>place</th>\n",
       "    </tr>\n",
       "  </thead>\n",
       "  <tbody>\n",
       "    <tr>\n",
       "      <th>0</th>\n",
       "      <td>Fri Jun 18 17:55:49 +0000 2021</td>\n",
       "      <td>&lt;a href=\"http://twitter.com/download/iphone\" r...</td>\n",
       "      <td>RT @TelGlobalHealth:🚨Africa is \"in the midst o...</td>\n",
       "      <td>0.000000</td>\n",
       "      <td>0.000000</td>\n",
       "      <td>en</td>\n",
       "      <td>548</td>\n",
       "      <td>612.0</td>\n",
       "      <td>ketuesriche</td>\n",
       "      <td>551</td>\n",
       "      <td>351</td>\n",
       "      <td>NaN</td>\n",
       "      <td>NaN</td>\n",
       "      <td>NaN</td>\n",
       "      <td>Mass</td>\n",
       "    </tr>\n",
       "    <tr>\n",
       "      <th>1</th>\n",
       "      <td>Fri Jun 18 17:55:59 +0000 2021</td>\n",
       "      <td>&lt;a href=\"https://mobile.twitter.com\" rel=\"nofo...</td>\n",
       "      <td>RT @globalhlthtwit: Dr Moeti is head of WHO in...</td>\n",
       "      <td>0.133333</td>\n",
       "      <td>0.455556</td>\n",
       "      <td>en</td>\n",
       "      <td>195</td>\n",
       "      <td>92.0</td>\n",
       "      <td>Grid1949</td>\n",
       "      <td>66</td>\n",
       "      <td>92</td>\n",
       "      <td>NaN</td>\n",
       "      <td>NaN</td>\n",
       "      <td>NaN</td>\n",
       "      <td>Edinburgh, Scotland</td>\n",
       "    </tr>\n",
       "    <tr>\n",
       "      <th>2</th>\n",
       "      <td>Fri Jun 18 17:56:07 +0000 2021</td>\n",
       "      <td>&lt;a href=\"http://twitter.com/download/iphone\" r...</td>\n",
       "      <td>RT @NHSRDForum: Thank you @research2note for c...</td>\n",
       "      <td>0.316667</td>\n",
       "      <td>0.483333</td>\n",
       "      <td>en</td>\n",
       "      <td>2</td>\n",
       "      <td>1.0</td>\n",
       "      <td>LeeTomlinson8</td>\n",
       "      <td>1195</td>\n",
       "      <td>1176</td>\n",
       "      <td>NaN</td>\n",
       "      <td>NaN</td>\n",
       "      <td>NaN</td>\n",
       "      <td>NaN</td>\n",
       "    </tr>\n",
       "    <tr>\n",
       "      <th>3</th>\n",
       "      <td>Fri Jun 18 17:56:10 +0000 2021</td>\n",
       "      <td>&lt;a href=\"https://mobile.twitter.com\" rel=\"nofo...</td>\n",
       "      <td>RT @HighWireTalk: Former Pfizer VP and Virolog...</td>\n",
       "      <td>0.166667</td>\n",
       "      <td>0.166667</td>\n",
       "      <td>en</td>\n",
       "      <td>1580</td>\n",
       "      <td>899.0</td>\n",
       "      <td>RIPNY08</td>\n",
       "      <td>2666</td>\n",
       "      <td>2704</td>\n",
       "      <td>NaN</td>\n",
       "      <td>NaN</td>\n",
       "      <td>NaN</td>\n",
       "      <td>NaN</td>\n",
       "    </tr>\n",
       "    <tr>\n",
       "      <th>4</th>\n",
       "      <td>Fri Jun 18 17:56:20 +0000 2021</td>\n",
       "      <td>&lt;a href=\"http://twitter.com/download/android\" ...</td>\n",
       "      <td>RT @PeterHotez: I think it’s important that we...</td>\n",
       "      <td>0.300000</td>\n",
       "      <td>0.766667</td>\n",
       "      <td>en</td>\n",
       "      <td>72</td>\n",
       "      <td>20.0</td>\n",
       "      <td>pash22</td>\n",
       "      <td>28250</td>\n",
       "      <td>30819</td>\n",
       "      <td>NaN</td>\n",
       "      <td>NaN</td>\n",
       "      <td>NaN</td>\n",
       "      <td>United Kingdom</td>\n",
       "    </tr>\n",
       "  </tbody>\n",
       "</table>\n",
       "</div>"
      ],
      "text/plain": [
       "                       created_at  \\\n",
       "0  Fri Jun 18 17:55:49 +0000 2021   \n",
       "1  Fri Jun 18 17:55:59 +0000 2021   \n",
       "2  Fri Jun 18 17:56:07 +0000 2021   \n",
       "3  Fri Jun 18 17:56:10 +0000 2021   \n",
       "4  Fri Jun 18 17:56:20 +0000 2021   \n",
       "\n",
       "                                              source  \\\n",
       "0  <a href=\"http://twitter.com/download/iphone\" r...   \n",
       "1  <a href=\"https://mobile.twitter.com\" rel=\"nofo...   \n",
       "2  <a href=\"http://twitter.com/download/iphone\" r...   \n",
       "3  <a href=\"https://mobile.twitter.com\" rel=\"nofo...   \n",
       "4  <a href=\"http://twitter.com/download/android\" ...   \n",
       "\n",
       "                                       original_text  polarity  subjectivity  \\\n",
       "0  RT @TelGlobalHealth:🚨Africa is \"in the midst o...  0.000000      0.000000   \n",
       "1  RT @globalhlthtwit: Dr Moeti is head of WHO in...  0.133333      0.455556   \n",
       "2  RT @NHSRDForum: Thank you @research2note for c...  0.316667      0.483333   \n",
       "3  RT @HighWireTalk: Former Pfizer VP and Virolog...  0.166667      0.166667   \n",
       "4  RT @PeterHotez: I think it’s important that we...  0.300000      0.766667   \n",
       "\n",
       "  lang  favorite_count  retweet_count original_author  followers_count  \\\n",
       "0   en             548          612.0     ketuesriche              551   \n",
       "1   en             195           92.0        Grid1949               66   \n",
       "2   en               2            1.0   LeeTomlinson8             1195   \n",
       "3   en            1580          899.0         RIPNY08             2666   \n",
       "4   en              72           20.0          pash22            28250   \n",
       "\n",
       "   friends_count possibly_sensitive  hashtags  user_mentions  \\\n",
       "0            351                NaN       NaN            NaN   \n",
       "1             92                NaN       NaN            NaN   \n",
       "2           1176                NaN       NaN            NaN   \n",
       "3           2704                NaN       NaN            NaN   \n",
       "4          30819                NaN       NaN            NaN   \n",
       "\n",
       "                 place  \n",
       "0                 Mass  \n",
       "1  Edinburgh, Scotland  \n",
       "2                  NaN  \n",
       "3                  NaN  \n",
       "4       United Kingdom  "
      ]
     },
     "execution_count": 3,
     "metadata": {},
     "output_type": "execute_result"
    }
   ],
   "source": [
    "tweets = pd.read_csv('processed.csv')\n",
    "tweets.head()"
   ]
  },
  {
   "cell_type": "code",
   "execution_count": 4,
   "metadata": {},
   "outputs": [],
   "source": [
    "tweets.drop_duplicates(inplace = True)"
   ]
  },
  {
   "cell_type": "code",
   "execution_count": 5,
   "metadata": {},
   "outputs": [
    {
     "data": {
      "text/plain": [
       "0    rt    africa is  in the midst of a full blown ...\n",
       "1    dr moeti is head of who in africa  and one of ...\n",
       "2    thank you  2note for creating this amazing cam...\n",
       "3    former pfizer vp and virologist  dr  michael y...\n",
       "4    i think it s important that we don t sell cova...\n",
       "5    i m pleased to welcome the  wecandothis bus to...\n",
       "6    yet another amazingly qualified and courageous...\n",
       "7    yet another amazingly qualified and courageous...\n",
       "8    dr moeti is head of who in africa  and one of ...\n",
       "9    it is really something to see new research com...\n",
       "Name: text, dtype: object"
      ]
     },
     "execution_count": 5,
     "metadata": {},
     "output_type": "execute_result"
    }
   ],
   "source": [
    "#Cleaning Text (RT, Punctuation etc)\n",
    "\n",
    "#Creating new dataframe and new features\n",
    "\n",
    "\n",
    "\n",
    "tw_list = pd.DataFrame(tweets)\n",
    "tw_list[\"text\"] = tw_list[\"original_text\"]\n",
    "\n",
    "#Removing RT, Punctuation etc\n",
    "remove_rt = lambda x: re.sub('RT @\\w+: ', \"\", x)\n",
    "rt = lambda x: re.sub(\"[^0-9A-Za-z@]|(@[A-Za-z0–9]+)|(\\w+:\\/\\/\\S+)\", \" \", x)\n",
    "tw_list[\"text\"] = tw_list['text'].map(remove_rt).map(rt)\n",
    "tw_list[\"text\"] = tw_list['text'].str.lower()\n",
    "tw_list['text'].head(10)\n"
   ]
  },
  {
   "cell_type": "code",
   "execution_count": 6,
   "metadata": {},
   "outputs": [
    {
     "data": {
      "text/html": [
       "<div>\n",
       "<style scoped>\n",
       "    .dataframe tbody tr th:only-of-type {\n",
       "        vertical-align: middle;\n",
       "    }\n",
       "\n",
       "    .dataframe tbody tr th {\n",
       "        vertical-align: top;\n",
       "    }\n",
       "\n",
       "    .dataframe thead th {\n",
       "        text-align: right;\n",
       "    }\n",
       "</style>\n",
       "<table border=\"1\" class=\"dataframe\">\n",
       "  <thead>\n",
       "    <tr style=\"text-align: right;\">\n",
       "      <th></th>\n",
       "      <th>text</th>\n",
       "      <th>polarity</th>\n",
       "    </tr>\n",
       "  </thead>\n",
       "  <tbody>\n",
       "    <tr>\n",
       "      <th>0</th>\n",
       "      <td>rt    africa is  in the midst of a full blown ...</td>\n",
       "      <td>0.000000</td>\n",
       "    </tr>\n",
       "    <tr>\n",
       "      <th>1</th>\n",
       "      <td>dr moeti is head of who in africa  and one of ...</td>\n",
       "      <td>0.133333</td>\n",
       "    </tr>\n",
       "    <tr>\n",
       "      <th>2</th>\n",
       "      <td>thank you  2note for creating this amazing cam...</td>\n",
       "      <td>0.316667</td>\n",
       "    </tr>\n",
       "    <tr>\n",
       "      <th>3</th>\n",
       "      <td>former pfizer vp and virologist  dr  michael y...</td>\n",
       "      <td>0.166667</td>\n",
       "    </tr>\n",
       "    <tr>\n",
       "      <th>4</th>\n",
       "      <td>i think it s important that we don t sell cova...</td>\n",
       "      <td>0.300000</td>\n",
       "    </tr>\n",
       "  </tbody>\n",
       "</table>\n",
       "</div>"
      ],
      "text/plain": [
       "                                                text  polarity\n",
       "0  rt    africa is  in the midst of a full blown ...  0.000000\n",
       "1  dr moeti is head of who in africa  and one of ...  0.133333\n",
       "2  thank you  2note for creating this amazing cam...  0.316667\n",
       "3  former pfizer vp and virologist  dr  michael y...  0.166667\n",
       "4  i think it s important that we don t sell cova...  0.300000"
      ]
     },
     "execution_count": 6,
     "metadata": {},
     "output_type": "execute_result"
    }
   ],
   "source": [
    "clean_tweet= [\"text\",\"polarity\"]\n",
    "tw_list[clean_tweet].head()\n"
   ]
  },
  {
   "cell_type": "code",
   "execution_count": 7,
   "metadata": {},
   "outputs": [
    {
     "data": {
      "text/html": [
       "<div>\n",
       "<style scoped>\n",
       "    .dataframe tbody tr th:only-of-type {\n",
       "        vertical-align: middle;\n",
       "    }\n",
       "\n",
       "    .dataframe tbody tr th {\n",
       "        vertical-align: top;\n",
       "    }\n",
       "\n",
       "    .dataframe thead th {\n",
       "        text-align: right;\n",
       "    }\n",
       "</style>\n",
       "<table border=\"1\" class=\"dataframe\">\n",
       "  <thead>\n",
       "    <tr style=\"text-align: right;\">\n",
       "      <th></th>\n",
       "      <th>text</th>\n",
       "      <th>polarity</th>\n",
       "    </tr>\n",
       "  </thead>\n",
       "  <tbody>\n",
       "    <tr>\n",
       "      <th>0</th>\n",
       "      <td>rt    africa is  in the midst of a full blown ...</td>\n",
       "      <td>0.000000</td>\n",
       "    </tr>\n",
       "    <tr>\n",
       "      <th>1</th>\n",
       "      <td>dr moeti is head of who in africa  and one of ...</td>\n",
       "      <td>0.133333</td>\n",
       "    </tr>\n",
       "    <tr>\n",
       "      <th>2</th>\n",
       "      <td>thank you  2note for creating this amazing cam...</td>\n",
       "      <td>0.316667</td>\n",
       "    </tr>\n",
       "    <tr>\n",
       "      <th>3</th>\n",
       "      <td>former pfizer vp and virologist  dr  michael y...</td>\n",
       "      <td>0.166667</td>\n",
       "    </tr>\n",
       "    <tr>\n",
       "      <th>4</th>\n",
       "      <td>i think it s important that we don t sell cova...</td>\n",
       "      <td>0.300000</td>\n",
       "    </tr>\n",
       "  </tbody>\n",
       "</table>\n",
       "</div>"
      ],
      "text/plain": [
       "                                                text  polarity\n",
       "0  rt    africa is  in the midst of a full blown ...  0.000000\n",
       "1  dr moeti is head of who in africa  and one of ...  0.133333\n",
       "2  thank you  2note for creating this amazing cam...  0.316667\n",
       "3  former pfizer vp and virologist  dr  michael y...  0.166667\n",
       "4  i think it s important that we don t sell cova...  0.300000"
      ]
     },
     "execution_count": 7,
     "metadata": {},
     "output_type": "execute_result"
    }
   ],
   "source": [
    "CleanTweets = tw_list[clean_tweet]\n",
    "CleanTweets.head()"
   ]
  },
  {
   "cell_type": "code",
   "execution_count": 8,
   "metadata": {},
   "outputs": [
    {
     "data": {
      "text/plain": [
       "count    6532.000000\n",
       "mean        0.041399\n",
       "std         0.323983\n",
       "min        -1.000000\n",
       "25%         0.000000\n",
       "50%         0.000000\n",
       "75%         0.175000\n",
       "max         1.000000\n",
       "Name: polarity, dtype: float64"
      ]
     },
     "execution_count": 8,
     "metadata": {},
     "output_type": "execute_result"
    }
   ],
   "source": [
    "CleanTweets[\"polarity\"].describe()"
   ]
  },
  {
   "cell_type": "code",
   "execution_count": 9,
   "metadata": {},
   "outputs": [],
   "source": [
    "'''#Calculating Negative, Positive, Neutral and Compound values\n",
    "tw_list[[‘polarity’, ‘subjectivity’]] = tw_list[‘text’].apply(lambda Text: pd.Series(TextBlob(Text).sentiment))\n",
    "for index, row in tw_list[‘text’].iteritems():\n",
    " score = SentimentIntensityAnalyzer().polarity_scores(row)\n",
    " neg = score[‘neg’]\n",
    " neu = score[‘neu’]\n",
    " pos = score[‘pos’]\n",
    " comp = score[‘compound’]\n",
    " if neg > pos:\n",
    " tw_list.loc[index, ‘sentiment’] = “negative”\n",
    " elif pos > neg:\n",
    " tw_list.loc[index, ‘sentiment’] = “positive”\n",
    " else:\n",
    " tw_list.loc[index, ‘sentiment’] = “neutral”\n",
    " tw_list.loc[index, ‘neg’] = neg\n",
    " tw_list.loc[index, ‘neu’] = neu\n",
    " tw_list.loc[index, ‘pos’] = pos\n",
    " tw_list.loc[index, ‘compound’] = comp'''\n",
    "\n",
    "def text_category (p):\n",
    "    if(p > 0):\n",
    "        return \"positive\"\n",
    "    elif(p < 0):\n",
    "        return \"negative\"  \n",
    "    elif(p==0):\n",
    "        return \"neutral\"  \n"
   ]
  },
  {
   "cell_type": "code",
   "execution_count": 10,
   "metadata": {},
   "outputs": [
    {
     "name": "stderr",
     "output_type": "stream",
     "text": [
      "<ipython-input-10-c8e0c6b4c12e>:8: SettingWithCopyWarning: \n",
      "A value is trying to be set on a copy of a slice from a DataFrame.\n",
      "Try using .loc[row_indexer,col_indexer] = value instead\n",
      "\n",
      "See the caveats in the documentation: https://pandas.pydata.org/pandas-docs/stable/user_guide/indexing.html#returning-a-view-versus-a-copy\n",
      "  CleanTweets[\"polarity\"]=pd.to_numeric(CleanTweets[\"polarity\"], errors='coerce')\n"
     ]
    }
   ],
   "source": [
    "#CleanTweets[\"polarity\"] = pd.to_numeric(CleanTweets[\"polarity\"])\n",
    "#CleanTweets['score'] =CleanTweets['polarity'].apply(text_category)\n",
    "#CleanTweets= CleanTweets.astype({\"polarity\":'float'})\n",
    "#CleanTweets.astype({'polarity': 'float'}).dtypes\n",
    "#CleanTweets['polarity'] = CleanTweets.polarity.astype(float)\n",
    "#CleanTweets[\"polarity\"]= CleanTweets[\"polarity\"].astype(float)\n",
    "#pd.to_numeric(CleanTweets.polarity)\n",
    "CleanTweets[\"polarity\"]=pd.to_numeric(CleanTweets[\"polarity\"], errors='coerce')"
   ]
  },
  {
   "cell_type": "code",
   "execution_count": 18,
   "metadata": {},
   "outputs": [
    {
     "name": "stderr",
     "output_type": "stream",
     "text": [
      "<ipython-input-18-ce130f723c9a>:1: SettingWithCopyWarning: \n",
      "A value is trying to be set on a copy of a slice from a DataFrame.\n",
      "Try using .loc[row_indexer,col_indexer] = value instead\n",
      "\n",
      "See the caveats in the documentation: https://pandas.pydata.org/pandas-docs/stable/user_guide/indexing.html#returning-a-view-versus-a-copy\n",
      "  CleanTweets['score'] = CleanTweets['polarity'].apply(text_category)\n"
     ]
    },
    {
     "data": {
      "text/html": [
       "<div>\n",
       "<style scoped>\n",
       "    .dataframe tbody tr th:only-of-type {\n",
       "        vertical-align: middle;\n",
       "    }\n",
       "\n",
       "    .dataframe tbody tr th {\n",
       "        vertical-align: top;\n",
       "    }\n",
       "\n",
       "    .dataframe thead th {\n",
       "        text-align: right;\n",
       "    }\n",
       "</style>\n",
       "<table border=\"1\" class=\"dataframe\">\n",
       "  <thead>\n",
       "    <tr style=\"text-align: right;\">\n",
       "      <th></th>\n",
       "      <th>Total</th>\n",
       "      <th>Percentage</th>\n",
       "    </tr>\n",
       "  </thead>\n",
       "  <tbody>\n",
       "    <tr>\n",
       "      <th>positive</th>\n",
       "      <td>2808</td>\n",
       "      <td>42.99</td>\n",
       "    </tr>\n",
       "    <tr>\n",
       "      <th>neutral</th>\n",
       "      <td>2508</td>\n",
       "      <td>38.40</td>\n",
       "    </tr>\n",
       "    <tr>\n",
       "      <th>negative</th>\n",
       "      <td>1216</td>\n",
       "      <td>18.62</td>\n",
       "    </tr>\n",
       "  </tbody>\n",
       "</table>\n",
       "</div>"
      ],
      "text/plain": [
       "          Total  Percentage\n",
       "positive   2808       42.99\n",
       "neutral    2508       38.40\n",
       "negative   1216       18.62"
      ]
     },
     "execution_count": 18,
     "metadata": {},
     "output_type": "execute_result"
    }
   ],
   "source": [
    "CleanTweets['score'] = CleanTweets['polarity'].apply(text_category)\n",
    "\n",
    "count_values_in_column(CleanTweets,\"score\")"
   ]
  },
  {
   "cell_type": "code",
   "execution_count": 100,
   "metadata": {},
   "outputs": [
    {
     "data": {
      "text/html": [
       "<div>\n",
       "<style scoped>\n",
       "    .dataframe tbody tr th:only-of-type {\n",
       "        vertical-align: middle;\n",
       "    }\n",
       "\n",
       "    .dataframe tbody tr th {\n",
       "        vertical-align: top;\n",
       "    }\n",
       "\n",
       "    .dataframe thead th {\n",
       "        text-align: right;\n",
       "    }\n",
       "</style>\n",
       "<table border=\"1\" class=\"dataframe\">\n",
       "  <thead>\n",
       "    <tr style=\"text-align: right;\">\n",
       "      <th></th>\n",
       "      <th>text</th>\n",
       "      <th>polarity</th>\n",
       "      <th>score</th>\n",
       "      <th>punct</th>\n",
       "      <th>tokenized</th>\n",
       "      <th>nonstop</th>\n",
       "      <th>stemmed</th>\n",
       "    </tr>\n",
       "  </thead>\n",
       "  <tbody>\n",
       "    <tr>\n",
       "      <th>0</th>\n",
       "      <td>rt    africa is  in the midst of a full blown ...</td>\n",
       "      <td>0.000000</td>\n",
       "      <td>neutral</td>\n",
       "      <td>rt    africa is  in the midst of a full blown ...</td>\n",
       "      <td>[rt, africa, is, in, the, midst, of, a, full, ...</td>\n",
       "      <td>[rt, africa, midst, full, blown, third, wave, ...</td>\n",
       "      <td>[rt, africa, midst, full, blown, third, wave, ...</td>\n",
       "    </tr>\n",
       "    <tr>\n",
       "      <th>1</th>\n",
       "      <td>dr moeti is head of who in africa  and one of ...</td>\n",
       "      <td>0.133333</td>\n",
       "      <td>positive</td>\n",
       "      <td>dr moeti is head of who in africa  and one of ...</td>\n",
       "      <td>[dr, moeti, is, head, of, who, in, africa, and...</td>\n",
       "      <td>[dr, moeti, head, africa, one, best, public, h...</td>\n",
       "      <td>[dr, moeti, head, africa, one, best, public, h...</td>\n",
       "    </tr>\n",
       "    <tr>\n",
       "      <th>2</th>\n",
       "      <td>thank you  2note for creating this amazing cam...</td>\n",
       "      <td>0.316667</td>\n",
       "      <td>positive</td>\n",
       "      <td>thank you  2note for creating this amazing cam...</td>\n",
       "      <td>[thank, you, 2note, for, creating, this, amazi...</td>\n",
       "      <td>[thank, 2note, creating, amazing, campaign, am...</td>\n",
       "      <td>[thank, 2note, creat, amaz, campaign, amp, tur...</td>\n",
       "    </tr>\n",
       "    <tr>\n",
       "      <th>3</th>\n",
       "      <td>former pfizer vp and virologist  dr  michael y...</td>\n",
       "      <td>0.166667</td>\n",
       "      <td>positive</td>\n",
       "      <td>former pfizer vp and virologist  dr  michael y...</td>\n",
       "      <td>[former, pfizer, vp, and, virologist, dr, mich...</td>\n",
       "      <td>[former, pfizer, vp, virologist, dr, michael, ...</td>\n",
       "      <td>[former, pfizer, vp, virologist, dr, michael, ...</td>\n",
       "    </tr>\n",
       "    <tr>\n",
       "      <th>4</th>\n",
       "      <td>i think it s important that we don t sell cova...</td>\n",
       "      <td>0.300000</td>\n",
       "      <td>positive</td>\n",
       "      <td>i think it s important that we don t sell cova...</td>\n",
       "      <td>[i, think, it, s, important, that, we, don, t,...</td>\n",
       "      <td>[think, important, sell, covax, short, still, ...</td>\n",
       "      <td>[think, import, sell, covax, short, still, lot...</td>\n",
       "    </tr>\n",
       "    <tr>\n",
       "      <th>...</th>\n",
       "      <td>...</td>\n",
       "      <td>...</td>\n",
       "      <td>...</td>\n",
       "      <td>...</td>\n",
       "      <td>...</td>\n",
       "      <td>...</td>\n",
       "      <td>...</td>\n",
       "    </tr>\n",
       "    <tr>\n",
       "      <th>6527</th>\n",
       "      <td>zweli please just release the graphic designer...</td>\n",
       "      <td>0.000000</td>\n",
       "      <td>neutral</td>\n",
       "      <td>zweli please just release the graphic designer...</td>\n",
       "      <td>[zweli, please, just, release, the, graphic, d...</td>\n",
       "      <td>[zweli, please, release, graphic, designers, f...</td>\n",
       "      <td>[zweli, pleas, releas, graphic, design, firewo...</td>\n",
       "    </tr>\n",
       "    <tr>\n",
       "      <th>6528</th>\n",
       "      <td>former pfizer vp and virologist  dr  michael y...</td>\n",
       "      <td>0.166667</td>\n",
       "      <td>positive</td>\n",
       "      <td>former pfizer vp and virologist  dr  michael y...</td>\n",
       "      <td>[former, pfizer, vp, and, virologist, dr, mich...</td>\n",
       "      <td>[former, pfizer, vp, virologist, dr, michael, ...</td>\n",
       "      <td>[former, pfizer, vp, virologist, dr, michael, ...</td>\n",
       "    </tr>\n",
       "    <tr>\n",
       "      <th>6529</th>\n",
       "      <td>73   respectfully  veterinarians have to have...</td>\n",
       "      <td>0.281250</td>\n",
       "      <td>positive</td>\n",
       "      <td>73   respectfully  veterinarians have to have...</td>\n",
       "      <td>[, 73, respectfully, veterinarians, have, to, ...</td>\n",
       "      <td>[, 73, respectfully, veterinarians, broad, kno...</td>\n",
       "      <td>[, 73, respect, veterinarian, broad, knowledg,...</td>\n",
       "    </tr>\n",
       "    <tr>\n",
       "      <th>6530</th>\n",
       "      <td>africa needs millions more doses here  amp  n...</td>\n",
       "      <td>0.166667</td>\n",
       "      <td>positive</td>\n",
       "      <td>africa needs millions more doses here  amp  n...</td>\n",
       "      <td>[, africa, needs, millions, more, doses, here,...</td>\n",
       "      <td>[, africa, needs, millions, doses, amp, curb, ...</td>\n",
       "      <td>[, africa, need, million, dose, amp, curb, thi...</td>\n",
       "    </tr>\n",
       "    <tr>\n",
       "      <th>6531</th>\n",
       "      <td>liars  you tried to load off your expired vacc...</td>\n",
       "      <td>0.000000</td>\n",
       "      <td>neutral</td>\n",
       "      <td>liars  you tried to load off your expired vacc...</td>\n",
       "      <td>[liars, you, tried, to, load, off, your, expir...</td>\n",
       "      <td>[liars, tried, load, expired, vaccines, anothe...</td>\n",
       "      <td>[liar, tri, load, expir, vaccin, anoth, war, c...</td>\n",
       "    </tr>\n",
       "  </tbody>\n",
       "</table>\n",
       "<p>6532 rows × 7 columns</p>\n",
       "</div>"
      ],
      "text/plain": [
       "                                                   text  polarity     score  \\\n",
       "0     rt    africa is  in the midst of a full blown ...  0.000000   neutral   \n",
       "1     dr moeti is head of who in africa  and one of ...  0.133333  positive   \n",
       "2     thank you  2note for creating this amazing cam...  0.316667  positive   \n",
       "3     former pfizer vp and virologist  dr  michael y...  0.166667  positive   \n",
       "4     i think it s important that we don t sell cova...  0.300000  positive   \n",
       "...                                                 ...       ...       ...   \n",
       "6527  zweli please just release the graphic designer...  0.000000   neutral   \n",
       "6528  former pfizer vp and virologist  dr  michael y...  0.166667  positive   \n",
       "6529   73   respectfully  veterinarians have to have...  0.281250  positive   \n",
       "6530   africa needs millions more doses here  amp  n...  0.166667  positive   \n",
       "6531  liars  you tried to load off your expired vacc...  0.000000   neutral   \n",
       "\n",
       "                                                  punct  \\\n",
       "0     rt    africa is  in the midst of a full blown ...   \n",
       "1     dr moeti is head of who in africa  and one of ...   \n",
       "2     thank you  2note for creating this amazing cam...   \n",
       "3     former pfizer vp and virologist  dr  michael y...   \n",
       "4     i think it s important that we don t sell cova...   \n",
       "...                                                 ...   \n",
       "6527  zweli please just release the graphic designer...   \n",
       "6528  former pfizer vp and virologist  dr  michael y...   \n",
       "6529   73   respectfully  veterinarians have to have...   \n",
       "6530   africa needs millions more doses here  amp  n...   \n",
       "6531  liars  you tried to load off your expired vacc...   \n",
       "\n",
       "                                              tokenized  \\\n",
       "0     [rt, africa, is, in, the, midst, of, a, full, ...   \n",
       "1     [dr, moeti, is, head, of, who, in, africa, and...   \n",
       "2     [thank, you, 2note, for, creating, this, amazi...   \n",
       "3     [former, pfizer, vp, and, virologist, dr, mich...   \n",
       "4     [i, think, it, s, important, that, we, don, t,...   \n",
       "...                                                 ...   \n",
       "6527  [zweli, please, just, release, the, graphic, d...   \n",
       "6528  [former, pfizer, vp, and, virologist, dr, mich...   \n",
       "6529  [, 73, respectfully, veterinarians, have, to, ...   \n",
       "6530  [, africa, needs, millions, more, doses, here,...   \n",
       "6531  [liars, you, tried, to, load, off, your, expir...   \n",
       "\n",
       "                                                nonstop  \\\n",
       "0     [rt, africa, midst, full, blown, third, wave, ...   \n",
       "1     [dr, moeti, head, africa, one, best, public, h...   \n",
       "2     [thank, 2note, creating, amazing, campaign, am...   \n",
       "3     [former, pfizer, vp, virologist, dr, michael, ...   \n",
       "4     [think, important, sell, covax, short, still, ...   \n",
       "...                                                 ...   \n",
       "6527  [zweli, please, release, graphic, designers, f...   \n",
       "6528  [former, pfizer, vp, virologist, dr, michael, ...   \n",
       "6529  [, 73, respectfully, veterinarians, broad, kno...   \n",
       "6530  [, africa, needs, millions, doses, amp, curb, ...   \n",
       "6531  [liars, tried, load, expired, vaccines, anothe...   \n",
       "\n",
       "                                                stemmed  \n",
       "0     [rt, africa, midst, full, blown, third, wave, ...  \n",
       "1     [dr, moeti, head, africa, one, best, public, h...  \n",
       "2     [thank, 2note, creat, amaz, campaign, amp, tur...  \n",
       "3     [former, pfizer, vp, virologist, dr, michael, ...  \n",
       "4     [think, import, sell, covax, short, still, lot...  \n",
       "...                                                 ...  \n",
       "6527  [zweli, pleas, releas, graphic, design, firewo...  \n",
       "6528  [former, pfizer, vp, virologist, dr, michael, ...  \n",
       "6529  [, 73, respect, veterinarian, broad, knowledg,...  \n",
       "6530  [, africa, need, million, dose, amp, curb, thi...  \n",
       "6531  [liar, tri, load, expir, vaccin, anoth, war, c...  \n",
       "\n",
       "[6532 rows x 7 columns]"
      ]
     },
     "execution_count": 100,
     "metadata": {},
     "output_type": "execute_result"
    }
   ],
   "source": [
    "CleanTweets.head(10000)"
   ]
  },
  {
   "cell_type": "code",
   "execution_count": 85,
   "metadata": {},
   "outputs": [],
   "source": [
    "#Creating new data frames for all sentiments (positive, negative and neutral)\n",
    "CleanTweets_negative = CleanTweets[CleanTweets[\"score\"]==\"negative\"]\n",
    "CleanTweets_positive = CleanTweets[CleanTweets[\"score\"]==\"positive\"]\n",
    "CleanTweets_neutral = CleanTweets[CleanTweets[\"score\"]==\"neutral\"] "
   ]
  },
  {
   "cell_type": "code",
   "execution_count": null,
   "metadata": {},
   "outputs": [],
   "source": [
    "clean_tweet= [\"text\",\"polarity\"]\n",
    "tw_list[clean_tweet].head()\n",
    "\n",
    "CleanTweets = tw_list[clean_tweet]\n",
    "CleanTweets.head()"
   ]
  },
  {
   "cell_type": "code",
   "execution_count": null,
   "metadata": {},
   "outputs": [],
   "source": []
  },
  {
   "cell_type": "code",
   "execution_count": null,
   "metadata": {},
   "outputs": [],
   "source": []
  },
  {
   "cell_type": "code",
   "execution_count": 15,
   "metadata": {},
   "outputs": [
    {
     "data": {
      "text/html": [
       "<div>\n",
       "<style scoped>\n",
       "    .dataframe tbody tr th:only-of-type {\n",
       "        vertical-align: middle;\n",
       "    }\n",
       "\n",
       "    .dataframe tbody tr th {\n",
       "        vertical-align: top;\n",
       "    }\n",
       "\n",
       "    .dataframe thead th {\n",
       "        text-align: right;\n",
       "    }\n",
       "</style>\n",
       "<table border=\"1\" class=\"dataframe\">\n",
       "  <thead>\n",
       "    <tr style=\"text-align: right;\">\n",
       "      <th></th>\n",
       "      <th>Total</th>\n",
       "      <th>Percentage</th>\n",
       "    </tr>\n",
       "  </thead>\n",
       "  <tbody>\n",
       "    <tr>\n",
       "      <th>positive</th>\n",
       "      <td>2808</td>\n",
       "      <td>42.99</td>\n",
       "    </tr>\n",
       "    <tr>\n",
       "      <th>neutral</th>\n",
       "      <td>2508</td>\n",
       "      <td>38.40</td>\n",
       "    </tr>\n",
       "    <tr>\n",
       "      <th>negative</th>\n",
       "      <td>1216</td>\n",
       "      <td>18.62</td>\n",
       "    </tr>\n",
       "  </tbody>\n",
       "</table>\n",
       "</div>"
      ],
      "text/plain": [
       "          Total  Percentage\n",
       "positive   2808       42.99\n",
       "neutral    2508       38.40\n",
       "negative   1216       18.62"
      ]
     },
     "execution_count": 15,
     "metadata": {},
     "output_type": "execute_result"
    }
   ],
   "source": [
    "def count_values_in_column(data,feature):\n",
    "    total = data.loc[:,feature].value_counts(dropna=False)\n",
    "    percentage=round(data.loc[:,feature].value_counts(dropna=False,normalize=True)*100,2) \n",
    "    return pd.concat([total,percentage],axis=1,keys=['Total','Percentage'])\n",
    "#Count_values for sentiment\n",
    "count_values_in_column(CleanTweets,\"score\")"
   ]
  },
  {
   "cell_type": "code",
   "execution_count": 16,
   "metadata": {},
   "outputs": [
    {
     "data": {
      "text/plain": [
       "<AxesSubplot:>"
      ]
     },
     "execution_count": 16,
     "metadata": {},
     "output_type": "execute_result"
    },
    {
     "data": {
      "image/png": "[encoded data removed]",
      "text/plain": [
       "<Figure size 432x288 with 1 Axes>"
      ]
     },
     "metadata": {
      "needs_background": "light"
     },
     "output_type": "display_data"
    }
   ],
   "source": [
    "CleanTweets['score'].value_counts().plot(kind='bar')"
   ]
  },
  {
   "cell_type": "code",
   "execution_count": 17,
   "metadata": {},
   "outputs": [
    {
     "data": {
      "text/plain": [
       "<AxesSubplot:ylabel='score'>"
      ]
     },
     "execution_count": 17,
     "metadata": {},
     "output_type": "execute_result"
    },
    {
     "data": {
      "image/png": "[encoded data removed]",
      "text/plain": [
       "<Figure size 432x288 with 1 Axes>"
      ]
     },
     "metadata": {},
     "output_type": "display_data"
    }
   ],
   "source": [
    "\n",
    "CleanTweets['score'].value_counts().plot(kind='pie')\n"
   ]
  },
  {
   "cell_type": "code",
   "execution_count": 58,
   "metadata": {},
   "outputs": [],
   "source": [
    "def create_wordcloud(msgs):\n",
    "    stopwords = set(STOPWORDS)\n",
    "    cloud = WordCloud(width=400,\n",
    "                      height=330,\n",
    "                      max_words=5000,\n",
    "                      colormap='tab20c',\n",
    "                      stopwords=stopwords,\n",
    "                      collocations=True).generate_from_text(msgs)\n",
    "    plt.figure(figsize=(20,12))\n",
    "    plt.imshow(cloud, interpolation=\"bilinear\")\n",
    "    plt.axis('off')\n",
    "    plt.tight_layout(); plt.title('most used words', size=20)\n",
    "    plt.savefig('masked_wordcloud.jpg')\n",
    "    plt.show()"
   ]
  },
  {
   "cell_type": "code",
   "execution_count": 104,
   "metadata": {},
   "outputs": [
    {
     "data": {
      "image/png": "[encoded data removed]",
      "text/plain": [
       "<Figure size 1440x864 with 1 Axes>"
      ]
     },
     "metadata": {
      "needs_background": "light"
     },
     "output_type": "display_data"
    }
   ],
   "source": [
    "create_wordcloud(CleanTweets.text[1000])"
   ]
  },
  {
   "cell_type": "code",
   "execution_count": 86,
   "metadata": {},
   "outputs": [
    {
     "name": "stderr",
     "output_type": "stream",
     "text": [
      "<ipython-input-86-4ab906926bc7>:6: SettingWithCopyWarning: \n",
      "A value is trying to be set on a copy of a slice from a DataFrame.\n",
      "Try using .loc[row_indexer,col_indexer] = value instead\n",
      "\n",
      "See the caveats in the documentation: https://pandas.pydata.org/pandas-docs/stable/user_guide/indexing.html#returning-a-view-versus-a-copy\n",
      "  CleanTweets['punct'] = CleanTweets['text'].apply(lambda x: remove_punct(x))\n"
     ]
    },
    {
     "data": {
      "text/html": [
       "<div>\n",
       "<style scoped>\n",
       "    .dataframe tbody tr th:only-of-type {\n",
       "        vertical-align: middle;\n",
       "    }\n",
       "\n",
       "    .dataframe tbody tr th {\n",
       "        vertical-align: top;\n",
       "    }\n",
       "\n",
       "    .dataframe thead th {\n",
       "        text-align: right;\n",
       "    }\n",
       "</style>\n",
       "<table border=\"1\" class=\"dataframe\">\n",
       "  <thead>\n",
       "    <tr style=\"text-align: right;\">\n",
       "      <th></th>\n",
       "      <th>text</th>\n",
       "      <th>polarity</th>\n",
       "      <th>score</th>\n",
       "      <th>punct</th>\n",
       "    </tr>\n",
       "  </thead>\n",
       "  <tbody>\n",
       "    <tr>\n",
       "      <th>0</th>\n",
       "      <td>rt    africa is  in the midst of a full blown ...</td>\n",
       "      <td>0.000000</td>\n",
       "      <td>neutral</td>\n",
       "      <td>rt    africa is  in the midst of a full blown ...</td>\n",
       "    </tr>\n",
       "    <tr>\n",
       "      <th>1</th>\n",
       "      <td>dr moeti is head of who in africa  and one of ...</td>\n",
       "      <td>0.133333</td>\n",
       "      <td>positive</td>\n",
       "      <td>dr moeti is head of who in africa  and one of ...</td>\n",
       "    </tr>\n",
       "    <tr>\n",
       "      <th>2</th>\n",
       "      <td>thank you  2note for creating this amazing cam...</td>\n",
       "      <td>0.316667</td>\n",
       "      <td>positive</td>\n",
       "      <td>thank you  2note for creating this amazing cam...</td>\n",
       "    </tr>\n",
       "    <tr>\n",
       "      <th>3</th>\n",
       "      <td>former pfizer vp and virologist  dr  michael y...</td>\n",
       "      <td>0.166667</td>\n",
       "      <td>positive</td>\n",
       "      <td>former pfizer vp and virologist  dr  michael y...</td>\n",
       "    </tr>\n",
       "    <tr>\n",
       "      <th>4</th>\n",
       "      <td>i think it s important that we don t sell cova...</td>\n",
       "      <td>0.300000</td>\n",
       "      <td>positive</td>\n",
       "      <td>i think it s important that we don t sell cova...</td>\n",
       "    </tr>\n",
       "  </tbody>\n",
       "</table>\n",
       "</div>"
      ],
      "text/plain": [
       "                                                text  polarity     score  \\\n",
       "0  rt    africa is  in the midst of a full blown ...  0.000000   neutral   \n",
       "1  dr moeti is head of who in africa  and one of ...  0.133333  positive   \n",
       "2  thank you  2note for creating this amazing cam...  0.316667  positive   \n",
       "3  former pfizer vp and virologist  dr  michael y...  0.166667  positive   \n",
       "4  i think it s important that we don t sell cova...  0.300000  positive   \n",
       "\n",
       "                                               punct  \n",
       "0  rt    africa is  in the midst of a full blown ...  \n",
       "1  dr moeti is head of who in africa  and one of ...  \n",
       "2  thank you  2note for creating this amazing cam...  \n",
       "3  former pfizer vp and virologist  dr  michael y...  \n",
       "4  i think it s important that we don t sell cova...  "
      ]
     },
     "execution_count": 86,
     "metadata": {},
     "output_type": "execute_result"
    }
   ],
   "source": [
    "#Removing Punctuation\n",
    "def remove_punct(text):\n",
    "    text = \"\".join([char for char in text if char not in string.punctuation])\n",
    "    text = re.sub('[0–9]+', '', text)\n",
    "    return text\n",
    "CleanTweets['punct'] = CleanTweets['text'].apply(lambda x: remove_punct(x))\n",
    "CleanTweets.head()"
   ]
  },
  {
   "cell_type": "code",
   "execution_count": 87,
   "metadata": {},
   "outputs": [
    {
     "name": "stderr",
     "output_type": "stream",
     "text": [
      "<ipython-input-87-70e495294769>:5: SettingWithCopyWarning: \n",
      "A value is trying to be set on a copy of a slice from a DataFrame.\n",
      "Try using .loc[row_indexer,col_indexer] = value instead\n",
      "\n",
      "See the caveats in the documentation: https://pandas.pydata.org/pandas-docs/stable/user_guide/indexing.html#returning-a-view-versus-a-copy\n",
      "  CleanTweets['tokenized'] = CleanTweets['punct'].apply(lambda x: tokenization(x.lower()))\n"
     ]
    },
    {
     "data": {
      "text/html": [
       "<div>\n",
       "<style scoped>\n",
       "    .dataframe tbody tr th:only-of-type {\n",
       "        vertical-align: middle;\n",
       "    }\n",
       "\n",
       "    .dataframe tbody tr th {\n",
       "        vertical-align: top;\n",
       "    }\n",
       "\n",
       "    .dataframe thead th {\n",
       "        text-align: right;\n",
       "    }\n",
       "</style>\n",
       "<table border=\"1\" class=\"dataframe\">\n",
       "  <thead>\n",
       "    <tr style=\"text-align: right;\">\n",
       "      <th></th>\n",
       "      <th>text</th>\n",
       "      <th>polarity</th>\n",
       "      <th>score</th>\n",
       "      <th>punct</th>\n",
       "      <th>tokenized</th>\n",
       "    </tr>\n",
       "  </thead>\n",
       "  <tbody>\n",
       "    <tr>\n",
       "      <th>0</th>\n",
       "      <td>rt    africa is  in the midst of a full blown ...</td>\n",
       "      <td>0.000000</td>\n",
       "      <td>neutral</td>\n",
       "      <td>rt    africa is  in the midst of a full blown ...</td>\n",
       "      <td>[rt, africa, is, in, the, midst, of, a, full, ...</td>\n",
       "    </tr>\n",
       "    <tr>\n",
       "      <th>1</th>\n",
       "      <td>dr moeti is head of who in africa  and one of ...</td>\n",
       "      <td>0.133333</td>\n",
       "      <td>positive</td>\n",
       "      <td>dr moeti is head of who in africa  and one of ...</td>\n",
       "      <td>[dr, moeti, is, head, of, who, in, africa, and...</td>\n",
       "    </tr>\n",
       "    <tr>\n",
       "      <th>2</th>\n",
       "      <td>thank you  2note for creating this amazing cam...</td>\n",
       "      <td>0.316667</td>\n",
       "      <td>positive</td>\n",
       "      <td>thank you  2note for creating this amazing cam...</td>\n",
       "      <td>[thank, you, 2note, for, creating, this, amazi...</td>\n",
       "    </tr>\n",
       "    <tr>\n",
       "      <th>3</th>\n",
       "      <td>former pfizer vp and virologist  dr  michael y...</td>\n",
       "      <td>0.166667</td>\n",
       "      <td>positive</td>\n",
       "      <td>former pfizer vp and virologist  dr  michael y...</td>\n",
       "      <td>[former, pfizer, vp, and, virologist, dr, mich...</td>\n",
       "    </tr>\n",
       "    <tr>\n",
       "      <th>4</th>\n",
       "      <td>i think it s important that we don t sell cova...</td>\n",
       "      <td>0.300000</td>\n",
       "      <td>positive</td>\n",
       "      <td>i think it s important that we don t sell cova...</td>\n",
       "      <td>[i, think, it, s, important, that, we, don, t,...</td>\n",
       "    </tr>\n",
       "  </tbody>\n",
       "</table>\n",
       "</div>"
      ],
      "text/plain": [
       "                                                text  polarity     score  \\\n",
       "0  rt    africa is  in the midst of a full blown ...  0.000000   neutral   \n",
       "1  dr moeti is head of who in africa  and one of ...  0.133333  positive   \n",
       "2  thank you  2note for creating this amazing cam...  0.316667  positive   \n",
       "3  former pfizer vp and virologist  dr  michael y...  0.166667  positive   \n",
       "4  i think it s important that we don t sell cova...  0.300000  positive   \n",
       "\n",
       "                                               punct  \\\n",
       "0  rt    africa is  in the midst of a full blown ...   \n",
       "1  dr moeti is head of who in africa  and one of ...   \n",
       "2  thank you  2note for creating this amazing cam...   \n",
       "3  former pfizer vp and virologist  dr  michael y...   \n",
       "4  i think it s important that we don t sell cova...   \n",
       "\n",
       "                                           tokenized  \n",
       "0  [rt, africa, is, in, the, midst, of, a, full, ...  \n",
       "1  [dr, moeti, is, head, of, who, in, africa, and...  \n",
       "2  [thank, you, 2note, for, creating, this, amazi...  \n",
       "3  [former, pfizer, vp, and, virologist, dr, mich...  \n",
       "4  [i, think, it, s, important, that, we, don, t,...  "
      ]
     },
     "execution_count": 87,
     "metadata": {},
     "output_type": "execute_result"
    }
   ],
   "source": [
    "#Appliyng tokenization\n",
    "def tokenization(text):\n",
    "    text = re.split('\\W+', text)\n",
    "    return text\n",
    "CleanTweets['tokenized'] = CleanTweets['punct'].apply(lambda x: tokenization(x.lower()))\n",
    "CleanTweets.head()"
   ]
  },
  {
   "cell_type": "code",
   "execution_count": 88,
   "metadata": {},
   "outputs": [
    {
     "name": "stderr",
     "output_type": "stream",
     "text": [
      "<ipython-input-88-07543d8b5b27>:7: SettingWithCopyWarning: \n",
      "A value is trying to be set on a copy of a slice from a DataFrame.\n",
      "Try using .loc[row_indexer,col_indexer] = value instead\n",
      "\n",
      "See the caveats in the documentation: https://pandas.pydata.org/pandas-docs/stable/user_guide/indexing.html#returning-a-view-versus-a-copy\n",
      "  CleanTweets['nonstop'] = CleanTweets['tokenized'].apply(lambda x: remove_stopwords(x))\n"
     ]
    },
    {
     "data": {
      "text/html": [
       "<div>\n",
       "<style scoped>\n",
       "    .dataframe tbody tr th:only-of-type {\n",
       "        vertical-align: middle;\n",
       "    }\n",
       "\n",
       "    .dataframe tbody tr th {\n",
       "        vertical-align: top;\n",
       "    }\n",
       "\n",
       "    .dataframe thead th {\n",
       "        text-align: right;\n",
       "    }\n",
       "</style>\n",
       "<table border=\"1\" class=\"dataframe\">\n",
       "  <thead>\n",
       "    <tr style=\"text-align: right;\">\n",
       "      <th></th>\n",
       "      <th>text</th>\n",
       "      <th>polarity</th>\n",
       "      <th>score</th>\n",
       "      <th>punct</th>\n",
       "      <th>tokenized</th>\n",
       "      <th>nonstop</th>\n",
       "    </tr>\n",
       "  </thead>\n",
       "  <tbody>\n",
       "    <tr>\n",
       "      <th>0</th>\n",
       "      <td>rt    africa is  in the midst of a full blown ...</td>\n",
       "      <td>0.000000</td>\n",
       "      <td>neutral</td>\n",
       "      <td>rt    africa is  in the midst of a full blown ...</td>\n",
       "      <td>[rt, africa, is, in, the, midst, of, a, full, ...</td>\n",
       "      <td>[rt, africa, midst, full, blown, third, wave, ...</td>\n",
       "    </tr>\n",
       "    <tr>\n",
       "      <th>1</th>\n",
       "      <td>dr moeti is head of who in africa  and one of ...</td>\n",
       "      <td>0.133333</td>\n",
       "      <td>positive</td>\n",
       "      <td>dr moeti is head of who in africa  and one of ...</td>\n",
       "      <td>[dr, moeti, is, head, of, who, in, africa, and...</td>\n",
       "      <td>[dr, moeti, head, africa, one, best, public, h...</td>\n",
       "    </tr>\n",
       "    <tr>\n",
       "      <th>2</th>\n",
       "      <td>thank you  2note for creating this amazing cam...</td>\n",
       "      <td>0.316667</td>\n",
       "      <td>positive</td>\n",
       "      <td>thank you  2note for creating this amazing cam...</td>\n",
       "      <td>[thank, you, 2note, for, creating, this, amazi...</td>\n",
       "      <td>[thank, 2note, creating, amazing, campaign, am...</td>\n",
       "    </tr>\n",
       "    <tr>\n",
       "      <th>3</th>\n",
       "      <td>former pfizer vp and virologist  dr  michael y...</td>\n",
       "      <td>0.166667</td>\n",
       "      <td>positive</td>\n",
       "      <td>former pfizer vp and virologist  dr  michael y...</td>\n",
       "      <td>[former, pfizer, vp, and, virologist, dr, mich...</td>\n",
       "      <td>[former, pfizer, vp, virologist, dr, michael, ...</td>\n",
       "    </tr>\n",
       "    <tr>\n",
       "      <th>4</th>\n",
       "      <td>i think it s important that we don t sell cova...</td>\n",
       "      <td>0.300000</td>\n",
       "      <td>positive</td>\n",
       "      <td>i think it s important that we don t sell cova...</td>\n",
       "      <td>[i, think, it, s, important, that, we, don, t,...</td>\n",
       "      <td>[think, important, sell, covax, short, still, ...</td>\n",
       "    </tr>\n",
       "  </tbody>\n",
       "</table>\n",
       "</div>"
      ],
      "text/plain": [
       "                                                text  polarity     score  \\\n",
       "0  rt    africa is  in the midst of a full blown ...  0.000000   neutral   \n",
       "1  dr moeti is head of who in africa  and one of ...  0.133333  positive   \n",
       "2  thank you  2note for creating this amazing cam...  0.316667  positive   \n",
       "3  former pfizer vp and virologist  dr  michael y...  0.166667  positive   \n",
       "4  i think it s important that we don t sell cova...  0.300000  positive   \n",
       "\n",
       "                                               punct  \\\n",
       "0  rt    africa is  in the midst of a full blown ...   \n",
       "1  dr moeti is head of who in africa  and one of ...   \n",
       "2  thank you  2note for creating this amazing cam...   \n",
       "3  former pfizer vp and virologist  dr  michael y...   \n",
       "4  i think it s important that we don t sell cova...   \n",
       "\n",
       "                                           tokenized  \\\n",
       "0  [rt, africa, is, in, the, midst, of, a, full, ...   \n",
       "1  [dr, moeti, is, head, of, who, in, africa, and...   \n",
       "2  [thank, you, 2note, for, creating, this, amazi...   \n",
       "3  [former, pfizer, vp, and, virologist, dr, mich...   \n",
       "4  [i, think, it, s, important, that, we, don, t,...   \n",
       "\n",
       "                                             nonstop  \n",
       "0  [rt, africa, midst, full, blown, third, wave, ...  \n",
       "1  [dr, moeti, head, africa, one, best, public, h...  \n",
       "2  [thank, 2note, creating, amazing, campaign, am...  \n",
       "3  [former, pfizer, vp, virologist, dr, michael, ...  \n",
       "4  [think, important, sell, covax, short, still, ...  "
      ]
     },
     "execution_count": 88,
     "metadata": {},
     "output_type": "execute_result"
    }
   ],
   "source": [
    "#Removing stopwords\n",
    "stopword = nltk.corpus.stopwords.words('english')\n",
    "def remove_stopwords(text):\n",
    "    text = [word for word in text if word not in stopword]\n",
    "    return text\n",
    "    \n",
    "CleanTweets['nonstop'] = CleanTweets['tokenized'].apply(lambda x: remove_stopwords(x))\n",
    "CleanTweets.head()"
   ]
  },
  {
   "cell_type": "code",
   "execution_count": 89,
   "metadata": {},
   "outputs": [
    {
     "name": "stderr",
     "output_type": "stream",
     "text": [
      "<ipython-input-89-328fcdf320c4>:6: SettingWithCopyWarning: \n",
      "A value is trying to be set on a copy of a slice from a DataFrame.\n",
      "Try using .loc[row_indexer,col_indexer] = value instead\n",
      "\n",
      "See the caveats in the documentation: https://pandas.pydata.org/pandas-docs/stable/user_guide/indexing.html#returning-a-view-versus-a-copy\n",
      "  CleanTweets['stemmed'] = CleanTweets['nonstop'].apply(lambda x: stemming(x))\n"
     ]
    },
    {
     "data": {
      "text/html": [
       "<div>\n",
       "<style scoped>\n",
       "    .dataframe tbody tr th:only-of-type {\n",
       "        vertical-align: middle;\n",
       "    }\n",
       "\n",
       "    .dataframe tbody tr th {\n",
       "        vertical-align: top;\n",
       "    }\n",
       "\n",
       "    .dataframe thead th {\n",
       "        text-align: right;\n",
       "    }\n",
       "</style>\n",
       "<table border=\"1\" class=\"dataframe\">\n",
       "  <thead>\n",
       "    <tr style=\"text-align: right;\">\n",
       "      <th></th>\n",
       "      <th>text</th>\n",
       "      <th>polarity</th>\n",
       "      <th>score</th>\n",
       "      <th>punct</th>\n",
       "      <th>tokenized</th>\n",
       "      <th>nonstop</th>\n",
       "      <th>stemmed</th>\n",
       "    </tr>\n",
       "  </thead>\n",
       "  <tbody>\n",
       "    <tr>\n",
       "      <th>0</th>\n",
       "      <td>rt    africa is  in the midst of a full blown ...</td>\n",
       "      <td>0.000000</td>\n",
       "      <td>neutral</td>\n",
       "      <td>rt    africa is  in the midst of a full blown ...</td>\n",
       "      <td>[rt, africa, is, in, the, midst, of, a, full, ...</td>\n",
       "      <td>[rt, africa, midst, full, blown, third, wave, ...</td>\n",
       "      <td>[rt, africa, midst, full, blown, third, wave, ...</td>\n",
       "    </tr>\n",
       "    <tr>\n",
       "      <th>1</th>\n",
       "      <td>dr moeti is head of who in africa  and one of ...</td>\n",
       "      <td>0.133333</td>\n",
       "      <td>positive</td>\n",
       "      <td>dr moeti is head of who in africa  and one of ...</td>\n",
       "      <td>[dr, moeti, is, head, of, who, in, africa, and...</td>\n",
       "      <td>[dr, moeti, head, africa, one, best, public, h...</td>\n",
       "      <td>[dr, moeti, head, africa, one, best, public, h...</td>\n",
       "    </tr>\n",
       "    <tr>\n",
       "      <th>2</th>\n",
       "      <td>thank you  2note for creating this amazing cam...</td>\n",
       "      <td>0.316667</td>\n",
       "      <td>positive</td>\n",
       "      <td>thank you  2note for creating this amazing cam...</td>\n",
       "      <td>[thank, you, 2note, for, creating, this, amazi...</td>\n",
       "      <td>[thank, 2note, creating, amazing, campaign, am...</td>\n",
       "      <td>[thank, 2note, creat, amaz, campaign, amp, tur...</td>\n",
       "    </tr>\n",
       "    <tr>\n",
       "      <th>3</th>\n",
       "      <td>former pfizer vp and virologist  dr  michael y...</td>\n",
       "      <td>0.166667</td>\n",
       "      <td>positive</td>\n",
       "      <td>former pfizer vp and virologist  dr  michael y...</td>\n",
       "      <td>[former, pfizer, vp, and, virologist, dr, mich...</td>\n",
       "      <td>[former, pfizer, vp, virologist, dr, michael, ...</td>\n",
       "      <td>[former, pfizer, vp, virologist, dr, michael, ...</td>\n",
       "    </tr>\n",
       "    <tr>\n",
       "      <th>4</th>\n",
       "      <td>i think it s important that we don t sell cova...</td>\n",
       "      <td>0.300000</td>\n",
       "      <td>positive</td>\n",
       "      <td>i think it s important that we don t sell cova...</td>\n",
       "      <td>[i, think, it, s, important, that, we, don, t,...</td>\n",
       "      <td>[think, important, sell, covax, short, still, ...</td>\n",
       "      <td>[think, import, sell, covax, short, still, lot...</td>\n",
       "    </tr>\n",
       "  </tbody>\n",
       "</table>\n",
       "</div>"
      ],
      "text/plain": [
       "                                                text  polarity     score  \\\n",
       "0  rt    africa is  in the midst of a full blown ...  0.000000   neutral   \n",
       "1  dr moeti is head of who in africa  and one of ...  0.133333  positive   \n",
       "2  thank you  2note for creating this amazing cam...  0.316667  positive   \n",
       "3  former pfizer vp and virologist  dr  michael y...  0.166667  positive   \n",
       "4  i think it s important that we don t sell cova...  0.300000  positive   \n",
       "\n",
       "                                               punct  \\\n",
       "0  rt    africa is  in the midst of a full blown ...   \n",
       "1  dr moeti is head of who in africa  and one of ...   \n",
       "2  thank you  2note for creating this amazing cam...   \n",
       "3  former pfizer vp and virologist  dr  michael y...   \n",
       "4  i think it s important that we don t sell cova...   \n",
       "\n",
       "                                           tokenized  \\\n",
       "0  [rt, africa, is, in, the, midst, of, a, full, ...   \n",
       "1  [dr, moeti, is, head, of, who, in, africa, and...   \n",
       "2  [thank, you, 2note, for, creating, this, amazi...   \n",
       "3  [former, pfizer, vp, and, virologist, dr, mich...   \n",
       "4  [i, think, it, s, important, that, we, don, t,...   \n",
       "\n",
       "                                             nonstop  \\\n",
       "0  [rt, africa, midst, full, blown, third, wave, ...   \n",
       "1  [dr, moeti, head, africa, one, best, public, h...   \n",
       "2  [thank, 2note, creating, amazing, campaign, am...   \n",
       "3  [former, pfizer, vp, virologist, dr, michael, ...   \n",
       "4  [think, important, sell, covax, short, still, ...   \n",
       "\n",
       "                                             stemmed  \n",
       "0  [rt, africa, midst, full, blown, third, wave, ...  \n",
       "1  [dr, moeti, head, africa, one, best, public, h...  \n",
       "2  [thank, 2note, creat, amaz, campaign, amp, tur...  \n",
       "3  [former, pfizer, vp, virologist, dr, michael, ...  \n",
       "4  [think, import, sell, covax, short, still, lot...  "
      ]
     },
     "execution_count": 89,
     "metadata": {},
     "output_type": "execute_result"
    }
   ],
   "source": [
    "#Appliyng Stemmer\n",
    "ps = nltk.PorterStemmer()\n",
    "def stemming(text):\n",
    "    text = [ps.stem(word) for word in text]\n",
    "    return text\n",
    "CleanTweets['stemmed'] = CleanTweets['nonstop'].apply(lambda x: stemming(x))\n",
    "CleanTweets.head()"
   ]
  },
  {
   "cell_type": "code",
   "execution_count": 90,
   "metadata": {},
   "outputs": [],
   "source": [
    "#Cleaning Text\n",
    "def clean_text(text):\n",
    "    text_lc = \"\".join([word.lower() for word in text if word not in string.punctuation]) # remove puntuation\n",
    "    text_rc = re.sub('[0-9]+', '', text_lc)\n",
    "    tokens = re.split('\\W+', text_rc)    # tokenization\n",
    "    text = [ps.stem(word) for word in tokens if word not in stopword]  # remove stopwords and stemming\n",
    "    return text"
   ]
  },
  {
   "cell_type": "code",
   "execution_count": 91,
   "metadata": {},
   "outputs": [
    {
     "data": {
      "text/html": [
       "<div>\n",
       "<style scoped>\n",
       "    .dataframe tbody tr th:only-of-type {\n",
       "        vertical-align: middle;\n",
       "    }\n",
       "\n",
       "    .dataframe tbody tr th {\n",
       "        vertical-align: top;\n",
       "    }\n",
       "\n",
       "    .dataframe thead th {\n",
       "        text-align: right;\n",
       "    }\n",
       "</style>\n",
       "<table border=\"1\" class=\"dataframe\">\n",
       "  <thead>\n",
       "    <tr style=\"text-align: right;\">\n",
       "      <th></th>\n",
       "      <th>text</th>\n",
       "      <th>polarity</th>\n",
       "      <th>score</th>\n",
       "      <th>punct</th>\n",
       "      <th>tokenized</th>\n",
       "      <th>nonstop</th>\n",
       "      <th>stemmed</th>\n",
       "    </tr>\n",
       "  </thead>\n",
       "  <tbody>\n",
       "    <tr>\n",
       "      <th>0</th>\n",
       "      <td>rt    africa is  in the midst of a full blown ...</td>\n",
       "      <td>0.000000</td>\n",
       "      <td>neutral</td>\n",
       "      <td>rt    africa is  in the midst of a full blown ...</td>\n",
       "      <td>[rt, africa, is, in, the, midst, of, a, full, ...</td>\n",
       "      <td>[rt, africa, midst, full, blown, third, wave, ...</td>\n",
       "      <td>[rt, africa, midst, full, blown, third, wave, ...</td>\n",
       "    </tr>\n",
       "    <tr>\n",
       "      <th>1</th>\n",
       "      <td>dr moeti is head of who in africa  and one of ...</td>\n",
       "      <td>0.133333</td>\n",
       "      <td>positive</td>\n",
       "      <td>dr moeti is head of who in africa  and one of ...</td>\n",
       "      <td>[dr, moeti, is, head, of, who, in, africa, and...</td>\n",
       "      <td>[dr, moeti, head, africa, one, best, public, h...</td>\n",
       "      <td>[dr, moeti, head, africa, one, best, public, h...</td>\n",
       "    </tr>\n",
       "    <tr>\n",
       "      <th>2</th>\n",
       "      <td>thank you  2note for creating this amazing cam...</td>\n",
       "      <td>0.316667</td>\n",
       "      <td>positive</td>\n",
       "      <td>thank you  2note for creating this amazing cam...</td>\n",
       "      <td>[thank, you, 2note, for, creating, this, amazi...</td>\n",
       "      <td>[thank, 2note, creating, amazing, campaign, am...</td>\n",
       "      <td>[thank, 2note, creat, amaz, campaign, amp, tur...</td>\n",
       "    </tr>\n",
       "    <tr>\n",
       "      <th>3</th>\n",
       "      <td>former pfizer vp and virologist  dr  michael y...</td>\n",
       "      <td>0.166667</td>\n",
       "      <td>positive</td>\n",
       "      <td>former pfizer vp and virologist  dr  michael y...</td>\n",
       "      <td>[former, pfizer, vp, and, virologist, dr, mich...</td>\n",
       "      <td>[former, pfizer, vp, virologist, dr, michael, ...</td>\n",
       "      <td>[former, pfizer, vp, virologist, dr, michael, ...</td>\n",
       "    </tr>\n",
       "    <tr>\n",
       "      <th>4</th>\n",
       "      <td>i think it s important that we don t sell cova...</td>\n",
       "      <td>0.300000</td>\n",
       "      <td>positive</td>\n",
       "      <td>i think it s important that we don t sell cova...</td>\n",
       "      <td>[i, think, it, s, important, that, we, don, t,...</td>\n",
       "      <td>[think, important, sell, covax, short, still, ...</td>\n",
       "      <td>[think, import, sell, covax, short, still, lot...</td>\n",
       "    </tr>\n",
       "  </tbody>\n",
       "</table>\n",
       "</div>"
      ],
      "text/plain": [
       "                                                text  polarity     score  \\\n",
       "0  rt    africa is  in the midst of a full blown ...  0.000000   neutral   \n",
       "1  dr moeti is head of who in africa  and one of ...  0.133333  positive   \n",
       "2  thank you  2note for creating this amazing cam...  0.316667  positive   \n",
       "3  former pfizer vp and virologist  dr  michael y...  0.166667  positive   \n",
       "4  i think it s important that we don t sell cova...  0.300000  positive   \n",
       "\n",
       "                                               punct  \\\n",
       "0  rt    africa is  in the midst of a full blown ...   \n",
       "1  dr moeti is head of who in africa  and one of ...   \n",
       "2  thank you  2note for creating this amazing cam...   \n",
       "3  former pfizer vp and virologist  dr  michael y...   \n",
       "4  i think it s important that we don t sell cova...   \n",
       "\n",
       "                                           tokenized  \\\n",
       "0  [rt, africa, is, in, the, midst, of, a, full, ...   \n",
       "1  [dr, moeti, is, head, of, who, in, africa, and...   \n",
       "2  [thank, you, 2note, for, creating, this, amazi...   \n",
       "3  [former, pfizer, vp, and, virologist, dr, mich...   \n",
       "4  [i, think, it, s, important, that, we, don, t,...   \n",
       "\n",
       "                                             nonstop  \\\n",
       "0  [rt, africa, midst, full, blown, third, wave, ...   \n",
       "1  [dr, moeti, head, africa, one, best, public, h...   \n",
       "2  [thank, 2note, creating, amazing, campaign, am...   \n",
       "3  [former, pfizer, vp, virologist, dr, michael, ...   \n",
       "4  [think, important, sell, covax, short, still, ...   \n",
       "\n",
       "                                             stemmed  \n",
       "0  [rt, africa, midst, full, blown, third, wave, ...  \n",
       "1  [dr, moeti, head, africa, one, best, public, h...  \n",
       "2  [thank, 2note, creat, amaz, campaign, amp, tur...  \n",
       "3  [former, pfizer, vp, virologist, dr, michael, ...  \n",
       "4  [think, import, sell, covax, short, still, lot...  "
      ]
     },
     "execution_count": 91,
     "metadata": {},
     "output_type": "execute_result"
    }
   ],
   "source": [
    "CleanTweets.head()"
   ]
  },
  {
   "cell_type": "code",
   "execution_count": 92,
   "metadata": {},
   "outputs": [
    {
     "name": "stdout",
     "output_type": "stream",
     "text": [
      "6532 Number of reviews has 3670 words\n"
     ]
    }
   ],
   "source": [
    "#Appliyng Countvectorizer\n",
    "countVectorizer = CountVectorizer(analyzer=clean_text) \n",
    "countVector = countVectorizer.fit_transform(CleanTweets['text'])\n",
    "print('{} Number of reviews has {} words'.format(countVector.shape[0], countVector.shape[1]))\n",
    "#print(countVectorizer.get_feature_names())"
   ]
  },
  {
   "cell_type": "code",
   "execution_count": 93,
   "metadata": {},
   "outputs": [
    {
     "data": {
      "text/html": [
       "<div>\n",
       "<style scoped>\n",
       "    .dataframe tbody tr th:only-of-type {\n",
       "        vertical-align: middle;\n",
       "    }\n",
       "\n",
       "    .dataframe tbody tr th {\n",
       "        vertical-align: top;\n",
       "    }\n",
       "\n",
       "    .dataframe thead th {\n",
       "        text-align: right;\n",
       "    }\n",
       "</style>\n",
       "<table border=\"1\" class=\"dataframe\">\n",
       "  <thead>\n",
       "    <tr style=\"text-align: right;\">\n",
       "      <th></th>\n",
       "      <th></th>\n",
       "      <th>ab</th>\n",
       "      <th>abandon</th>\n",
       "      <th>abil</th>\n",
       "      <th>abl</th>\n",
       "      <th>abolish</th>\n",
       "      <th>abpoli</th>\n",
       "      <th>abroad</th>\n",
       "      <th>absolut</th>\n",
       "      <th>absurd</th>\n",
       "      <th>...</th>\n",
       "      <th>z</th>\n",
       "      <th>zambia</th>\n",
       "      <th>zero</th>\n",
       "      <th>zi</th>\n",
       "      <th>zimbabw</th>\n",
       "      <th>zino</th>\n",
       "      <th>zionist</th>\n",
       "      <th>zirconia</th>\n",
       "      <th>zoo</th>\n",
       "      <th>zweli</th>\n",
       "    </tr>\n",
       "  </thead>\n",
       "  <tbody>\n",
       "    <tr>\n",
       "      <th>0</th>\n",
       "      <td>1</td>\n",
       "      <td>0</td>\n",
       "      <td>0</td>\n",
       "      <td>0</td>\n",
       "      <td>0</td>\n",
       "      <td>0</td>\n",
       "      <td>0</td>\n",
       "      <td>0</td>\n",
       "      <td>0</td>\n",
       "      <td>0</td>\n",
       "      <td>...</td>\n",
       "      <td>0</td>\n",
       "      <td>0</td>\n",
       "      <td>0</td>\n",
       "      <td>0</td>\n",
       "      <td>0</td>\n",
       "      <td>0</td>\n",
       "      <td>0</td>\n",
       "      <td>0</td>\n",
       "      <td>0</td>\n",
       "      <td>0</td>\n",
       "    </tr>\n",
       "    <tr>\n",
       "      <th>1</th>\n",
       "      <td>1</td>\n",
       "      <td>0</td>\n",
       "      <td>0</td>\n",
       "      <td>0</td>\n",
       "      <td>0</td>\n",
       "      <td>0</td>\n",
       "      <td>0</td>\n",
       "      <td>0</td>\n",
       "      <td>0</td>\n",
       "      <td>0</td>\n",
       "      <td>...</td>\n",
       "      <td>0</td>\n",
       "      <td>0</td>\n",
       "      <td>0</td>\n",
       "      <td>0</td>\n",
       "      <td>0</td>\n",
       "      <td>0</td>\n",
       "      <td>0</td>\n",
       "      <td>0</td>\n",
       "      <td>0</td>\n",
       "      <td>0</td>\n",
       "    </tr>\n",
       "    <tr>\n",
       "      <th>2</th>\n",
       "      <td>1</td>\n",
       "      <td>0</td>\n",
       "      <td>0</td>\n",
       "      <td>0</td>\n",
       "      <td>0</td>\n",
       "      <td>0</td>\n",
       "      <td>0</td>\n",
       "      <td>0</td>\n",
       "      <td>0</td>\n",
       "      <td>0</td>\n",
       "      <td>...</td>\n",
       "      <td>0</td>\n",
       "      <td>0</td>\n",
       "      <td>0</td>\n",
       "      <td>0</td>\n",
       "      <td>0</td>\n",
       "      <td>0</td>\n",
       "      <td>0</td>\n",
       "      <td>0</td>\n",
       "      <td>0</td>\n",
       "      <td>0</td>\n",
       "    </tr>\n",
       "    <tr>\n",
       "      <th>3</th>\n",
       "      <td>1</td>\n",
       "      <td>0</td>\n",
       "      <td>0</td>\n",
       "      <td>0</td>\n",
       "      <td>0</td>\n",
       "      <td>0</td>\n",
       "      <td>0</td>\n",
       "      <td>0</td>\n",
       "      <td>0</td>\n",
       "      <td>0</td>\n",
       "      <td>...</td>\n",
       "      <td>0</td>\n",
       "      <td>0</td>\n",
       "      <td>0</td>\n",
       "      <td>0</td>\n",
       "      <td>0</td>\n",
       "      <td>0</td>\n",
       "      <td>0</td>\n",
       "      <td>0</td>\n",
       "      <td>0</td>\n",
       "      <td>0</td>\n",
       "    </tr>\n",
       "    <tr>\n",
       "      <th>4</th>\n",
       "      <td>1</td>\n",
       "      <td>0</td>\n",
       "      <td>0</td>\n",
       "      <td>0</td>\n",
       "      <td>0</td>\n",
       "      <td>0</td>\n",
       "      <td>0</td>\n",
       "      <td>0</td>\n",
       "      <td>0</td>\n",
       "      <td>0</td>\n",
       "      <td>...</td>\n",
       "      <td>0</td>\n",
       "      <td>0</td>\n",
       "      <td>0</td>\n",
       "      <td>0</td>\n",
       "      <td>0</td>\n",
       "      <td>0</td>\n",
       "      <td>0</td>\n",
       "      <td>0</td>\n",
       "      <td>0</td>\n",
       "      <td>0</td>\n",
       "    </tr>\n",
       "  </tbody>\n",
       "</table>\n",
       "<p>5 rows × 3670 columns</p>\n",
       "</div>"
      ],
      "text/plain": [
       "      ab  abandon  abil  abl  abolish  abpoli  abroad  absolut  absurd  ...  \\\n",
       "0  1   0        0     0    0        0       0       0        0       0  ...   \n",
       "1  1   0        0     0    0        0       0       0        0       0  ...   \n",
       "2  1   0        0     0    0        0       0       0        0       0  ...   \n",
       "3  1   0        0     0    0        0       0       0        0       0  ...   \n",
       "4  1   0        0     0    0        0       0       0        0       0  ...   \n",
       "\n",
       "   z  zambia  zero  zi  zimbabw  zino  zionist  zirconia  zoo  zweli  \n",
       "0  0       0     0   0        0     0        0         0    0      0  \n",
       "1  0       0     0   0        0     0        0         0    0      0  \n",
       "2  0       0     0   0        0     0        0         0    0      0  \n",
       "3  0       0     0   0        0     0        0         0    0      0  \n",
       "4  0       0     0   0        0     0        0         0    0      0  \n",
       "\n",
       "[5 rows x 3670 columns]"
      ]
     },
     "execution_count": 93,
     "metadata": {},
     "output_type": "execute_result"
    }
   ],
   "source": [
    "count_vect_df = pd.DataFrame(countVector.toarray(), columns=countVectorizer.get_feature_names())\n",
    "count_vect_df.head()"
   ]
  },
  {
   "cell_type": "code",
   "execution_count": 94,
   "metadata": {},
   "outputs": [
    {
     "data": {
      "text/html": [
       "<div>\n",
       "<style scoped>\n",
       "    .dataframe tbody tr th:only-of-type {\n",
       "        vertical-align: middle;\n",
       "    }\n",
       "\n",
       "    .dataframe tbody tr th {\n",
       "        vertical-align: top;\n",
       "    }\n",
       "\n",
       "    .dataframe thead th {\n",
       "        text-align: right;\n",
       "    }\n",
       "</style>\n",
       "<table border=\"1\" class=\"dataframe\">\n",
       "  <thead>\n",
       "    <tr style=\"text-align: right;\">\n",
       "      <th></th>\n",
       "      <th>0</th>\n",
       "    </tr>\n",
       "  </thead>\n",
       "  <tbody>\n",
       "    <tr>\n",
       "      <th>vaccin</th>\n",
       "      <td>4819</td>\n",
       "    </tr>\n",
       "    <tr>\n",
       "      <th>covid</th>\n",
       "      <td>2865</td>\n",
       "    </tr>\n",
       "    <tr>\n",
       "      <th>dose</th>\n",
       "      <td>1356</td>\n",
       "    </tr>\n",
       "    <tr>\n",
       "      <th>africa</th>\n",
       "      <td>1102</td>\n",
       "    </tr>\n",
       "    <tr>\n",
       "      <th>israel</th>\n",
       "      <td>957</td>\n",
       "    </tr>\n",
       "    <tr>\n",
       "      <th>expir</th>\n",
       "      <td>891</td>\n",
       "    </tr>\n",
       "    <tr>\n",
       "      <th>anoth</th>\n",
       "      <td>819</td>\n",
       "    </tr>\n",
       "    <tr>\n",
       "      <th>tri</th>\n",
       "      <td>728</td>\n",
       "    </tr>\n",
       "    <tr>\n",
       "      <th>liar</th>\n",
       "      <td>720</td>\n",
       "    </tr>\n",
       "    <tr>\n",
       "      <th>war</th>\n",
       "      <td>720</td>\n",
       "    </tr>\n",
       "  </tbody>\n",
       "</table>\n",
       "</div>"
      ],
      "text/plain": [
       "           0\n",
       "vaccin  4819\n",
       "covid   2865\n",
       "dose    1356\n",
       "africa  1102\n",
       "israel   957\n",
       "expir    891\n",
       "anoth    819\n",
       "tri      728\n",
       "liar     720\n",
       "war      720"
      ]
     },
     "execution_count": 94,
     "metadata": {},
     "output_type": "execute_result"
    }
   ],
   "source": [
    "# Most Used Words\n",
    "count = pd.DataFrame(count_vect_df.sum())\n",
    "countdf = count.sort_values(0,ascending=False).head(20)\n",
    "countdf[1:11]"
   ]
  },
  {
   "cell_type": "code",
   "execution_count": 95,
   "metadata": {},
   "outputs": [
    {
     "data": {
      "text/plain": [
       "[('covid19 vaccines', 956),\n",
       " ('expired vaccines', 782),\n",
       " ('vaccines just', 717),\n",
       " ('war crime', 717),\n",
       " ('liars tried', 716),\n",
       " ('tried load', 716),\n",
       " ('load expired', 716),\n",
       " ('just war', 716),\n",
       " ('crime israel', 716),\n",
       " ('pin code', 545),\n",
       " ('min age', 545),\n",
       " ('age limit', 545),\n",
       " ('dose1 capacity', 545),\n",
       " ('covid19 vaccine', 416),\n",
       " ('limit 18', 397),\n",
       " ('18 45', 351),\n",
       " ('45 dose1', 351),\n",
       " ('india india', 320),\n",
       " ('africa midst', 309),\n",
       " ('midst blown', 309)]"
      ]
     },
     "execution_count": 95,
     "metadata": {},
     "output_type": "execute_result"
    }
   ],
   "source": [
    "#Function to ngram\n",
    "def get_top_n_gram(corpus,ngram_range,n=None):\n",
    "    vec = CountVectorizer(ngram_range=ngram_range,stop_words = 'english').fit(corpus)\n",
    "    bag_of_words = vec.transform(corpus)\n",
    "    sum_words = bag_of_words.sum(axis=0) \n",
    "    words_freq = [(word, sum_words[0, idx]) for word, idx in vec.vocabulary_.items()]\n",
    "    words_freq =sorted(words_freq, key = lambda x: x[1], reverse=True)\n",
    "    return words_freq[:n]\n",
    "#n2_bigram\n",
    "n2_bigrams = get_top_n_gram(CleanTweets['text'],(2,2),20)\n",
    "n2_bigrams"
   ]
  },
  {
   "cell_type": "code",
   "execution_count": 96,
   "metadata": {},
   "outputs": [
    {
     "data": {
      "text/plain": [
       "[('liars tried load', 716),\n",
       " ('tried load expired', 716),\n",
       " ('load expired vaccines', 716),\n",
       " ('expired vaccines just', 716),\n",
       " ('vaccines just war', 716),\n",
       " ('just war crime', 716),\n",
       " ('war crime israel', 716),\n",
       " ('min age limit', 545),\n",
       " ('age limit 18', 397),\n",
       " ('limit 18 45', 351),\n",
       " ('18 45 dose1', 351),\n",
       " ('45 dose1 capacity', 351),\n",
       " ('africa midst blown', 309),\n",
       " ('midst blown wave', 309),\n",
       " ('covishield min age', 304),\n",
       " ('vaccines covishield min', 277),\n",
       " ('india india india', 244),\n",
       " ('covaxin min age', 241),\n",
       " ('covid19 vaccines administered', 215),\n",
       " ('vaccines covaxin min', 212)]"
      ]
     },
     "execution_count": 96,
     "metadata": {},
     "output_type": "execute_result"
    }
   ],
   "source": [
    "#n3_trigram\n",
    "n3_trigrams = get_top_n_gram(CleanTweets['text'],(3,3),20)\n",
    "n3_trigrams"
   ]
  },
  {
   "cell_type": "code",
   "execution_count": null,
   "metadata": {},
   "outputs": [],
   "source": []
  }
 ],
 "metadata": {
  "colab": {
   "collapsed_sections": [],
   "name": "Challenge_ Day2.ipynb",
   "provenance": []
  },
  "kernelspec": {
   "display_name": "Python 3",
   "language": "python",
   "name": "python3"
  },
  "language_info": {
   "codemirror_mode": {
    "name": "ipython",
    "version": 3
   },
   "file_extension": ".py",
   "mimetype": "text/x-python",
   "name": "python",
   "nbconvert_exporter": "python",
   "pygments_lexer": "ipython3",
   "version": "3.8.8"
  }
 },
 "nbformat": 4,
 "nbformat_minor": 1
}
