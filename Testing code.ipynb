{
 "cells": [
  {
   "cell_type": "code",
   "execution_count": null,
   "id": "096959a5",
   "metadata": {},
   "outputs": [],
   "source": [
    "import pandas as pd"
   ]
  },
  {
   "cell_type": "code",
   "execution_count": null,
   "id": "37614f90",
   "metadata": {},
   "outputs": [],
   "source": [
    "tweets_list = read_json(\"Economic_Twitter_Data.json\")\n",
    "find_lang(tweets_list)[20:]"
   ]
  },
  {
   "cell_type": "code",
   "execution_count": null,
   "id": "c9ecbabb",
   "metadata": {},
   "outputs": [],
   "source": [
    "tweets_list = read_json(\"Economic_Twitter_Data.json\")\n",
    "find_lang(tweets_list)[20:]"
   ]
  },
  {
   "cell_type": "code",
   "execution_count": null,
   "id": "cb90d697",
   "metadata": {},
   "outputs": [],
   "source": [
    "text = [tweet['text'] for tweet in tweets_list]\n",
    "text[:5]"
   ]
  },
  {
   "cell_type": "code",
   "execution_count": null,
   "id": "e057911b",
   "metadata": {},
   "outputs": [],
   "source": [
    "df = find_full_text(tweets_list)\n",
    "polarity, subjectivity = find_sentiments(tweets_list,df)\n",
    "polarity[20:]\n",
    "subjectivity[20:]"
   ]
  },
  {
   "cell_type": "code",
   "execution_count": null,
   "id": "c2ea8e3d",
   "metadata": {},
   "outputs": [],
   "source": [
    "tweets_list[0].keys()"
   ]
  },
  {
   "cell_type": "code",
   "execution_count": null,
   "id": "cf6b72b8",
   "metadata": {},
   "outputs": [],
   "source": [
    "tweets_list[0]['entities']"
   ]
  },
  {
   "cell_type": "code",
   "execution_count": null,
   "id": "85f1bbeb",
   "metadata": {},
   "outputs": [],
   "source": [
    "tweets_list[90]['user']['location']"
   ]
  },
  {
   "cell_type": "code",
   "execution_count": 14,
   "id": "0e481ad7",
   "metadata": {},
   "outputs": [],
   "source": [
    "import extract_dataframe"
   ]
  },
  {
   "cell_type": "code",
   "execution_count": null,
   "id": "f7b55110",
   "metadata": {},
   "outputs": [],
   "source": [
    "#create the data frame\n",
    "columns = ['created_at', 'source', 'original_text','clean_text', 'sentiment','polarity','subjectivity', 'lang', 'favorite_count', 'retweet_count', \n",
    "    'original_author', 'screen_count', 'followers_count','friends_count','possibly_sensitive', 'hashtags', 'user_mentions', 'place', 'place_coord_boundaries']\n",
    "tweets_list = read_json(\"Economic_Twitter_Data.json\")\n",
    "tweet = TweetDfExtractor(tweets_list)\n",
    "tweet_df = tweet.get_tweet_df() \n",
    "tweet_df.head()"
   ]
  },
  {
   "cell_type": "code",
   "execution_count": null,
   "id": "0bd2c89d",
   "metadata": {},
   "outputs": [],
   "source": []
  }
 ],
 "metadata": {
  "kernelspec": {
   "display_name": "Python 3 (ipykernel)",
   "language": "python",
   "name": "python3"
  },
  "language_info": {
   "codemirror_mode": {
    "name": "ipython",
    "version": 3
   },
   "file_extension": ".py",
   "mimetype": "text/x-python",
   "name": "python",
   "nbconvert_exporter": "python",
   "pygments_lexer": "ipython3",
   "version": "3.9.7"
  }
 },
 "nbformat": 4,
 "nbformat_minor": 5
}
