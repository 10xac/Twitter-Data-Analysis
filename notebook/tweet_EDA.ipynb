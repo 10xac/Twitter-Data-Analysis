{
 "cells": [
  {
   "cell_type": "code",
   "execution_count": 1,
   "id": "f1420695",
   "metadata": {},
   "outputs": [],
   "source": [
    "import pandas as pd\n",
    "import matplotlib.pyplot as plt \n",
    "import seaborn as sns "
   ]
  },
  {
   "cell_type": "code",
   "execution_count": 2,
   "id": "f6a16154",
   "metadata": {},
   "outputs": [],
   "source": [
    "unprocessed_df=pd.read_csv(\"Economic_Twitter_Data.csv\")"
   ]
  },
  {
   "cell_type": "code",
   "execution_count": 3,
   "id": "067e7872",
   "metadata": {},
   "outputs": [
    {
     "name": "stdout",
     "output_type": "stream",
     "text": [
      "<class 'pandas.core.frame.DataFrame'>\n",
      "RangeIndex: 24637 entries, 0 to 24636\n",
      "Data columns (total 15 columns):\n",
      " #   Column              Non-Null Count  Dtype  \n",
      "---  ------              --------------  -----  \n",
      " 0   created_at          24637 non-null  object \n",
      " 1   source              24633 non-null  object \n",
      " 2   original_text       24633 non-null  object \n",
      " 3   polarity            24625 non-null  object \n",
      " 4   subjectivity        24625 non-null  float64\n",
      " 5   lang                24625 non-null  object \n",
      " 6   favorite_count      24625 non-null  object \n",
      " 7   retweet_count       24625 non-null  float64\n",
      " 8   original_author     24625 non-null  object \n",
      " 9   followers_count     24618 non-null  object \n",
      " 10  friends_count       24625 non-null  object \n",
      " 11  possibly_sensitive  9982 non-null   object \n",
      " 12  hashtags            24624 non-null  object \n",
      " 13  user_mentions       24617 non-null  object \n",
      " 14  place               15724 non-null  object \n",
      "dtypes: float64(2), object(13)\n",
      "memory usage: 2.8+ MB\n"
     ]
    }
   ],
   "source": [
    "unprocessed_df.info()"
   ]
  },
  {
   "cell_type": "markdown",
   "id": "529eb8c9",
   "metadata": {},
   "source": [
    "total number of missing values in extracted data frame "
   ]
  },
  {
   "cell_type": "code",
   "execution_count": 5,
   "id": "e9c3abf2",
   "metadata": {},
   "outputs": [
    {
     "data": {
      "text/plain": [
       "23712"
      ]
     },
     "execution_count": 5,
     "metadata": {},
     "output_type": "execute_result"
    }
   ],
   "source": [
    "unprocessed_df.isnull().sum().sum()"
   ]
  },
  {
   "cell_type": "markdown",
   "id": "688159e2",
   "metadata": {},
   "source": [
    "total number of missing values in each columns "
   ]
  },
  {
   "cell_type": "code",
   "execution_count": 6,
   "id": "71a7a5fe",
   "metadata": {},
   "outputs": [
    {
     "data": {
      "text/plain": [
       "created_at                0\n",
       "source                    4\n",
       "original_text             4\n",
       "polarity                 12\n",
       "subjectivity             12\n",
       "lang                     12\n",
       "favorite_count           12\n",
       "retweet_count            12\n",
       "original_author          12\n",
       "followers_count          19\n",
       "friends_count            12\n",
       "possibly_sensitive    14655\n",
       "hashtags                 13\n",
       "user_mentions            20\n",
       "place                  8913\n",
       "dtype: int64"
      ]
     },
     "execution_count": 6,
     "metadata": {},
     "output_type": "execute_result"
    }
   ],
   "source": [
    "unprocessed_df.isnull().sum()"
   ]
  },
  {
   "cell_type": "markdown",
   "id": "e85470a7",
   "metadata": {},
   "source": [
    "display the first 10 instances "
   ]
  },
  {
   "cell_type": "code",
   "execution_count": 7,
   "id": "f319f3bf",
   "metadata": {},
   "outputs": [
    {
     "data": {
      "text/html": [
       "<div>\n",
       "<style scoped>\n",
       "    .dataframe tbody tr th:only-of-type {\n",
       "        vertical-align: middle;\n",
       "    }\n",
       "\n",
       "    .dataframe tbody tr th {\n",
       "        vertical-align: top;\n",
       "    }\n",
       "\n",
       "    .dataframe thead th {\n",
       "        text-align: right;\n",
       "    }\n",
       "</style>\n",
       "<table border=\"1\" class=\"dataframe\">\n",
       "  <thead>\n",
       "    <tr style=\"text-align: right;\">\n",
       "      <th></th>\n",
       "      <th>created_at</th>\n",
       "      <th>source</th>\n",
       "      <th>original_text</th>\n",
       "      <th>polarity</th>\n",
       "      <th>subjectivity</th>\n",
       "      <th>lang</th>\n",
       "      <th>favorite_count</th>\n",
       "      <th>retweet_count</th>\n",
       "      <th>original_author</th>\n",
       "      <th>followers_count</th>\n",
       "      <th>friends_count</th>\n",
       "      <th>possibly_sensitive</th>\n",
       "      <th>hashtags</th>\n",
       "      <th>user_mentions</th>\n",
       "      <th>place</th>\n",
       "    </tr>\n",
       "  </thead>\n",
       "  <tbody>\n",
       "    <tr>\n",
       "      <th>0</th>\n",
       "      <td>Fri Apr 22 22:20:18 +0000 2022</td>\n",
       "      <td>Twitter for Android</td>\n",
       "      <td>RT @nikitheblogger: Irre: Annalena Baerbock sa...</td>\n",
       "      <td>0.0</td>\n",
       "      <td>0.0</td>\n",
       "      <td>de</td>\n",
       "      <td>0</td>\n",
       "      <td>355.0</td>\n",
       "      <td>McMc74078966</td>\n",
       "      <td>3</td>\n",
       "      <td>12</td>\n",
       "      <td>NaN</td>\n",
       "      <td>[]</td>\n",
       "      <td>['nikitheblogger']</td>\n",
       "      <td>NaN</td>\n",
       "    </tr>\n",
       "    <tr>\n",
       "      <th>1</th>\n",
       "      <td>Fri Apr 22 22:19:16 +0000 2022</td>\n",
       "      <td>Twitter for Android</td>\n",
       "      <td>RT @sagt_mit: Merkel schaffte es in 1 Jahr 1 M...</td>\n",
       "      <td>0.0</td>\n",
       "      <td>0.0</td>\n",
       "      <td>de</td>\n",
       "      <td>0</td>\n",
       "      <td>505.0</td>\n",
       "      <td>McMc74078966</td>\n",
       "      <td>3</td>\n",
       "      <td>12</td>\n",
       "      <td>NaN</td>\n",
       "      <td>[]</td>\n",
       "      <td>['sagt_mit']</td>\n",
       "      <td>NaN</td>\n",
       "    </tr>\n",
       "    <tr>\n",
       "      <th>2</th>\n",
       "      <td>Fri Apr 22 22:17:28 +0000 2022</td>\n",
       "      <td>Twitter for Android</td>\n",
       "      <td>RT @Kryptonoun: @WRi007 Pharma in Lebensmittel...</td>\n",
       "      <td>0.0</td>\n",
       "      <td>0.0</td>\n",
       "      <td>de</td>\n",
       "      <td>0</td>\n",
       "      <td>4.0</td>\n",
       "      <td>McMc74078966</td>\n",
       "      <td>3</td>\n",
       "      <td>12</td>\n",
       "      <td>NaN</td>\n",
       "      <td>[]</td>\n",
       "      <td>['Kryptonoun', 'WRi007']</td>\n",
       "      <td>NaN</td>\n",
       "    </tr>\n",
       "    <tr>\n",
       "      <th>3</th>\n",
       "      <td>Fri Apr 22 22:17:20 +0000 2022</td>\n",
       "      <td>Twitter for Android</td>\n",
       "      <td>RT @WRi007: Die #Deutschen sind ein braves Vol...</td>\n",
       "      <td>0.0</td>\n",
       "      <td>0.0</td>\n",
       "      <td>de</td>\n",
       "      <td>0</td>\n",
       "      <td>332.0</td>\n",
       "      <td>McMc74078966</td>\n",
       "      <td>3</td>\n",
       "      <td>12</td>\n",
       "      <td>NaN</td>\n",
       "      <td>['Deutschen', 'Spritpreisen', 'inflation', 'Ab...</td>\n",
       "      <td>['WRi007']</td>\n",
       "      <td>NaN</td>\n",
       "    </tr>\n",
       "    <tr>\n",
       "      <th>4</th>\n",
       "      <td>Fri Apr 22 22:13:15 +0000 2022</td>\n",
       "      <td>Twitter for Android</td>\n",
       "      <td>RT @RolandTichy: Baerbock verkündet mal so neb...</td>\n",
       "      <td>0.0</td>\n",
       "      <td>0.0</td>\n",
       "      <td>de</td>\n",
       "      <td>0</td>\n",
       "      <td>386.0</td>\n",
       "      <td>McMc74078966</td>\n",
       "      <td>3</td>\n",
       "      <td>12</td>\n",
       "      <td>NaN</td>\n",
       "      <td>[]</td>\n",
       "      <td>['RolandTichy']</td>\n",
       "      <td>NaN</td>\n",
       "    </tr>\n",
       "    <tr>\n",
       "      <th>5</th>\n",
       "      <td>Fri Apr 22 22:12:51 +0000 2022</td>\n",
       "      <td>Twitter for Android</td>\n",
       "      <td>RT @biggyyyyyyy: https://t.co/jvvA7F9m4U</td>\n",
       "      <td>0.0</td>\n",
       "      <td>0.0</td>\n",
       "      <td>und</td>\n",
       "      <td>0</td>\n",
       "      <td>77.0</td>\n",
       "      <td>McMc74078966</td>\n",
       "      <td>3</td>\n",
       "      <td>12</td>\n",
       "      <td>False</td>\n",
       "      <td>[]</td>\n",
       "      <td>['biggyyyyyyy']</td>\n",
       "      <td>NaN</td>\n",
       "    </tr>\n",
       "    <tr>\n",
       "      <th>6</th>\n",
       "      <td>Fri Apr 22 22:12:17 +0000 2022</td>\n",
       "      <td>Twitter for Android</td>\n",
       "      <td>RT @SiriaBlack_II: Ich bin mir sicher, dass vi...</td>\n",
       "      <td>0.0</td>\n",
       "      <td>0.0</td>\n",
       "      <td>de</td>\n",
       "      <td>0</td>\n",
       "      <td>129.0</td>\n",
       "      <td>McMc74078966</td>\n",
       "      <td>3</td>\n",
       "      <td>12</td>\n",
       "      <td>NaN</td>\n",
       "      <td>['Baerbock']</td>\n",
       "      <td>['SiriaBlack_II']</td>\n",
       "      <td>NaN</td>\n",
       "    </tr>\n",
       "    <tr>\n",
       "      <th>7</th>\n",
       "      <td>Fri Apr 22 22:10:01 +0000 2022</td>\n",
       "      <td>Twitter for Android</td>\n",
       "      <td>RT @Darling_2022: Ich wiederhole mich gerne no...</td>\n",
       "      <td>0.0</td>\n",
       "      <td>0.0</td>\n",
       "      <td>de</td>\n",
       "      <td>0</td>\n",
       "      <td>860.0</td>\n",
       "      <td>McMc74078966</td>\n",
       "      <td>3</td>\n",
       "      <td>12</td>\n",
       "      <td>NaN</td>\n",
       "      <td>[]</td>\n",
       "      <td>['Darling_2022']</td>\n",
       "      <td>NaN</td>\n",
       "    </tr>\n",
       "    <tr>\n",
       "      <th>8</th>\n",
       "      <td>Fri Apr 22 22:09:38 +0000 2022</td>\n",
       "      <td>Twitter for Android</td>\n",
       "      <td>RT @rosenbusch_: Brigadegeneral a. D. Erich Va...</td>\n",
       "      <td>0.0</td>\n",
       "      <td>1.0</td>\n",
       "      <td>de</td>\n",
       "      <td>0</td>\n",
       "      <td>926.0</td>\n",
       "      <td>McMc74078966</td>\n",
       "      <td>3</td>\n",
       "      <td>12</td>\n",
       "      <td>NaN</td>\n",
       "      <td>[]</td>\n",
       "      <td>['rosenbusch_']</td>\n",
       "      <td>NaN</td>\n",
       "    </tr>\n",
       "    <tr>\n",
       "      <th>9</th>\n",
       "      <td>Fri Apr 22 22:04:16 +0000 2022</td>\n",
       "      <td>Twitter for Android</td>\n",
       "      <td>RT @kickout55711802: Klasse Rede über die Fern...</td>\n",
       "      <td>0.0</td>\n",
       "      <td>0.0</td>\n",
       "      <td>de</td>\n",
       "      <td>0</td>\n",
       "      <td>285.0</td>\n",
       "      <td>McMc74078966</td>\n",
       "      <td>3</td>\n",
       "      <td>12</td>\n",
       "      <td>False</td>\n",
       "      <td>[]</td>\n",
       "      <td>['kickout55711802']</td>\n",
       "      <td>NaN</td>\n",
       "    </tr>\n",
       "  </tbody>\n",
       "</table>\n",
       "</div>"
      ],
      "text/plain": [
       "                       created_at               source  \\\n",
       "0  Fri Apr 22 22:20:18 +0000 2022  Twitter for Android   \n",
       "1  Fri Apr 22 22:19:16 +0000 2022  Twitter for Android   \n",
       "2  Fri Apr 22 22:17:28 +0000 2022  Twitter for Android   \n",
       "3  Fri Apr 22 22:17:20 +0000 2022  Twitter for Android   \n",
       "4  Fri Apr 22 22:13:15 +0000 2022  Twitter for Android   \n",
       "5  Fri Apr 22 22:12:51 +0000 2022  Twitter for Android   \n",
       "6  Fri Apr 22 22:12:17 +0000 2022  Twitter for Android   \n",
       "7  Fri Apr 22 22:10:01 +0000 2022  Twitter for Android   \n",
       "8  Fri Apr 22 22:09:38 +0000 2022  Twitter for Android   \n",
       "9  Fri Apr 22 22:04:16 +0000 2022  Twitter for Android   \n",
       "\n",
       "                                       original_text polarity  subjectivity  \\\n",
       "0  RT @nikitheblogger: Irre: Annalena Baerbock sa...      0.0           0.0   \n",
       "1  RT @sagt_mit: Merkel schaffte es in 1 Jahr 1 M...      0.0           0.0   \n",
       "2  RT @Kryptonoun: @WRi007 Pharma in Lebensmittel...      0.0           0.0   \n",
       "3  RT @WRi007: Die #Deutschen sind ein braves Vol...      0.0           0.0   \n",
       "4  RT @RolandTichy: Baerbock verkündet mal so neb...      0.0           0.0   \n",
       "5           RT @biggyyyyyyy: https://t.co/jvvA7F9m4U      0.0           0.0   \n",
       "6  RT @SiriaBlack_II: Ich bin mir sicher, dass vi...      0.0           0.0   \n",
       "7  RT @Darling_2022: Ich wiederhole mich gerne no...      0.0           0.0   \n",
       "8  RT @rosenbusch_: Brigadegeneral a. D. Erich Va...      0.0           1.0   \n",
       "9  RT @kickout55711802: Klasse Rede über die Fern...      0.0           0.0   \n",
       "\n",
       "  lang favorite_count  retweet_count original_author followers_count  \\\n",
       "0   de              0          355.0    McMc74078966               3   \n",
       "1   de              0          505.0    McMc74078966               3   \n",
       "2   de              0            4.0    McMc74078966               3   \n",
       "3   de              0          332.0    McMc74078966               3   \n",
       "4   de              0          386.0    McMc74078966               3   \n",
       "5  und              0           77.0    McMc74078966               3   \n",
       "6   de              0          129.0    McMc74078966               3   \n",
       "7   de              0          860.0    McMc74078966               3   \n",
       "8   de              0          926.0    McMc74078966               3   \n",
       "9   de              0          285.0    McMc74078966               3   \n",
       "\n",
       "  friends_count possibly_sensitive  \\\n",
       "0            12                NaN   \n",
       "1            12                NaN   \n",
       "2            12                NaN   \n",
       "3            12                NaN   \n",
       "4            12                NaN   \n",
       "5            12              False   \n",
       "6            12                NaN   \n",
       "7            12                NaN   \n",
       "8            12                NaN   \n",
       "9            12              False   \n",
       "\n",
       "                                            hashtags  \\\n",
       "0                                                 []   \n",
       "1                                                 []   \n",
       "2                                                 []   \n",
       "3  ['Deutschen', 'Spritpreisen', 'inflation', 'Ab...   \n",
       "4                                                 []   \n",
       "5                                                 []   \n",
       "6                                       ['Baerbock']   \n",
       "7                                                 []   \n",
       "8                                                 []   \n",
       "9                                                 []   \n",
       "\n",
       "              user_mentions place  \n",
       "0        ['nikitheblogger']   NaN  \n",
       "1              ['sagt_mit']   NaN  \n",
       "2  ['Kryptonoun', 'WRi007']   NaN  \n",
       "3                ['WRi007']   NaN  \n",
       "4           ['RolandTichy']   NaN  \n",
       "5           ['biggyyyyyyy']   NaN  \n",
       "6         ['SiriaBlack_II']   NaN  \n",
       "7          ['Darling_2022']   NaN  \n",
       "8           ['rosenbusch_']   NaN  \n",
       "9       ['kickout55711802']   NaN  "
      ]
     },
     "execution_count": 7,
     "metadata": {},
     "output_type": "execute_result"
    }
   ],
   "source": [
    "unprocessed_df.head(10)"
   ]
  },
  {
   "cell_type": "code",
   "execution_count": 35,
   "id": "6c012f21",
   "metadata": {},
   "outputs": [
    {
     "data": {
      "text/plain": [
       "[]                                                                     16425\n",
       "['MarvinInu']                                                            108\n",
       "['NewIndia']                                                              72\n",
       "['FAM4TMC']                                                               60\n",
       "['inflation', 'economy', 'biden', 'dollar', 'gold']                       43\n",
       "                                                                       ...  \n",
       "['అక్కిరెడ్డిగూడెం', 'పోరస్', 'Porusfireincident']                         1\n",
       "['AkiraNandan']                                                            1\n",
       "['Prabhas', 'KGFChapter2']                                                 1\n",
       "['dhoni', 'CSK𓃬']                                                          1\n",
       "['PCADG', 'PcadgCentralLuzon', 'PNPKakampiMo', 'WeServeAndProtect']        1\n",
       "Name: hashtags, Length: 4907, dtype: int64"
      ]
     },
     "execution_count": 35,
     "metadata": {},
     "output_type": "execute_result"
    }
   ],
   "source": [
    "unprocessed_df[\"hashtags\"].value_counts()"
   ]
  },
  {
   "cell_type": "markdown",
   "id": "857e5ed6",
   "metadata": {},
   "source": [
    "display the last 5 instances "
   ]
  },
  {
   "cell_type": "code",
   "execution_count": 8,
   "id": "b62ef028",
   "metadata": {},
   "outputs": [
    {
     "data": {
      "text/html": [
       "<div>\n",
       "<style scoped>\n",
       "    .dataframe tbody tr th:only-of-type {\n",
       "        vertical-align: middle;\n",
       "    }\n",
       "\n",
       "    .dataframe tbody tr th {\n",
       "        vertical-align: top;\n",
       "    }\n",
       "\n",
       "    .dataframe thead th {\n",
       "        text-align: right;\n",
       "    }\n",
       "</style>\n",
       "<table border=\"1\" class=\"dataframe\">\n",
       "  <thead>\n",
       "    <tr style=\"text-align: right;\">\n",
       "      <th></th>\n",
       "      <th>created_at</th>\n",
       "      <th>source</th>\n",
       "      <th>original_text</th>\n",
       "      <th>polarity</th>\n",
       "      <th>subjectivity</th>\n",
       "      <th>lang</th>\n",
       "      <th>favorite_count</th>\n",
       "      <th>retweet_count</th>\n",
       "      <th>original_author</th>\n",
       "      <th>followers_count</th>\n",
       "      <th>friends_count</th>\n",
       "      <th>possibly_sensitive</th>\n",
       "      <th>hashtags</th>\n",
       "      <th>user_mentions</th>\n",
       "      <th>place</th>\n",
       "    </tr>\n",
       "  </thead>\n",
       "  <tbody>\n",
       "    <tr>\n",
       "      <th>24632</th>\n",
       "      <td>Fri Apr 22 14:44:56 +0000 2022</td>\n",
       "      <td>Twitter for iPhone</td>\n",
       "      <td>RT @waglenikhil: आपल्या घरातल्या कोणत्याही कार...</td>\n",
       "      <td>0.0</td>\n",
       "      <td>0.0</td>\n",
       "      <td>mr</td>\n",
       "      <td>0</td>\n",
       "      <td>242.0</td>\n",
       "      <td>kitukalesatya</td>\n",
       "      <td>706</td>\n",
       "      <td>643</td>\n",
       "      <td>NaN</td>\n",
       "      <td>[]</td>\n",
       "      <td>['waglenikhil']</td>\n",
       "      <td>NaN</td>\n",
       "    </tr>\n",
       "    <tr>\n",
       "      <th>24633</th>\n",
       "      <td>Fri Apr 22 14:44:44 +0000 2022</td>\n",
       "      <td>Twitter for iPhone</td>\n",
       "      <td>RT @yadavtejashwi: चौहरमल नगर, फुलवारी शरीफ मे...</td>\n",
       "      <td>0.0</td>\n",
       "      <td>0.0</td>\n",
       "      <td>hi</td>\n",
       "      <td>0</td>\n",
       "      <td>242.0</td>\n",
       "      <td>kitukalesatya</td>\n",
       "      <td>706</td>\n",
       "      <td>643</td>\n",
       "      <td>NaN</td>\n",
       "      <td>[]</td>\n",
       "      <td>['yadavtejashwi']</td>\n",
       "      <td>NaN</td>\n",
       "    </tr>\n",
       "    <tr>\n",
       "      <th>24634</th>\n",
       "      <td>Fri Apr 22 14:44:35 +0000 2022</td>\n",
       "      <td>Twitter for iPhone</td>\n",
       "      <td>RT @Parthtiwari25: Gujarat Congress MLA arrest...</td>\n",
       "      <td>0.0</td>\n",
       "      <td>0.0</td>\n",
       "      <td>en</td>\n",
       "      <td>0</td>\n",
       "      <td>203.0</td>\n",
       "      <td>kitukalesatya</td>\n",
       "      <td>706</td>\n",
       "      <td>643</td>\n",
       "      <td>NaN</td>\n",
       "      <td>[]</td>\n",
       "      <td>['Parthtiwari25']</td>\n",
       "      <td>NaN</td>\n",
       "    </tr>\n",
       "    <tr>\n",
       "      <th>24635</th>\n",
       "      <td>Fri Apr 22 14:44:08 +0000 2022</td>\n",
       "      <td>Twitter for iPhone</td>\n",
       "      <td>RT @news24tvchannel: CM नीतीश कुमार ने तेजस्वी...</td>\n",
       "      <td>0.0</td>\n",
       "      <td>0.0</td>\n",
       "      <td>hi</td>\n",
       "      <td>0</td>\n",
       "      <td>301.0</td>\n",
       "      <td>kitukalesatya</td>\n",
       "      <td>706</td>\n",
       "      <td>643</td>\n",
       "      <td>NaN</td>\n",
       "      <td>[]</td>\n",
       "      <td>['news24tvchannel']</td>\n",
       "      <td>NaN</td>\n",
       "    </tr>\n",
       "    <tr>\n",
       "      <th>24636</th>\n",
       "      <td>Fri Apr 22 14:43:01 +0000 2022</td>\n",
       "      <td>Twitter for iPhone</td>\n",
       "      <td>RT @suvegrathi: भगवान और खुदा आपस में बात कर र...</td>\n",
       "      <td>0.0</td>\n",
       "      <td>0.0</td>\n",
       "      <td>hi</td>\n",
       "      <td>0</td>\n",
       "      <td>12.0</td>\n",
       "      <td>kitukalesatya</td>\n",
       "      <td>706</td>\n",
       "      <td>643</td>\n",
       "      <td>NaN</td>\n",
       "      <td>[]</td>\n",
       "      <td>['suvegrathi', 'BajpayeeManoj']</td>\n",
       "      <td>NaN</td>\n",
       "    </tr>\n",
       "  </tbody>\n",
       "</table>\n",
       "</div>"
      ],
      "text/plain": [
       "                           created_at              source  \\\n",
       "24632  Fri Apr 22 14:44:56 +0000 2022  Twitter for iPhone   \n",
       "24633  Fri Apr 22 14:44:44 +0000 2022  Twitter for iPhone   \n",
       "24634  Fri Apr 22 14:44:35 +0000 2022  Twitter for iPhone   \n",
       "24635  Fri Apr 22 14:44:08 +0000 2022  Twitter for iPhone   \n",
       "24636  Fri Apr 22 14:43:01 +0000 2022  Twitter for iPhone   \n",
       "\n",
       "                                           original_text polarity  \\\n",
       "24632  RT @waglenikhil: आपल्या घरातल्या कोणत्याही कार...      0.0   \n",
       "24633  RT @yadavtejashwi: चौहरमल नगर, फुलवारी शरीफ मे...      0.0   \n",
       "24634  RT @Parthtiwari25: Gujarat Congress MLA arrest...      0.0   \n",
       "24635  RT @news24tvchannel: CM नीतीश कुमार ने तेजस्वी...      0.0   \n",
       "24636  RT @suvegrathi: भगवान और खुदा आपस में बात कर र...      0.0   \n",
       "\n",
       "       subjectivity lang favorite_count  retweet_count original_author  \\\n",
       "24632           0.0   mr              0          242.0   kitukalesatya   \n",
       "24633           0.0   hi              0          242.0   kitukalesatya   \n",
       "24634           0.0   en              0          203.0   kitukalesatya   \n",
       "24635           0.0   hi              0          301.0   kitukalesatya   \n",
       "24636           0.0   hi              0           12.0   kitukalesatya   \n",
       "\n",
       "      followers_count friends_count possibly_sensitive hashtags  \\\n",
       "24632             706           643                NaN       []   \n",
       "24633             706           643                NaN       []   \n",
       "24634             706           643                NaN       []   \n",
       "24635             706           643                NaN       []   \n",
       "24636             706           643                NaN       []   \n",
       "\n",
       "                         user_mentions place  \n",
       "24632                  ['waglenikhil']   NaN  \n",
       "24633                ['yadavtejashwi']   NaN  \n",
       "24634                ['Parthtiwari25']   NaN  \n",
       "24635              ['news24tvchannel']   NaN  \n",
       "24636  ['suvegrathi', 'BajpayeeManoj']   NaN  "
      ]
     },
     "execution_count": 8,
     "metadata": {},
     "output_type": "execute_result"
    }
   ],
   "source": [
    "unprocessed_df.tail(5)"
   ]
  },
  {
   "cell_type": "markdown",
   "id": "7d103d5f",
   "metadata": {},
   "source": [
    "columns in this dataset"
   ]
  },
  {
   "cell_type": "code",
   "execution_count": 9,
   "id": "44892413",
   "metadata": {},
   "outputs": [
    {
     "data": {
      "text/plain": [
       "Index(['created_at', 'source', 'original_text', 'polarity', 'subjectivity',\n",
       "       'lang', 'favorite_count', 'retweet_count', 'original_author',\n",
       "       'followers_count', 'friends_count', 'possibly_sensitive', 'hashtags',\n",
       "       'user_mentions', 'place'],\n",
       "      dtype='object')"
      ]
     },
     "execution_count": 9,
     "metadata": {},
     "output_type": "execute_result"
    }
   ],
   "source": [
    "unprocessed_df.columns"
   ]
  },
  {
   "cell_type": "markdown",
   "id": "d421f578",
   "metadata": {},
   "source": [
    "get desciptioon for the numerical columns "
   ]
  },
  {
   "cell_type": "code",
   "execution_count": 10,
   "id": "b40aec34",
   "metadata": {},
   "outputs": [
    {
     "data": {
      "text/html": [
       "<div>\n",
       "<style scoped>\n",
       "    .dataframe tbody tr th:only-of-type {\n",
       "        vertical-align: middle;\n",
       "    }\n",
       "\n",
       "    .dataframe tbody tr th {\n",
       "        vertical-align: top;\n",
       "    }\n",
       "\n",
       "    .dataframe thead th {\n",
       "        text-align: right;\n",
       "    }\n",
       "</style>\n",
       "<table border=\"1\" class=\"dataframe\">\n",
       "  <thead>\n",
       "    <tr style=\"text-align: right;\">\n",
       "      <th></th>\n",
       "      <th>subjectivity</th>\n",
       "      <th>retweet_count</th>\n",
       "    </tr>\n",
       "  </thead>\n",
       "  <tbody>\n",
       "    <tr>\n",
       "      <th>count</th>\n",
       "      <td>24625.000000</td>\n",
       "      <td>24625.000000</td>\n",
       "    </tr>\n",
       "    <tr>\n",
       "      <th>mean</th>\n",
       "      <td>0.218766</td>\n",
       "      <td>539.573320</td>\n",
       "    </tr>\n",
       "    <tr>\n",
       "      <th>std</th>\n",
       "      <td>0.302759</td>\n",
       "      <td>6045.401044</td>\n",
       "    </tr>\n",
       "    <tr>\n",
       "      <th>min</th>\n",
       "      <td>0.000000</td>\n",
       "      <td>0.000000</td>\n",
       "    </tr>\n",
       "    <tr>\n",
       "      <th>25%</th>\n",
       "      <td>0.000000</td>\n",
       "      <td>0.000000</td>\n",
       "    </tr>\n",
       "    <tr>\n",
       "      <th>50%</th>\n",
       "      <td>0.000000</td>\n",
       "      <td>2.000000</td>\n",
       "    </tr>\n",
       "    <tr>\n",
       "      <th>75%</th>\n",
       "      <td>0.446296</td>\n",
       "      <td>39.000000</td>\n",
       "    </tr>\n",
       "    <tr>\n",
       "      <th>max</th>\n",
       "      <td>1.000000</td>\n",
       "      <td>434379.000000</td>\n",
       "    </tr>\n",
       "  </tbody>\n",
       "</table>\n",
       "</div>"
      ],
      "text/plain": [
       "       subjectivity  retweet_count\n",
       "count  24625.000000   24625.000000\n",
       "mean       0.218766     539.573320\n",
       "std        0.302759    6045.401044\n",
       "min        0.000000       0.000000\n",
       "25%        0.000000       0.000000\n",
       "50%        0.000000       2.000000\n",
       "75%        0.446296      39.000000\n",
       "max        1.000000  434379.000000"
      ]
     },
     "execution_count": 10,
     "metadata": {},
     "output_type": "execute_result"
    }
   ],
   "source": [
    "unprocessed_df.describe()"
   ]
  },
  {
   "cell_type": "code",
   "execution_count": 12,
   "id": "bc7dd372",
   "metadata": {},
   "outputs": [],
   "source": [
    "cleaned_df=pd.read_csv(\"cleaned_tweets.csv\")"
   ]
  },
  {
   "cell_type": "markdown",
   "id": "f866d895",
   "metadata": {},
   "source": [
    "after handling some preprocessing steps\n",
    "missing values handeled\n",
    "duplicate values are removed\n",
    "every columns changed to apropriate data type \n",
    "unnecessary columns removed "
   ]
  },
  {
   "cell_type": "code",
   "execution_count": 14,
   "id": "1dfb910b",
   "metadata": {},
   "outputs": [
    {
     "name": "stdout",
     "output_type": "stream",
     "text": [
      "<class 'pandas.core.frame.DataFrame'>\n",
      "RangeIndex: 4307 entries, 0 to 4306\n",
      "Data columns (total 16 columns):\n",
      " #   Column              Non-Null Count  Dtype  \n",
      "---  ------              --------------  -----  \n",
      " 0   Unnamed: 0          4307 non-null   int64  \n",
      " 1   created_at          4307 non-null   object \n",
      " 2   source              4307 non-null   object \n",
      " 3   original_text       4307 non-null   object \n",
      " 4   polarity            4307 non-null   float64\n",
      " 5   subjectivity        4307 non-null   float64\n",
      " 6   lang                4307 non-null   object \n",
      " 7   favorite_count      4307 non-null   int64  \n",
      " 8   retweet_count       4307 non-null   float64\n",
      " 9   original_author     4307 non-null   object \n",
      " 10  followers_count     4307 non-null   int64  \n",
      " 11  friends_count       4307 non-null   int64  \n",
      " 12  possibly_sensitive  4307 non-null   bool   \n",
      " 13  hashtags            4307 non-null   object \n",
      " 14  user_mentions       4307 non-null   object \n",
      " 15  place               4307 non-null   object \n",
      "dtypes: bool(1), float64(3), int64(4), object(8)\n",
      "memory usage: 509.1+ KB\n"
     ]
    },
    {
     "data": {
      "text/html": [
       "<div>\n",
       "<style scoped>\n",
       "    .dataframe tbody tr th:only-of-type {\n",
       "        vertical-align: middle;\n",
       "    }\n",
       "\n",
       "    .dataframe tbody tr th {\n",
       "        vertical-align: top;\n",
       "    }\n",
       "\n",
       "    .dataframe thead th {\n",
       "        text-align: right;\n",
       "    }\n",
       "</style>\n",
       "<table border=\"1\" class=\"dataframe\">\n",
       "  <thead>\n",
       "    <tr style=\"text-align: right;\">\n",
       "      <th></th>\n",
       "      <th>Unnamed: 0</th>\n",
       "      <th>created_at</th>\n",
       "      <th>source</th>\n",
       "      <th>original_text</th>\n",
       "      <th>polarity</th>\n",
       "      <th>subjectivity</th>\n",
       "      <th>lang</th>\n",
       "      <th>favorite_count</th>\n",
       "      <th>retweet_count</th>\n",
       "      <th>original_author</th>\n",
       "      <th>followers_count</th>\n",
       "      <th>friends_count</th>\n",
       "      <th>possibly_sensitive</th>\n",
       "      <th>hashtags</th>\n",
       "      <th>user_mentions</th>\n",
       "      <th>place</th>\n",
       "    </tr>\n",
       "  </thead>\n",
       "  <tbody>\n",
       "    <tr>\n",
       "      <th>0</th>\n",
       "      <td>0</td>\n",
       "      <td>2022-04-22 22:32:03+00:00</td>\n",
       "      <td>Twitter for iPhone</td>\n",
       "      <td>MICKEY’S BAD MOVE: @GovRonDeSantis has now sig...</td>\n",
       "      <td>-0.037500</td>\n",
       "      <td>0.533333</td>\n",
       "      <td>en</td>\n",
       "      <td>1</td>\n",
       "      <td>0.0</td>\n",
       "      <td>MercuryReports</td>\n",
       "      <td>9254</td>\n",
       "      <td>9422</td>\n",
       "      <td>False</td>\n",
       "      <td>[]</td>\n",
       "      <td>['GovRonDeSantis']</td>\n",
       "      <td>All Over America</td>\n",
       "    </tr>\n",
       "    <tr>\n",
       "      <th>1</th>\n",
       "      <td>1</td>\n",
       "      <td>2022-04-22 22:16:55+00:00</td>\n",
       "      <td>Twitter for iPhone</td>\n",
       "      <td>ELECTIONS HAVE CONSEQUENCES: Biden’s historic ...</td>\n",
       "      <td>-0.066667</td>\n",
       "      <td>0.033333</td>\n",
       "      <td>en</td>\n",
       "      <td>1</td>\n",
       "      <td>0.0</td>\n",
       "      <td>MercuryReports</td>\n",
       "      <td>9254</td>\n",
       "      <td>9422</td>\n",
       "      <td>False</td>\n",
       "      <td>[]</td>\n",
       "      <td>[]</td>\n",
       "      <td>All Over America</td>\n",
       "    </tr>\n",
       "    <tr>\n",
       "      <th>2</th>\n",
       "      <td>2</td>\n",
       "      <td>2022-04-22 07:15:28+00:00</td>\n",
       "      <td>Twitter for iPhone</td>\n",
       "      <td>COINCIDENCE? 18 U.S. food processing facilitie...</td>\n",
       "      <td>-0.077778</td>\n",
       "      <td>0.177778</td>\n",
       "      <td>en</td>\n",
       "      <td>4</td>\n",
       "      <td>1.0</td>\n",
       "      <td>MercuryReports</td>\n",
       "      <td>9254</td>\n",
       "      <td>9422</td>\n",
       "      <td>False</td>\n",
       "      <td>[]</td>\n",
       "      <td>[]</td>\n",
       "      <td>All Over America</td>\n",
       "    </tr>\n",
       "    <tr>\n",
       "      <th>3</th>\n",
       "      <td>3</td>\n",
       "      <td>2022-04-22 07:11:18+00:00</td>\n",
       "      <td>Twitter for iPhone</td>\n",
       "      <td>FOOD PROCESSING PLANTS BEING DESTROYED: “A Sma...</td>\n",
       "      <td>-0.100000</td>\n",
       "      <td>0.450000</td>\n",
       "      <td>en</td>\n",
       "      <td>3</td>\n",
       "      <td>2.0</td>\n",
       "      <td>MercuryReports</td>\n",
       "      <td>9254</td>\n",
       "      <td>9422</td>\n",
       "      <td>False</td>\n",
       "      <td>[]</td>\n",
       "      <td>[]</td>\n",
       "      <td>All Over America</td>\n",
       "    </tr>\n",
       "    <tr>\n",
       "      <th>4</th>\n",
       "      <td>4</td>\n",
       "      <td>2022-04-21 22:22:02+00:00</td>\n",
       "      <td>Twitter for iPhone</td>\n",
       "      <td>DISGUSTING HUMAN BEING: What one person calls ...</td>\n",
       "      <td>-0.500000</td>\n",
       "      <td>0.550000</td>\n",
       "      <td>en</td>\n",
       "      <td>1</td>\n",
       "      <td>0.0</td>\n",
       "      <td>MercuryReports</td>\n",
       "      <td>9254</td>\n",
       "      <td>9422</td>\n",
       "      <td>False</td>\n",
       "      <td>[]</td>\n",
       "      <td>[]</td>\n",
       "      <td>All Over America</td>\n",
       "    </tr>\n",
       "  </tbody>\n",
       "</table>\n",
       "</div>"
      ],
      "text/plain": [
       "   Unnamed: 0                 created_at              source  \\\n",
       "0           0  2022-04-22 22:32:03+00:00  Twitter for iPhone   \n",
       "1           1  2022-04-22 22:16:55+00:00  Twitter for iPhone   \n",
       "2           2  2022-04-22 07:15:28+00:00  Twitter for iPhone   \n",
       "3           3  2022-04-22 07:11:18+00:00  Twitter for iPhone   \n",
       "4           4  2022-04-21 22:22:02+00:00  Twitter for iPhone   \n",
       "\n",
       "                                       original_text  polarity  subjectivity  \\\n",
       "0  MICKEY’S BAD MOVE: @GovRonDeSantis has now sig... -0.037500      0.533333   \n",
       "1  ELECTIONS HAVE CONSEQUENCES: Biden’s historic ... -0.066667      0.033333   \n",
       "2  COINCIDENCE? 18 U.S. food processing facilitie... -0.077778      0.177778   \n",
       "3  FOOD PROCESSING PLANTS BEING DESTROYED: “A Sma... -0.100000      0.450000   \n",
       "4  DISGUSTING HUMAN BEING: What one person calls ... -0.500000      0.550000   \n",
       "\n",
       "  lang  favorite_count  retweet_count original_author  followers_count  \\\n",
       "0   en               1            0.0  MercuryReports             9254   \n",
       "1   en               1            0.0  MercuryReports             9254   \n",
       "2   en               4            1.0  MercuryReports             9254   \n",
       "3   en               3            2.0  MercuryReports             9254   \n",
       "4   en               1            0.0  MercuryReports             9254   \n",
       "\n",
       "   friends_count  possibly_sensitive hashtags       user_mentions  \\\n",
       "0           9422               False       []  ['GovRonDeSantis']   \n",
       "1           9422               False       []                  []   \n",
       "2           9422               False       []                  []   \n",
       "3           9422               False       []                  []   \n",
       "4           9422               False       []                  []   \n",
       "\n",
       "              place  \n",
       "0  All Over America  \n",
       "1  All Over America  \n",
       "2  All Over America  \n",
       "3  All Over America  \n",
       "4  All Over America  "
      ]
     },
     "execution_count": 14,
     "metadata": {},
     "output_type": "execute_result"
    }
   ],
   "source": [
    "cleaned_df.info()\n",
    "cleaned_df.head()"
   ]
  },
  {
   "cell_type": "code",
   "execution_count": 15,
   "id": "ea46f163",
   "metadata": {},
   "outputs": [
    {
     "data": {
      "text/plain": [
       "Index(['Unnamed: 0', 'created_at', 'source', 'original_text', 'polarity',\n",
       "       'subjectivity', 'lang', 'favorite_count', 'retweet_count',\n",
       "       'original_author', 'followers_count', 'friends_count',\n",
       "       'possibly_sensitive', 'hashtags', 'user_mentions', 'place'],\n",
       "      dtype='object')"
      ]
     },
     "execution_count": 15,
     "metadata": {},
     "output_type": "execute_result"
    }
   ],
   "source": [
    "\n",
    "cleaned_df.columns"
   ]
  },
  {
   "cell_type": "code",
   "execution_count": 16,
   "id": "217c5fa0",
   "metadata": {},
   "outputs": [
    {
     "data": {
      "text/html": [
       "<div>\n",
       "<style scoped>\n",
       "    .dataframe tbody tr th:only-of-type {\n",
       "        vertical-align: middle;\n",
       "    }\n",
       "\n",
       "    .dataframe tbody tr th {\n",
       "        vertical-align: top;\n",
       "    }\n",
       "\n",
       "    .dataframe thead th {\n",
       "        text-align: right;\n",
       "    }\n",
       "</style>\n",
       "<table border=\"1\" class=\"dataframe\">\n",
       "  <thead>\n",
       "    <tr style=\"text-align: right;\">\n",
       "      <th></th>\n",
       "      <th>Unnamed: 0</th>\n",
       "      <th>polarity</th>\n",
       "      <th>subjectivity</th>\n",
       "      <th>favorite_count</th>\n",
       "      <th>retweet_count</th>\n",
       "      <th>followers_count</th>\n",
       "      <th>friends_count</th>\n",
       "    </tr>\n",
       "  </thead>\n",
       "  <tbody>\n",
       "    <tr>\n",
       "      <th>count</th>\n",
       "      <td>4307.000000</td>\n",
       "      <td>4307.000000</td>\n",
       "      <td>4307.000000</td>\n",
       "      <td>4307.000000</td>\n",
       "      <td>4307.000000</td>\n",
       "      <td>4.307000e+03</td>\n",
       "      <td>4307.000000</td>\n",
       "    </tr>\n",
       "    <tr>\n",
       "      <th>mean</th>\n",
       "      <td>2153.000000</td>\n",
       "      <td>0.090746</td>\n",
       "      <td>0.292985</td>\n",
       "      <td>7.169492</td>\n",
       "      <td>557.758533</td>\n",
       "      <td>1.122328e+05</td>\n",
       "      <td>1268.250058</td>\n",
       "    </tr>\n",
       "    <tr>\n",
       "      <th>std</th>\n",
       "      <td>1243.468134</td>\n",
       "      <td>0.266576</td>\n",
       "      <td>0.312220</td>\n",
       "      <td>61.524430</td>\n",
       "      <td>11653.849704</td>\n",
       "      <td>6.659288e+05</td>\n",
       "      <td>2939.540433</td>\n",
       "    </tr>\n",
       "    <tr>\n",
       "      <th>min</th>\n",
       "      <td>0.000000</td>\n",
       "      <td>-1.000000</td>\n",
       "      <td>0.000000</td>\n",
       "      <td>0.000000</td>\n",
       "      <td>0.000000</td>\n",
       "      <td>0.000000e+00</td>\n",
       "      <td>0.000000</td>\n",
       "    </tr>\n",
       "    <tr>\n",
       "      <th>25%</th>\n",
       "      <td>1076.500000</td>\n",
       "      <td>0.000000</td>\n",
       "      <td>0.000000</td>\n",
       "      <td>0.000000</td>\n",
       "      <td>0.000000</td>\n",
       "      <td>2.670000e+02</td>\n",
       "      <td>99.000000</td>\n",
       "    </tr>\n",
       "    <tr>\n",
       "      <th>50%</th>\n",
       "      <td>2153.000000</td>\n",
       "      <td>0.000000</td>\n",
       "      <td>0.233333</td>\n",
       "      <td>0.000000</td>\n",
       "      <td>0.000000</td>\n",
       "      <td>1.236000e+03</td>\n",
       "      <td>421.000000</td>\n",
       "    </tr>\n",
       "    <tr>\n",
       "      <th>75%</th>\n",
       "      <td>3229.500000</td>\n",
       "      <td>0.200000</td>\n",
       "      <td>0.500000</td>\n",
       "      <td>2.000000</td>\n",
       "      <td>3.000000</td>\n",
       "      <td>5.124000e+03</td>\n",
       "      <td>1263.000000</td>\n",
       "    </tr>\n",
       "    <tr>\n",
       "      <th>max</th>\n",
       "      <td>4306.000000</td>\n",
       "      <td>1.000000</td>\n",
       "      <td>1.000000</td>\n",
       "      <td>1790.000000</td>\n",
       "      <td>434379.000000</td>\n",
       "      <td>6.027402e+06</td>\n",
       "      <td>41866.000000</td>\n",
       "    </tr>\n",
       "  </tbody>\n",
       "</table>\n",
       "</div>"
      ],
      "text/plain": [
       "        Unnamed: 0     polarity  subjectivity  favorite_count  retweet_count  \\\n",
       "count  4307.000000  4307.000000   4307.000000     4307.000000    4307.000000   \n",
       "mean   2153.000000     0.090746      0.292985        7.169492     557.758533   \n",
       "std    1243.468134     0.266576      0.312220       61.524430   11653.849704   \n",
       "min       0.000000    -1.000000      0.000000        0.000000       0.000000   \n",
       "25%    1076.500000     0.000000      0.000000        0.000000       0.000000   \n",
       "50%    2153.000000     0.000000      0.233333        0.000000       0.000000   \n",
       "75%    3229.500000     0.200000      0.500000        2.000000       3.000000   \n",
       "max    4306.000000     1.000000      1.000000     1790.000000  434379.000000   \n",
       "\n",
       "       followers_count  friends_count  \n",
       "count     4.307000e+03    4307.000000  \n",
       "mean      1.122328e+05    1268.250058  \n",
       "std       6.659288e+05    2939.540433  \n",
       "min       0.000000e+00       0.000000  \n",
       "25%       2.670000e+02      99.000000  \n",
       "50%       1.236000e+03     421.000000  \n",
       "75%       5.124000e+03    1263.000000  \n",
       "max       6.027402e+06   41866.000000  "
      ]
     },
     "execution_count": 16,
     "metadata": {},
     "output_type": "execute_result"
    }
   ],
   "source": [
    "cleaned_df.describe()"
   ]
  },
  {
   "cell_type": "code",
   "execution_count": 17,
   "id": "248b92ff",
   "metadata": {},
   "outputs": [
    {
     "data": {
      "text/plain": [
       "0"
      ]
     },
     "execution_count": 17,
     "metadata": {},
     "output_type": "execute_result"
    }
   ],
   "source": [
    "cleaned_df.isnull().sum().sum()"
   ]
  },
  {
   "cell_type": "code",
   "execution_count": 18,
   "id": "ecc5133d",
   "metadata": {},
   "outputs": [
    {
     "data": {
      "text/plain": [
       "(4307, 16)"
      ]
     },
     "execution_count": 18,
     "metadata": {},
     "output_type": "execute_result"
    }
   ],
   "source": [
    "cleaned_df.shape"
   ]
  },
  {
   "cell_type": "code",
   "execution_count": 36,
   "id": "8f59f429",
   "metadata": {},
   "outputs": [
    {
     "data": {
      "image/png": "[encoded data removed]",
      "text/plain": [
       "<Figure size 432x288 with 2 Axes>"
      ]
     },
     "metadata": {
      "needs_background": "light"
     },
     "output_type": "display_data"
    }
   ],
   "source": [
    "sns.heatmap(cleaned_df.corr());"
   ]
  },
  {
   "cell_type": "markdown",
   "id": "ccdd75dc",
   "metadata": {},
   "source": [
    "for the sentmental analysis and topic modeling task we use only three columns "
   ]
  },
  {
   "cell_type": "markdown",
   "id": "c52c82ad",
   "metadata": {},
   "source": [
    "original_text, polarity and subjectivity "
   ]
  },
  {
   "cell_type": "markdown",
   "id": "263ad50d",
   "metadata": {},
   "source": [
    "this dataset can be created by labeling the previous dataframes polarity column "
   ]
  },
  {
   "cell_type": "markdown",
   "id": "33e27e26",
   "metadata": {},
   "source": [
    "stop word removal, emoji removal, changed to lower case and automatic labeling are done on this dataset preprocessing steps."
   ]
  },
  {
   "cell_type": "code",
   "execution_count": 19,
   "id": "bfe10f89",
   "metadata": {},
   "outputs": [],
   "source": [
    "df=pd.read_csv(\"labeled_text.csv\")"
   ]
  },
  {
   "cell_type": "code",
   "execution_count": 21,
   "id": "ab8f2b2b",
   "metadata": {},
   "outputs": [
    {
     "data": {
      "text/html": [
       "<div>\n",
       "<style scoped>\n",
       "    .dataframe tbody tr th:only-of-type {\n",
       "        vertical-align: middle;\n",
       "    }\n",
       "\n",
       "    .dataframe tbody tr th {\n",
       "        vertical-align: top;\n",
       "    }\n",
       "\n",
       "    .dataframe thead th {\n",
       "        text-align: right;\n",
       "    }\n",
       "</style>\n",
       "<table border=\"1\" class=\"dataframe\">\n",
       "  <thead>\n",
       "    <tr style=\"text-align: right;\">\n",
       "      <th></th>\n",
       "      <th>Unnamed: 0</th>\n",
       "      <th>original_text</th>\n",
       "      <th>polarity</th>\n",
       "      <th>subjectivity</th>\n",
       "      <th>label</th>\n",
       "    </tr>\n",
       "  </thead>\n",
       "  <tbody>\n",
       "    <tr>\n",
       "      <th>0</th>\n",
       "      <td>0</td>\n",
       "      <td>mickeys bad move govrondesantis has now signed...</td>\n",
       "      <td>-0.037500</td>\n",
       "      <td>0.533333</td>\n",
       "      <td>negative</td>\n",
       "    </tr>\n",
       "    <tr>\n",
       "      <th>1</th>\n",
       "      <td>1</td>\n",
       "      <td>elections have consequences bidens historic mi...</td>\n",
       "      <td>-0.066667</td>\n",
       "      <td>0.033333</td>\n",
       "      <td>negative</td>\n",
       "    </tr>\n",
       "    <tr>\n",
       "      <th>2</th>\n",
       "      <td>2</td>\n",
       "      <td>coincidence 18 us food processing facilities b...</td>\n",
       "      <td>-0.077778</td>\n",
       "      <td>0.177778</td>\n",
       "      <td>negative</td>\n",
       "    </tr>\n",
       "    <tr>\n",
       "      <th>3</th>\n",
       "      <td>3</td>\n",
       "      <td>food processing plants being destroyed a small...</td>\n",
       "      <td>-0.100000</td>\n",
       "      <td>0.450000</td>\n",
       "      <td>negative</td>\n",
       "    </tr>\n",
       "    <tr>\n",
       "      <th>4</th>\n",
       "      <td>4</td>\n",
       "      <td>disgusting human being what one person calls h...</td>\n",
       "      <td>-0.500000</td>\n",
       "      <td>0.550000</td>\n",
       "      <td>negative</td>\n",
       "    </tr>\n",
       "  </tbody>\n",
       "</table>\n",
       "</div>"
      ],
      "text/plain": [
       "   Unnamed: 0                                      original_text  polarity  \\\n",
       "0           0  mickeys bad move govrondesantis has now signed... -0.037500   \n",
       "1           1  elections have consequences bidens historic mi... -0.066667   \n",
       "2           2  coincidence 18 us food processing facilities b... -0.077778   \n",
       "3           3  food processing plants being destroyed a small... -0.100000   \n",
       "4           4  disgusting human being what one person calls h... -0.500000   \n",
       "\n",
       "   subjectivity     label  \n",
       "0      0.533333  negative  \n",
       "1      0.033333  negative  \n",
       "2      0.177778  negative  \n",
       "3      0.450000  negative  \n",
       "4      0.550000  negative  "
      ]
     },
     "execution_count": 21,
     "metadata": {},
     "output_type": "execute_result"
    }
   ],
   "source": [
    "df.head()"
   ]
  },
  {
   "cell_type": "code",
   "execution_count": 22,
   "id": "c81a3410",
   "metadata": {},
   "outputs": [
    {
     "name": "stdout",
     "output_type": "stream",
     "text": [
      "<class 'pandas.core.frame.DataFrame'>\n",
      "RangeIndex: 2218 entries, 0 to 2217\n",
      "Data columns (total 5 columns):\n",
      " #   Column         Non-Null Count  Dtype  \n",
      "---  ------         --------------  -----  \n",
      " 0   Unnamed: 0     2218 non-null   int64  \n",
      " 1   original_text  2218 non-null   object \n",
      " 2   polarity       2218 non-null   float64\n",
      " 3   subjectivity   2218 non-null   float64\n",
      " 4   label          2218 non-null   object \n",
      "dtypes: float64(2), int64(1), object(2)\n",
      "memory usage: 86.8+ KB\n"
     ]
    }
   ],
   "source": [
    "df.info()"
   ]
  },
  {
   "cell_type": "code",
   "execution_count": 23,
   "id": "9dde2cd0",
   "metadata": {},
   "outputs": [
    {
     "data": {
      "text/html": [
       "<div>\n",
       "<style scoped>\n",
       "    .dataframe tbody tr th:only-of-type {\n",
       "        vertical-align: middle;\n",
       "    }\n",
       "\n",
       "    .dataframe tbody tr th {\n",
       "        vertical-align: top;\n",
       "    }\n",
       "\n",
       "    .dataframe thead th {\n",
       "        text-align: right;\n",
       "    }\n",
       "</style>\n",
       "<table border=\"1\" class=\"dataframe\">\n",
       "  <thead>\n",
       "    <tr style=\"text-align: right;\">\n",
       "      <th></th>\n",
       "      <th>Unnamed: 0</th>\n",
       "      <th>polarity</th>\n",
       "      <th>subjectivity</th>\n",
       "    </tr>\n",
       "  </thead>\n",
       "  <tbody>\n",
       "    <tr>\n",
       "      <th>count</th>\n",
       "      <td>2218.000000</td>\n",
       "      <td>2218.000000</td>\n",
       "      <td>2218.000000</td>\n",
       "    </tr>\n",
       "    <tr>\n",
       "      <th>mean</th>\n",
       "      <td>2053.097385</td>\n",
       "      <td>0.176213</td>\n",
       "      <td>0.510496</td>\n",
       "    </tr>\n",
       "    <tr>\n",
       "      <th>std</th>\n",
       "      <td>1224.012452</td>\n",
       "      <td>0.350650</td>\n",
       "      <td>0.241556</td>\n",
       "    </tr>\n",
       "    <tr>\n",
       "      <th>min</th>\n",
       "      <td>0.000000</td>\n",
       "      <td>-1.000000</td>\n",
       "      <td>0.000000</td>\n",
       "    </tr>\n",
       "    <tr>\n",
       "      <th>25%</th>\n",
       "      <td>982.250000</td>\n",
       "      <td>-0.063125</td>\n",
       "      <td>0.333333</td>\n",
       "    </tr>\n",
       "    <tr>\n",
       "      <th>50%</th>\n",
       "      <td>2039.500000</td>\n",
       "      <td>0.197917</td>\n",
       "      <td>0.500000</td>\n",
       "    </tr>\n",
       "    <tr>\n",
       "      <th>75%</th>\n",
       "      <td>3102.500000</td>\n",
       "      <td>0.400000</td>\n",
       "      <td>0.650000</td>\n",
       "    </tr>\n",
       "    <tr>\n",
       "      <th>max</th>\n",
       "      <td>4306.000000</td>\n",
       "      <td>1.000000</td>\n",
       "      <td>1.000000</td>\n",
       "    </tr>\n",
       "  </tbody>\n",
       "</table>\n",
       "</div>"
      ],
      "text/plain": [
       "        Unnamed: 0     polarity  subjectivity\n",
       "count  2218.000000  2218.000000   2218.000000\n",
       "mean   2053.097385     0.176213      0.510496\n",
       "std    1224.012452     0.350650      0.241556\n",
       "min       0.000000    -1.000000      0.000000\n",
       "25%     982.250000    -0.063125      0.333333\n",
       "50%    2039.500000     0.197917      0.500000\n",
       "75%    3102.500000     0.400000      0.650000\n",
       "max    4306.000000     1.000000      1.000000"
      ]
     },
     "execution_count": 23,
     "metadata": {},
     "output_type": "execute_result"
    }
   ],
   "source": [
    "df.describe()"
   ]
  },
  {
   "cell_type": "code",
   "execution_count": 25,
   "id": "31612638",
   "metadata": {},
   "outputs": [
    {
     "data": {
      "text/plain": [
       "0"
      ]
     },
     "execution_count": 25,
     "metadata": {},
     "output_type": "execute_result"
    }
   ],
   "source": [
    "df.isnull().sum().sum()"
   ]
  },
  {
   "cell_type": "code",
   "execution_count": 26,
   "id": "6cb17a30",
   "metadata": {},
   "outputs": [
    {
     "data": {
      "text/plain": [
       "positive    1579\n",
       "negative     639\n",
       "Name: label, dtype: int64"
      ]
     },
     "execution_count": 26,
     "metadata": {},
     "output_type": "execute_result"
    }
   ],
   "source": [
    "df[\"label\"].value_counts()"
   ]
  },
  {
   "cell_type": "code",
   "execution_count": 28,
   "id": "f994c399",
   "metadata": {},
   "outputs": [
    {
     "data": {
      "text/plain": [
       "<AxesSubplot:ylabel='label'>"
      ]
     },
     "execution_count": 28,
     "metadata": {},
     "output_type": "execute_result"
    },
    {
     "data": {
      "image/png": "[encoded data removed]",
      "text/plain": [
       "<Figure size 432x288 with 1 Axes>"
      ]
     },
     "metadata": {},
     "output_type": "display_data"
    }
   ],
   "source": [
    "df.label.value_counts().plot(kind='pie', autopct='%1.0f%%', colors=[\"red\", \"yellow\"])"
   ]
  },
  {
   "cell_type": "code",
   "execution_count": 31,
   "id": "cc873cba",
   "metadata": {},
   "outputs": [
    {
     "data": {
      "text/plain": [
       "<AxesSubplot:>"
      ]
     },
     "execution_count": 31,
     "metadata": {},
     "output_type": "execute_result"
    },
    {
     "data": {
      "image/png": "[encoded data removed]",
      "text/plain": [
       "<Figure size 432x288 with 1 Axes>"
      ]
     },
     "metadata": {
      "needs_background": "light"
     },
     "output_type": "display_data"
    }
   ],
   "source": [
    "df.label.value_counts().plot(kind='bar')"
   ]
  },
  {
   "cell_type": "code",
   "execution_count": null,
   "id": "f1c18853",
   "metadata": {},
   "outputs": [],
   "source": []
  }
 ],
 "metadata": {
  "kernelspec": {
   "display_name": "Python 3 (ipykernel)",
   "language": "python",
   "name": "python3"
  },
  "language_info": {
   "codemirror_mode": {
    "name": "ipython",
    "version": 3
   },
   "file_extension": ".py",
   "mimetype": "text/x-python",
   "name": "python",
   "nbconvert_exporter": "python",
   "pygments_lexer": "ipython3",
   "version": "3.7.9"
  }
 },
 "nbformat": 4,
 "nbformat_minor": 5
}
