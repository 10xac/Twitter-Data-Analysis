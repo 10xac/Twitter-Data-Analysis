{
 "cells": [
  {
   "cell_type": "markdown",
   "id": "3d65d979",
   "metadata": {},
   "source": [
    "Topic Modelling and Sentiment Analysis"
   ]
  },
  {
   "cell_type": "code",
   "execution_count": 1,
   "id": "ced6fdb1",
   "metadata": {},
   "outputs": [],
   "source": [
    "import warnings\n",
    "warnings.filterwarnings('ignore')\n",
    "import matplotlib.pyplot as plt\n",
    "import seaborn as sns\n",
    "from wordcloud import STOPWORDS,WordCloud\n",
    "from gensim import corpora\n",
    "import pandas as pd\n",
    "import statistics\n",
    "import string\n",
    "import os\n",
    "import re"
   ]
  },
  {
   "cell_type": "code",
   "execution_count": 2,
   "id": "63c717c6",
   "metadata": {},
   "outputs": [],
   "source": [
    "# inbuilt modules\n",
    "from extract_dataframe import ExtractTweets\n",
    "from clean_tweets_dataframe import TweetCleanser"
   ]
  },
  {
   "cell_type": "code",
   "execution_count": 3,
   "id": "e770594e",
   "metadata": {},
   "outputs": [],
   "source": [
    "# dataframe from extracted tweets\n",
    "extracted_tweets = ExtractTweets(\"data/Economic_Twitter_Data.json\")\n",
    "df = extracted_tweets.get_tweet_df(save=False)\n"
   ]
  },
  {
   "cell_type": "markdown",
   "id": "52c6dac9",
   "metadata": {},
   "source": [
    "Preprocessing Tasks"
   ]
  },
  {
   "cell_type": "code",
   "execution_count": 4,
   "id": "76d9dcb4",
   "metadata": {},
   "outputs": [
    {
     "name": "stdout",
     "output_type": "stream",
     "text": [
      "Automation in Action...!!!\n"
     ]
    }
   ],
   "source": [
    "# clean the dataframe\n",
    "cleanser = TweetCleanser(df)\n",
    "# drop unwanted columns\n",
    "cleanser.drop_unwanted_column(df)\n",
    "# drop duplicate values from original text\n",
    "cleanser.drop_duplicate(df)\n",
    "# convert date data to appropriate datetime\n",
    "cleanser.convert_to_datetime(df)\n",
    "# remove non english texts\n",
    "df_ = cleanser.remove_non_english_tweets(df)"
   ]
  },
  {
   "cell_type": "code",
   "execution_count": 5,
   "id": "b19ca258",
   "metadata": {},
   "outputs": [
    {
     "data": {
      "text/html": [
       "<div>\n",
       "<style scoped>\n",
       "    .dataframe tbody tr th:only-of-type {\n",
       "        vertical-align: middle;\n",
       "    }\n",
       "\n",
       "    .dataframe tbody tr th {\n",
       "        vertical-align: top;\n",
       "    }\n",
       "\n",
       "    .dataframe thead th {\n",
       "        text-align: right;\n",
       "    }\n",
       "</style>\n",
       "<table border=\"1\" class=\"dataframe\">\n",
       "  <thead>\n",
       "    <tr style=\"text-align: right;\">\n",
       "      <th></th>\n",
       "      <th>created_at</th>\n",
       "      <th>source</th>\n",
       "      <th>original_text</th>\n",
       "      <th>polarity</th>\n",
       "      <th>subjectivity</th>\n",
       "      <th>lang</th>\n",
       "      <th>favorite_count</th>\n",
       "      <th>retweet_count</th>\n",
       "      <th>original_author</th>\n",
       "      <th>followers_count</th>\n",
       "      <th>friends_count</th>\n",
       "      <th>possibly_sensitive</th>\n",
       "      <th>hashtags</th>\n",
       "      <th>user_mentions</th>\n",
       "      <th>place</th>\n",
       "    </tr>\n",
       "  </thead>\n",
       "  <tbody>\n",
       "    <tr>\n",
       "      <th>38</th>\n",
       "      <td>2022-04-22 22:17:05+00:00</td>\n",
       "      <td>&lt;a href=\"http://twitter.com/download/android\" ...</td>\n",
       "      <td>RT @NorthstarCharts: The 10-year yield is tell...</td>\n",
       "      <td>0.16</td>\n",
       "      <td>0.540000</td>\n",
       "      <td>en</td>\n",
       "      <td>188</td>\n",
       "      <td>43</td>\n",
       "      <td>davideiacovozzi</td>\n",
       "      <td>18</td>\n",
       "      <td>55</td>\n",
       "      <td>None</td>\n",
       "      <td>[{'text': 'gold', 'indices': [116, 121]}, {'te...</td>\n",
       "      <td>NaN</td>\n",
       "      <td></td>\n",
       "    </tr>\n",
       "    <tr>\n",
       "      <th>39</th>\n",
       "      <td>2022-04-22 13:44:53+00:00</td>\n",
       "      <td>&lt;a href=\"http://twitter.com/download/android\" ...</td>\n",
       "      <td>RT @MichaelAArouet: German 10y mortgage rate w...</td>\n",
       "      <td>0.15</td>\n",
       "      <td>0.175000</td>\n",
       "      <td>en</td>\n",
       "      <td>179</td>\n",
       "      <td>32</td>\n",
       "      <td>davideiacovozzi</td>\n",
       "      <td>18</td>\n",
       "      <td>55</td>\n",
       "      <td>None</td>\n",
       "      <td>[]</td>\n",
       "      <td>NaN</td>\n",
       "      <td></td>\n",
       "    </tr>\n",
       "    <tr>\n",
       "      <th>41</th>\n",
       "      <td>2022-04-22 06:10:34+00:00</td>\n",
       "      <td>&lt;a href=\"http://twitter.com/download/android\" ...</td>\n",
       "      <td>RT @goldseek: When? https://t.co/kO2FfHKaZg</td>\n",
       "      <td>0.00</td>\n",
       "      <td>0.000000</td>\n",
       "      <td>en</td>\n",
       "      <td>193</td>\n",
       "      <td>26</td>\n",
       "      <td>davideiacovozzi</td>\n",
       "      <td>18</td>\n",
       "      <td>55</td>\n",
       "      <td>False</td>\n",
       "      <td>[]</td>\n",
       "      <td>NaN</td>\n",
       "      <td></td>\n",
       "    </tr>\n",
       "    <tr>\n",
       "      <th>42</th>\n",
       "      <td>2022-04-21 17:22:09+00:00</td>\n",
       "      <td>&lt;a href=\"http://twitter.com/download/android\" ...</td>\n",
       "      <td>RT @charliebilello: The 30-year mortgage rate ...</td>\n",
       "      <td>0.00</td>\n",
       "      <td>0.183333</td>\n",
       "      <td>en</td>\n",
       "      <td>620</td>\n",
       "      <td>213</td>\n",
       "      <td>davideiacovozzi</td>\n",
       "      <td>18</td>\n",
       "      <td>55</td>\n",
       "      <td>None</td>\n",
       "      <td>[]</td>\n",
       "      <td>NaN</td>\n",
       "      <td></td>\n",
       "    </tr>\n",
       "    <tr>\n",
       "      <th>43</th>\n",
       "      <td>2022-04-21 10:32:26+00:00</td>\n",
       "      <td>&lt;a href=\"http://twitter.com/download/android\" ...</td>\n",
       "      <td>RT @biancoresearch: Rates rise until something...</td>\n",
       "      <td>-0.40</td>\n",
       "      <td>0.400000</td>\n",
       "      <td>en</td>\n",
       "      <td>1787</td>\n",
       "      <td>417</td>\n",
       "      <td>davideiacovozzi</td>\n",
       "      <td>18</td>\n",
       "      <td>55</td>\n",
       "      <td>False</td>\n",
       "      <td>[]</td>\n",
       "      <td>NaN</td>\n",
       "      <td></td>\n",
       "    </tr>\n",
       "  </tbody>\n",
       "</table>\n",
       "</div>"
      ],
      "text/plain": [
       "                  created_at  \\\n",
       "38 2022-04-22 22:17:05+00:00   \n",
       "39 2022-04-22 13:44:53+00:00   \n",
       "41 2022-04-22 06:10:34+00:00   \n",
       "42 2022-04-21 17:22:09+00:00   \n",
       "43 2022-04-21 10:32:26+00:00   \n",
       "\n",
       "                                               source  \\\n",
       "38  <a href=\"http://twitter.com/download/android\" ...   \n",
       "39  <a href=\"http://twitter.com/download/android\" ...   \n",
       "41  <a href=\"http://twitter.com/download/android\" ...   \n",
       "42  <a href=\"http://twitter.com/download/android\" ...   \n",
       "43  <a href=\"http://twitter.com/download/android\" ...   \n",
       "\n",
       "                                        original_text  polarity  subjectivity  \\\n",
       "38  RT @NorthstarCharts: The 10-year yield is tell...      0.16      0.540000   \n",
       "39  RT @MichaelAArouet: German 10y mortgage rate w...      0.15      0.175000   \n",
       "41        RT @goldseek: When? https://t.co/kO2FfHKaZg      0.00      0.000000   \n",
       "42  RT @charliebilello: The 30-year mortgage rate ...      0.00      0.183333   \n",
       "43  RT @biancoresearch: Rates rise until something...     -0.40      0.400000   \n",
       "\n",
       "   lang  favorite_count  retweet_count  original_author  followers_count  \\\n",
       "38   en             188             43  davideiacovozzi               18   \n",
       "39   en             179             32  davideiacovozzi               18   \n",
       "41   en             193             26  davideiacovozzi               18   \n",
       "42   en             620            213  davideiacovozzi               18   \n",
       "43   en            1787            417  davideiacovozzi               18   \n",
       "\n",
       "    friends_count possibly_sensitive  \\\n",
       "38             55               None   \n",
       "39             55               None   \n",
       "41             55              False   \n",
       "42             55               None   \n",
       "43             55              False   \n",
       "\n",
       "                                             hashtags user_mentions place  \n",
       "38  [{'text': 'gold', 'indices': [116, 121]}, {'te...           NaN        \n",
       "39                                                 []           NaN        \n",
       "41                                                 []           NaN        \n",
       "42                                                 []           NaN        \n",
       "43                                                 []           NaN        "
      ]
     },
     "execution_count": 5,
     "metadata": {},
     "output_type": "execute_result"
    }
   ],
   "source": [
    "df_.head()"
   ]
  },
  {
   "cell_type": "code",
   "execution_count": 6,
   "id": "ba3e98f6",
   "metadata": {},
   "outputs": [
    {
     "name": "stdout",
     "output_type": "stream",
     "text": [
      "<class 'pandas.core.frame.DataFrame'>\n",
      "Int64Index: 15180 entries, 38 to 24622\n",
      "Data columns (total 15 columns):\n",
      " #   Column              Non-Null Count  Dtype              \n",
      "---  ------              --------------  -----              \n",
      " 0   created_at          15180 non-null  datetime64[ns, UTC]\n",
      " 1   source              15180 non-null  object             \n",
      " 2   original_text       15180 non-null  object             \n",
      " 3   polarity            15180 non-null  float64            \n",
      " 4   subjectivity        15180 non-null  float64            \n",
      " 5   lang                15180 non-null  object             \n",
      " 6   favorite_count      15180 non-null  int64              \n",
      " 7   retweet_count       15180 non-null  int64              \n",
      " 8   original_author     15180 non-null  object             \n",
      " 9   followers_count     15180 non-null  int64              \n",
      " 10  friends_count       15180 non-null  int64              \n",
      " 11  possibly_sensitive  6057 non-null   object             \n",
      " 12  hashtags            15180 non-null  object             \n",
      " 13  user_mentions       0 non-null      object             \n",
      " 14  place               15180 non-null  object             \n",
      "dtypes: datetime64[ns, UTC](1), float64(2), int64(4), object(8)\n",
      "memory usage: 1.9+ MB\n"
     ]
    }
   ],
   "source": [
    "df_.info()"
   ]
  },
  {
   "cell_type": "code",
   "execution_count": 7,
   "id": "03518dc0",
   "metadata": {},
   "outputs": [],
   "source": [
    "# checking for any missing values from the data\n",
    "missing_values = df_.isnull().sum().sum()\n"
   ]
  },
  {
   "cell_type": "code",
   "execution_count": 8,
   "id": "e908269e",
   "metadata": {},
   "outputs": [
    {
     "data": {
      "text/plain": [
       "24303"
      ]
     },
     "execution_count": 8,
     "metadata": {},
     "output_type": "execute_result"
    }
   ],
   "source": [
    "missing_values"
   ]
  },
  {
   "cell_type": "code",
   "execution_count": 9,
   "id": "b25d5e4a",
   "metadata": {},
   "outputs": [],
   "source": [
    "# check the columns that have values\n",
    "columns_with_null_values = df_.columns[df_.isnull().any()]"
   ]
  },
  {
   "cell_type": "code",
   "execution_count": 10,
   "id": "5a6839b0",
   "metadata": {},
   "outputs": [
    {
     "data": {
      "text/plain": [
       "Index(['possibly_sensitive', 'user_mentions'], dtype='object')"
      ]
     },
     "execution_count": 10,
     "metadata": {},
     "output_type": "execute_result"
    }
   ],
   "source": [
    "columns_with_null_values"
   ]
  },
  {
   "cell_type": "code",
   "execution_count": 11,
   "id": "4aed31c0",
   "metadata": {},
   "outputs": [],
   "source": [
    "# univariate analysis on hashtags\n",
    "def get_hashtags(tweet):\n",
    "    '''This function will extract hashtags'''\n",
    "    return re.findall('(#[A-Za-z]+[A-Za-z0-9-_]+)', tweet)"
   ]
  },
  {
   "cell_type": "code",
   "execution_count": 12,
   "id": "da9cf9ff",
   "metadata": {},
   "outputs": [],
   "source": [
    "# apply the method to the text\n",
    "df_['hashtags'] = df_['original_text'].apply(get_hashtags)"
   ]
  },
  {
   "cell_type": "code",
   "execution_count": 13,
   "id": "b689e39e",
   "metadata": {},
   "outputs": [],
   "source": [
    "# we can take the rows that have valid hashtags\n",
    "hashtags = df_[df_['hashtags'].map(lambda x: len(x)) > 0]"
   ]
  },
  {
   "cell_type": "code",
   "execution_count": 14,
   "id": "51d9d71b",
   "metadata": {},
   "outputs": [
    {
     "data": {
      "text/plain": [
       "4829"
      ]
     },
     "execution_count": 14,
     "metadata": {},
     "output_type": "execute_result"
    }
   ],
   "source": [
    "# how many records have hashtags\n",
    "len(hashtags)"
   ]
  },
  {
   "cell_type": "code",
   "execution_count": 15,
   "id": "ca036582",
   "metadata": {},
   "outputs": [],
   "source": [
    "# we can flatten the hashtags\n",
    "flattened_hash_dataframes = pd.DataFrame(\n",
    "    [hashtag for hashtags_list in hashtags.hashtags\n",
    "    for hashtag in hashtags_list],\n",
    "    columns=['hashtag'])"
   ]
  },
  {
   "cell_type": "code",
   "execution_count": 16,
   "id": "c8196cb6",
   "metadata": {},
   "outputs": [],
   "source": [
    "# we can add it to the main dataframe\n",
    "df_['all_hashtags'] = flattened_hash_dataframes"
   ]
  },
  {
   "cell_type": "code",
   "execution_count": 20,
   "id": "d240cd6d",
   "metadata": {},
   "outputs": [
    {
     "data": {
      "text/plain": [
       "<AxesSubplot:>"
      ]
     },
     "execution_count": 20,
     "metadata": {},
     "output_type": "execute_result"
    },
    {
     "data": {
      "image/png": "[encoded data removed]",
      "text/plain": [
       "<Figure size 432x288 with 1 Axes>"
      ]
     },
     "metadata": {
      "needs_background": "light"
     },
     "output_type": "display_data"
    }
   ],
   "source": [
    "# we can plot the top 10 hashtags\n",
    "df_['all_hashtags'].value_counts()[:10].plot(kind='bar',color='purple')"
   ]
  },
  {
   "cell_type": "code",
   "execution_count": 23,
   "id": "16499759",
   "metadata": {},
   "outputs": [],
   "source": [
    "# plotting tweets by language\n",
    "# first of all get the tweets by language\n",
    "tweets_df = pd.DataFrame(columns = ['original_text','lang'])\n",
    "tweets_df['text'] = df['original_text'].to_list()\n",
    "tweets_df['lang'] = df['lang'].to_list()\n",
    "tweets_according_language = tweets_df['lang'].value_counts()"
   ]
  },
  {
   "cell_type": "code",
   "execution_count": 25,
   "id": "dce443a0",
   "metadata": {},
   "outputs": [
    {
     "data": {
      "text/plain": [
       "<AxesSubplot:title={'center':'The 10 Most Frequent Used Languages In Tweets'}, xlabel='Languages', ylabel='Frequency'>"
      ]
     },
     "execution_count": 25,
     "metadata": {},
     "output_type": "execute_result"
    },
    {
     "data": {
      "image/png": "[encoded data removed]",
      "text/plain": [
       "<Figure size 432x288 with 1 Axes>"
      ]
     },
     "metadata": {
      "needs_background": "light"
     },
     "output_type": "display_data"
    }
   ],
   "source": [
    "# we can plot the most frequent language\n",
    "fig,ax = plt.subplots()\n",
    "ax.tick_params(axis='x',labelsize=10)\n",
    "ax.tick_params(axis='y',labelsize=10)\n",
    "ax.set_xlabel(\"Languages\")\n",
    "ax.set_ylabel(\"Frequency\")\n",
    "ax.set_title(\"The 10 Most Frequent Used Languages In Tweets\")\n",
    "tweets_according_language[:10].plot(ax=ax,kind='bar',color='green')"
   ]
  },
  {
   "cell_type": "code",
   "execution_count": 30,
   "id": "c6a08eb3",
   "metadata": {},
   "outputs": [],
   "source": [
    "import enchant"
   ]
  },
  {
   "cell_type": "code",
   "execution_count": 31,
   "id": "22b4aeae",
   "metadata": {},
   "outputs": [],
   "source": [
    "en_us = enchant.Dict(\"en_US\")"
   ]
  },
  {
   "cell_type": "code",
   "execution_count": 32,
   "id": "fc50811b",
   "metadata": {},
   "outputs": [],
   "source": [
    "# text processing\n",
    "def clean_text(tweet):\n",
    "    \"\"\"this function cleans the original text\"\"\"\n",
    "    return ' '.join(w for w in tweet.split() if en_us.check(w))"
   ]
  },
  {
   "cell_type": "code",
   "execution_count": 33,
   "id": "0a6c892e",
   "metadata": {},
   "outputs": [],
   "source": [
    "# apply the method to the original text\n",
    "df_['clean_text'] = df_['original_text'].apply(clean_text)"
   ]
  },
  {
   "cell_type": "code",
   "execution_count": 41,
   "id": "e081a703",
   "metadata": {},
   "outputs": [],
   "source": [
    "# text processing\n",
    "df_['clean_text'] = df_['clean_text'].astype(str)\n",
    "df_['clean_text'] = df_['clean_text'].apply(lambda x:)"
   ]
  },
  {
   "cell_type": "code",
   "execution_count": null,
   "id": "8e50df05",
   "metadata": {},
   "outputs": [],
   "source": []
  }
 ],
 "metadata": {
  "kernelspec": {
   "display_name": "Python 3 (ipykernel)",
   "language": "python",
   "name": "python3"
  },
  "language_info": {
   "codemirror_mode": {
    "name": "ipython",
    "version": 3
   },
   "file_extension": ".py",
   "mimetype": "text/x-python",
   "name": "python",
   "nbconvert_exporter": "python",
   "pygments_lexer": "ipython3",
   "version": "3.8.10"
  }
 },
 "nbformat": 4,
 "nbformat_minor": 5
}
