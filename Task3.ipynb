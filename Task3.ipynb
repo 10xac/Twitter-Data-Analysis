{
  "nbformat": 4,
  "nbformat_minor": 0,
  "metadata": {
    "colab": {
      "name": "Task3.ipynb",
      "provenance": [],
      "collapsed_sections": [],
      "authorship_tag": "ABX9TyNFuuNRWuBKBdf6GC6KWj0p",
      "include_colab_link": true
    },
    "kernelspec": {
      "name": "python3",
      "display_name": "Python 3"
    },
    "language_info": {
      "name": "python"
    }
  },
  "cells": [
    {
      "cell_type": "markdown",
      "metadata": {
        "id": "view-in-github",
        "colab_type": "text"
      },
      "source": [
        "<a href=\"https://colab.research.google.com/github/AmonKi/Twitter-Data-Analysis/blob/fix_bug/Task3.ipynb\" target=\"_parent\"><img src=\"https://colab.research.google.com/assets/colab-badge.svg\" alt=\"Open In Colab\"/></a>"
      ]
    },
    {
      "cell_type": "code",
      "metadata": {
        "id": "WQKbpe317hDl"
      },
      "source": [
        "import pandas as pd\n",
        "import numpy as np"
      ],
      "execution_count": null,
      "outputs": []
    },
    {
      "cell_type": "code",
      "metadata": {
        "id": "HXtNLhxK7t5O"
      },
      "source": [
        "data2=pd.read_csv(\"clean_tweet.csv\")"
      ],
      "execution_count": null,
      "outputs": []
    },
    {
      "cell_type": "code",
      "metadata": {
        "colab": {
          "base_uri": "https://localhost:8080/",
          "height": 428
        },
        "id": "svjFt5PwCoNk",
        "outputId": "454eb1c3-e800-40c3-98eb-38bcf511b6a4"
      },
      "source": [
        "data2.head(5)"
      ],
      "execution_count": null,
      "outputs": [
        {
          "output_type": "execute_result",
          "data": {
            "text/html": [
              "<div>\n",
              "<style scoped>\n",
              "    .dataframe tbody tr th:only-of-type {\n",
              "        vertical-align: middle;\n",
              "    }\n",
              "\n",
              "    .dataframe tbody tr th {\n",
              "        vertical-align: top;\n",
              "    }\n",
              "\n",
              "    .dataframe thead th {\n",
              "        text-align: right;\n",
              "    }\n",
              "</style>\n",
              "<table border=\"1\" class=\"dataframe\">\n",
              "  <thead>\n",
              "    <tr style=\"text-align: right;\">\n",
              "      <th></th>\n",
              "      <th>Unnamed: 0</th>\n",
              "      <th>created_at</th>\n",
              "      <th>source</th>\n",
              "      <th>original_text</th>\n",
              "      <th>polarity</th>\n",
              "      <th>subjectivity</th>\n",
              "      <th>lang</th>\n",
              "      <th>favorite_count</th>\n",
              "      <th>retweet_count</th>\n",
              "      <th>original_author</th>\n",
              "      <th>followers_count</th>\n",
              "      <th>friends_count</th>\n",
              "      <th>possibly_sensitive</th>\n",
              "      <th>hashtags</th>\n",
              "      <th>user_mentions</th>\n",
              "      <th>place</th>\n",
              "    </tr>\n",
              "  </thead>\n",
              "  <tbody>\n",
              "    <tr>\n",
              "      <th>0</th>\n",
              "      <td>0</td>\n",
              "      <td>Fri Jun 18 17:55:49 +0000 2021</td>\n",
              "      <td>&lt;a href=\"http://twitter.com/download/iphone\" r...</td>\n",
              "      <td>🚨Africa is \"in the midst of a full-blown third...</td>\n",
              "      <td>0.166667</td>\n",
              "      <td>0.188889</td>\n",
              "      <td>en</td>\n",
              "      <td>548</td>\n",
              "      <td>612.0</td>\n",
              "      <td>ketuesriche</td>\n",
              "      <td>551</td>\n",
              "      <td>351</td>\n",
              "      <td>NaN</td>\n",
              "      <td>NaN</td>\n",
              "      <td>NaN</td>\n",
              "      <td>Mass</td>\n",
              "    </tr>\n",
              "    <tr>\n",
              "      <th>1</th>\n",
              "      <td>1</td>\n",
              "      <td>Fri Jun 18 17:55:59 +0000 2021</td>\n",
              "      <td>&lt;a href=\"https://mobile.twitter.com\" rel=\"nofo...</td>\n",
              "      <td>Dr Moeti is head of WHO in Africa, and one of ...</td>\n",
              "      <td>0.133333</td>\n",
              "      <td>0.455556</td>\n",
              "      <td>en</td>\n",
              "      <td>195</td>\n",
              "      <td>92.0</td>\n",
              "      <td>Grid1949</td>\n",
              "      <td>66</td>\n",
              "      <td>92</td>\n",
              "      <td>NaN</td>\n",
              "      <td>NaN</td>\n",
              "      <td>NaN</td>\n",
              "      <td>Edinburgh, Scotland</td>\n",
              "    </tr>\n",
              "    <tr>\n",
              "      <th>2</th>\n",
              "      <td>2</td>\n",
              "      <td>Fri Jun 18 17:56:07 +0000 2021</td>\n",
              "      <td>&lt;a href=\"http://twitter.com/download/iphone\" r...</td>\n",
              "      <td>Thank you @research2note for creating this ama...</td>\n",
              "      <td>0.316667</td>\n",
              "      <td>0.483333</td>\n",
              "      <td>en</td>\n",
              "      <td>2</td>\n",
              "      <td>1.0</td>\n",
              "      <td>LeeTomlinson8</td>\n",
              "      <td>1195</td>\n",
              "      <td>1176</td>\n",
              "      <td>NaN</td>\n",
              "      <td>NaN</td>\n",
              "      <td>NaN</td>\n",
              "      <td>NaN</td>\n",
              "    </tr>\n",
              "    <tr>\n",
              "      <th>3</th>\n",
              "      <td>3</td>\n",
              "      <td>Fri Jun 18 17:56:10 +0000 2021</td>\n",
              "      <td>&lt;a href=\"https://mobile.twitter.com\" rel=\"nofo...</td>\n",
              "      <td>Former Pfizer VP and Virologist, Dr. Michael Y...</td>\n",
              "      <td>0.086111</td>\n",
              "      <td>0.197222</td>\n",
              "      <td>en</td>\n",
              "      <td>1580</td>\n",
              "      <td>899.0</td>\n",
              "      <td>RIPNY08</td>\n",
              "      <td>2666</td>\n",
              "      <td>2704</td>\n",
              "      <td>NaN</td>\n",
              "      <td>NaN</td>\n",
              "      <td>NaN</td>\n",
              "      <td>NaN</td>\n",
              "    </tr>\n",
              "    <tr>\n",
              "      <th>4</th>\n",
              "      <td>4</td>\n",
              "      <td>Fri Jun 18 17:56:20 +0000 2021</td>\n",
              "      <td>&lt;a href=\"http://twitter.com/download/android\" ...</td>\n",
              "      <td>I think it’s important that we don’t sell COVA...</td>\n",
              "      <td>0.280000</td>\n",
              "      <td>0.620000</td>\n",
              "      <td>en</td>\n",
              "      <td>72</td>\n",
              "      <td>20.0</td>\n",
              "      <td>pash22</td>\n",
              "      <td>28250</td>\n",
              "      <td>30819</td>\n",
              "      <td>NaN</td>\n",
              "      <td>NaN</td>\n",
              "      <td>NaN</td>\n",
              "      <td>United Kingdom</td>\n",
              "    </tr>\n",
              "  </tbody>\n",
              "</table>\n",
              "</div>"
            ],
            "text/plain": [
              "   Unnamed: 0  ...                place\n",
              "0           0  ...                 Mass\n",
              "1           1  ...  Edinburgh, Scotland\n",
              "2           2  ...                  NaN\n",
              "3           3  ...                  NaN\n",
              "4           4  ...       United Kingdom\n",
              "\n",
              "[5 rows x 16 columns]"
            ]
          },
          "metadata": {
            "tags": []
          },
          "execution_count": 7
        }
      ]
    },
    {
      "cell_type": "code",
      "metadata": {
        "colab": {
          "base_uri": "https://localhost:8080/",
          "height": 334
        },
        "id": "oER3D1e1C0FR",
        "outputId": "06cdbc54-ce0a-402d-c467-2ebf0d86b694"
      },
      "source": [
        "data2.describe()"
      ],
      "execution_count": null,
      "outputs": [
        {
          "output_type": "execute_result",
          "data": {
            "text/html": [
              "<div>\n",
              "<style scoped>\n",
              "    .dataframe tbody tr th:only-of-type {\n",
              "        vertical-align: middle;\n",
              "    }\n",
              "\n",
              "    .dataframe tbody tr th {\n",
              "        vertical-align: top;\n",
              "    }\n",
              "\n",
              "    .dataframe thead th {\n",
              "        text-align: right;\n",
              "    }\n",
              "</style>\n",
              "<table border=\"1\" class=\"dataframe\">\n",
              "  <thead>\n",
              "    <tr style=\"text-align: right;\">\n",
              "      <th></th>\n",
              "      <th>Unnamed: 0</th>\n",
              "      <th>polarity</th>\n",
              "      <th>subjectivity</th>\n",
              "      <th>favorite_count</th>\n",
              "      <th>retweet_count</th>\n",
              "      <th>followers_count</th>\n",
              "      <th>friends_count</th>\n",
              "      <th>hashtags</th>\n",
              "      <th>user_mentions</th>\n",
              "    </tr>\n",
              "  </thead>\n",
              "  <tbody>\n",
              "    <tr>\n",
              "      <th>count</th>\n",
              "      <td>6532.000000</td>\n",
              "      <td>6532.000000</td>\n",
              "      <td>6532.000000</td>\n",
              "      <td>6532.000000</td>\n",
              "      <td>4785.000000</td>\n",
              "      <td>6.532000e+03</td>\n",
              "      <td>6532.000000</td>\n",
              "      <td>0.0</td>\n",
              "      <td>0.0</td>\n",
              "    </tr>\n",
              "    <tr>\n",
              "      <th>mean</th>\n",
              "      <td>3265.500000</td>\n",
              "      <td>0.082598</td>\n",
              "      <td>0.253671</td>\n",
              "      <td>242.896050</td>\n",
              "      <td>173.269801</td>\n",
              "      <td>1.649915e+04</td>\n",
              "      <td>1707.652021</td>\n",
              "      <td>NaN</td>\n",
              "      <td>NaN</td>\n",
              "    </tr>\n",
              "    <tr>\n",
              "      <th>std</th>\n",
              "      <td>1885.770311</td>\n",
              "      <td>0.174333</td>\n",
              "      <td>0.275541</td>\n",
              "      <td>617.588401</td>\n",
              "      <td>288.354650</td>\n",
              "      <td>2.597877e+05</td>\n",
              "      <td>5148.761957</td>\n",
              "      <td>NaN</td>\n",
              "      <td>NaN</td>\n",
              "    </tr>\n",
              "    <tr>\n",
              "      <th>min</th>\n",
              "      <td>0.000000</td>\n",
              "      <td>-1.000000</td>\n",
              "      <td>0.000000</td>\n",
              "      <td>0.000000</td>\n",
              "      <td>1.000000</td>\n",
              "      <td>0.000000e+00</td>\n",
              "      <td>0.000000</td>\n",
              "      <td>NaN</td>\n",
              "      <td>NaN</td>\n",
              "    </tr>\n",
              "    <tr>\n",
              "      <th>25%</th>\n",
              "      <td>1632.750000</td>\n",
              "      <td>0.000000</td>\n",
              "      <td>0.000000</td>\n",
              "      <td>0.000000</td>\n",
              "      <td>7.000000</td>\n",
              "      <td>8.900000e+01</td>\n",
              "      <td>162.000000</td>\n",
              "      <td>NaN</td>\n",
              "      <td>NaN</td>\n",
              "    </tr>\n",
              "    <tr>\n",
              "      <th>50%</th>\n",
              "      <td>3265.500000</td>\n",
              "      <td>0.000000</td>\n",
              "      <td>0.188889</td>\n",
              "      <td>28.000000</td>\n",
              "      <td>53.000000</td>\n",
              "      <td>4.545000e+02</td>\n",
              "      <td>560.500000</td>\n",
              "      <td>NaN</td>\n",
              "      <td>NaN</td>\n",
              "    </tr>\n",
              "    <tr>\n",
              "      <th>75%</th>\n",
              "      <td>4898.250000</td>\n",
              "      <td>0.166667</td>\n",
              "      <td>0.455556</td>\n",
              "      <td>309.000000</td>\n",
              "      <td>233.000000</td>\n",
              "      <td>1.769000e+03</td>\n",
              "      <td>1765.000000</td>\n",
              "      <td>NaN</td>\n",
              "      <td>NaN</td>\n",
              "    </tr>\n",
              "    <tr>\n",
              "      <th>max</th>\n",
              "      <td>6531.000000</td>\n",
              "      <td>1.000000</td>\n",
              "      <td>1.000000</td>\n",
              "      <td>20527.000000</td>\n",
              "      <td>6847.000000</td>\n",
              "      <td>1.366658e+07</td>\n",
              "      <td>237298.000000</td>\n",
              "      <td>NaN</td>\n",
              "      <td>NaN</td>\n",
              "    </tr>\n",
              "  </tbody>\n",
              "</table>\n",
              "</div>"
            ],
            "text/plain": [
              "        Unnamed: 0     polarity  ...  hashtags  user_mentions\n",
              "count  6532.000000  6532.000000  ...       0.0            0.0\n",
              "mean   3265.500000     0.082598  ...       NaN            NaN\n",
              "std    1885.770311     0.174333  ...       NaN            NaN\n",
              "min       0.000000    -1.000000  ...       NaN            NaN\n",
              "25%    1632.750000     0.000000  ...       NaN            NaN\n",
              "50%    3265.500000     0.000000  ...       NaN            NaN\n",
              "75%    4898.250000     0.166667  ...       NaN            NaN\n",
              "max    6531.000000     1.000000  ...       NaN            NaN\n",
              "\n",
              "[8 rows x 9 columns]"
            ]
          },
          "metadata": {
            "tags": []
          },
          "execution_count": 8
        }
      ]
    },
    {
      "cell_type": "code",
      "metadata": {
        "colab": {
          "base_uri": "https://localhost:8080/"
        },
        "id": "0xwIFoXRC3F8",
        "outputId": "f7d0e676-c44f-41a0-945e-995ae82b6f20"
      },
      "source": [
        "data2.info()"
      ],
      "execution_count": null,
      "outputs": [
        {
          "output_type": "stream",
          "text": [
            "<class 'pandas.core.frame.DataFrame'>\n",
            "RangeIndex: 6532 entries, 0 to 6531\n",
            "Data columns (total 16 columns):\n",
            " #   Column              Non-Null Count  Dtype  \n",
            "---  ------              --------------  -----  \n",
            " 0   Unnamed: 0          6532 non-null   int64  \n",
            " 1   created_at          6532 non-null   object \n",
            " 2   source              6532 non-null   object \n",
            " 3   original_text       3720 non-null   object \n",
            " 4   polarity            6532 non-null   float64\n",
            " 5   subjectivity        6532 non-null   float64\n",
            " 6   lang                4785 non-null   object \n",
            " 7   favorite_count      6532 non-null   int64  \n",
            " 8   retweet_count       4785 non-null   float64\n",
            " 9   original_author     6532 non-null   object \n",
            " 10  followers_count     6532 non-null   int64  \n",
            " 11  friends_count       6532 non-null   int64  \n",
            " 12  possibly_sensitive  1518 non-null   object \n",
            " 13  hashtags            0 non-null      float64\n",
            " 14  user_mentions       0 non-null      float64\n",
            " 15  place               4088 non-null   object \n",
            "dtypes: float64(5), int64(4), object(7)\n",
            "memory usage: 816.6+ KB\n"
          ],
          "name": "stdout"
        }
      ]
    },
    {
      "cell_type": "code",
      "metadata": {
        "colab": {
          "base_uri": "https://localhost:8080/",
          "height": 328
        },
        "id": "A5jfHrIIDA7K",
        "outputId": "84cdfb42-6728-437e-9e43-c8cc3e4db268"
      },
      "source": [
        "data2.describe().transpose()"
      ],
      "execution_count": null,
      "outputs": [
        {
          "output_type": "execute_result",
          "data": {
            "text/html": [
              "<div>\n",
              "<style scoped>\n",
              "    .dataframe tbody tr th:only-of-type {\n",
              "        vertical-align: middle;\n",
              "    }\n",
              "\n",
              "    .dataframe tbody tr th {\n",
              "        vertical-align: top;\n",
              "    }\n",
              "\n",
              "    .dataframe thead th {\n",
              "        text-align: right;\n",
              "    }\n",
              "</style>\n",
              "<table border=\"1\" class=\"dataframe\">\n",
              "  <thead>\n",
              "    <tr style=\"text-align: right;\">\n",
              "      <th></th>\n",
              "      <th>count</th>\n",
              "      <th>mean</th>\n",
              "      <th>std</th>\n",
              "      <th>min</th>\n",
              "      <th>25%</th>\n",
              "      <th>50%</th>\n",
              "      <th>75%</th>\n",
              "      <th>max</th>\n",
              "    </tr>\n",
              "  </thead>\n",
              "  <tbody>\n",
              "    <tr>\n",
              "      <th>Unnamed: 0</th>\n",
              "      <td>6532.0</td>\n",
              "      <td>3265.500000</td>\n",
              "      <td>1885.770311</td>\n",
              "      <td>0.0</td>\n",
              "      <td>1632.75</td>\n",
              "      <td>3265.500000</td>\n",
              "      <td>4898.250000</td>\n",
              "      <td>6531.0</td>\n",
              "    </tr>\n",
              "    <tr>\n",
              "      <th>polarity</th>\n",
              "      <td>6532.0</td>\n",
              "      <td>0.082598</td>\n",
              "      <td>0.174333</td>\n",
              "      <td>-1.0</td>\n",
              "      <td>0.00</td>\n",
              "      <td>0.000000</td>\n",
              "      <td>0.166667</td>\n",
              "      <td>1.0</td>\n",
              "    </tr>\n",
              "    <tr>\n",
              "      <th>subjectivity</th>\n",
              "      <td>6532.0</td>\n",
              "      <td>0.253671</td>\n",
              "      <td>0.275541</td>\n",
              "      <td>0.0</td>\n",
              "      <td>0.00</td>\n",
              "      <td>0.188889</td>\n",
              "      <td>0.455556</td>\n",
              "      <td>1.0</td>\n",
              "    </tr>\n",
              "    <tr>\n",
              "      <th>favorite_count</th>\n",
              "      <td>6532.0</td>\n",
              "      <td>242.896050</td>\n",
              "      <td>617.588401</td>\n",
              "      <td>0.0</td>\n",
              "      <td>0.00</td>\n",
              "      <td>28.000000</td>\n",
              "      <td>309.000000</td>\n",
              "      <td>20527.0</td>\n",
              "    </tr>\n",
              "    <tr>\n",
              "      <th>retweet_count</th>\n",
              "      <td>4785.0</td>\n",
              "      <td>173.269801</td>\n",
              "      <td>288.354650</td>\n",
              "      <td>1.0</td>\n",
              "      <td>7.00</td>\n",
              "      <td>53.000000</td>\n",
              "      <td>233.000000</td>\n",
              "      <td>6847.0</td>\n",
              "    </tr>\n",
              "    <tr>\n",
              "      <th>followers_count</th>\n",
              "      <td>6532.0</td>\n",
              "      <td>16499.150949</td>\n",
              "      <td>259787.718966</td>\n",
              "      <td>0.0</td>\n",
              "      <td>89.00</td>\n",
              "      <td>454.500000</td>\n",
              "      <td>1769.000000</td>\n",
              "      <td>13666575.0</td>\n",
              "    </tr>\n",
              "    <tr>\n",
              "      <th>friends_count</th>\n",
              "      <td>6532.0</td>\n",
              "      <td>1707.652021</td>\n",
              "      <td>5148.761957</td>\n",
              "      <td>0.0</td>\n",
              "      <td>162.00</td>\n",
              "      <td>560.500000</td>\n",
              "      <td>1765.000000</td>\n",
              "      <td>237298.0</td>\n",
              "    </tr>\n",
              "    <tr>\n",
              "      <th>hashtags</th>\n",
              "      <td>0.0</td>\n",
              "      <td>NaN</td>\n",
              "      <td>NaN</td>\n",
              "      <td>NaN</td>\n",
              "      <td>NaN</td>\n",
              "      <td>NaN</td>\n",
              "      <td>NaN</td>\n",
              "      <td>NaN</td>\n",
              "    </tr>\n",
              "    <tr>\n",
              "      <th>user_mentions</th>\n",
              "      <td>0.0</td>\n",
              "      <td>NaN</td>\n",
              "      <td>NaN</td>\n",
              "      <td>NaN</td>\n",
              "      <td>NaN</td>\n",
              "      <td>NaN</td>\n",
              "      <td>NaN</td>\n",
              "      <td>NaN</td>\n",
              "    </tr>\n",
              "  </tbody>\n",
              "</table>\n",
              "</div>"
            ],
            "text/plain": [
              "                  count          mean  ...          75%         max\n",
              "Unnamed: 0       6532.0   3265.500000  ...  4898.250000      6531.0\n",
              "polarity         6532.0      0.082598  ...     0.166667         1.0\n",
              "subjectivity     6532.0      0.253671  ...     0.455556         1.0\n",
              "favorite_count   6532.0    242.896050  ...   309.000000     20527.0\n",
              "retweet_count    4785.0    173.269801  ...   233.000000      6847.0\n",
              "followers_count  6532.0  16499.150949  ...  1769.000000  13666575.0\n",
              "friends_count    6532.0   1707.652021  ...  1765.000000    237298.0\n",
              "hashtags            0.0           NaN  ...          NaN         NaN\n",
              "user_mentions       0.0           NaN  ...          NaN         NaN\n",
              "\n",
              "[9 rows x 8 columns]"
            ]
          },
          "metadata": {
            "tags": []
          },
          "execution_count": 10
        }
      ]
    },
    {
      "cell_type": "code",
      "metadata": {
        "id": "GtWofnu-Qnnd"
      },
      "source": [
        "# importing packages\n",
        "\n",
        "import pandas as pd\n",
        "import matplotlib.pyplot as plt\n",
        "from sklearn.model_selection import train_test_split\n",
        "\n",
        "from sklearn.linear_model import SGDClassifier\n",
        "from sklearn.feature_extraction.text import CountVectorizer\n",
        "from sklearn.metrics import accuracy_score\n",
        "from sklearn. metrics import classification_report\n",
        "from sklearn.metrics import confusion_matrix\n",
        "from sklearn.pipeline import Pipeline\n",
        "from sklearn.feature_extraction.text import TfidfTransformer"
      ],
      "execution_count": 1,
      "outputs": []
    },
    {
      "cell_type": "code",
      "metadata": {
        "id": "72N-8ArB_PF-"
      },
      "source": [
        "# text_category function\n",
        "\n",
        "def text_category(p):\n",
        "    if p > 0:\n",
        "        return 'positive'\n",
        "    elif p < 0:\n",
        "        return 'negative'\n",
        "    else:\n",
        "        return 'neutral'"
      ],
      "execution_count": 2,
      "outputs": []
    },
    {
      "cell_type": "code",
      "metadata": {
        "colab": {
          "base_uri": "https://localhost:8080/"
        },
        "id": "8iDEE3Mb_kMJ",
        "outputId": "8dad3f69-0bee-4d2d-c7d8-6442aaa60b70"
      },
      "source": [
        "# polarity\n",
        "\n",
        "file_name = 'clean_tweet.csv'\n",
        "df = pd.read_csv(file_name)\n",
        "\n",
        "# see polarity\n",
        "df['polarity']\n",
        "\n",
        "# see polarity\n",
        "df['polarity']"
      ],
      "execution_count": 5,
      "outputs": [
        {
          "output_type": "execute_result",
          "data": {
            "text/plain": [
              "0       0.166667\n",
              "1       0.133333\n",
              "2       0.316667\n",
              "3       0.086111\n",
              "4       0.280000\n",
              "          ...   \n",
              "6527    0.000000\n",
              "6528    0.086111\n",
              "6529    0.000000\n",
              "6530    0.125000\n",
              "6531    0.000000\n",
              "Name: polarity, Length: 6532, dtype: float64"
            ]
          },
          "metadata": {
            "tags": []
          },
          "execution_count": 5
        }
      ]
    },
    {
      "cell_type": "code",
      "metadata": {
        "colab": {
          "base_uri": "https://localhost:8080/"
        },
        "id": "cogG45XmA8lg",
        "outputId": "89e994c5-44ff-4e65-f3a4-5c38d965b471"
      },
      "source": [
        "cleanTweets = df[['original_text', 'polarity']].rename({'original_text': 'clean_text'}, axis=1)\n",
        "cleanTweets.head()\n",
        "cleanTweets['clean_text'].isnull().sum()"
      ],
      "execution_count": 6,
      "outputs": [
        {
          "output_type": "execute_result",
          "data": {
            "text/plain": [
              "2812"
            ]
          },
          "metadata": {
            "tags": []
          },
          "execution_count": 6
        }
      ]
    },
    {
      "cell_type": "code",
      "metadata": {
        "colab": {
          "base_uri": "https://localhost:8080/"
        },
        "id": "frp2YWI0BG4x",
        "outputId": "4a699035-b0eb-417d-a049-1f9add3cd68b"
      },
      "source": [
        "# polarity column\n",
        "\n",
        "cleanTweets['score'] = cleanTweets[\"polarity\"].map(text_category)\n",
        "cleanTweets['score'].value_counts()"
      ],
      "execution_count": 7,
      "outputs": [
        {
          "output_type": "execute_result",
          "data": {
            "text/plain": [
              "neutral     3178\n",
              "positive    2786\n",
              "negative     568\n",
              "Name: score, dtype: int64"
            ]
          },
          "metadata": {
            "tags": []
          },
          "execution_count": 7
        }
      ]
    },
    {
      "cell_type": "code",
      "metadata": {
        "colab": {
          "base_uri": "https://localhost:8080/",
          "height": 204
        },
        "id": "wleZDq1lBXLs",
        "outputId": "fbf97e0f-e0e4-43ed-828d-30e85a8173fd"
      },
      "source": [
        "cleanTweets.head()"
      ],
      "execution_count": 8,
      "outputs": [
        {
          "output_type": "execute_result",
          "data": {
            "text/html": [
              "<div>\n",
              "<style scoped>\n",
              "    .dataframe tbody tr th:only-of-type {\n",
              "        vertical-align: middle;\n",
              "    }\n",
              "\n",
              "    .dataframe tbody tr th {\n",
              "        vertical-align: top;\n",
              "    }\n",
              "\n",
              "    .dataframe thead th {\n",
              "        text-align: right;\n",
              "    }\n",
              "</style>\n",
              "<table border=\"1\" class=\"dataframe\">\n",
              "  <thead>\n",
              "    <tr style=\"text-align: right;\">\n",
              "      <th></th>\n",
              "      <th>clean_text</th>\n",
              "      <th>polarity</th>\n",
              "      <th>score</th>\n",
              "    </tr>\n",
              "  </thead>\n",
              "  <tbody>\n",
              "    <tr>\n",
              "      <th>0</th>\n",
              "      <td>🚨Africa is \"in the midst of a full-blown third...</td>\n",
              "      <td>0.166667</td>\n",
              "      <td>positive</td>\n",
              "    </tr>\n",
              "    <tr>\n",
              "      <th>1</th>\n",
              "      <td>Dr Moeti is head of WHO in Africa, and one of ...</td>\n",
              "      <td>0.133333</td>\n",
              "      <td>positive</td>\n",
              "    </tr>\n",
              "    <tr>\n",
              "      <th>2</th>\n",
              "      <td>Thank you @research2note for creating this ama...</td>\n",
              "      <td>0.316667</td>\n",
              "      <td>positive</td>\n",
              "    </tr>\n",
              "    <tr>\n",
              "      <th>3</th>\n",
              "      <td>Former Pfizer VP and Virologist, Dr. Michael Y...</td>\n",
              "      <td>0.086111</td>\n",
              "      <td>positive</td>\n",
              "    </tr>\n",
              "    <tr>\n",
              "      <th>4</th>\n",
              "      <td>I think it’s important that we don’t sell COVA...</td>\n",
              "      <td>0.280000</td>\n",
              "      <td>positive</td>\n",
              "    </tr>\n",
              "  </tbody>\n",
              "</table>\n",
              "</div>"
            ],
            "text/plain": [
              "                                          clean_text  polarity     score\n",
              "0  🚨Africa is \"in the midst of a full-blown third...  0.166667  positive\n",
              "1  Dr Moeti is head of WHO in Africa, and one of ...  0.133333  positive\n",
              "2  Thank you @research2note for creating this ama...  0.316667  positive\n",
              "3  Former Pfizer VP and Virologist, Dr. Michael Y...  0.086111  positive\n",
              "4  I think it’s important that we don’t sell COVA...  0.280000  positive"
            ]
          },
          "metadata": {
            "tags": []
          },
          "execution_count": 8
        }
      ]
    },
    {
      "cell_type": "markdown",
      "metadata": {
        "id": "cgzklqhoD5-Z"
      },
      "source": [
        "Accuracy is probably the simplest performance metrics.\n",
        "Accuracy value lies between 0 and 1. If the value is closer to 0 it's considered as bad performance, whereas if the value is closer to 1 then its considered good performance. It is one of the simplest and easy to understand metric.\n"
      ]
    },
    {
      "cell_type": "code",
      "metadata": {
        "id": "UM4PX3Q2EqKK"
      },
      "source": [
        "why_metrics = '''Assessment for the performance is vital in predicting the outcome later. And accuracy defines the closeness to the truth.'''"
      ],
      "execution_count": null,
      "outputs": []
    },
    {
      "cell_type": "code",
      "metadata": {
        "id": "uDtYl1UoFGjf"
      },
      "source": [
        "assert len(why_metrics) > 100 \n",
        "### BEGIN HIDDEN TESTS\n",
        "assert len(why_metrics) > 80 \n",
        "### END HIDDEN TESTS"
      ],
      "execution_count": null,
      "outputs": []
    },
    {
      "cell_type": "code",
      "metadata": {
        "id": "2X-hDOHcFdZX"
      },
      "source": [
        "how_success = '''The metric used above is a measure of how successful prediction is. An accuracy of greater percentages shows that the model is more accurate and useful in prediction.'''"
      ],
      "execution_count": null,
      "outputs": []
    },
    {
      "cell_type": "code",
      "metadata": {
        "id": "wCjzZ0VdF8Ni"
      },
      "source": [
        "assert len(how_success) > 100 \n",
        "### BEGIN HIDDEN TESTS\n",
        "assert len(how_success) > 80 \n",
        "### END HIDDEN TESTS"
      ],
      "execution_count": null,
      "outputs": []
    },
    {
      "cell_type": "code",
      "metadata": {
        "colab": {
          "base_uri": "https://localhost:8080/",
          "height": 767
        },
        "id": "vEWHj2tIGK5X",
        "outputId": "ef4830e2-4b41-425a-fbf2-15d214f95e12"
      },
      "source": [
        "# visualizing using barchart\n",
        "score_count = cleanTweets['score'].value_counts()\n",
        "score_count.plot(kind=\"bar\", y=\"score\", title=\"Score\", figsize=[12, 12])"
      ],
      "execution_count": 9,
      "outputs": [
        {
          "output_type": "execute_result",
          "data": {
            "text/plain": [
              "<matplotlib.axes._subplots.AxesSubplot at 0x7f488b2ce4d0>"
            ]
          },
          "metadata": {
            "tags": []
          },
          "execution_count": 9
        },
        {
          "output_type": "display_data",
          "data": {
            "image/png": "[encoded data removed]",
            "text/plain": [
              "<Figure size 864x864 with 1 Axes>"
            ]
          },
          "metadata": {
            "tags": [],
            "needs_background": "light"
          }
        }
      ]
    },
    {
      "cell_type": "code",
      "metadata": {
        "colab": {
          "base_uri": "https://localhost:8080/",
          "height": 716
        },
        "id": "h4on4WFnGYAT",
        "outputId": "715571f4-25a3-4d3a-a308-0bde0e0ff4ad"
      },
      "source": [
        "# visualizing with PieChart\n",
        "score_count = cleanTweets['score'].value_counts()\n",
        "score_count.plot(kind=\"pie\", y=\"score\", title=\"Score\", figsize=[12, 12])"
      ],
      "execution_count": 10,
      "outputs": [
        {
          "output_type": "execute_result",
          "data": {
            "text/plain": [
              "<matplotlib.axes._subplots.AxesSubplot at 0x7f488ad72d10>"
            ]
          },
          "metadata": {
            "tags": []
          },
          "execution_count": 10
        },
        {
          "output_type": "display_data",
          "data": {
            "image/png": "[encoded data removed]",
            "text/plain": [
              "<Figure size 864x864 with 1 Axes>"
            ]
          },
          "metadata": {
            "tags": []
          }
        }
      ]
    },
    {
      "cell_type": "code",
      "metadata": {
        "colab": {
          "base_uri": "https://localhost:8080/",
          "height": 204
        },
        "id": "TjsBmLhSGkFV",
        "outputId": "a59bc473-e99b-4d68-e906-42dde8dfd4b5"
      },
      "source": [
        "#Remove rows from cleanTweets where the score is neutral\n",
        "cleanTweets = cleanTweets[cleanTweets['polarity'] != 0]\n",
        "\n",
        "# reset frame index\n",
        "cleanTweets.reset_index(drop=True, inplace=True)\n",
        "cleanTweets.head()"
      ],
      "execution_count": 11,
      "outputs": [
        {
          "output_type": "execute_result",
          "data": {
            "text/html": [
              "<div>\n",
              "<style scoped>\n",
              "    .dataframe tbody tr th:only-of-type {\n",
              "        vertical-align: middle;\n",
              "    }\n",
              "\n",
              "    .dataframe tbody tr th {\n",
              "        vertical-align: top;\n",
              "    }\n",
              "\n",
              "    .dataframe thead th {\n",
              "        text-align: right;\n",
              "    }\n",
              "</style>\n",
              "<table border=\"1\" class=\"dataframe\">\n",
              "  <thead>\n",
              "    <tr style=\"text-align: right;\">\n",
              "      <th></th>\n",
              "      <th>clean_text</th>\n",
              "      <th>polarity</th>\n",
              "      <th>score</th>\n",
              "    </tr>\n",
              "  </thead>\n",
              "  <tbody>\n",
              "    <tr>\n",
              "      <th>0</th>\n",
              "      <td>🚨Africa is \"in the midst of a full-blown third...</td>\n",
              "      <td>0.166667</td>\n",
              "      <td>positive</td>\n",
              "    </tr>\n",
              "    <tr>\n",
              "      <th>1</th>\n",
              "      <td>Dr Moeti is head of WHO in Africa, and one of ...</td>\n",
              "      <td>0.133333</td>\n",
              "      <td>positive</td>\n",
              "    </tr>\n",
              "    <tr>\n",
              "      <th>2</th>\n",
              "      <td>Thank you @research2note for creating this ama...</td>\n",
              "      <td>0.316667</td>\n",
              "      <td>positive</td>\n",
              "    </tr>\n",
              "    <tr>\n",
              "      <th>3</th>\n",
              "      <td>Former Pfizer VP and Virologist, Dr. Michael Y...</td>\n",
              "      <td>0.086111</td>\n",
              "      <td>positive</td>\n",
              "    </tr>\n",
              "    <tr>\n",
              "      <th>4</th>\n",
              "      <td>I think it’s important that we don’t sell COVA...</td>\n",
              "      <td>0.280000</td>\n",
              "      <td>positive</td>\n",
              "    </tr>\n",
              "  </tbody>\n",
              "</table>\n",
              "</div>"
            ],
            "text/plain": [
              "                                          clean_text  polarity     score\n",
              "0  🚨Africa is \"in the midst of a full-blown third...  0.166667  positive\n",
              "1  Dr Moeti is head of WHO in Africa, and one of ...  0.133333  positive\n",
              "2  Thank you @research2note for creating this ama...  0.316667  positive\n",
              "3  Former Pfizer VP and Virologist, Dr. Michael Y...  0.086111  positive\n",
              "4  I think it’s important that we don’t sell COVA...  0.280000  positive"
            ]
          },
          "metadata": {
            "tags": []
          },
          "execution_count": 11
        }
      ]
    },
    {
      "cell_type": "code",
      "metadata": {
        "colab": {
          "base_uri": "https://localhost:8080/"
        },
        "id": "pN7saMGxGw3D",
        "outputId": "0e2bd014-6266-4c34-9211-dd82d96f1166"
      },
      "source": [
        "# A column  𝐬𝐜𝐨𝐫𝐞𝐦𝐚𝐩  Use the mapping {'positive':1, 'negative':0} on the  𝐬𝐜𝐨𝐫𝐞  column\n",
        "def get_score(value):\n",
        "    return 1 if (value == 'positive') else 0\n",
        "\n",
        "cleanTweets['scoremap'] = cleanTweets['score'].map(get_score)\n",
        "cleanTweets.head()\n",
        "cleanTweets['scoremap'].value_counts()"
      ],
      "execution_count": 12,
      "outputs": [
        {
          "output_type": "execute_result",
          "data": {
            "text/plain": [
              "1    2786\n",
              "0     568\n",
              "Name: scoremap, dtype: int64"
            ]
          },
          "metadata": {
            "tags": []
          },
          "execution_count": 12
        }
      ]
    },
    {
      "cell_type": "code",
      "metadata": {
        "colab": {
          "base_uri": "https://localhost:8080/"
        },
        "id": "hD4RFTmlHKkW",
        "outputId": "6da9d146-b316-45f0-bbf1-4d127ed6c8e2"
      },
      "source": [
        "# Create feature and target variables (X,y) from  𝐜𝐥𝐞𝐚𝐧-𝐭𝐞𝐱𝐭  and  𝐬𝐜𝐨𝐫𝐞𝐦𝐚𝐩  columns respectively.\n",
        "X = cleanTweets['clean_text']\n",
        "y = cleanTweets['scoremap']\n",
        "\n",
        "x_train, x_test, y_train, y_test = train_test_split(X, y)\n",
        "cv = CountVectorizer(ngram_range=(3, 3))\n",
        "X_train_cv = cv.fit_transform(x_train)\n",
        "X_test_cv = cv.transform(x_test)\n",
        "X_train_cv"
      ],
      "execution_count": 15,
      "outputs": [
        {
          "output_type": "execute_result",
          "data": {
            "text/plain": [
              "<2515x16178 sparse matrix of type '<class 'numpy.int64'>'\n",
              "\twith 97551 stored elements in Compressed Sparse Row format>"
            ]
          },
          "metadata": {
            "tags": []
          },
          "execution_count": 15
        }
      ]
    },
    {
      "cell_type": "code",
      "metadata": {
        "colab": {
          "base_uri": "https://localhost:8080/"
        },
        "id": "uYnfPrZWH7YX",
        "outputId": "eeba58ff-d91d-48bf-9c13-21f50dd36975"
      },
      "source": [
        "clf = SGDClassifier()\n",
        "clf.fit(X_train_cv, y_train)\n",
        "predictions = clf.predict(X_test_cv)\n",
        "results = confusion_matrix(y_test, predictions) \n",
        "results"
      ],
      "execution_count": 16,
      "outputs": [
        {
          "output_type": "execute_result",
          "data": {
            "text/plain": [
              "array([[131,  14],\n",
              "       [  0, 694]])"
            ]
          },
          "metadata": {
            "tags": []
          },
          "execution_count": 16
        }
      ]
    },
    {
      "cell_type": "code",
      "metadata": {
        "colab": {
          "base_uri": "https://localhost:8080/"
        },
        "id": "hI4YBDq_ISoI",
        "outputId": "c24d6cc5-bd43-4702-b5a7-f8c90daa7688"
      },
      "source": [
        "accuracy_score(y_test, predictions)"
      ],
      "execution_count": 17,
      "outputs": [
        {
          "output_type": "execute_result",
          "data": {
            "text/plain": [
              "0.9833134684147795"
            ]
          },
          "metadata": {
            "tags": []
          },
          "execution_count": 17
        }
      ]
    },
    {
      "cell_type": "code",
      "metadata": {
        "colab": {
          "base_uri": "https://localhost:8080/"
        },
        "id": "Omn5chYuIaZP",
        "outputId": "2b3eaf00-0d5a-4798-c869-f161a12fc6d0"
      },
      "source": [
        "print(classification_report(y_test, predictions))"
      ],
      "execution_count": 18,
      "outputs": [
        {
          "output_type": "stream",
          "text": [
            "              precision    recall  f1-score   support\n",
            "\n",
            "           0       1.00      0.90      0.95       145\n",
            "           1       0.98      1.00      0.99       694\n",
            "\n",
            "    accuracy                           0.98       839\n",
            "   macro avg       0.99      0.95      0.97       839\n",
            "weighted avg       0.98      0.98      0.98       839\n",
            "\n"
          ],
          "name": "stdout"
        }
      ]
    }
  ]
}