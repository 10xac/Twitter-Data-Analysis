{
 "cells": [
  {
   "cell_type": "markdown",
   "metadata": {
    "id": "zDwep1K8Erxl"
   },
   "source": [
    "**Project:** Data Minining Project for  X company"
   ]
  },
  {
   "cell_type": "code",
   "execution_count": null,
   "metadata": {
    "id": "JzIu-UWIDXHw"
   },
   "outputs": [],
   "source": []
  },
  {
   "cell_type": "markdown",
   "metadata": {
    "id": "d7-ii3uyI8KY"
   },
   "source": [
    "The CRISP-DM Framework\n",
    "\n",
    "\n",
    "The CRISP-DM methodology provides a structured approach to planning a data mining project. It is a robust and well-proven methodology.\n",
    "* Business understanding (BU): Determine Business Objectives, Assess Situation, Determine Data Mining Goals, Produce Project Plan\n",
    "\n",
    "* Data understanding (DU): Collect Initial Data, Describe Data, Explore Data, Verify Data Quality\n",
    "\n",
    "* Data preparation (DP): Select Data, Clean Data, Construct Data, Integrate Data\n",
    "\n",
    "* Modeling (M): Select modeling technique, Generate Test Design, Build Model, Assess Model\n",
    "*  Evaluation (E): Evaluate Results, Review Process, Determine Next Steps\n",
    "*  Deployment (D): Plan Deployment, Plan Monitoring and Maintenance, Produce Final Report, Review Project\n",
    "\n",
    "\n",
    "References:\n",
    "\n",
    "[What is the CRISP-DM methodology?](https://www.sv-europe.com/crisp-dm-methodology/)\n",
    "\n",
    "[Introduction to CRISP DM Framework for Data Science and Machine Learning](https://www.linkedin.com/pulse/chapter-1-introduction-crisp-dm-framework-data-science-anshul-roy/)"
   ]
  },
  {
   "cell_type": "markdown",
   "metadata": {
    "id": "5lo7Ml7tMQOf"
   },
   "source": [
    "**Data Set**\n",
    "### The data is for company X which is trying to control attrition. \n",
    "### There are two sets of data: \"Existing employees\" and \"Employees who have left\". The following attributes are available for every employee.\n",
    "\n",
    "\n",
    "*   Satisfaction Level\n",
    "\n",
    "*   Last evaluation\n",
    "\n",
    "*   Number of projects\n",
    "\n",
    "*   Average monthly hours\n",
    "\n",
    "*   Time spent at the company\n",
    "*   Whether they have had a work accident\n",
    "\n",
    "\n",
    "*  Whether they have had a promotion in the last 5 years\n",
    "\n",
    "\n",
    "*   Departments (column sales)\n",
    "\n",
    "\n",
    "*   Salary\n",
    "\n",
    "\n",
    "*  Whether the employee has left\n",
    "\n",
    "\n",
    "\n",
    "\n",
    "\n",
    "\n",
    "\n",
    "\n",
    "\n",
    "\n",
    "\n",
    "\n",
    "\n",
    "\n",
    "\n",
    "\n"
   ]
  },
  {
   "cell_type": "markdown",
   "metadata": {
    "id": "sjSj2A2sSph_"
   },
   "source": [
    "**Your Role**\n",
    " \n",
    "\n",
    "*   As data science team member X company asked you to answer this two questions.\n",
    "*  What type of employees is leaving? \n",
    "\n",
    "*   Determine which employees are prone to leave next.\n",
    "\n",
    "\n",
    "\n",
    "\n"
   ]
  },
  {
   "cell_type": "markdown",
   "metadata": {
    "id": "ajdEVA7LiBUp"
   },
   "source": [
    "Business Understanding\n",
    "\n",
    "---\n",
    "\n",
    "This step mostly focuses on understanding the Business in all the different aspects. It follows the below different steps.\n",
    "\n",
    "\n",
    "\n",
    "\n",
    "* Identify the goal and frame the business problem.\n",
    "* Prepare Analytical Goal i.e. what type of performance metric and loss function to use\n",
    "* Gather information on resource, constraints, assumptions, risks etc\n",
    "* Gather information on resource, constraints, assumptions, risks etc\n",
    "*   Prepare Work Flow Chart"
   ]
  },
  {
   "cell_type": "markdown",
   "metadata": {
    "id": "J4MwiCYzj2_u"
   },
   "source": [
    "### Write the main objectives of this project in your words?\n",
    "minimum of 100 characters"
   ]
  },
  {
   "cell_type": "code",
   "execution_count": 1,
   "metadata": {
    "id": "STyLda45j1Mf"
   },
   "outputs": [],
   "source": [
    "main_objectives ='''\n",
    "The main objective is to use data science skills and modelling techniques to understand different charcteriestics of employees \n",
    "who are leaving the company as well as those who are likely to leave or who have most chances to leave\n",
    "'''"
   ]
  },
  {
   "cell_type": "code",
   "execution_count": 2,
   "metadata": {
    "id": "CuOlxLxKMOLI"
   },
   "outputs": [],
   "source": [
    "assert len(main_objectives) > 100 \n",
    "### BEGIN HIDDEN TESTS\n",
    "assert len(main_objectives) > 80 \n",
    "### END HIDDEN TESTS"
   ]
  },
  {
   "cell_type": "markdown",
   "metadata": {
    "id": "NyXeNxlCkbaw"
   },
   "source": [
    "### Outline the different data analysis steps you will follow to carry out the project"
   ]
  },
  {
   "cell_type": "code",
   "execution_count": 3,
   "metadata": {
    "id": "rC-tl8sUksQq"
   },
   "outputs": [],
   "source": [
    "dm_outline = '''\n",
    "The first step in data analysis will be to clean the dataset, removing the duplicates and solving or cleaning the outliers.\n",
    "The do tabulations and visualization of different variables to understand their distribution and well as to get the general idea on data distribution\n",
    "'''"
   ]
  },
  {
   "cell_type": "code",
   "execution_count": 4,
   "metadata": {
    "id": "-K1mWuDoksTk"
   },
   "outputs": [],
   "source": [
    "assert len(dm_outline) > 100 \n",
    "### BEGIN HIDDEN TESTS\n",
    "assert len(dm_outline) > 70 \n",
    "### END HIDDEN TESTS"
   ]
  },
  {
   "cell_type": "markdown",
   "metadata": {
    "id": "pmUDFG1wkzUy"
   },
   "source": [
    "### What metrics will you use to measure the performance of your data analysis model? \n",
    "Write the equations of the metrics here"
   ]
  },
  {
   "cell_type": "markdown",
   "metadata": {
    "id": "KCNulojKk_BP"
   },
   "source": [
    "e.g. Precision = $\\frac{TP}{(TP + FP)}$\n",
    "\n"
   ]
  },
  {
   "cell_type": "code",
   "execution_count": 5,
   "metadata": {},
   "outputs": [
    {
     "data": {
      "text/plain": [
       "'\\nI can use the accuracy by checking the number of errors made or correct predictions made. \\n\\nI can use different accuracy metrics like: Accuracy, Recall, Precision, and F1- Score\\n\\n\\nSpecifically, as in this case we have only two classes, I can use the \"The Confusion Matrix\"\\n\\n\\na. Accuracy = Number of correct predictions / Total number of predictions.\\n\\nAccuracy = (True  positive + true negative ) /(True  Positive + True Negative + False Negative + False Positive)\\n\\n\\n\\nReference: https://www.analyticsvidhya.com/blog/2020/10/how-to-choose-evaluation-metrics-for-classification-model/\\n'"
      ]
     },
     "execution_count": 5,
     "metadata": {},
     "output_type": "execute_result"
    }
   ],
   "source": [
    "\"\"\"\n",
    "I can use the accuracy by checking the number of errors made or correct predictions made. \n",
    "\n",
    "I can use different accuracy metrics like: Accuracy, Recall, Precision, and F1- Score\n",
    "\n",
    "\n",
    "Specifically, as in this case we have only two classes, I can use the \"The Confusion Matrix\"\n",
    "\n",
    "\n",
    "a. Accuracy = Number of correct predictions / Total number of predictions.\n",
    "\n",
    "Accuracy = (True  positive + true negative ) /(True  Positive + True Negative + False Negative + False Positive)\n",
    "\n",
    "\n",
    "\n",
    "Reference: https://www.analyticsvidhya.com/blog/2020/10/how-to-choose-evaluation-metrics-for-classification-model/\n",
    "\"\"\""
   ]
  },
  {
   "cell_type": "markdown",
   "metadata": {
    "id": "vLS2YHoRk_EK"
   },
   "source": [
    "Why do you choose these metrics? minimum of 100 characters"
   ]
  },
  {
   "cell_type": "code",
   "execution_count": 6,
   "metadata": {
    "id": "LSynT14KlPSJ"
   },
   "outputs": [],
   "source": [
    "why_metrics = '''Add your answer text here\n",
    "you can create python string using (') or (\") or 3('), like the text here. The 3(') string can be used \n",
    "to write paragraphs, comments in the beginning of functions, etc.. Your answer to the above question \n",
    "should replace this text.\n",
    "'''"
   ]
  },
  {
   "cell_type": "code",
   "execution_count": 7,
   "metadata": {
    "id": "yr-Mk0E8lPVJ"
   },
   "outputs": [],
   "source": [
    "assert len(why_metrics) > 100 \n",
    "### BEGIN HIDDEN TESTS\n",
    "assert len(why_metrics) > 80 \n",
    "### END HIDDEN TESTS"
   ]
  },
  {
   "cell_type": "markdown",
   "metadata": {
    "id": "aAo19Ip6lUtm"
   },
   "source": [
    "### How would you know if your data analysis work is a success or not?\n",
    "minimum of 100 characters"
   ]
  },
  {
   "cell_type": "code",
   "execution_count": 8,
   "metadata": {
    "id": "HESsiXW5llX-"
   },
   "outputs": [],
   "source": [
    "how_success = '''\n",
    "My analysis will be a success if the classification accuracy is very high, \n",
    "meaning that I am able to correctly classify every employee in the category where they should be classified.\n",
    "'''"
   ]
  },
  {
   "cell_type": "code",
   "execution_count": 9,
   "metadata": {
    "id": "FdUoiMIOlmXq"
   },
   "outputs": [],
   "source": [
    "assert len(how_success) > 100 \n",
    "### BEGIN HIDDEN TESTS\n",
    "assert len(how_success) > 80 \n",
    "### END HIDDEN TESTS"
   ]
  },
  {
   "cell_type": "markdown",
   "metadata": {
    "id": "DQE6dqo6l1TZ"
   },
   "source": [
    "## What kind of challenges do you expect in your analysis?\n",
    "List at least 3 challenges"
   ]
  },
  {
   "cell_type": "code",
   "execution_count": 10,
   "metadata": {
    "id": "WrAhBQhQl8Lh"
   },
   "outputs": [],
   "source": [
    "challenge_text = '''\n",
    "1. A lot of data cleanings are expected as many variables are in text and same responces may be named in different ways\n",
    "2. removing variables that are not contributing too much to the model.\n",
    "3. Also, there might be missing of relevant variables that may lead to influencing employers to leave the company\n",
    "\n",
    "\n",
    "'''"
   ]
  },
  {
   "cell_type": "code",
   "execution_count": 11,
   "metadata": {
    "id": "EedHa-Pll8X7"
   },
   "outputs": [],
   "source": [
    "assert len(challenge_text) > 100 \n",
    "### BEGIN HIDDEN TESTS\n",
    "assert len(how_success) > 80 \n",
    "### END HIDDEN TESTS"
   ]
  },
  {
   "cell_type": "markdown",
   "metadata": {
    "id": "ZcJ8M6uWDeSE"
   },
   "source": [
    "<h2>Using the processed twitter data from yesterday's challenge</h2>.\n",
    "\n",
    "\n",
    "- Form a new data frame (named `cleanTweet`), containing columns $\\textbf{clean-text}$ and $\\textbf{polarity}$.\n",
    "\n",
    "- Write a function `text_category` that takes a value `p` and returns, depending on the value of p, a string `'positive'`, `'negative'` or `'neutral'`.\n",
    "\n",
    "- Apply this function (`text_category`) on the $\\textbf{polarity}$ column of `cleanTweet` in 1 above to form a new column called $\\textbf{score}$ in `cleanTweet`.\n",
    "\n",
    "- Visualize The $\\textbf{score}$ column using piechart and barchart\n",
    "\n",
    "<h5>Now we want to build a classification model on the clean tweet following the steps below:</h5>\n",
    "\n",
    "* Remove rows from `cleanTweet` where $\\textbf{polarity}$ $= 0$ (i.e where $\\textbf{score}$ = Neutral) and reset the frame index.\n",
    "* Construct a column $\\textbf{scoremap}$ Use the mapping {'positive':1, 'negative':0} on the $\\textbf{score}$ column\n",
    "* Create feature and target variables `(X,y)` from $\\textbf{clean-text}$ and $\\textbf{scoremap}$ columns respectively.\n",
    "* Use `train_test_split` function to construct `(X_train, y_train)` and `(X_test, y_test)` from `(X,y)`\n",
    "\n",
    "* Build an `SGDClassifier` model from the vectorize train text data. Use `CountVectorizer()` with a $\\textit{trigram}$ parameter.\n",
    "\n",
    "* Evaluate your model on the test data.\n"
   ]
  },
  {
   "cell_type": "code",
   "execution_count": 12,
   "metadata": {
    "id": "85WxmGNGDcBY"
   },
   "outputs": [],
   "source": [
    "# Importing needed libralies\n",
    "\n",
    "import pandas as pd"
   ]
  },
  {
   "cell_type": "code",
   "execution_count": 13,
   "metadata": {},
   "outputs": [
    {
     "data": {
      "text/html": [
       "<div>\n",
       "<style scoped>\n",
       "    .dataframe tbody tr th:only-of-type {\n",
       "        vertical-align: middle;\n",
       "    }\n",
       "\n",
       "    .dataframe tbody tr th {\n",
       "        vertical-align: top;\n",
       "    }\n",
       "\n",
       "    .dataframe thead th {\n",
       "        text-align: right;\n",
       "    }\n",
       "</style>\n",
       "<table border=\"1\" class=\"dataframe\">\n",
       "  <thead>\n",
       "    <tr style=\"text-align: right;\">\n",
       "      <th></th>\n",
       "      <th>Unnamed: 0</th>\n",
       "      <th>created_at</th>\n",
       "      <th>source</th>\n",
       "      <th>original_text</th>\n",
       "      <th>clean_text</th>\n",
       "      <th>sentiment</th>\n",
       "      <th>polarity</th>\n",
       "      <th>subjectivity</th>\n",
       "      <th>lang</th>\n",
       "      <th>favorite_count</th>\n",
       "      <th>...</th>\n",
       "      <th>original_author</th>\n",
       "      <th>screen_count</th>\n",
       "      <th>followers_count</th>\n",
       "      <th>friends_count</th>\n",
       "      <th>possibly_sensitive</th>\n",
       "      <th>hashtags</th>\n",
       "      <th>user_mentions</th>\n",
       "      <th>place</th>\n",
       "      <th>place_coord_boundaries</th>\n",
       "      <th>timestamp</th>\n",
       "    </tr>\n",
       "  </thead>\n",
       "  <tbody>\n",
       "    <tr>\n",
       "      <th>0</th>\n",
       "      <td>0.0</td>\n",
       "      <td>Thu Jun 17 06:26:34 +0000 2021</td>\n",
       "      <td>&lt;a href=\"https://mobile.twitter.com\" rel=\"nofo...</td>\n",
       "      <td>Giving forth life is becoming a burden in Keny...</td>\n",
       "      <td>Giving forth life becoming burden Kenya This m...</td>\n",
       "      <td>Sentiment(polarity=0.3194444444444445, subject...</td>\n",
       "      <td>0.3194444444444445</td>\n",
       "      <td>0.5305555555555556</td>\n",
       "      <td>en</td>\n",
       "      <td>0</td>\n",
       "      <td>...</td>\n",
       "      <td>reen_law</td>\n",
       "      <td>398</td>\n",
       "      <td>70</td>\n",
       "      <td>223</td>\n",
       "      <td>NaN</td>\n",
       "      <td>NaN</td>\n",
       "      <td>janetmachuka_</td>\n",
       "      <td>NaN</td>\n",
       "      <td>NaN</td>\n",
       "      <td>2021-06-17 06:26:34+00:00</td>\n",
       "    </tr>\n",
       "    <tr>\n",
       "      <th>1</th>\n",
       "      <td>1.0</td>\n",
       "      <td>Thu Jun 17 06:26:37 +0000 2021</td>\n",
       "      <td>&lt;a href=\"http://twitter.com/download/android\" ...</td>\n",
       "      <td>Teenmaar - 26cr\\nPanja - 32.5cr\\nGabbarsingh -...</td>\n",
       "      <td>Teenmaar crPanja crGabbarsingh cr Khaleja Kuda...</td>\n",
       "      <td>Sentiment(polarity=0.0, subjectivity=0.0)</td>\n",
       "      <td>0.0</td>\n",
       "      <td>0.0</td>\n",
       "      <td>in</td>\n",
       "      <td>0</td>\n",
       "      <td>...</td>\n",
       "      <td>Amigo9999_</td>\n",
       "      <td>19047</td>\n",
       "      <td>132</td>\n",
       "      <td>1084</td>\n",
       "      <td>NaN</td>\n",
       "      <td>NaN</td>\n",
       "      <td>maheshblood</td>\n",
       "      <td>NaN</td>\n",
       "      <td>India</td>\n",
       "      <td>2021-06-17 06:26:37+00:00</td>\n",
       "    </tr>\n",
       "    <tr>\n",
       "      <th>2</th>\n",
       "      <td>2.0</td>\n",
       "      <td>Thu Jun 17 06:26:42 +0000 2021</td>\n",
       "      <td>&lt;a href=\"http://twitter.com/download/android\" ...</td>\n",
       "      <td>Rei chintu 2013 lo Vachina Ad Nizam ne 2018 lo...</td>\n",
       "      <td>Rei chintu lo Vachina Ad Nizam ne lo kottaru f...</td>\n",
       "      <td>Sentiment(polarity=0.0, subjectivity=0.0)</td>\n",
       "      <td>0.0</td>\n",
       "      <td>0.0</td>\n",
       "      <td>hi</td>\n",
       "      <td>0</td>\n",
       "      <td>...</td>\n",
       "      <td>MallaSuhaas</td>\n",
       "      <td>47341</td>\n",
       "      <td>2696</td>\n",
       "      <td>2525</td>\n",
       "      <td>NaN</td>\n",
       "      <td>NaN</td>\n",
       "      <td>Hail_Kalyan</td>\n",
       "      <td>NaN</td>\n",
       "      <td>Vizag</td>\n",
       "      <td>2021-06-17 06:26:42+00:00</td>\n",
       "    </tr>\n",
       "    <tr>\n",
       "      <th>3</th>\n",
       "      <td>3.0</td>\n",
       "      <td>Thu Jun 17 06:26:44 +0000 2021</td>\n",
       "      <td>&lt;a href=\"http://twitter.com/download/iphone\" r...</td>\n",
       "      <td>Today is World Day to Combat #Desertification ...</td>\n",
       "      <td>Today World Day Combat Restoring degraded land...</td>\n",
       "      <td>Sentiment(polarity=0.25, subjectivity=0.65)</td>\n",
       "      <td>0.25</td>\n",
       "      <td>0.65</td>\n",
       "      <td>en</td>\n",
       "      <td>0</td>\n",
       "      <td>...</td>\n",
       "      <td>CIACOceania</td>\n",
       "      <td>7039</td>\n",
       "      <td>343</td>\n",
       "      <td>387</td>\n",
       "      <td>NaN</td>\n",
       "      <td>Desertification, Drought, resilience</td>\n",
       "      <td>EdwardVrkic</td>\n",
       "      <td>NaN</td>\n",
       "      <td>Papua New Guinea</td>\n",
       "      <td>2021-06-17 06:26:44+00:00</td>\n",
       "    </tr>\n",
       "    <tr>\n",
       "      <th>4</th>\n",
       "      <td>4.0</td>\n",
       "      <td>Thu Jun 17 06:26:47 +0000 2021</td>\n",
       "      <td>&lt;a href=\"http://twitter.com/download/android\" ...</td>\n",
       "      <td>Hearing #GregHunt say he's confident vaccines ...</td>\n",
       "      <td>Hearing say 's confident vaccines delivered li...</td>\n",
       "      <td>Sentiment(polarity=0.5, subjectivity=0.8333333...</td>\n",
       "      <td>0.5</td>\n",
       "      <td>0.8333333333333334</td>\n",
       "      <td>en</td>\n",
       "      <td>0</td>\n",
       "      <td>...</td>\n",
       "      <td>MccarronWendy</td>\n",
       "      <td>26064</td>\n",
       "      <td>419</td>\n",
       "      <td>878</td>\n",
       "      <td>NaN</td>\n",
       "      <td>GregHunt, Morrison</td>\n",
       "      <td>WriteWithDave</td>\n",
       "      <td>NaN</td>\n",
       "      <td>Sydney, New South Wales</td>\n",
       "      <td>2021-06-17 06:26:47+00:00</td>\n",
       "    </tr>\n",
       "  </tbody>\n",
       "</table>\n",
       "<p>5 rows × 21 columns</p>\n",
       "</div>"
      ],
      "text/plain": [
       "   Unnamed: 0                      created_at  \\\n",
       "0         0.0  Thu Jun 17 06:26:34 +0000 2021   \n",
       "1         1.0  Thu Jun 17 06:26:37 +0000 2021   \n",
       "2         2.0  Thu Jun 17 06:26:42 +0000 2021   \n",
       "3         3.0  Thu Jun 17 06:26:44 +0000 2021   \n",
       "4         4.0  Thu Jun 17 06:26:47 +0000 2021   \n",
       "\n",
       "                                              source  \\\n",
       "0  <a href=\"https://mobile.twitter.com\" rel=\"nofo...   \n",
       "1  <a href=\"http://twitter.com/download/android\" ...   \n",
       "2  <a href=\"http://twitter.com/download/android\" ...   \n",
       "3  <a href=\"http://twitter.com/download/iphone\" r...   \n",
       "4  <a href=\"http://twitter.com/download/android\" ...   \n",
       "\n",
       "                                       original_text  \\\n",
       "0  Giving forth life is becoming a burden in Keny...   \n",
       "1  Teenmaar - 26cr\\nPanja - 32.5cr\\nGabbarsingh -...   \n",
       "2  Rei chintu 2013 lo Vachina Ad Nizam ne 2018 lo...   \n",
       "3  Today is World Day to Combat #Desertification ...   \n",
       "4  Hearing #GregHunt say he's confident vaccines ...   \n",
       "\n",
       "                                          clean_text  \\\n",
       "0  Giving forth life becoming burden Kenya This m...   \n",
       "1  Teenmaar crPanja crGabbarsingh cr Khaleja Kuda...   \n",
       "2  Rei chintu lo Vachina Ad Nizam ne lo kottaru f...   \n",
       "3  Today World Day Combat Restoring degraded land...   \n",
       "4  Hearing say 's confident vaccines delivered li...   \n",
       "\n",
       "                                           sentiment            polarity  \\\n",
       "0  Sentiment(polarity=0.3194444444444445, subject...  0.3194444444444445   \n",
       "1          Sentiment(polarity=0.0, subjectivity=0.0)                 0.0   \n",
       "2          Sentiment(polarity=0.0, subjectivity=0.0)                 0.0   \n",
       "3        Sentiment(polarity=0.25, subjectivity=0.65)                0.25   \n",
       "4  Sentiment(polarity=0.5, subjectivity=0.8333333...                 0.5   \n",
       "\n",
       "         subjectivity lang favorite_count  ... original_author screen_count  \\\n",
       "0  0.5305555555555556   en              0  ...        reen_law          398   \n",
       "1                 0.0   in              0  ...      Amigo9999_        19047   \n",
       "2                 0.0   hi              0  ...     MallaSuhaas        47341   \n",
       "3                0.65   en              0  ...     CIACOceania         7039   \n",
       "4  0.8333333333333334   en              0  ...   MccarronWendy        26064   \n",
       "\n",
       "  followers_count friends_count possibly_sensitive  \\\n",
       "0              70           223                NaN   \n",
       "1             132          1084                NaN   \n",
       "2            2696          2525                NaN   \n",
       "3             343           387                NaN   \n",
       "4             419           878                NaN   \n",
       "\n",
       "                               hashtags  user_mentions place  \\\n",
       "0                                   NaN  janetmachuka_   NaN   \n",
       "1                                   NaN    maheshblood   NaN   \n",
       "2                                   NaN    Hail_Kalyan   NaN   \n",
       "3  Desertification, Drought, resilience    EdwardVrkic   NaN   \n",
       "4                    GregHunt, Morrison  WriteWithDave   NaN   \n",
       "\n",
       "    place_coord_boundaries                  timestamp  \n",
       "0                      NaN  2021-06-17 06:26:34+00:00  \n",
       "1                    India  2021-06-17 06:26:37+00:00  \n",
       "2                    Vizag  2021-06-17 06:26:42+00:00  \n",
       "3         Papua New Guinea  2021-06-17 06:26:44+00:00  \n",
       "4  Sydney, New South Wales  2021-06-17 06:26:47+00:00  \n",
       "\n",
       "[5 rows x 21 columns]"
      ]
     },
     "execution_count": 13,
     "metadata": {},
     "output_type": "execute_result"
    }
   ],
   "source": [
    "#Importing the dataset\n",
    "\n",
    "dataset = pd.read_csv('cleaned_fintech_data.csv')\n",
    "dataset.head()"
   ]
  },
  {
   "cell_type": "code",
   "execution_count": 14,
   "metadata": {},
   "outputs": [
    {
     "name": "stdout",
     "output_type": "stream",
     "text": [
      "<class 'pandas.core.frame.DataFrame'>\n",
      "RangeIndex: 5621 entries, 0 to 5620\n",
      "Data columns (total 21 columns):\n",
      " #   Column                  Non-Null Count  Dtype  \n",
      "---  ------                  --------------  -----  \n",
      " 0   Unnamed: 0              5620 non-null   float64\n",
      " 1   created_at              5621 non-null   object \n",
      " 2   source                  5621 non-null   object \n",
      " 3   original_text           5621 non-null   object \n",
      " 4   clean_text              5617 non-null   object \n",
      " 5   sentiment               5621 non-null   object \n",
      " 6   polarity                5621 non-null   object \n",
      " 7   subjectivity            5621 non-null   object \n",
      " 8   lang                    5621 non-null   object \n",
      " 9   favorite_count          5621 non-null   object \n",
      " 10  retweet_count           5621 non-null   object \n",
      " 11  original_author         5621 non-null   object \n",
      " 12  screen_count            5621 non-null   object \n",
      " 13  followers_count         5621 non-null   object \n",
      " 14  friends_count           5621 non-null   object \n",
      " 15  possibly_sensitive      131 non-null    object \n",
      " 16  hashtags                813 non-null    object \n",
      " 17  user_mentions           5621 non-null   object \n",
      " 18  place                   1 non-null      object \n",
      " 19  place_coord_boundaries  3603 non-null   object \n",
      " 20  timestamp               5621 non-null   object \n",
      "dtypes: float64(1), object(20)\n",
      "memory usage: 922.3+ KB\n"
     ]
    }
   ],
   "source": [
    "dataset.info()"
   ]
  },
  {
   "cell_type": "code",
   "execution_count": 15,
   "metadata": {},
   "outputs": [],
   "source": [
    "# Form a new data frame (named cleanTweet), containing columns  𝐜𝐥𝐞𝐚𝐧-𝐭𝐞𝐱𝐭  and  𝐩𝐨𝐥𝐚𝐫𝐢𝐭𝐲 ."
   ]
  },
  {
   "cell_type": "code",
   "execution_count": 16,
   "metadata": {},
   "outputs": [
    {
     "data": {
      "text/html": [
       "<div>\n",
       "<style scoped>\n",
       "    .dataframe tbody tr th:only-of-type {\n",
       "        vertical-align: middle;\n",
       "    }\n",
       "\n",
       "    .dataframe tbody tr th {\n",
       "        vertical-align: top;\n",
       "    }\n",
       "\n",
       "    .dataframe thead th {\n",
       "        text-align: right;\n",
       "    }\n",
       "</style>\n",
       "<table border=\"1\" class=\"dataframe\">\n",
       "  <thead>\n",
       "    <tr style=\"text-align: right;\">\n",
       "      <th></th>\n",
       "      <th>clean_text</th>\n",
       "      <th>polarity</th>\n",
       "    </tr>\n",
       "  </thead>\n",
       "  <tbody>\n",
       "    <tr>\n",
       "      <th>0</th>\n",
       "      <td>Giving forth life becoming burden Kenya This m...</td>\n",
       "      <td>0.3194444444444445</td>\n",
       "    </tr>\n",
       "    <tr>\n",
       "      <th>1</th>\n",
       "      <td>Teenmaar crPanja crGabbarsingh cr Khaleja Kuda...</td>\n",
       "      <td>0.0</td>\n",
       "    </tr>\n",
       "    <tr>\n",
       "      <th>2</th>\n",
       "      <td>Rei chintu lo Vachina Ad Nizam ne lo kottaru f...</td>\n",
       "      <td>0.0</td>\n",
       "    </tr>\n",
       "    <tr>\n",
       "      <th>3</th>\n",
       "      <td>Today World Day Combat Restoring degraded land...</td>\n",
       "      <td>0.25</td>\n",
       "    </tr>\n",
       "    <tr>\n",
       "      <th>4</th>\n",
       "      <td>Hearing say 's confident vaccines delivered li...</td>\n",
       "      <td>0.5</td>\n",
       "    </tr>\n",
       "    <tr>\n",
       "      <th>...</th>\n",
       "      <td>...</td>\n",
       "      <td>...</td>\n",
       "    </tr>\n",
       "    <tr>\n",
       "      <th>5616</th>\n",
       "      <td>Lambie voted AGAINST Medivac Carbon tax protec...</td>\n",
       "      <td>0.13636363636363635</td>\n",
       "    </tr>\n",
       "    <tr>\n",
       "      <th>5617</th>\n",
       "      <td>Idhi bathuku Most Day1 Records In Nizam Non BB...</td>\n",
       "      <td>0.5</td>\n",
       "    </tr>\n",
       "    <tr>\n",
       "      <th>5618</th>\n",
       "      <td>welkin moon giveaway bc finally money -u got t...</td>\n",
       "      <td>0.15416666666666667</td>\n",
       "    </tr>\n",
       "    <tr>\n",
       "      <th>5619</th>\n",
       "      <td>Manam edi chesina Daaniki kuda elevation istad...</td>\n",
       "      <td>0.0</td>\n",
       "    </tr>\n",
       "    <tr>\n",
       "      <th>5620</th>\n",
       "      <td>This first time I 've seen Government media le...</td>\n",
       "      <td>0.13</td>\n",
       "    </tr>\n",
       "  </tbody>\n",
       "</table>\n",
       "<p>5621 rows × 2 columns</p>\n",
       "</div>"
      ],
      "text/plain": [
       "                                             clean_text             polarity\n",
       "0     Giving forth life becoming burden Kenya This m...   0.3194444444444445\n",
       "1     Teenmaar crPanja crGabbarsingh cr Khaleja Kuda...                  0.0\n",
       "2     Rei chintu lo Vachina Ad Nizam ne lo kottaru f...                  0.0\n",
       "3     Today World Day Combat Restoring degraded land...                 0.25\n",
       "4     Hearing say 's confident vaccines delivered li...                  0.5\n",
       "...                                                 ...                  ...\n",
       "5616  Lambie voted AGAINST Medivac Carbon tax protec...  0.13636363636363635\n",
       "5617  Idhi bathuku Most Day1 Records In Nizam Non BB...                  0.5\n",
       "5618  welkin moon giveaway bc finally money -u got t...  0.15416666666666667\n",
       "5619  Manam edi chesina Daaniki kuda elevation istad...                  0.0\n",
       "5620  This first time I 've seen Government media le...                 0.13\n",
       "\n",
       "[5621 rows x 2 columns]"
      ]
     },
     "execution_count": 16,
     "metadata": {},
     "output_type": "execute_result"
    }
   ],
   "source": [
    "cleanTweet = dataset[['clean_text', 'polarity' ]]\n",
    "cleanTweet"
   ]
  },
  {
   "cell_type": "code",
   "execution_count": 17,
   "metadata": {},
   "outputs": [
    {
     "data": {
      "text/plain": [
       "'positive'"
      ]
     },
     "execution_count": 17,
     "metadata": {},
     "output_type": "execute_result"
    }
   ],
   "source": [
    "# Write a function text_category that takes a value p and returns, depending on the value of p, a string 'positive', 'negative' or 'neutral'.\n",
    "def text_category(p):\n",
    "    if p>0:\n",
    "        return \"positive\"\n",
    "    elif p<0:\n",
    "        return \"negative\"\n",
    "    else:\n",
    "        return \"neutral\"\n",
    "    \n",
    "text_category(9)"
   ]
  },
  {
   "cell_type": "code",
   "execution_count": 18,
   "metadata": {},
   "outputs": [
    {
     "data": {
      "text/plain": [
       "0        0.3194444444444445\n",
       "1                       0.0\n",
       "2                       0.0\n",
       "3                      0.25\n",
       "4                       0.5\n",
       "               ...         \n",
       "5616    0.13636363636363635\n",
       "5617                    0.5\n",
       "5618    0.15416666666666667\n",
       "5619                    0.0\n",
       "5620                   0.13\n",
       "Name: polarity, Length: 5621, dtype: object"
      ]
     },
     "execution_count": 18,
     "metadata": {},
     "output_type": "execute_result"
    }
   ],
   "source": [
    "cleanTweet['polarity']"
   ]
  },
  {
   "cell_type": "code",
   "execution_count": 19,
   "metadata": {},
   "outputs": [
    {
     "name": "stderr",
     "output_type": "stream",
     "text": [
      "<ipython-input-19-dc997b4e9ea8>:2: SettingWithCopyWarning: \n",
      "A value is trying to be set on a copy of a slice from a DataFrame.\n",
      "Try using .loc[row_indexer,col_indexer] = value instead\n",
      "\n",
      "See the caveats in the documentation: https://pandas.pydata.org/pandas-docs/stable/user_guide/indexing.html#returning-a-view-versus-a-copy\n",
      "  cleanTweet['polarity'] = pd.to_numeric(cleanTweet['polarity'], errors='coerce')\n"
     ]
    }
   ],
   "source": [
    "#Cleaning the string polarity to numeric and replacing strings by null\n",
    "cleanTweet['polarity'] = pd.to_numeric(cleanTweet['polarity'], errors='coerce')"
   ]
  },
  {
   "cell_type": "code",
   "execution_count": 20,
   "metadata": {},
   "outputs": [
    {
     "data": {
      "text/html": [
       "<div>\n",
       "<style scoped>\n",
       "    .dataframe tbody tr th:only-of-type {\n",
       "        vertical-align: middle;\n",
       "    }\n",
       "\n",
       "    .dataframe tbody tr th {\n",
       "        vertical-align: top;\n",
       "    }\n",
       "\n",
       "    .dataframe thead th {\n",
       "        text-align: right;\n",
       "    }\n",
       "</style>\n",
       "<table border=\"1\" class=\"dataframe\">\n",
       "  <thead>\n",
       "    <tr style=\"text-align: right;\">\n",
       "      <th></th>\n",
       "      <th>clean_text</th>\n",
       "      <th>polarity</th>\n",
       "    </tr>\n",
       "  </thead>\n",
       "  <tbody>\n",
       "    <tr>\n",
       "      <th>0</th>\n",
       "      <td>Giving forth life becoming burden Kenya This m...</td>\n",
       "      <td>0.319444</td>\n",
       "    </tr>\n",
       "    <tr>\n",
       "      <th>1</th>\n",
       "      <td>Teenmaar crPanja crGabbarsingh cr Khaleja Kuda...</td>\n",
       "      <td>0.000000</td>\n",
       "    </tr>\n",
       "    <tr>\n",
       "      <th>2</th>\n",
       "      <td>Rei chintu lo Vachina Ad Nizam ne lo kottaru f...</td>\n",
       "      <td>0.000000</td>\n",
       "    </tr>\n",
       "    <tr>\n",
       "      <th>3</th>\n",
       "      <td>Today World Day Combat Restoring degraded land...</td>\n",
       "      <td>0.250000</td>\n",
       "    </tr>\n",
       "    <tr>\n",
       "      <th>4</th>\n",
       "      <td>Hearing say 's confident vaccines delivered li...</td>\n",
       "      <td>0.500000</td>\n",
       "    </tr>\n",
       "    <tr>\n",
       "      <th>...</th>\n",
       "      <td>...</td>\n",
       "      <td>...</td>\n",
       "    </tr>\n",
       "    <tr>\n",
       "      <th>5616</th>\n",
       "      <td>Lambie voted AGAINST Medivac Carbon tax protec...</td>\n",
       "      <td>0.136364</td>\n",
       "    </tr>\n",
       "    <tr>\n",
       "      <th>5617</th>\n",
       "      <td>Idhi bathuku Most Day1 Records In Nizam Non BB...</td>\n",
       "      <td>0.500000</td>\n",
       "    </tr>\n",
       "    <tr>\n",
       "      <th>5618</th>\n",
       "      <td>welkin moon giveaway bc finally money -u got t...</td>\n",
       "      <td>0.154167</td>\n",
       "    </tr>\n",
       "    <tr>\n",
       "      <th>5619</th>\n",
       "      <td>Manam edi chesina Daaniki kuda elevation istad...</td>\n",
       "      <td>0.000000</td>\n",
       "    </tr>\n",
       "    <tr>\n",
       "      <th>5620</th>\n",
       "      <td>This first time I 've seen Government media le...</td>\n",
       "      <td>0.130000</td>\n",
       "    </tr>\n",
       "  </tbody>\n",
       "</table>\n",
       "<p>5621 rows × 2 columns</p>\n",
       "</div>"
      ],
      "text/plain": [
       "                                             clean_text  polarity\n",
       "0     Giving forth life becoming burden Kenya This m...  0.319444\n",
       "1     Teenmaar crPanja crGabbarsingh cr Khaleja Kuda...  0.000000\n",
       "2     Rei chintu lo Vachina Ad Nizam ne lo kottaru f...  0.000000\n",
       "3     Today World Day Combat Restoring degraded land...  0.250000\n",
       "4     Hearing say 's confident vaccines delivered li...  0.500000\n",
       "...                                                 ...       ...\n",
       "5616  Lambie voted AGAINST Medivac Carbon tax protec...  0.136364\n",
       "5617  Idhi bathuku Most Day1 Records In Nizam Non BB...  0.500000\n",
       "5618  welkin moon giveaway bc finally money -u got t...  0.154167\n",
       "5619  Manam edi chesina Daaniki kuda elevation istad...  0.000000\n",
       "5620  This first time I 've seen Government media le...  0.130000\n",
       "\n",
       "[5621 rows x 2 columns]"
      ]
     },
     "execution_count": 20,
     "metadata": {},
     "output_type": "execute_result"
    }
   ],
   "source": [
    "cleanTweet"
   ]
  },
  {
   "cell_type": "code",
   "execution_count": 39,
   "metadata": {},
   "outputs": [
    {
     "name": "stderr",
     "output_type": "stream",
     "text": [
      "<ipython-input-39-630ba6729a0e>:4: SettingWithCopyWarning: \n",
      "A value is trying to be set on a copy of a slice from a DataFrame.\n",
      "Try using .loc[row_indexer,col_indexer] = value instead\n",
      "\n",
      "See the caveats in the documentation: https://pandas.pydata.org/pandas-docs/stable/user_guide/indexing.html#returning-a-view-versus-a-copy\n",
      "  cleanTweet['score'] = text_category(cleanTweet['polarity'].any().astype(float))\n"
     ]
    }
   ],
   "source": [
    "# Apply this function (text_category) on the  𝐩𝐨𝐥𝐚𝐫𝐢𝐭𝐲  column of cleanTweet in 1 above to form a new column called  𝐬𝐜𝐨𝐫𝐞  in cleanTweet.\n",
    "\n",
    "\n",
    "cleanTweet['score'] = text_category(cleanTweet['polarity'].any().astype(float))\n"
   ]
  },
  {
   "cell_type": "code",
   "execution_count": 40,
   "metadata": {},
   "outputs": [
    {
     "data": {
      "text/html": [
       "<div>\n",
       "<style scoped>\n",
       "    .dataframe tbody tr th:only-of-type {\n",
       "        vertical-align: middle;\n",
       "    }\n",
       "\n",
       "    .dataframe tbody tr th {\n",
       "        vertical-align: top;\n",
       "    }\n",
       "\n",
       "    .dataframe thead th {\n",
       "        text-align: right;\n",
       "    }\n",
       "</style>\n",
       "<table border=\"1\" class=\"dataframe\">\n",
       "  <thead>\n",
       "    <tr style=\"text-align: right;\">\n",
       "      <th></th>\n",
       "      <th>clean_text</th>\n",
       "      <th>polarity</th>\n",
       "      <th>score</th>\n",
       "    </tr>\n",
       "  </thead>\n",
       "  <tbody>\n",
       "    <tr>\n",
       "      <th>5616</th>\n",
       "      <td>Lambie voted AGAINST Medivac Carbon tax protec...</td>\n",
       "      <td>0.136364</td>\n",
       "      <td>positive</td>\n",
       "    </tr>\n",
       "    <tr>\n",
       "      <th>5617</th>\n",
       "      <td>Idhi bathuku Most Day1 Records In Nizam Non BB...</td>\n",
       "      <td>0.500000</td>\n",
       "      <td>positive</td>\n",
       "    </tr>\n",
       "    <tr>\n",
       "      <th>5618</th>\n",
       "      <td>welkin moon giveaway bc finally money -u got t...</td>\n",
       "      <td>0.154167</td>\n",
       "      <td>positive</td>\n",
       "    </tr>\n",
       "    <tr>\n",
       "      <th>5619</th>\n",
       "      <td>Manam edi chesina Daaniki kuda elevation istad...</td>\n",
       "      <td>0.000000</td>\n",
       "      <td>positive</td>\n",
       "    </tr>\n",
       "    <tr>\n",
       "      <th>5620</th>\n",
       "      <td>This first time I 've seen Government media le...</td>\n",
       "      <td>0.130000</td>\n",
       "      <td>positive</td>\n",
       "    </tr>\n",
       "  </tbody>\n",
       "</table>\n",
       "</div>"
      ],
      "text/plain": [
       "                                             clean_text  polarity     score\n",
       "5616  Lambie voted AGAINST Medivac Carbon tax protec...  0.136364  positive\n",
       "5617  Idhi bathuku Most Day1 Records In Nizam Non BB...  0.500000  positive\n",
       "5618  welkin moon giveaway bc finally money -u got t...  0.154167  positive\n",
       "5619  Manam edi chesina Daaniki kuda elevation istad...  0.000000  positive\n",
       "5620  This first time I 've seen Government media le...  0.130000  positive"
      ]
     },
     "execution_count": 40,
     "metadata": {},
     "output_type": "execute_result"
    }
   ],
   "source": [
    "cleanTweet.tail()"
   ]
  },
  {
   "cell_type": "code",
   "execution_count": 41,
   "metadata": {},
   "outputs": [
    {
     "name": "stderr",
     "output_type": "stream",
     "text": [
      "<ipython-input-41-03593bca1813>:5: SettingWithCopyWarning: \n",
      "A value is trying to be set on a copy of a slice from a DataFrame.\n",
      "Try using .loc[row_indexer,col_indexer] = value instead\n",
      "\n",
      "See the caveats in the documentation: https://pandas.pydata.org/pandas-docs/stable/user_guide/indexing.html#returning-a-view-versus-a-copy\n",
      "  cleanTweet['score'] = cleanTweet['polarity'].apply(text_category)\n"
     ]
    }
   ],
   "source": [
    "#cleanTweet['score'] = text_category(cleanTweet['polarity'].any().astype(float))\n",
    "\n",
    "# cleanTweet['score'] = text_category(cleanTweet['polarity'])\n",
    "\n",
    "cleanTweet['score'] = cleanTweet['polarity'].apply(text_category)\n",
    "    "
   ]
  },
  {
   "cell_type": "code",
   "execution_count": 42,
   "metadata": {},
   "outputs": [
    {
     "data": {
      "text/html": [
       "<div>\n",
       "<style scoped>\n",
       "    .dataframe tbody tr th:only-of-type {\n",
       "        vertical-align: middle;\n",
       "    }\n",
       "\n",
       "    .dataframe tbody tr th {\n",
       "        vertical-align: top;\n",
       "    }\n",
       "\n",
       "    .dataframe thead th {\n",
       "        text-align: right;\n",
       "    }\n",
       "</style>\n",
       "<table border=\"1\" class=\"dataframe\">\n",
       "  <thead>\n",
       "    <tr style=\"text-align: right;\">\n",
       "      <th></th>\n",
       "      <th>clean_text</th>\n",
       "      <th>polarity</th>\n",
       "      <th>score</th>\n",
       "    </tr>\n",
       "  </thead>\n",
       "  <tbody>\n",
       "    <tr>\n",
       "      <th>0</th>\n",
       "      <td>Giving forth life becoming burden Kenya This m...</td>\n",
       "      <td>0.319444</td>\n",
       "      <td>positive</td>\n",
       "    </tr>\n",
       "    <tr>\n",
       "      <th>1</th>\n",
       "      <td>Teenmaar crPanja crGabbarsingh cr Khaleja Kuda...</td>\n",
       "      <td>0.000000</td>\n",
       "      <td>neutral</td>\n",
       "    </tr>\n",
       "    <tr>\n",
       "      <th>2</th>\n",
       "      <td>Rei chintu lo Vachina Ad Nizam ne lo kottaru f...</td>\n",
       "      <td>0.000000</td>\n",
       "      <td>neutral</td>\n",
       "    </tr>\n",
       "    <tr>\n",
       "      <th>3</th>\n",
       "      <td>Today World Day Combat Restoring degraded land...</td>\n",
       "      <td>0.250000</td>\n",
       "      <td>positive</td>\n",
       "    </tr>\n",
       "    <tr>\n",
       "      <th>4</th>\n",
       "      <td>Hearing say 's confident vaccines delivered li...</td>\n",
       "      <td>0.500000</td>\n",
       "      <td>positive</td>\n",
       "    </tr>\n",
       "    <tr>\n",
       "      <th>...</th>\n",
       "      <td>...</td>\n",
       "      <td>...</td>\n",
       "      <td>...</td>\n",
       "    </tr>\n",
       "    <tr>\n",
       "      <th>5616</th>\n",
       "      <td>Lambie voted AGAINST Medivac Carbon tax protec...</td>\n",
       "      <td>0.136364</td>\n",
       "      <td>positive</td>\n",
       "    </tr>\n",
       "    <tr>\n",
       "      <th>5617</th>\n",
       "      <td>Idhi bathuku Most Day1 Records In Nizam Non BB...</td>\n",
       "      <td>0.500000</td>\n",
       "      <td>positive</td>\n",
       "    </tr>\n",
       "    <tr>\n",
       "      <th>5618</th>\n",
       "      <td>welkin moon giveaway bc finally money -u got t...</td>\n",
       "      <td>0.154167</td>\n",
       "      <td>positive</td>\n",
       "    </tr>\n",
       "    <tr>\n",
       "      <th>5619</th>\n",
       "      <td>Manam edi chesina Daaniki kuda elevation istad...</td>\n",
       "      <td>0.000000</td>\n",
       "      <td>neutral</td>\n",
       "    </tr>\n",
       "    <tr>\n",
       "      <th>5620</th>\n",
       "      <td>This first time I 've seen Government media le...</td>\n",
       "      <td>0.130000</td>\n",
       "      <td>positive</td>\n",
       "    </tr>\n",
       "  </tbody>\n",
       "</table>\n",
       "<p>5621 rows × 3 columns</p>\n",
       "</div>"
      ],
      "text/plain": [
       "                                             clean_text  polarity     score\n",
       "0     Giving forth life becoming burden Kenya This m...  0.319444  positive\n",
       "1     Teenmaar crPanja crGabbarsingh cr Khaleja Kuda...  0.000000   neutral\n",
       "2     Rei chintu lo Vachina Ad Nizam ne lo kottaru f...  0.000000   neutral\n",
       "3     Today World Day Combat Restoring degraded land...  0.250000  positive\n",
       "4     Hearing say 's confident vaccines delivered li...  0.500000  positive\n",
       "...                                                 ...       ...       ...\n",
       "5616  Lambie voted AGAINST Medivac Carbon tax protec...  0.136364  positive\n",
       "5617  Idhi bathuku Most Day1 Records In Nizam Non BB...  0.500000  positive\n",
       "5618  welkin moon giveaway bc finally money -u got t...  0.154167  positive\n",
       "5619  Manam edi chesina Daaniki kuda elevation istad...  0.000000   neutral\n",
       "5620  This first time I 've seen Government media le...  0.130000  positive\n",
       "\n",
       "[5621 rows x 3 columns]"
      ]
     },
     "execution_count": 42,
     "metadata": {},
     "output_type": "execute_result"
    }
   ],
   "source": [
    "cleanTweet"
   ]
  },
  {
   "cell_type": "markdown",
   "metadata": {},
   "source": [
    "### Visualize The  𝐬𝐜𝐨𝐫𝐞  column using piechart and barchart"
   ]
  },
  {
   "cell_type": "code",
   "execution_count": 58,
   "metadata": {},
   "outputs": [
    {
     "data": {
      "image/png": "[encoded data removed]",
      "text/plain": [
       "<Figure size 576x576 with 1 Axes>"
      ]
     },
     "metadata": {},
     "output_type": "display_data"
    }
   ],
   "source": [
    "import seaborn as sns\n",
    "cleanTweet['score'].value_counts().plot.pie(autopct='%1.1f%%', shadow=True, figsize=(8,8))\n",
    "plt.title('Pie Chart for score')\n",
    "plt.show()"
   ]
  },
  {
   "cell_type": "code",
   "execution_count": 57,
   "metadata": {},
   "outputs": [
    {
     "data": {
      "image/png": "[encoded data removed]",
      "text/plain": [
       "<Figure size 432x288 with 1 Axes>"
      ]
     },
     "metadata": {
      "needs_background": "light"
     },
     "output_type": "display_data"
    }
   ],
   "source": [
    "# Bar graph\n",
    "cleanTweet['score'].value_counts().plot.bar()\n",
    "plt.title('Bar graph of scores')\n",
    "plt.show()"
   ]
  },
  {
   "cell_type": "markdown",
   "metadata": {},
   "source": [
    "### Now we want to build a classification model on the clean tweet following the steps below:¶\n"
   ]
  },
  {
   "cell_type": "markdown",
   "metadata": {},
   "source": [
    "#### Remove rows from cleanTweet where  𝐩𝐨𝐥𝐚𝐫𝐢𝐭𝐲   =0  (i.e where  𝐬𝐜𝐨𝐫𝐞  = Neutral) and reset the frame index."
   ]
  },
  {
   "cell_type": "code",
   "execution_count": 70,
   "metadata": {},
   "outputs": [
    {
     "data": {
      "text/html": [
       "<div>\n",
       "<style scoped>\n",
       "    .dataframe tbody tr th:only-of-type {\n",
       "        vertical-align: middle;\n",
       "    }\n",
       "\n",
       "    .dataframe tbody tr th {\n",
       "        vertical-align: top;\n",
       "    }\n",
       "\n",
       "    .dataframe thead th {\n",
       "        text-align: right;\n",
       "    }\n",
       "</style>\n",
       "<table border=\"1\" class=\"dataframe\">\n",
       "  <thead>\n",
       "    <tr style=\"text-align: right;\">\n",
       "      <th></th>\n",
       "      <th>index</th>\n",
       "      <th>clean_text</th>\n",
       "      <th>polarity</th>\n",
       "      <th>score</th>\n",
       "    </tr>\n",
       "  </thead>\n",
       "  <tbody>\n",
       "    <tr>\n",
       "      <th>0</th>\n",
       "      <td>0</td>\n",
       "      <td>Giving forth life becoming burden Kenya This m...</td>\n",
       "      <td>0.319444</td>\n",
       "      <td>positive</td>\n",
       "    </tr>\n",
       "    <tr>\n",
       "      <th>1</th>\n",
       "      <td>3</td>\n",
       "      <td>Today World Day Combat Restoring degraded land...</td>\n",
       "      <td>0.250000</td>\n",
       "      <td>positive</td>\n",
       "    </tr>\n",
       "    <tr>\n",
       "      <th>2</th>\n",
       "      <td>4</td>\n",
       "      <td>Hearing say 's confident vaccines delivered li...</td>\n",
       "      <td>0.500000</td>\n",
       "      <td>positive</td>\n",
       "    </tr>\n",
       "    <tr>\n",
       "      <th>3</th>\n",
       "      <td>6</td>\n",
       "      <td>Today World Day Combat Restoring degraded land...</td>\n",
       "      <td>0.250000</td>\n",
       "      <td>positive</td>\n",
       "    </tr>\n",
       "    <tr>\n",
       "      <th>4</th>\n",
       "      <td>9</td>\n",
       "      <td>Austria `` right '' grid tariffs regulatory re...</td>\n",
       "      <td>0.285714</td>\n",
       "      <td>positive</td>\n",
       "    </tr>\n",
       "    <tr>\n",
       "      <th>...</th>\n",
       "      <td>...</td>\n",
       "      <td>...</td>\n",
       "      <td>...</td>\n",
       "      <td>...</td>\n",
       "    </tr>\n",
       "    <tr>\n",
       "      <th>3482</th>\n",
       "      <td>5615</td>\n",
       "      <td>In latest episode podcast Unilevers Peter Ter ...</td>\n",
       "      <td>0.279167</td>\n",
       "      <td>positive</td>\n",
       "    </tr>\n",
       "    <tr>\n",
       "      <th>3483</th>\n",
       "      <td>5616</td>\n",
       "      <td>Lambie voted AGAINST Medivac Carbon tax protec...</td>\n",
       "      <td>0.136364</td>\n",
       "      <td>positive</td>\n",
       "    </tr>\n",
       "    <tr>\n",
       "      <th>3484</th>\n",
       "      <td>5617</td>\n",
       "      <td>Idhi bathuku Most Day1 Records In Nizam Non BB...</td>\n",
       "      <td>0.500000</td>\n",
       "      <td>positive</td>\n",
       "    </tr>\n",
       "    <tr>\n",
       "      <th>3485</th>\n",
       "      <td>5618</td>\n",
       "      <td>welkin moon giveaway bc finally money -u got t...</td>\n",
       "      <td>0.154167</td>\n",
       "      <td>positive</td>\n",
       "    </tr>\n",
       "    <tr>\n",
       "      <th>3486</th>\n",
       "      <td>5620</td>\n",
       "      <td>This first time I 've seen Government media le...</td>\n",
       "      <td>0.130000</td>\n",
       "      <td>positive</td>\n",
       "    </tr>\n",
       "  </tbody>\n",
       "</table>\n",
       "<p>3487 rows × 4 columns</p>\n",
       "</div>"
      ],
      "text/plain": [
       "      index                                         clean_text  polarity  \\\n",
       "0         0  Giving forth life becoming burden Kenya This m...  0.319444   \n",
       "1         3  Today World Day Combat Restoring degraded land...  0.250000   \n",
       "2         4  Hearing say 's confident vaccines delivered li...  0.500000   \n",
       "3         6  Today World Day Combat Restoring degraded land...  0.250000   \n",
       "4         9  Austria `` right '' grid tariffs regulatory re...  0.285714   \n",
       "...     ...                                                ...       ...   \n",
       "3482   5615  In latest episode podcast Unilevers Peter Ter ...  0.279167   \n",
       "3483   5616  Lambie voted AGAINST Medivac Carbon tax protec...  0.136364   \n",
       "3484   5617  Idhi bathuku Most Day1 Records In Nizam Non BB...  0.500000   \n",
       "3485   5618  welkin moon giveaway bc finally money -u got t...  0.154167   \n",
       "3486   5620  This first time I 've seen Government media le...  0.130000   \n",
       "\n",
       "         score  \n",
       "0     positive  \n",
       "1     positive  \n",
       "2     positive  \n",
       "3     positive  \n",
       "4     positive  \n",
       "...        ...  \n",
       "3482  positive  \n",
       "3483  positive  \n",
       "3484  positive  \n",
       "3485  positive  \n",
       "3486  positive  \n",
       "\n",
       "[3487 rows x 4 columns]"
      ]
     },
     "execution_count": 70,
     "metadata": {},
     "output_type": "execute_result"
    }
   ],
   "source": [
    "cleanTweet = cleanTweet.drop(cleanTweet[cleanTweet.polarity == 0].index)\n",
    "cleanTweet.reset_index()"
   ]
  },
  {
   "cell_type": "markdown",
   "metadata": {},
   "source": [
    "#### Construct a column  𝐬𝐜𝐨𝐫𝐞𝐦𝐚𝐩  Use the mapping {'positive':1, 'negative':0} on the  𝐬𝐜𝐨𝐫𝐞  column\n"
   ]
  },
  {
   "cell_type": "code",
   "execution_count": 84,
   "metadata": {},
   "outputs": [],
   "source": [
    "def scoremap_funct(score):\n",
    "    if score == \"positive\":\n",
    "        return 1\n",
    "    else:\n",
    "        return 0"
   ]
  },
  {
   "cell_type": "code",
   "execution_count": 86,
   "metadata": {},
   "outputs": [
    {
     "data": {
      "text/html": [
       "<div>\n",
       "<style scoped>\n",
       "    .dataframe tbody tr th:only-of-type {\n",
       "        vertical-align: middle;\n",
       "    }\n",
       "\n",
       "    .dataframe tbody tr th {\n",
       "        vertical-align: top;\n",
       "    }\n",
       "\n",
       "    .dataframe thead th {\n",
       "        text-align: right;\n",
       "    }\n",
       "</style>\n",
       "<table border=\"1\" class=\"dataframe\">\n",
       "  <thead>\n",
       "    <tr style=\"text-align: right;\">\n",
       "      <th></th>\n",
       "      <th>clean_text</th>\n",
       "      <th>polarity</th>\n",
       "      <th>score</th>\n",
       "      <th>scoremap</th>\n",
       "    </tr>\n",
       "  </thead>\n",
       "  <tbody>\n",
       "    <tr>\n",
       "      <th>0</th>\n",
       "      <td>Giving forth life becoming burden Kenya This m...</td>\n",
       "      <td>0.319444</td>\n",
       "      <td>positive</td>\n",
       "      <td>1</td>\n",
       "    </tr>\n",
       "    <tr>\n",
       "      <th>3</th>\n",
       "      <td>Today World Day Combat Restoring degraded land...</td>\n",
       "      <td>0.250000</td>\n",
       "      <td>positive</td>\n",
       "      <td>1</td>\n",
       "    </tr>\n",
       "    <tr>\n",
       "      <th>4</th>\n",
       "      <td>Hearing say 's confident vaccines delivered li...</td>\n",
       "      <td>0.500000</td>\n",
       "      <td>positive</td>\n",
       "      <td>1</td>\n",
       "    </tr>\n",
       "    <tr>\n",
       "      <th>6</th>\n",
       "      <td>Today World Day Combat Restoring degraded land...</td>\n",
       "      <td>0.250000</td>\n",
       "      <td>positive</td>\n",
       "      <td>1</td>\n",
       "    </tr>\n",
       "    <tr>\n",
       "      <th>9</th>\n",
       "      <td>Austria `` right '' grid tariffs regulatory re...</td>\n",
       "      <td>0.285714</td>\n",
       "      <td>positive</td>\n",
       "      <td>1</td>\n",
       "    </tr>\n",
       "    <tr>\n",
       "      <th>...</th>\n",
       "      <td>...</td>\n",
       "      <td>...</td>\n",
       "      <td>...</td>\n",
       "      <td>...</td>\n",
       "    </tr>\n",
       "    <tr>\n",
       "      <th>5615</th>\n",
       "      <td>In latest episode podcast Unilevers Peter Ter ...</td>\n",
       "      <td>0.279167</td>\n",
       "      <td>positive</td>\n",
       "      <td>1</td>\n",
       "    </tr>\n",
       "    <tr>\n",
       "      <th>5616</th>\n",
       "      <td>Lambie voted AGAINST Medivac Carbon tax protec...</td>\n",
       "      <td>0.136364</td>\n",
       "      <td>positive</td>\n",
       "      <td>1</td>\n",
       "    </tr>\n",
       "    <tr>\n",
       "      <th>5617</th>\n",
       "      <td>Idhi bathuku Most Day1 Records In Nizam Non BB...</td>\n",
       "      <td>0.500000</td>\n",
       "      <td>positive</td>\n",
       "      <td>1</td>\n",
       "    </tr>\n",
       "    <tr>\n",
       "      <th>5618</th>\n",
       "      <td>welkin moon giveaway bc finally money -u got t...</td>\n",
       "      <td>0.154167</td>\n",
       "      <td>positive</td>\n",
       "      <td>1</td>\n",
       "    </tr>\n",
       "    <tr>\n",
       "      <th>5620</th>\n",
       "      <td>This first time I 've seen Government media le...</td>\n",
       "      <td>0.130000</td>\n",
       "      <td>positive</td>\n",
       "      <td>1</td>\n",
       "    </tr>\n",
       "  </tbody>\n",
       "</table>\n",
       "<p>3487 rows × 4 columns</p>\n",
       "</div>"
      ],
      "text/plain": [
       "                                             clean_text  polarity     score  \\\n",
       "0     Giving forth life becoming burden Kenya This m...  0.319444  positive   \n",
       "3     Today World Day Combat Restoring degraded land...  0.250000  positive   \n",
       "4     Hearing say 's confident vaccines delivered li...  0.500000  positive   \n",
       "6     Today World Day Combat Restoring degraded land...  0.250000  positive   \n",
       "9     Austria `` right '' grid tariffs regulatory re...  0.285714  positive   \n",
       "...                                                 ...       ...       ...   \n",
       "5615  In latest episode podcast Unilevers Peter Ter ...  0.279167  positive   \n",
       "5616  Lambie voted AGAINST Medivac Carbon tax protec...  0.136364  positive   \n",
       "5617  Idhi bathuku Most Day1 Records In Nizam Non BB...  0.500000  positive   \n",
       "5618  welkin moon giveaway bc finally money -u got t...  0.154167  positive   \n",
       "5620  This first time I 've seen Government media le...  0.130000  positive   \n",
       "\n",
       "      scoremap  \n",
       "0            1  \n",
       "3            1  \n",
       "4            1  \n",
       "6            1  \n",
       "9            1  \n",
       "...        ...  \n",
       "5615         1  \n",
       "5616         1  \n",
       "5617         1  \n",
       "5618         1  \n",
       "5620         1  \n",
       "\n",
       "[3487 rows x 4 columns]"
      ]
     },
     "execution_count": 86,
     "metadata": {},
     "output_type": "execute_result"
    }
   ],
   "source": [
    "cleanTweet['scoremap'] = cleanTweet.score.apply(scoremap_funct)\n",
    "cleanTweet"
   ]
  },
  {
   "cell_type": "markdown",
   "metadata": {},
   "source": [
    "####  Create feature and target variables (X,y) from  𝐜𝐥𝐞𝐚𝐧-𝐭𝐞𝐱𝐭  and  𝐬𝐜𝐨𝐫𝐞𝐦𝐚𝐩  columns respectively.\n"
   ]
  },
  {
   "cell_type": "code",
   "execution_count": 91,
   "metadata": {},
   "outputs": [
    {
     "data": {
      "text/plain": [
       "0    Giving forth life becoming burden Kenya This m...\n",
       "3    Today World Day Combat Restoring degraded land...\n",
       "4    Hearing say 's confident vaccines delivered li...\n",
       "6    Today World Day Combat Restoring degraded land...\n",
       "9    Austria `` right '' grid tariffs regulatory re...\n",
       "Name: clean_text, dtype: object"
      ]
     },
     "execution_count": 91,
     "metadata": {},
     "output_type": "execute_result"
    }
   ],
   "source": [
    "X, y  = cleanTweet['clean_text'], cleanTweet['scoremap']\n",
    "X.head()"
   ]
  },
  {
   "cell_type": "code",
   "execution_count": 92,
   "metadata": {},
   "outputs": [
    {
     "data": {
      "text/plain": [
       "'\\nUse train_test_split function to construct (X_train, y_train) and (X_test, y_test) from (X,y)\\n\\n\\nBuild an SGDClassifier model from the vectorize train text data. Use CountVectorizer() with a  trigram  parameter.\\n\\nEvaluate your model on the test data. \\n\\n'"
      ]
     },
     "execution_count": 92,
     "metadata": {},
     "output_type": "execute_result"
    }
   ],
   "source": [
    "\"\"\"\n",
    "Use train_test_split function to construct (X_train, y_train) and (X_test, y_test) from (X,y)\n",
    "\"\"\""
   ]
  },
  {
   "cell_type": "code",
   "execution_count": 93,
   "metadata": {},
   "outputs": [],
   "source": [
    "# Splitting data into training and testing datasets\n",
    "\n",
    "from sklearn.model_selection import train_test_split\n",
    "X_train, X_test, y_train, y_test = train_test_split(X, y, test_size = 0.20, random_state=1)"
   ]
  },
  {
   "cell_type": "markdown",
   "metadata": {},
   "source": [
    "#### Build an SGDClassifier model from the vectorize train text data. Use CountVectorizer() with a  trigram  parameter.\n"
   ]
  },
  {
   "cell_type": "code",
   "execution_count": 100,
   "metadata": {},
   "outputs": [],
   "source": [
    "from sklearn.feature_extraction.text import CountVectorizer\n",
    "count_vect = CountVectorizer(ngram_range=(3, 3))\n",
    "cv_X_train = count_vect.fit_transform(X_train)\n",
    "cv_X_test= count_vect.transform(X_test)"
   ]
  },
  {
   "cell_type": "code",
   "execution_count": 101,
   "metadata": {},
   "outputs": [
    {
     "data": {
      "text/plain": [
       "<2789x10035 sparse matrix of type '<class 'numpy.int64'>'\n",
       "\twith 66951 stored elements in Compressed Sparse Row format>"
      ]
     },
     "execution_count": 101,
     "metadata": {},
     "output_type": "execute_result"
    }
   ],
   "source": [
    "X_train_cv"
   ]
  },
  {
   "cell_type": "code",
   "execution_count": 102,
   "metadata": {},
   "outputs": [
    {
     "data": {
      "text/plain": [
       "2523    In many emerging amp developing economies emis...\n",
       "1808    If accept climate change destructive force cos...\n",
       "699     Sympathy kosam Movie mere conspiracy chesi mal...\n",
       "2119    Join webinar `` Carbon Credits Waste Managemen...\n",
       "4291    LOLSwedish firm Lundin selling `` carbon neutr...\n",
       "                              ...                        \n",
       "4456    In past Lambie voted AGAINST Medivac Carbon ta...\n",
       "1462    st blockbuster release avakundane movie chedha...\n",
       "1763    LOLSwedish firm Lundin selling `` carbon neutr...\n",
       "400     Macam-macam bentuk selaput dara Elastisitas be...\n",
       "1710    Last decade lo atleast oka territory lo kuda d...\n",
       "Name: clean_text, Length: 2789, dtype: object"
      ]
     },
     "execution_count": 102,
     "metadata": {},
     "output_type": "execute_result"
    }
   ],
   "source": [
    "X_train"
   ]
  },
  {
   "cell_type": "code",
   "execution_count": 103,
   "metadata": {},
   "outputs": [],
   "source": [
    "## SGD\n",
    "from sklearn.linear_model import SGDClassifier"
   ]
  },
  {
   "cell_type": "code",
   "execution_count": 106,
   "metadata": {},
   "outputs": [
    {
     "data": {
      "text/plain": [
       "array([1, 1, 1, 1, 1, 0, 1, 1, 1, 1, 1, 1, 1, 0, 0, 0, 0, 1, 1, 0, 1, 1,\n",
       "       1, 0, 1, 1, 1, 0, 0, 0, 1, 1, 1, 0, 1, 1, 1, 0, 1, 1, 1, 1, 1, 1,\n",
       "       1, 0, 1, 1, 1, 1, 1, 1, 1, 1, 1, 0, 0, 1, 1, 1, 0, 1, 1, 1, 1, 0,\n",
       "       0, 1, 1, 0, 1, 0, 1, 0, 1, 1, 1, 1, 1, 1, 0, 1, 1, 1, 1, 1, 1, 0,\n",
       "       1, 1, 1, 1, 1, 1, 1, 1, 1, 1, 1, 1, 0, 1, 1, 1, 1, 1, 1, 1, 1, 1,\n",
       "       1, 1, 1, 1, 1, 1, 1, 1, 0, 1, 1, 1, 1, 0, 1, 1, 1, 1, 0, 1, 0, 0,\n",
       "       1, 1, 1, 1, 0, 1, 1, 0, 0, 1, 1, 1, 1, 1, 1, 1, 1, 1, 1, 0, 1, 0,\n",
       "       0, 1, 1, 1, 0, 0, 1, 1, 1, 1, 1, 1, 1, 1, 0, 0, 1, 1, 1, 0, 0, 1,\n",
       "       1, 1, 1, 1, 1, 0, 1, 0, 1, 1, 1, 0, 1, 1, 1, 1, 0, 0, 0, 0, 1, 1,\n",
       "       0, 1, 1, 1, 1, 1, 1, 1, 1, 0, 1, 1, 1, 1, 1, 1, 1, 1, 1, 1, 1, 0,\n",
       "       0, 1, 0, 1, 1, 0, 1, 1, 1, 1, 1, 1, 1, 0, 1, 1, 1, 1, 1, 1, 0, 1,\n",
       "       1, 0, 1, 1, 1, 1, 1, 0, 1, 1, 1, 0, 1, 1, 1, 0, 1, 1, 0, 0, 1, 1,\n",
       "       1, 1, 1, 1, 1, 0, 1, 1, 1, 1, 0, 1, 0, 1, 1, 1, 0, 1, 1, 0, 1, 1,\n",
       "       0, 1, 1, 1, 1, 1, 1, 0, 1, 1, 0, 0, 1, 1, 0, 1, 1, 1, 1, 1, 1, 1,\n",
       "       1, 1, 1, 0, 1, 1, 1, 1, 1, 1, 0, 1, 1, 1, 1, 0, 1, 1, 1, 1, 1, 1,\n",
       "       1, 1, 1, 0, 1, 1, 1, 0, 1, 0, 1, 0, 1, 1, 1, 0, 1, 0, 1, 1, 0, 0,\n",
       "       1, 1, 1, 1, 1, 1, 1, 1, 0, 0, 0, 1, 0, 1, 1, 1, 1, 1, 1, 1, 1, 1,\n",
       "       1, 0, 1, 0, 1, 0, 1, 0, 1, 0, 1, 0, 1, 1, 1, 1, 1, 1, 0, 1, 1, 1,\n",
       "       1, 0, 1, 1, 1, 0, 1, 1, 0, 0, 1, 0, 1, 0, 1, 1, 1, 1, 1, 1, 1, 0,\n",
       "       0, 0, 0, 0, 1, 1, 1, 1, 0, 1, 1, 0, 1, 1, 1, 0, 1, 1, 1, 1, 0, 1,\n",
       "       1, 1, 0, 1, 0, 1, 0, 1, 1, 1, 1, 1, 1, 1, 1, 1, 1, 1, 1, 1, 1, 0,\n",
       "       1, 0, 1, 0, 1, 1, 0, 1, 1, 1, 1, 0, 1, 0, 1, 0, 1, 1, 1, 0, 1, 1,\n",
       "       0, 1, 1, 0, 0, 1, 0, 1, 1, 1, 1, 1, 1, 0, 1, 0, 1, 1, 1, 0, 1, 0,\n",
       "       1, 0, 1, 0, 1, 1, 1, 1, 1, 1, 0, 1, 0, 0, 1, 0, 1, 1, 1, 1, 1, 1,\n",
       "       1, 1, 1, 1, 1, 1, 1, 1, 0, 1, 1, 1, 0, 1, 1, 1, 1, 0, 1, 1, 1, 1,\n",
       "       0, 1, 1, 1, 1, 1, 1, 1, 1, 1, 1, 1, 1, 1, 1, 1, 1, 1, 1, 0, 1, 1,\n",
       "       1, 1, 1, 1, 1, 1, 0, 1, 1, 1, 1, 0, 0, 1, 0, 1, 1, 1, 1, 1, 1, 1,\n",
       "       1, 0, 1, 1, 0, 0, 1, 1, 0, 1, 1, 1, 0, 1, 0, 1, 1, 1, 0, 1, 1, 1,\n",
       "       0, 1, 1, 1, 0, 0, 1, 1, 1, 0, 1, 0, 1, 1, 1, 1, 1, 1, 1, 1, 1, 0,\n",
       "       1, 1, 0, 1, 1, 1, 1, 1, 1, 0, 1, 0, 1, 0, 1, 1, 1, 1, 0, 1, 1, 1,\n",
       "       1, 1, 1, 1, 1, 1, 1, 1, 1, 1, 0, 1, 0, 1, 1, 1, 0, 0, 1, 0, 0, 0,\n",
       "       1, 1, 1, 1, 1, 0, 1, 1, 1, 1, 1, 1, 0, 0, 1, 1], dtype=int64)"
      ]
     },
     "execution_count": 106,
     "metadata": {},
     "output_type": "execute_result"
    }
   ],
   "source": [
    "model = SGDClassifier()\n",
    "model.fit(cv_X_train, y_train)\n",
    "predictions  = model.predict(cv_X_test)\n",
    "predictions"
   ]
  },
  {
   "cell_type": "markdown",
   "metadata": {},
   "source": [
    "#### Evaluating the model on the test data. \n"
   ]
  },
  {
   "cell_type": "code",
   "execution_count": 121,
   "metadata": {},
   "outputs": [
    {
     "data": {
      "text/plain": [
       "array([[169,   2],\n",
       "       [ 10, 517]], dtype=int64)"
      ]
     },
     "execution_count": 121,
     "metadata": {},
     "output_type": "execute_result"
    }
   ],
   "source": [
    "from sklearn.metrics import accuracy_score, precision_score, recall_score, confusion_matrix\n",
    "\n",
    "confusion_m = confusion_matrix(predictions, y_test)\n",
    "confusion_m"
   ]
  },
  {
   "cell_type": "code",
   "execution_count": 122,
   "metadata": {},
   "outputs": [
    {
     "data": {
      "text/plain": [
       "0.9828080229226361"
      ]
     },
     "execution_count": 122,
     "metadata": {},
     "output_type": "execute_result"
    }
   ],
   "source": [
    "accuracy = accuracy_score(predictions, y_test)\n",
    "accuracy"
   ]
  }
 ],
 "metadata": {
  "colab": {
   "collapsed_sections": [],
   "name": "Challenge_ Day2.ipynb",
   "provenance": []
  },
  "kernelspec": {
   "display_name": "Python 3",
   "language": "python",
   "name": "python3"
  },
  "language_info": {
   "codemirror_mode": {
    "name": "ipython",
    "version": 3
   },
   "file_extension": ".py",
   "mimetype": "text/x-python",
   "name": "python",
   "nbconvert_exporter": "python",
   "pygments_lexer": "ipython3",
   "version": "3.8.5"
  }
 },
 "nbformat": 4,
 "nbformat_minor": 1
}
