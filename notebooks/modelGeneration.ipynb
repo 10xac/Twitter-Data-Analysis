{
 "cells": [
  {
   "cell_type": "markdown",
   "metadata": {},
   "source": [
    "## Sentiment Analyisis and Topic Modeling for Tweeter Data"
   ]
  },
  {
   "cell_type": "markdown",
   "metadata": {},
   "source": [
    "### Helper Functions"
   ]
  },
  {
   "cell_type": "markdown",
   "metadata": {},
   "source": [
    "#### A. Stemmer"
   ]
  },
  {
   "cell_type": "code",
   "execution_count": 2,
   "metadata": {},
   "outputs": [],
   "source": [
    "from nltk.stem import PorterStemmer"
   ]
  },
  {
   "cell_type": "code",
   "execution_count": 3,
   "metadata": {},
   "outputs": [],
   "source": [
    "stemmer = PorterStemmer()"
   ]
  },
  {
   "cell_type": "code",
   "execution_count": 4,
   "metadata": {},
   "outputs": [],
   "source": [
    "def get_stem_word(text: str) -> str:\n",
    "    \n",
    "    stemmed_words = []\n",
    "    sent_list = text.split()\n",
    "    \n",
    "    for word in sent_list:\n",
    "        try:\n",
    "            stemmed_words.append(stemmer.stem(word)) \n",
    "        except:\n",
    "             stemmed_words.append(word)\n",
    "    return ' '.join(stemmed_words)"
   ]
  },
  {
   "cell_type": "markdown",
   "metadata": {},
   "source": [
    "#### B. Reader"
   ]
  },
  {
   "cell_type": "code",
   "execution_count": 5,
   "metadata": {},
   "outputs": [],
   "source": [
    "# path for the cleaned data we are going to use\n",
    "CLEANED_SAVE_PATH = \"../cleaned_tweet_data.csv\""
   ]
  },
  {
   "cell_type": "code",
   "execution_count": 6,
   "metadata": {},
   "outputs": [],
   "source": [
    "# taking a csv file path and reading a dataframe\n",
    "\n",
    "def read_proccessed_data(csv_path: str):\n",
    "    try:    \n",
    "        df = pd.read_csv(csv_path)\n",
    "        print(\"file read as csv\")\n",
    "        return df\n",
    "    \n",
    "    except FileNotFoundError:\n",
    "        print(\"file not found\")"
   ]
  },
  {
   "cell_type": "markdown",
   "metadata": {},
   "source": [
    "### A. Sentiment Analyisis"
   ]
  },
  {
   "cell_type": "code",
   "execution_count": 7,
   "metadata": {},
   "outputs": [],
   "source": [
    "import pandas as pd\n",
    "from wordcloud import STOPWORDS,WordCloud"
   ]
  },
  {
   "cell_type": "code",
   "execution_count": 8,
   "metadata": {},
   "outputs": [
    {
     "name": "stdout",
     "output_type": "stream",
     "text": [
      "file read as csv\n"
     ]
    }
   ],
   "source": [
    "# reading the data\n",
    "\n",
    "df = read_proccessed_data(CLEANED_SAVE_PATH)"
   ]
  },
  {
   "cell_type": "code",
   "execution_count": 9,
   "metadata": {},
   "outputs": [
    {
     "name": "stdout",
     "output_type": "stream",
     "text": [
      "<class 'pandas.core.frame.DataFrame'>\n",
      "RangeIndex: 6532 entries, 0 to 6531\n",
      "Data columns (total 16 columns):\n",
      " #   Column              Non-Null Count  Dtype  \n",
      "---  ------              --------------  -----  \n",
      " 0   created_at          6532 non-null   object \n",
      " 1   source              6532 non-null   object \n",
      " 2   original_text       6532 non-null   object \n",
      " 3   polarity            6532 non-null   float64\n",
      " 4   subjectivity        6532 non-null   float64\n",
      " 5   lang                6532 non-null   object \n",
      " 6   favorite_count      6532 non-null   int64  \n",
      " 7   retweet_count       6532 non-null   float64\n",
      " 8   original_author     6532 non-null   object \n",
      " 9   followers_count     6532 non-null   int64  \n",
      " 10  friends_count       6532 non-null   int64  \n",
      " 11  possibly_sensitive  6532 non-null   float64\n",
      " 12  hashtags            3405 non-null   object \n",
      " 13  user_mentions       2721 non-null   object \n",
      " 14  place               6532 non-null   object \n",
      " 15  clean_text          6530 non-null   object \n",
      "dtypes: float64(4), int64(3), object(9)\n",
      "memory usage: 816.6+ KB\n"
     ]
    }
   ],
   "source": [
    "# inspecting the columns\n",
    "df.info()"
   ]
  },
  {
   "cell_type": "code",
   "execution_count": 10,
   "metadata": {},
   "outputs": [
    {
     "data": {
      "text/plain": [
       " 0.000000    1829\n",
       "-0.750000     501\n",
       " 0.500000     210\n",
       " 0.133333     202\n",
       " 0.337500     189\n",
       "             ... \n",
       " 0.518182       1\n",
       "-0.060000       1\n",
       " 0.096591       1\n",
       " 0.260000       1\n",
       "-0.292857       1\n",
       "Name: polarity, Length: 380, dtype: int64"
      ]
     },
     "execution_count": 10,
     "metadata": {},
     "output_type": "execute_result"
    }
   ],
   "source": [
    "# inspecting the polarity column\n",
    "df['polarity']\n",
    "df['polarity'].value_counts()\n"
   ]
  },
  {
   "cell_type": "code",
   "execution_count": 11,
   "metadata": {},
   "outputs": [
    {
     "name": "stdout",
     "output_type": "stream",
     "text": [
      "sum of null values in clean_text column: 2\n",
      "sum of null values in polarity cloumn: 0\n"
     ]
    }
   ],
   "source": [
    "# checking if there are null values\n",
    "text_null_sum = df['clean_text'].isnull().sum()\n",
    "polarity_null_sum = df['polarity'].isnull().sum()\n",
    "\n",
    "print(f'sum of null values in clean_text column: {text_null_sum}')\n",
    "print(f'sum of null values in polarity cloumn: {polarity_null_sum}')"
   ]
  },
  {
   "cell_type": "markdown",
   "metadata": {},
   "source": [
    "#### A.1 Data preparation for Sentiment Analysis\n",
    "\n"
   ]
  },
  {
   "cell_type": "code",
   "execution_count": 12,
   "metadata": {},
   "outputs": [],
   "source": [
    "# creating cleanedTweet dataframe\n",
    "cleanedTweet = pd.DataFrame(columns=['clean_text','polarity'])\n",
    "\n",
    "cleanedTweet['clean_text'] = df['clean_text']\n",
    "cleanedTweet['polarity'] = df['polarity']\n",
    "cleanedTweet.dropna(inplace=True)"
   ]
  },
  {
   "cell_type": "code",
   "execution_count": 13,
   "metadata": {},
   "outputs": [
    {
     "data": {
      "text/html": [
       "<div>\n",
       "<style scoped>\n",
       "    .dataframe tbody tr th:only-of-type {\n",
       "        vertical-align: middle;\n",
       "    }\n",
       "\n",
       "    .dataframe tbody tr th {\n",
       "        vertical-align: top;\n",
       "    }\n",
       "\n",
       "    .dataframe thead th {\n",
       "        text-align: right;\n",
       "    }\n",
       "</style>\n",
       "<table border=\"1\" class=\"dataframe\">\n",
       "  <thead>\n",
       "    <tr style=\"text-align: right;\">\n",
       "      <th></th>\n",
       "      <th>clean_text</th>\n",
       "      <th>polarity</th>\n",
       "    </tr>\n",
       "  </thead>\n",
       "  <tbody>\n",
       "    <tr>\n",
       "      <th>0</th>\n",
       "      <td>africa is \"in the midst of a full-blown third ...</td>\n",
       "      <td>0.166667</td>\n",
       "    </tr>\n",
       "    <tr>\n",
       "      <th>1</th>\n",
       "      <td>dr moeti is head of who in africa and one of t...</td>\n",
       "      <td>0.133333</td>\n",
       "    </tr>\n",
       "    <tr>\n",
       "      <th>2</th>\n",
       "      <td>thank you  for creating this amazing campaign ...</td>\n",
       "      <td>0.316667</td>\n",
       "    </tr>\n",
       "    <tr>\n",
       "      <th>3</th>\n",
       "      <td>former pfizer vp and virologist dr michael yea...</td>\n",
       "      <td>0.086111</td>\n",
       "    </tr>\n",
       "    <tr>\n",
       "      <th>4</th>\n",
       "      <td>i think it s important that we don t sell cova...</td>\n",
       "      <td>0.280000</td>\n",
       "    </tr>\n",
       "    <tr>\n",
       "      <th>...</th>\n",
       "      <td>...</td>\n",
       "      <td>...</td>\n",
       "    </tr>\n",
       "    <tr>\n",
       "      <th>6527</th>\n",
       "      <td>rt : zweli please just release the graphic des...</td>\n",
       "      <td>0.000000</td>\n",
       "    </tr>\n",
       "    <tr>\n",
       "      <th>6528</th>\n",
       "      <td>former pfizer vp and virologist dr michael yea...</td>\n",
       "      <td>0.086111</td>\n",
       "    </tr>\n",
       "    <tr>\n",
       "      <th>6529</th>\n",
       "      <td>respectfully veterinarians have to have a broa...</td>\n",
       "      <td>0.281250</td>\n",
       "    </tr>\n",
       "    <tr>\n",
       "      <th>6530</th>\n",
       "      <td>\"africa needs millions more doses here &amp;amp; n...</td>\n",
       "      <td>0.125000</td>\n",
       "    </tr>\n",
       "    <tr>\n",
       "      <th>6531</th>\n",
       "      <td>rt : liars you tried to load off your expired ...</td>\n",
       "      <td>0.000000</td>\n",
       "    </tr>\n",
       "  </tbody>\n",
       "</table>\n",
       "<p>6530 rows × 2 columns</p>\n",
       "</div>"
      ],
      "text/plain": [
       "                                             clean_text  polarity\n",
       "0     africa is \"in the midst of a full-blown third ...  0.166667\n",
       "1     dr moeti is head of who in africa and one of t...  0.133333\n",
       "2     thank you  for creating this amazing campaign ...  0.316667\n",
       "3     former pfizer vp and virologist dr michael yea...  0.086111\n",
       "4     i think it s important that we don t sell cova...  0.280000\n",
       "...                                                 ...       ...\n",
       "6527  rt : zweli please just release the graphic des...  0.000000\n",
       "6528  former pfizer vp and virologist dr michael yea...  0.086111\n",
       "6529  respectfully veterinarians have to have a broa...  0.281250\n",
       "6530  \"africa needs millions more doses here &amp; n...  0.125000\n",
       "6531  rt : liars you tried to load off your expired ...  0.000000\n",
       "\n",
       "[6530 rows x 2 columns]"
      ]
     },
     "execution_count": 13,
     "metadata": {},
     "output_type": "execute_result"
    }
   ],
   "source": [
    "cleanedTweet"
   ]
  },
  {
   "cell_type": "code",
   "execution_count": 14,
   "metadata": {},
   "outputs": [],
   "source": [
    "# takes polarity and returns a string either postive, negative or neutral\n",
    "\n",
    "def text_category(p: float) -> str:\n",
    "    if p > 0:\n",
    "        return \"positive\"\n",
    "    elif p == 0:\n",
    "        return \"neutral\"\n",
    "    else:\n",
    "        return \"negative\""
   ]
  },
  {
   "cell_type": "code",
   "execution_count": 15,
   "metadata": {},
   "outputs": [
    {
     "data": {
      "text/plain": [
       "positive    3426\n",
       "neutral     1827\n",
       "negative    1277\n",
       "Name: score, dtype: int64"
      ]
     },
     "execution_count": 15,
     "metadata": {},
     "output_type": "execute_result"
    }
   ],
   "source": [
    "# creating score column by applying text_category\n",
    "cleanedTweet['score'] = cleanedTweet['polarity'].apply(text_category)\n",
    "cleanedTweet['score'].value_counts()"
   ]
  },
  {
   "cell_type": "markdown",
   "metadata": {},
   "source": [
    "#### A.2 Looking into the prepared data for sentiment analysis"
   ]
  },
  {
   "cell_type": "code",
   "execution_count": 16,
   "metadata": {},
   "outputs": [],
   "source": [
    "\n",
    "from sklearn.feature_extraction.text import CountVectorizer, TfidfTransformer\n",
    "from joblib import dump, load # used for saving and loading sklearn objects\n",
    "from scipy.sparse import save_npz, load_npz # used for saving and loading sparse matrices\n",
    "from sklearn.decomposition import NMF, LatentDirichletAllocation\n",
    "from sklearn.linear_model import SGDClassifier\n",
    "from sklearn.model_selection import train_test_split"
   ]
  },
  {
   "cell_type": "code",
   "execution_count": 17,
   "metadata": {},
   "outputs": [
    {
     "data": {
      "text/plain": [
       "<AxesSubplot:title={'center':'score'}>"
      ]
     },
     "execution_count": 17,
     "metadata": {},
     "output_type": "execute_result"
    },
    {
     "data": {
      "image/png": "[encoded data removed]",
      "text/plain": [
       "<Figure size 576x576 with 1 Axes>"
      ]
     },
     "metadata": {
      "needs_background": "light"
     },
     "output_type": "display_data"
    }
   ],
   "source": [
    "# Grouping the scores and plotting bar graph\n",
    "score_count =  cleanedTweet['score'].value_counts()\n",
    "score_count.plot(kind=\"bar\", y=\"score\", title=\"score\", figsize=[8, 8])"
   ]
  },
  {
   "cell_type": "code",
   "execution_count": 18,
   "metadata": {},
   "outputs": [
    {
     "data": {
      "text/plain": [
       "<AxesSubplot:title={'center':'score'}, ylabel='score'>"
      ]
     },
     "execution_count": 18,
     "metadata": {},
     "output_type": "execute_result"
    },
    {
     "data": {
      "image/png": "[encoded data removed]",
      "text/plain": [
       "<Figure size 576x576 with 1 Axes>"
      ]
     },
     "metadata": {},
     "output_type": "display_data"
    }
   ],
   "source": [
    "score_count.plot(kind=\"pie\", y=\"score\", title=\"score\", x=\"\", figsize=[8, 8])\n"
   ]
  },
  {
   "cell_type": "code",
   "execution_count": 19,
   "metadata": {},
   "outputs": [],
   "source": [
    "# takes a string and returns if a value is \"neutral\"\n",
    "def remove_neutral(value):\n",
    "    return value != \"neutral\""
   ]
  },
  {
   "cell_type": "code",
   "execution_count": 20,
   "metadata": {},
   "outputs": [
    {
     "name": "stderr",
     "output_type": "stream",
     "text": [
      "<ipython-input-20-6621b22335ef>:6: SettingWithCopyWarning: \n",
      "A value is trying to be set on a copy of a slice from a DataFrame.\n",
      "Try using .loc[row_indexer,col_indexer] = value instead\n",
      "\n",
      "See the caveats in the documentation: https://pandas.pydata.org/pandas-docs/stable/user_guide/indexing.html#returning-a-view-versus-a-copy\n",
      "  cleanedTweet['score_map'] = cleanedTweet[\"score\"].map( lambda score: 1 if score == \"positive\" else 0)\n"
     ]
    }
   ],
   "source": [
    "# creating score_map column\n",
    "# we remove all rows that have neutral score\n",
    "# then create a score_map. if score is \"positive\" it has value 1 else 0\n",
    "\n",
    "cleanedTweet = cleanedTweet[cleanedTweet['score'].map(remove_neutral)]\n",
    "cleanedTweet['score_map'] = cleanedTweet[\"score\"].map( lambda score: 1 if score == \"positive\" else 0)\n"
   ]
  },
  {
   "cell_type": "code",
   "execution_count": 21,
   "metadata": {},
   "outputs": [
    {
     "name": "stderr",
     "output_type": "stream",
     "text": [
      "<ipython-input-21-c0833608cef5>:2: SettingWithCopyWarning: \n",
      "A value is trying to be set on a copy of a slice from a DataFrame.\n",
      "Try using .loc[row_indexer,col_indexer] = value instead\n",
      "\n",
      "See the caveats in the documentation: https://pandas.pydata.org/pandas-docs/stable/user_guide/indexing.html#returning-a-view-versus-a-copy\n",
      "  cleanedTweet['clean_text'] = cleanedTweet['clean_text'].apply(get_stem_word)\n"
     ]
    }
   ],
   "source": [
    "# transforming clean_tex bygetting the root word of clean_text words using Stemming\n",
    "cleanedTweet['clean_text'] = cleanedTweet['clean_text'].apply(get_stem_word)\n"
   ]
  },
  {
   "cell_type": "code",
   "execution_count": 22,
   "metadata": {},
   "outputs": [],
   "source": [
    "# separating our input and output\n",
    "(X, y) = cleanedTweet['clean_text'], cleanedTweet['score_map']"
   ]
  },
  {
   "cell_type": "code",
   "execution_count": 23,
   "metadata": {},
   "outputs": [
    {
     "data": {
      "text/plain": [
       "CountVectorizer(ngram_range=(1, 3))"
      ]
     },
     "execution_count": 23,
     "metadata": {},
     "output_type": "execute_result"
    }
   ],
   "source": [
    "# creating CountVectorizer and fitting it\n",
    "trigram_vectorizer = CountVectorizer(ngram_range=(1, 3))\n",
    "trigram_vectorizer.fit(X.values)\n"
   ]
  },
  {
   "cell_type": "code",
   "execution_count": 24,
   "metadata": {},
   "outputs": [],
   "source": [
    "# creating a tri_gram Vector representation for X\n",
    "X_trigram = trigram_vectorizer.transform(X.values)"
   ]
  },
  {
   "cell_type": "code",
   "execution_count": 25,
   "metadata": {},
   "outputs": [
    {
     "data": {
      "text/plain": [
       "TfidfTransformer()"
      ]
     },
     "execution_count": 25,
     "metadata": {},
     "output_type": "execute_result"
    }
   ],
   "source": [
    "# creating a trigram tfidf transformer\n",
    "trigram_tf_idf_transformer = TfidfTransformer()\n",
    "trigram_tf_idf_transformer.fit(X_trigram)"
   ]
  },
  {
   "cell_type": "code",
   "execution_count": 26,
   "metadata": {},
   "outputs": [],
   "source": [
    "# creating a tfidf representation of x\n",
    "X_train_tf_idf = trigram_tf_idf_transformer.transform(X_trigram)"
   ]
  },
  {
   "cell_type": "markdown",
   "metadata": {},
   "source": [
    "#### A.3 Model Training for sentiment analysis"
   ]
  },
  {
   "cell_type": "code",
   "execution_count": 27,
   "metadata": {},
   "outputs": [],
   "source": [
    "# takes input as X, and ouput as Y, title of model as title\n",
    "# split the input to train and valid\n",
    "# use Stochastic Gradient Descent Classifier\n",
    "# train\n",
    "# out put the training score and validation score\n",
    "def train_and_show_scores(X, y, title: str) -> None:\n",
    "    X_train, X_valid, y_train, y_valid = train_test_split(\n",
    "        X, y, train_size=0.75, stratify=y\n",
    "    )\n",
    "\n",
    "    clf = SGDClassifier()\n",
    "    clf.fit(X_train, y_train)\n",
    "    train_score = clf.score(X_train, y_train)\n",
    "    valid_score = clf.score(X_valid, y_valid)\n",
    "    print(f'{title}\\nTrain score: {round(train_score, 2)} ; Validation score: {round(valid_score, 2)}\\n')"
   ]
  },
  {
   "cell_type": "code",
   "execution_count": 28,
   "metadata": {},
   "outputs": [
    {
     "name": "stdout",
     "output_type": "stream",
     "text": [
      "trigram\n",
      "Train score: 1.0 ; Validation score: 0.96\n",
      "\n"
     ]
    }
   ],
   "source": [
    "# train using inputs vectorized as trigram\n",
    "\n",
    "train_and_show_scores(X_trigram, y, title=\"trigram\")"
   ]
  },
  {
   "cell_type": "code",
   "execution_count": 29,
   "metadata": {},
   "outputs": [
    {
     "name": "stdout",
     "output_type": "stream",
     "text": [
      "trigram_tf_idf\n",
      "Train score: 1.0 ; Validation score: 0.96\n",
      "\n"
     ]
    }
   ],
   "source": [
    "# train using inputs vectorized as trigram_tfidf\n",
    "\n",
    "\n",
    "train_and_show_scores(X_train_tf_idf, y, title=\"trigram_tf_idf\")"
   ]
  },
  {
   "cell_type": "code",
   "execution_count": null,
   "metadata": {},
   "outputs": [],
   "source": []
  },
  {
   "cell_type": "code",
   "execution_count": null,
   "metadata": {},
   "outputs": [],
   "source": []
  },
  {
   "cell_type": "code",
   "execution_count": null,
   "metadata": {},
   "outputs": [],
   "source": []
  },
  {
   "cell_type": "markdown",
   "metadata": {},
   "source": [
    "### B. Topic Modeling"
   ]
  },
  {
   "cell_type": "code",
   "execution_count": 30,
   "metadata": {},
   "outputs": [],
   "source": [
    "# !pip3 install gensim"
   ]
  },
  {
   "cell_type": "code",
   "execution_count": 31,
   "metadata": {},
   "outputs": [
    {
     "name": "stderr",
     "output_type": "stream",
     "text": [
      "/Library/Frameworks/Python.framework/Versions/3.9/lib/python3.9/site-packages/gensim/similarities/__init__.py:15: UserWarning: The gensim.similarities.levenshtein submodule is disabled, because the optional Levenshtein package <https://pypi.org/project/python-Levenshtein/> is unavailable. Install Levenhstein (e.g. `pip install python-Levenshtein`) to suppress this warning.\n",
      "  warnings.warn(msg)\n"
     ]
    },
    {
     "ename": "ModuleNotFoundError",
     "evalue": "No module named 'pyLDAvis'",
     "output_type": "error",
     "traceback": [
      "\u001b[0;31m---------------------------------------------------------------------------\u001b[0m",
      "\u001b[0;31mModuleNotFoundError\u001b[0m                       Traceback (most recent call last)",
      "\u001b[0;32m<ipython-input-31-fc9360c36d2d>\u001b[0m in \u001b[0;36m<module>\u001b[0;34m\u001b[0m\n\u001b[1;32m      6\u001b[0m \u001b[0;32mfrom\u001b[0m \u001b[0mgensim\u001b[0m \u001b[0;32mimport\u001b[0m \u001b[0mcorpora\u001b[0m\u001b[0;34m\u001b[0m\u001b[0;34m\u001b[0m\u001b[0m\n\u001b[1;32m      7\u001b[0m \u001b[0;32mfrom\u001b[0m \u001b[0mpprint\u001b[0m \u001b[0;32mimport\u001b[0m \u001b[0mpprint\u001b[0m\u001b[0;34m\u001b[0m\u001b[0;34m\u001b[0m\u001b[0m\n\u001b[0;32m----> 8\u001b[0;31m \u001b[0;32mimport\u001b[0m \u001b[0mpyLDAvis\u001b[0m\u001b[0;34m\u001b[0m\u001b[0;34m\u001b[0m\u001b[0m\n\u001b[0m\u001b[1;32m      9\u001b[0m \u001b[0;32mimport\u001b[0m \u001b[0mpyLDAvis\u001b[0m\u001b[0;34m.\u001b[0m\u001b[0mgensim_models\u001b[0m\u001b[0;34m\u001b[0m\u001b[0;34m\u001b[0m\u001b[0m\n\u001b[1;32m     10\u001b[0m \u001b[0;34m\u001b[0m\u001b[0m\n",
      "\u001b[0;31mModuleNotFoundError\u001b[0m: No module named 'pyLDAvis'"
     ]
    }
   ],
   "source": [
    "# importing packages\n",
    "\n",
    "import string\n",
    "import gensim\n",
    "from gensim.models import CoherenceModel\n",
    "from gensim import corpora\n",
    "from pprint import pprint\n",
    "import pyLDAvis\n",
    "import pyLDAvis.gensim_models\n",
    "\n",
    "\n",
    "\n",
    "\n"
   ]
  },
  {
   "cell_type": "code",
   "execution_count": 32,
   "metadata": {},
   "outputs": [],
   "source": [
    "# function that takes a string and remove stop words\n",
    "\n",
    "def remove_stopwords(sent: str) -> str:\n",
    "    sent_list = sent.split()\n",
    "    return ' '.join([word for word in sent_list if word not in STOPWORDS])"
   ]
  },
  {
   "cell_type": "code",
   "execution_count": 33,
   "metadata": {},
   "outputs": [],
   "source": [
    "'''\n",
    "    This is a topic model generator\n",
    "'''\n",
    "\n",
    "\n",
    "class TopicModel:\n",
    "    \n",
    "    # Topic model instance takes a cleaned tweet data frame and number of topics\n",
    "    def __init__(self, tweet_df: pd.DataFrame, num_of_topics: int, do_stemming = False):\n",
    "        self.df = tweet_df\n",
    "        self.num_of_topics = num_of_topics\n",
    "        self.do_stemming = do_stemming\n",
    "    \n",
    "    # extract the data of the clean_text only\n",
    "    def extract_text_df(self):\n",
    "        self.df = pd.DataFrame(self.df['clean_text']) \n",
    "        \n",
    "        return self.df\n",
    "    \n",
    "    \n",
    "    # removing stop words from for our clean_text\n",
    "    # removing panctuations\n",
    "    \n",
    "    def further_pre_process(self):\n",
    "        \n",
    "        self.df['clean_text']= df['clean_text'].apply(lambda x: str(x).translate(str.maketrans(' ', ' ', string.punctuation))) \n",
    "        \n",
    "        self.df['clean_text'] = self.df['clean_text'].apply(remove_stopwords)\n",
    "        \n",
    "        return self.df\n",
    "    \n",
    "    # preparing inputs to be trained\n",
    "    # creating a sentence list from the clean_text column\n",
    "    # getting root word by stemming sentences if stemming is True\n",
    "    # changing each sentence into a list of words\n",
    "    # creating a mapping from word to int\n",
    "    # representing the sentences using the word id mapping\n",
    "    def prepare_inputs(self, stemming=False):\n",
    "        \n",
    "        df = self.extract_text_df()\n",
    "        df = self.further_pre_process()\n",
    "        \n",
    "        sentence_list = [text for text in self.df['clean_text']]\n",
    "        \n",
    "        if (stemming):      \n",
    "            sentence_list = [get_stem_word(sentence) for sentence in sentence_list]\n",
    "        \n",
    "        word_list = [sent.split() for sent in sentence_list]\n",
    "        word_to_int = corpora.Dictionary(word_list)\n",
    "        \n",
    "        corpus = [word_to_int.doc2bow(tweet) for tweet in word_list]\n",
    "        \n",
    "        return word_list, word_to_int, corpus\n",
    "    \n",
    "    \n",
    "    # function that returns LDA_result to be visulazied\n",
    "    def lda_prepared(self, lda_model, corpus,  word_list):\n",
    "        pyLDAvis.enable_notebook()\n",
    "        LDAvis_prepared = pyLDAvis.gensim_models.prepare(lda_model, corpus, word_list)\n",
    "        return LDAvis_prepared\n",
    "        \n",
    "    \n",
    "    # building the model\n",
    "    # returns lda model and lda_model result to be visulazied\n",
    "            \n",
    "    def build(self, show_print=False):\n",
    "        word_list, word_to_int, corpus = self.prepare_inputs(self.do_stemming)\n",
    "        \n",
    "        lda_model = gensim.models.ldamodel.LdaModel(\n",
    "            corpus, id2word=word_to_int,num_topics=self.num_of_topics, \n",
    "            random_state=100, update_every=1, \n",
    "            chunksize=100, passes=10, alpha='auto',\n",
    "            per_word_topics=True\n",
    "        )\n",
    "        \n",
    "        lda_prepared = self.lda_prepared(lda_model, corpus, word_to_int)\n",
    "        \n",
    "        \n",
    "        if show_print:\n",
    "            pprint(lda_model.print_topics())\n",
    "        \n",
    "        return lda_model, lda_prepared\n",
    "    \n",
    "        \n",
    "        "
   ]
  },
  {
   "cell_type": "markdown",
   "metadata": {},
   "source": [
    "#### B.1 Topic Model building"
   ]
  },
  {
   "cell_type": "code",
   "execution_count": 34,
   "metadata": {},
   "outputs": [
    {
     "name": "stdout",
     "output_type": "stream",
     "text": [
      "file read as csv\n"
     ]
    },
    {
     "ename": "NameError",
     "evalue": "name 'pyLDAvis' is not defined",
     "output_type": "error",
     "traceback": [
      "\u001b[0;31m---------------------------------------------------------------------------\u001b[0m",
      "\u001b[0;31mNameError\u001b[0m                                 Traceback (most recent call last)",
      "\u001b[0;32m<ipython-input-34-dccdb31bac73>\u001b[0m in \u001b[0;36m<module>\u001b[0;34m\u001b[0m\n\u001b[1;32m      6\u001b[0m \u001b[0;34m\u001b[0m\u001b[0m\n\u001b[1;32m      7\u001b[0m \u001b[0;31m# model building\u001b[0m\u001b[0;34m\u001b[0m\u001b[0;34m\u001b[0m\u001b[0;34m\u001b[0m\u001b[0m\n\u001b[0;32m----> 8\u001b[0;31m \u001b[0mlda_model\u001b[0m\u001b[0;34m,\u001b[0m \u001b[0mlda_prepared\u001b[0m \u001b[0;34m=\u001b[0m\u001b[0mtm\u001b[0m\u001b[0;34m.\u001b[0m\u001b[0mbuild\u001b[0m\u001b[0;34m(\u001b[0m\u001b[0mshow_print\u001b[0m\u001b[0;34m=\u001b[0m\u001b[0;32mTrue\u001b[0m\u001b[0;34m)\u001b[0m\u001b[0;34m\u001b[0m\u001b[0;34m\u001b[0m\u001b[0m\n\u001b[0m",
      "\u001b[0;32m<ipython-input-33-826d3b0b9f3f>\u001b[0m in \u001b[0;36mbuild\u001b[0;34m(self, show_print)\u001b[0m\n\u001b[1;32m     74\u001b[0m         )\n\u001b[1;32m     75\u001b[0m \u001b[0;34m\u001b[0m\u001b[0m\n\u001b[0;32m---> 76\u001b[0;31m         \u001b[0mlda_prepared\u001b[0m \u001b[0;34m=\u001b[0m \u001b[0mself\u001b[0m\u001b[0;34m.\u001b[0m\u001b[0mlda_prepared\u001b[0m\u001b[0;34m(\u001b[0m\u001b[0mlda_model\u001b[0m\u001b[0;34m,\u001b[0m \u001b[0mcorpus\u001b[0m\u001b[0;34m,\u001b[0m \u001b[0mword_to_int\u001b[0m\u001b[0;34m)\u001b[0m\u001b[0;34m\u001b[0m\u001b[0;34m\u001b[0m\u001b[0m\n\u001b[0m\u001b[1;32m     77\u001b[0m \u001b[0;34m\u001b[0m\u001b[0m\n\u001b[1;32m     78\u001b[0m \u001b[0;34m\u001b[0m\u001b[0m\n",
      "\u001b[0;32m<ipython-input-33-826d3b0b9f3f>\u001b[0m in \u001b[0;36mlda_prepared\u001b[0;34m(self, lda_model, corpus, word_list)\u001b[0m\n\u001b[1;32m     56\u001b[0m     \u001b[0;31m# function that returns LDA_result to be visulazied\u001b[0m\u001b[0;34m\u001b[0m\u001b[0;34m\u001b[0m\u001b[0;34m\u001b[0m\u001b[0m\n\u001b[1;32m     57\u001b[0m     \u001b[0;32mdef\u001b[0m \u001b[0mlda_prepared\u001b[0m\u001b[0;34m(\u001b[0m\u001b[0mself\u001b[0m\u001b[0;34m,\u001b[0m \u001b[0mlda_model\u001b[0m\u001b[0;34m,\u001b[0m \u001b[0mcorpus\u001b[0m\u001b[0;34m,\u001b[0m  \u001b[0mword_list\u001b[0m\u001b[0;34m)\u001b[0m\u001b[0;34m:\u001b[0m\u001b[0;34m\u001b[0m\u001b[0;34m\u001b[0m\u001b[0m\n\u001b[0;32m---> 58\u001b[0;31m         \u001b[0mpyLDAvis\u001b[0m\u001b[0;34m.\u001b[0m\u001b[0menable_notebook\u001b[0m\u001b[0;34m(\u001b[0m\u001b[0;34m)\u001b[0m\u001b[0;34m\u001b[0m\u001b[0;34m\u001b[0m\u001b[0m\n\u001b[0m\u001b[1;32m     59\u001b[0m         \u001b[0mLDAvis_prepared\u001b[0m \u001b[0;34m=\u001b[0m \u001b[0mpyLDAvis\u001b[0m\u001b[0;34m.\u001b[0m\u001b[0mgensim_models\u001b[0m\u001b[0;34m.\u001b[0m\u001b[0mprepare\u001b[0m\u001b[0;34m(\u001b[0m\u001b[0mlda_model\u001b[0m\u001b[0;34m,\u001b[0m \u001b[0mcorpus\u001b[0m\u001b[0;34m,\u001b[0m \u001b[0mword_list\u001b[0m\u001b[0;34m)\u001b[0m\u001b[0;34m\u001b[0m\u001b[0;34m\u001b[0m\u001b[0m\n\u001b[1;32m     60\u001b[0m         \u001b[0;32mreturn\u001b[0m \u001b[0mLDAvis_prepared\u001b[0m\u001b[0;34m\u001b[0m\u001b[0;34m\u001b[0m\u001b[0m\n",
      "\u001b[0;31mNameError\u001b[0m: name 'pyLDAvis' is not defined"
     ]
    }
   ],
   "source": [
    "# reading the cleaned data\n",
    "df = read_proccessed_data(CLEANED_SAVE_PATH)\n",
    "\n",
    "# creating an instance of topic model generator\n",
    "tm = TopicModel(df, 8)\n",
    "\n",
    "# model building\n",
    "lda_model, lda_prepared =tm.build(show_print=True)"
   ]
  },
  {
   "cell_type": "code",
   "execution_count": null,
   "metadata": {},
   "outputs": [],
   "source": [
    "lda_prepared"
   ]
  },
  {
   "cell_type": "code",
   "execution_count": null,
   "metadata": {},
   "outputs": [],
   "source": []
  }
 ],
 "metadata": {
  "kernelspec": {
   "display_name": "Python 3",
   "language": "python",
   "name": "python3"
  },
  "language_info": {
   "codemirror_mode": {
    "name": "ipython",
    "version": 3
   },
   "file_extension": ".py",
   "mimetype": "text/x-python",
   "name": "python",
   "nbconvert_exporter": "python",
   "pygments_lexer": "ipython3",
   "version": "3.9.4"
  }
 },
 "nbformat": 4,
 "nbformat_minor": 4
}
