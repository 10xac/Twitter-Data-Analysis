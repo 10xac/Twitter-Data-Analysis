{
 "cells": [
  {
   "cell_type": "code",
   "execution_count": 27,
   "metadata": {},
   "outputs": [
    {
     "name": "stderr",
     "output_type": "stream",
     "text": [
      "[nltk_data] Downloading package vader_lexicon to\n",
      "[nltk_data]     /home/abreham/nltk_data...\n",
      "[nltk_data]   Package vader_lexicon is already up-to-date!\n"
     ]
    }
   ],
   "source": [
    "import pandas as pd\n",
    "import nltk\n",
    "nltk.download('vader_lexicon')\n",
    "from nltk.sentiment.vader import SentimentIntensityAnalyzer\n",
    "import matplotlib.pyplot as plt\n",
    "from wordcloud import WordCloud, STOPWORDS\n",
    "\n",
    "\n"
   ]
  },
  {
   "cell_type": "code",
   "execution_count": 28,
   "metadata": {},
   "outputs": [],
   "source": [
    "df = pd.read_pickle('corpus.pkl')"
   ]
  },
  {
   "cell_type": "code",
   "execution_count": 29,
   "metadata": {},
   "outputs": [
    {
     "data": {
      "text/html": [
       "<div>\n",
       "<style scoped>\n",
       "    .dataframe tbody tr th:only-of-type {\n",
       "        vertical-align: middle;\n",
       "    }\n",
       "\n",
       "    .dataframe tbody tr th {\n",
       "        vertical-align: top;\n",
       "    }\n",
       "\n",
       "    .dataframe thead th {\n",
       "        text-align: right;\n",
       "    }\n",
       "</style>\n",
       "<table border=\"1\" class=\"dataframe\">\n",
       "  <thead>\n",
       "    <tr style=\"text-align: right;\">\n",
       "      <th></th>\n",
       "      <th>clean_text</th>\n",
       "      <th>subjectivity</th>\n",
       "      <th>polarity</th>\n",
       "    </tr>\n",
       "  </thead>\n",
       "  <tbody>\n",
       "    <tr>\n",
       "      <th>0</th>\n",
       "      <td>northstarcharts the yield is telling us that t...</td>\n",
       "      <td>0.540000</td>\n",
       "      <td>0.16</td>\n",
       "    </tr>\n",
       "    <tr>\n",
       "      <th>1</th>\n",
       "      <td>michaelaarouet german mortgage rate went from ...</td>\n",
       "      <td>0.175000</td>\n",
       "      <td>NaN</td>\n",
       "    </tr>\n",
       "    <tr>\n",
       "      <th>2</th>\n",
       "      <td>goldseek when</td>\n",
       "      <td>0.000000</td>\n",
       "      <td>0.00</td>\n",
       "    </tr>\n",
       "    <tr>\n",
       "      <th>3</th>\n",
       "      <td>charliebilello the mortgage rate in the us ris...</td>\n",
       "      <td>0.183333</td>\n",
       "      <td>0.00</td>\n",
       "    </tr>\n",
       "    <tr>\n",
       "      <th>4</th>\n",
       "      <td>biancoresearch rates rise until something brea...</td>\n",
       "      <td>0.400000</td>\n",
       "      <td>-0.40</td>\n",
       "    </tr>\n",
       "  </tbody>\n",
       "</table>\n",
       "</div>"
      ],
      "text/plain": [
       "                                          clean_text  subjectivity  polarity\n",
       "0  northstarcharts the yield is telling us that t...      0.540000      0.16\n",
       "1  michaelaarouet german mortgage rate went from ...      0.175000       NaN\n",
       "2                                      goldseek when      0.000000      0.00\n",
       "3  charliebilello the mortgage rate in the us ris...      0.183333      0.00\n",
       "4  biancoresearch rates rise until something brea...      0.400000     -0.40"
      ]
     },
     "execution_count": 29,
     "metadata": {},
     "output_type": "execute_result"
    }
   ],
   "source": [
    "df.head()"
   ]
  },
  {
   "cell_type": "code",
   "execution_count": 32,
   "metadata": {},
   "outputs": [
    {
     "data": {
      "text/html": [
       "<div>\n",
       "<style scoped>\n",
       "    .dataframe tbody tr th:only-of-type {\n",
       "        vertical-align: middle;\n",
       "    }\n",
       "\n",
       "    .dataframe tbody tr th {\n",
       "        vertical-align: top;\n",
       "    }\n",
       "\n",
       "    .dataframe thead th {\n",
       "        text-align: right;\n",
       "    }\n",
       "</style>\n",
       "<table border=\"1\" class=\"dataframe\">\n",
       "  <thead>\n",
       "    <tr style=\"text-align: right;\">\n",
       "      <th></th>\n",
       "      <th>clean_text</th>\n",
       "      <th>subjectivity</th>\n",
       "      <th>polarity</th>\n",
       "      <th>sentiment</th>\n",
       "      <th>neg</th>\n",
       "      <th>neu</th>\n",
       "      <th>pos</th>\n",
       "    </tr>\n",
       "  </thead>\n",
       "  <tbody>\n",
       "    <tr>\n",
       "      <th>0</th>\n",
       "      <td>northstarcharts the yield is telling us that t...</td>\n",
       "      <td>0.540000</td>\n",
       "      <td>0.160000</td>\n",
       "      <td>negative</td>\n",
       "      <td>0.104</td>\n",
       "      <td>0.896</td>\n",
       "      <td>0.000</td>\n",
       "    </tr>\n",
       "    <tr>\n",
       "      <th>1</th>\n",
       "      <td>michaelaarouet german mortgage rate went from ...</td>\n",
       "      <td>0.175000</td>\n",
       "      <td>NaN</td>\n",
       "      <td>neutral</td>\n",
       "      <td>0.000</td>\n",
       "      <td>1.000</td>\n",
       "      <td>0.000</td>\n",
       "    </tr>\n",
       "    <tr>\n",
       "      <th>2</th>\n",
       "      <td>goldseek when</td>\n",
       "      <td>0.000000</td>\n",
       "      <td>0.000000</td>\n",
       "      <td>neutral</td>\n",
       "      <td>0.000</td>\n",
       "      <td>1.000</td>\n",
       "      <td>0.000</td>\n",
       "    </tr>\n",
       "    <tr>\n",
       "      <th>3</th>\n",
       "      <td>charliebilello the mortgage rate in the us ris...</td>\n",
       "      <td>0.183333</td>\n",
       "      <td>0.000000</td>\n",
       "      <td>negative</td>\n",
       "      <td>0.095</td>\n",
       "      <td>0.905</td>\n",
       "      <td>0.000</td>\n",
       "    </tr>\n",
       "    <tr>\n",
       "      <th>4</th>\n",
       "      <td>biancoresearch rates rise until something brea...</td>\n",
       "      <td>0.400000</td>\n",
       "      <td>-0.400000</td>\n",
       "      <td>negative</td>\n",
       "      <td>0.256</td>\n",
       "      <td>0.744</td>\n",
       "      <td>0.000</td>\n",
       "    </tr>\n",
       "    <tr>\n",
       "      <th>5</th>\n",
       "      <td>lanceroberts buying opportunities like this on...</td>\n",
       "      <td>0.550000</td>\n",
       "      <td>-0.100000</td>\n",
       "      <td>positive</td>\n",
       "      <td>0.000</td>\n",
       "      <td>0.662</td>\n",
       "      <td>0.338</td>\n",
       "    </tr>\n",
       "    <tr>\n",
       "      <th>6</th>\n",
       "      <td>macroalf welcome to september\\nbond markets te...</td>\n",
       "      <td>0.637500</td>\n",
       "      <td>0.400000</td>\n",
       "      <td>positive</td>\n",
       "      <td>0.088</td>\n",
       "      <td>0.714</td>\n",
       "      <td>0.197</td>\n",
       "    </tr>\n",
       "    <tr>\n",
       "      <th>7</th>\n",
       "      <td>botbenfranklin the horse thinks one thing and ...</td>\n",
       "      <td>0.000000</td>\n",
       "      <td>0.000000</td>\n",
       "      <td>neutral</td>\n",
       "      <td>0.000</td>\n",
       "      <td>1.000</td>\n",
       "      <td>0.000</td>\n",
       "    </tr>\n",
       "    <tr>\n",
       "      <th>8</th>\n",
       "      <td>galactictrader global growth optimism at all t...</td>\n",
       "      <td>0.250000</td>\n",
       "      <td>0.488281</td>\n",
       "      <td>positive</td>\n",
       "      <td>0.072</td>\n",
       "      <td>0.683</td>\n",
       "      <td>0.245</td>\n",
       "    </tr>\n",
       "    <tr>\n",
       "      <th>9</th>\n",
       "      <td>andreassteno this is the most important chart ...</td>\n",
       "      <td>0.750000</td>\n",
       "      <td>0.450000</td>\n",
       "      <td>negative</td>\n",
       "      <td>0.125</td>\n",
       "      <td>0.789</td>\n",
       "      <td>0.087</td>\n",
       "    </tr>\n",
       "  </tbody>\n",
       "</table>\n",
       "</div>"
      ],
      "text/plain": [
       "                                          clean_text  ...    pos\n",
       "0  northstarcharts the yield is telling us that t...  ...  0.000\n",
       "1  michaelaarouet german mortgage rate went from ...  ...  0.000\n",
       "2                                      goldseek when  ...  0.000\n",
       "3  charliebilello the mortgage rate in the us ris...  ...  0.000\n",
       "4  biancoresearch rates rise until something brea...  ...  0.000\n",
       "5  lanceroberts buying opportunities like this on...  ...  0.338\n",
       "6  macroalf welcome to september\\nbond markets te...  ...  0.197\n",
       "7  botbenfranklin the horse thinks one thing and ...  ...  0.000\n",
       "8  galactictrader global growth optimism at all t...  ...  0.245\n",
       "9  andreassteno this is the most important chart ...  ...  0.087\n",
       "\n",
       "[10 rows x 7 columns]"
      ]
     },
     "execution_count": 32,
     "metadata": {},
     "output_type": "execute_result"
    }
   ],
   "source": [
    "for index, row in df['clean_text'].iteritems():\n",
    "    score = SentimentIntensityAnalyzer().polarity_scores(row)\n",
    "    if score['neg'] > score['pos']:\n",
    "        df.loc[index, \"sentiment\"] = \"negative\"\n",
    "    elif score['pos'] > score['neg']:\n",
    "        df.loc[index, \"sentiment\"] = \"positive\"\n",
    "    else:\n",
    "        df.loc[index, \"sentiment\"] = \"neutral\"\n",
    "        \n",
    "    df.loc[index, 'neg'] = score['neg']\n",
    "    df.loc[index, 'neu'] = score['neu']\n",
    "    df.loc[index, 'pos'] = score['pos']\n",
    "    \n",
    "df.head(10)"
   ]
  },
  {
   "cell_type": "code",
   "execution_count": 18,
   "metadata": {},
   "outputs": [
    {
     "name": "stdout",
     "output_type": "stream",
     "text": [
      "positive: 6707 41.0%\n",
      "negative: 3977 24.3%\n",
      "neutral: 5683 34.7%\n"
     ]
    }
   ],
   "source": [
    "tweet_neg = df[df[\"sentiment\"] == \"negative\"]\n",
    "tweet_neu = df[df[\"sentiment\"] == \"neutral\"]\n",
    "tweet_pos = df[df[\"sentiment\"] == \"positive\"]\n",
    "#function for calculating the percentage of all the sentiments\n",
    "def calc_percentage(x,y):\n",
    "    return x/y * 100\n",
    "pos_per = calc_percentage(len(tweet_pos), len(df))\n",
    "neg_per = calc_percentage(len(tweet_neg), len(df))\n",
    "neu_per = calc_percentage(len(tweet_neu), len(df))\n",
    "\n",
    "\n",
    "print(\"positive: {} {}%\".format(len(tweet_pos),  format(pos_per, '.1f')))\n",
    "print(\"negative: {} {}%\".format(len(tweet_neg), format(neg_per, '.1f')))\n",
    "print(\"neutral: {} {}%\".format(len(tweet_neu), format(neu_per, '.1f')))"
   ]
  },
  {
   "cell_type": "code",
   "execution_count": 20,
   "metadata": {},
   "outputs": [
    {
     "data": {
      "text/plain": [
       "<BarContainer object of 3 artists>"
      ]
     },
     "execution_count": 20,
     "metadata": {},
     "output_type": "execute_result"
    },
    {
     "data": {
      "image/png": "[encoded data removed]",
      "text/plain": [
       "<Figure size 432x288 with 1 Axes>"
      ]
     },
     "metadata": {
      "needs_background": "light"
     },
     "output_type": "display_data"
    }
   ],
   "source": [
    "labels = df.groupby('Sentiment').count().index.values\n",
    "values = df.groupby('Sentiment').size().values\n",
    "plt.bar(labels, values)"
   ]
  },
  {
   "cell_type": "code",
   "execution_count": 23,
   "metadata": {},
   "outputs": [
    {
     "data": {
      "image/png": "[encoded data removed]",
      "text/plain": [
       "<Figure size 432x288 with 1 Axes>"
      ]
     },
     "metadata": {},
     "output_type": "display_data"
    }
   ],
   "source": [
    "labels = ['Positive ['+format(pos_per, '.1f')+'%]', 'Neutral ['+format(neu_per,'.1f')+'%]', 'Negative ['+format(neg_per,'.1f')+'%]']\n",
    "sizes = [len(tweet_pos), len(tweet_neu), len(tweet_neg)]\n",
    "colors = ['yellow', 'blue', 'pink']\n",
    "patches, texts = plt.pie(sizes, labels = labels, colors = colors,shadow = True, startangle = 90)\n",
    "plt.legend(labels)\n",
    "plt.title(\"Tweets analysed by sentiment\")\n",
    "plt.axis('equal')\n",
    "plt.show()"
   ]
  },
  {
   "cell_type": "code",
   "execution_count": null,
   "metadata": {},
   "outputs": [],
   "source": [
    "def create_wordcloud(text):\n",
    "    stopwords = set(STOPWORDS)\n",
    "    wc = WordCloud(background_color = \"white\", max_words = 3000, stopwords = stopwords, repeat = True)\n",
    "    wc.generate(str(text))\n",
    "    plt.imshow(wc, interpolation='bilinear')\n",
    "    plt.axis(\"off\")\n",
    "    plt.show()\n",
    "#word cloud for positive sentiments\n",
    "create_wordcloud(tweet_pos[\"Cleaned_Text\"].values)\n",
    "#wordcloud for negative sentimenst\n",
    "create_wordcloud(tweet_neg[\"Cleaned_Text\"].values)"
   ]
  }
 ],
 "metadata": {
  "interpreter": {
   "hash": "8e1c548afee75a9905a401fbe0e29caded47fe811c92c3411f8b8e54e2a973e6"
  },
  "kernelspec": {
   "display_name": "Python 3.8.10 ('venv': venv)",
   "language": "python",
   "name": "python3"
  },
  "language_info": {
   "codemirror_mode": {
    "name": "ipython",
    "version": 3
   },
   "file_extension": ".py",
   "mimetype": "text/x-python",
   "name": "python",
   "nbconvert_exporter": "python",
   "pygments_lexer": "ipython3",
   "version": "3.8.10"
  },
  "orig_nbformat": 4
 },
 "nbformat": 4,
 "nbformat_minor": 2
}
