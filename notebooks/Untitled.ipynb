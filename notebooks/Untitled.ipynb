{
 "cells": [
  {
   "cell_type": "code",
   "execution_count": 12,
   "metadata": {},
   "outputs": [],
   "source": [
    "CLEANED_SAVE_PATH = \"../cleaned_tweet_data.csv\""
   ]
  },
  {
   "cell_type": "code",
   "execution_count": 13,
   "metadata": {},
   "outputs": [],
   "source": [
    "import pandas as pd\n",
    "from wordcloud import STOPWORDS,WordCloud"
   ]
  },
  {
   "cell_type": "code",
   "execution_count": 16,
   "metadata": {},
   "outputs": [],
   "source": [
    "def read_proccessed_data(csv_path):\n",
    "    return df"
   ]
  },
  {
   "cell_type": "code",
   "execution_count": 21,
   "metadata": {},
   "outputs": [
    {
     "name": "stdout",
     "output_type": "stream",
     "text": [
      "<class 'pandas.core.frame.DataFrame'>\n",
      "RangeIndex: 6532 entries, 0 to 6531\n",
      "Data columns (total 17 columns):\n",
      " #   Column              Non-Null Count  Dtype  \n",
      "---  ------              --------------  -----  \n",
      " 0   created_at          6532 non-null   object \n",
      " 1   source              6532 non-null   object \n",
      " 2   original_text       6532 non-null   object \n",
      " 3   polarity            6532 non-null   float64\n",
      " 4   subjectivity        6532 non-null   float64\n",
      " 5   lang                6532 non-null   object \n",
      " 6   favorite_count      6532 non-null   int64  \n",
      " 7   retweet_count       4785 non-null   float64\n",
      " 8   original_author     6532 non-null   object \n",
      " 9   followers_count     6532 non-null   int64  \n",
      " 10  friends_count       6532 non-null   int64  \n",
      " 11  possibly_sensitive  0 non-null      float64\n",
      " 12  hashtags            6532 non-null   object \n",
      " 13  user_mentions       6532 non-null   object \n",
      " 14  place               4088 non-null   object \n",
      " 15  friends_count       6532 non-null   float64\n",
      " 16  clean_text          6532 non-null   object \n",
      "dtypes: float64(5), int64(3), object(9)\n",
      "memory usage: 867.7+ KB\n"
     ]
    }
   ],
   "source": [
    "df = read_proccessed_data(CLEANED_SAVE_PATH)\n",
    "df.info()"
   ]
  },
  {
   "cell_type": "code",
   "execution_count": 22,
   "metadata": {},
   "outputs": [
    {
     "name": "stdout",
     "output_type": "stream",
     "text": [
      "<class 'pandas.core.frame.DataFrame'>\n",
      "RangeIndex: 6532 entries, 0 to 6531\n",
      "Data columns (total 17 columns):\n",
      " #   Column              Non-Null Count  Dtype  \n",
      "---  ------              --------------  -----  \n",
      " 0   created_at          6532 non-null   object \n",
      " 1   source              6532 non-null   object \n",
      " 2   original_text       6532 non-null   object \n",
      " 3   polarity            6532 non-null   float64\n",
      " 4   subjectivity        6532 non-null   float64\n",
      " 5   lang                6532 non-null   object \n",
      " 6   favorite_count      6532 non-null   int64  \n",
      " 7   retweet_count       4785 non-null   float64\n",
      " 8   original_author     6532 non-null   object \n",
      " 9   followers_count     6532 non-null   int64  \n",
      " 10  friends_count       6532 non-null   int64  \n",
      " 11  possibly_sensitive  0 non-null      float64\n",
      " 12  hashtags            6532 non-null   object \n",
      " 13  user_mentions       6532 non-null   object \n",
      " 14  place               4088 non-null   object \n",
      " 15  friends_count       6532 non-null   float64\n",
      " 16  clean_text          6532 non-null   object \n",
      "dtypes: float64(5), int64(3), object(9)\n",
      "memory usage: 867.7+ KB\n"
     ]
    }
   ],
   "source": [
    "df = read_proccessed_data(CLEANED_SAVE_PATH)\n",
    "df.info()"
   ]
  },
  {
   "cell_type": "code",
   "execution_count": 23,
   "metadata": {},
   "outputs": [
    {
     "data": {
      "text/plain": [
       " 0.000000    1829\n",
       "-0.750000     501\n",
       " 0.500000     210\n",
       " 0.133333     201\n",
       " 0.337500     189\n",
       "             ... \n",
       "-0.190625       1\n",
       "-0.035714       1\n",
       "-0.175000       1\n",
       " 0.186111       1\n",
       "-0.055556       1\n",
       "Name: polarity, Length: 401, dtype: int64"
      ]
     },
     "execution_count": 23,
     "metadata": {},
     "output_type": "execute_result"
    }
   ],
   "source": [
    "df['polarity']\n",
    "df['polarity'].value_counts()"
   ]
  },
  {
   "cell_type": "code",
   "execution_count": 24,
   "metadata": {},
   "outputs": [
    {
     "name": "stdout",
     "output_type": "stream",
     "text": [
      "sum of null values in clean_text column: 0\n",
      "sum of null values in polarity cloumn: 0\n"
     ]
    }
   ],
   "source": [
    "text_null_sum = df['clean_text'].isnull().sum()\n",
    "polarity_null_sum = df['polarity'].isnull().sum()\n",
    "\n",
    "print(f'sum of null values in clean_text column: {text_null_sum}')\n",
    "print(f'sum of null values in polarity cloumn: {polarity_null_sum}')"
   ]
  },
  {
   "cell_type": "code",
   "execution_count": 25,
   "metadata": {},
   "outputs": [],
   "source": [
    "cleanedTweet = pd.DataFrame(columns=['clean_text','polarity'])\n",
    "\n",
    "cleanedTweet['clean_text'] = df['clean_text']\n",
    "cleanedTweet['polarity'] = df['polarity']\n",
    "cleanedTweet.dropna(inplace=True)"
   ]
  },
  {
   "cell_type": "code",
   "execution_count": 26,
   "metadata": {},
   "outputs": [
    {
     "data": {
      "text/html": [
       "<div>\n",
       "<style scoped>\n",
       "    .dataframe tbody tr th:only-of-type {\n",
       "        vertical-align: middle;\n",
       "    }\n",
       "\n",
       "    .dataframe tbody tr th {\n",
       "        vertical-align: top;\n",
       "    }\n",
       "\n",
       "    .dataframe thead th {\n",
       "        text-align: right;\n",
       "    }\n",
       "</style>\n",
       "<table border=\"1\" class=\"dataframe\">\n",
       "  <thead>\n",
       "    <tr style=\"text-align: right;\">\n",
       "      <th></th>\n",
       "      <th>clean_text</th>\n",
       "      <th>polarity</th>\n",
       "    </tr>\n",
       "  </thead>\n",
       "  <tbody>\n",
       "    <tr>\n",
       "      <th>0</th>\n",
       "      <td>🚨africa is \"in the midst of a full-blown third...</td>\n",
       "      <td>0.166667</td>\n",
       "    </tr>\n",
       "    <tr>\n",
       "      <th>1</th>\n",
       "      <td>dr moeti is head of who in africa, and one of ...</td>\n",
       "      <td>0.133333</td>\n",
       "    </tr>\n",
       "    <tr>\n",
       "      <th>2</th>\n",
       "      <td>thank you  for creating this amazing campaign ...</td>\n",
       "      <td>0.316667</td>\n",
       "    </tr>\n",
       "    <tr>\n",
       "      <th>3</th>\n",
       "      <td>former pfizer vp and virologist, dr. michael y...</td>\n",
       "      <td>0.086111</td>\n",
       "    </tr>\n",
       "    <tr>\n",
       "      <th>4</th>\n",
       "      <td>i think it’s important that we don’t sell cova...</td>\n",
       "      <td>0.280000</td>\n",
       "    </tr>\n",
       "    <tr>\n",
       "      <th>...</th>\n",
       "      <td>...</td>\n",
       "      <td>...</td>\n",
       "    </tr>\n",
       "    <tr>\n",
       "      <th>6527</th>\n",
       "      <td>rt : zweli please just release the graphic des...</td>\n",
       "      <td>0.000000</td>\n",
       "    </tr>\n",
       "    <tr>\n",
       "      <th>6528</th>\n",
       "      <td>former pfizer vp and virologist, dr. michael y...</td>\n",
       "      <td>0.086111</td>\n",
       "    </tr>\n",
       "    <tr>\n",
       "      <th>6529</th>\n",
       "      <td>respectfully, veterinarians have to have a b...</td>\n",
       "      <td>0.281250</td>\n",
       "    </tr>\n",
       "    <tr>\n",
       "      <th>6530</th>\n",
       "      <td>\"africa needs millions more doses here &amp;amp; n...</td>\n",
       "      <td>0.125000</td>\n",
       "    </tr>\n",
       "    <tr>\n",
       "      <th>6531</th>\n",
       "      <td>rt : liars. you tried to load off your expired...</td>\n",
       "      <td>0.000000</td>\n",
       "    </tr>\n",
       "  </tbody>\n",
       "</table>\n",
       "<p>6532 rows × 2 columns</p>\n",
       "</div>"
      ],
      "text/plain": [
       "                                             clean_text  polarity\n",
       "0     🚨africa is \"in the midst of a full-blown third...  0.166667\n",
       "1     dr moeti is head of who in africa, and one of ...  0.133333\n",
       "2     thank you  for creating this amazing campaign ...  0.316667\n",
       "3     former pfizer vp and virologist, dr. michael y...  0.086111\n",
       "4     i think it’s important that we don’t sell cova...  0.280000\n",
       "...                                                 ...       ...\n",
       "6527  rt : zweli please just release the graphic des...  0.000000\n",
       "6528  former pfizer vp and virologist, dr. michael y...  0.086111\n",
       "6529    respectfully, veterinarians have to have a b...  0.281250\n",
       "6530  \"africa needs millions more doses here &amp; n...  0.125000\n",
       "6531  rt : liars. you tried to load off your expired...  0.000000\n",
       "\n",
       "[6532 rows x 2 columns]"
      ]
     },
     "execution_count": 26,
     "metadata": {},
     "output_type": "execute_result"
    }
   ],
   "source": [
    "cleanedTweet"
   ]
  },
  {
   "cell_type": "code",
   "execution_count": 27,
   "metadata": {},
   "outputs": [],
   "source": [
    "def text_category(p: float) -> str:\n",
    "    if p > 0:\n",
    "        return \"positive\"\n",
    "    elif p == 0:\n",
    "        return \"neutral\"\n",
    "    else:\n",
    "        return \"negative\""
   ]
  },
  {
   "cell_type": "code",
   "execution_count": 28,
   "metadata": {},
   "outputs": [
    {
     "data": {
      "text/plain": [
       "positive    3426\n",
       "neutral     1829\n",
       "negative    1277\n",
       "Name: score, dtype: int64"
      ]
     },
     "execution_count": 28,
     "metadata": {},
     "output_type": "execute_result"
    }
   ],
   "source": [
    "cleanedTweet['score'] = cleanedTweet['polarity'].apply(text_category)\n",
    "cleanedTweet['score'].value_counts()"
   ]
  },
  {
   "cell_type": "code",
   "execution_count": 33,
   "metadata": {},
   "outputs": [
    {
     "data": {
      "text/plain": [
       "<AxesSubplot:title={'center':'score'}>"
      ]
     },
     "execution_count": 33,
     "metadata": {},
     "output_type": "execute_result"
    },
    {
     "data": {
      "image/png": "[encoded data removed]",
      "text/plain": [
       "<Figure size 576x576 with 1 Axes>"
      ]
     },
     "metadata": {
      "needs_background": "light"
     },
     "output_type": "display_data"
    }
   ],
   "source": [
    "score_count =  cleanedTweet['score'].value_counts()\n",
    "score_count.plot(kind=\"bar\", y=\"score\", title=\"score\", figsize=[8, 8], color = \"red\")"
   ]
  },
  {
   "cell_type": "code",
   "execution_count": 36,
   "metadata": {},
   "outputs": [
    {
     "data": {
      "text/plain": [
       "<AxesSubplot:title={'center':'score'}, ylabel='score'>"
      ]
     },
     "execution_count": 36,
     "metadata": {},
     "output_type": "execute_result"
    },
    {
     "data": {
      "image/png": "[encoded data removed]",
      "text/plain": [
       "<Figure size 576x576 with 1 Axes>"
      ]
     },
     "metadata": {},
     "output_type": "display_data"
    }
   ],
   "source": [
    "score_count.plot(kind=\"pie\", y=\"score\", title=\"score\", x=\"\", figsize=[8, 8],)"
   ]
  },
  {
   "cell_type": "code",
   "execution_count": 37,
   "metadata": {},
   "outputs": [],
   "source": [
    "def remove_neutral(value):\n",
    "    return value != \"neutral\""
   ]
  },
  {
   "cell_type": "code",
   "execution_count": 38,
   "metadata": {},
   "outputs": [
    {
     "name": "stderr",
     "output_type": "stream",
     "text": [
      "<ipython-input-38-8d4db6a1bade>:2: SettingWithCopyWarning: \n",
      "A value is trying to be set on a copy of a slice from a DataFrame.\n",
      "Try using .loc[row_indexer,col_indexer] = value instead\n",
      "\n",
      "See the caveats in the documentation: https://pandas.pydata.org/pandas-docs/stable/user_guide/indexing.html#returning-a-view-versus-a-copy\n",
      "  cleanedTweet['score_map'] = cleanedTweet[\"score\"].map( lambda score: 1 if score == \"positive\" else 0)\n"
     ]
    }
   ],
   "source": [
    "cleanedTweet = cleanedTweet[cleanedTweet['score'].map(remove_neutral)]\n",
    "cleanedTweet['score_map'] = cleanedTweet[\"score\"].map( lambda score: 1 if score == \"positive\" else 0)"
   ]
  },
  {
   "cell_type": "code",
   "execution_count": 39,
   "metadata": {},
   "outputs": [],
   "source": [
    "from sklearn.feature_extraction.text import CountVectorizer, TfidfTransformer\n",
    "from joblib import dump, load # used for saving and loading sklearn objects\n",
    "from scipy.sparse import save_npz, load_npz # used for saving and loading sparse matrices\n",
    "from sklearn.decomposition import NMF, LatentDirichletAllocation\n",
    "from sklearn.linear_model import SGDClassifier\n",
    "from sklearn.model_selection import train_test_split"
   ]
  },
  {
   "cell_type": "code",
   "execution_count": 40,
   "metadata": {},
   "outputs": [],
   "source": [
    "(X, y) = cleanedTweet['clean_text'], cleanedTweet['score_map']"
   ]
  },
  {
   "cell_type": "code",
   "execution_count": 41,
   "metadata": {},
   "outputs": [
    {
     "data": {
      "text/plain": [
       "CountVectorizer(ngram_range=(1, 3))"
      ]
     },
     "execution_count": 41,
     "metadata": {},
     "output_type": "execute_result"
    }
   ],
   "source": [
    "trigram_vectorizer = CountVectorizer(ngram_range=(1, 3))\n",
    "trigram_vectorizer.fit(X.values)"
   ]
  },
  {
   "cell_type": "code",
   "execution_count": 43,
   "metadata": {},
   "outputs": [
    {
     "data": {
      "text/plain": [
       "TfidfTransformer()"
      ]
     },
     "execution_count": 43,
     "metadata": {},
     "output_type": "execute_result"
    }
   ],
   "source": [
    "X_trigram = trigram_vectorizer.transform(X.values)\n",
    "trigram_tf_idf_transformer = TfidfTransformer()\n",
    "trigram_tf_idf_transformer.fit(X_trigram)"
   ]
  },
  {
   "cell_type": "code",
   "execution_count": 44,
   "metadata": {},
   "outputs": [],
   "source": [
    "X_train_tf_idf = trigram_tf_idf_transformer.transform(X_trigram)"
   ]
  },
  {
   "cell_type": "code",
   "execution_count": 45,
   "metadata": {},
   "outputs": [],
   "source": [
    "def train_and_show_scores(X, y, title: str) -> None:\n",
    "    X_train, X_valid, y_train, y_valid = train_test_split(\n",
    "        X, y, train_size=0.75, stratify=y\n",
    "    )\n",
    "\n",
    "    clf = SGDClassifier()\n",
    "    clf.fit(X_train, y_train)\n",
    "    train_score = clf.score(X_train, y_train)\n",
    "    valid_score = clf.score(X_valid, y_valid)\n",
    "    print(f'{title}\\nTrain score: {round(train_score, 2)} ; Validation score: {round(valid_score, 2)}\\n')"
   ]
  },
  {
   "cell_type": "code",
   "execution_count": 46,
   "metadata": {},
   "outputs": [
    {
     "name": "stdout",
     "output_type": "stream",
     "text": [
      "trigram\n",
      "Train score: 1.0 ; Validation score: 0.96\n",
      "\n"
     ]
    }
   ],
   "source": [
    "train_and_show_scores(X_trigram, y, title=\"trigram\")"
   ]
  },
  {
   "cell_type": "code",
   "execution_count": 47,
   "metadata": {},
   "outputs": [
    {
     "name": "stdout",
     "output_type": "stream",
     "text": [
      "trigram_tf_idf\n",
      "Train score: 1.0 ; Validation score: 0.96\n",
      "\n"
     ]
    }
   ],
   "source": [
    "train_and_show_scores(X_train_tf_idf, y, title=\"trigram_tf_idf\")"
   ]
  },
  {
   "cell_type": "code",
   "execution_count": 49,
   "metadata": {},
   "outputs": [
    {
     "name": "stderr",
     "output_type": "stream",
     "text": [
      "C:\\Users\\Betelhem\\anaconda3\\lib\\site-packages\\gensim\\similarities\\__init__.py:15: UserWarning: The gensim.similarities.levenshtein submodule is disabled, because the optional Levenshtein package <https://pypi.org/project/python-Levenshtein/> is unavailable. Install Levenhstein (e.g. `pip install python-Levenshtein`) to suppress this warning.\n",
      "  warnings.warn(msg)\n"
     ]
    }
   ],
   "source": [
    "import string\n",
    "import gensim\n",
    "from gensim.models import CoherenceModel\n",
    "from gensim import corpora"
   ]
  },
  {
   "cell_type": "code",
   "execution_count": 50,
   "metadata": {},
   "outputs": [],
   "source": [
    "class TopicModel:\n",
    "    \n",
    "    def __init__(self, tweet_df):\n",
    "        self.df = tweet_df\n",
    "    \n",
    "    def extract_text_df(self):\n",
    "        self.df = pd.DataFrame(self.df['clean_text']) \n",
    "        \n",
    "        return self.df\n",
    "    \n",
    "    def further_pre_process(self):\n",
    "        \n",
    "        self.df['clean_text']= df['clean_text'].apply(lambda x: str(x).translate(str.maketrans(' ', ' ', string.punctuation))) \n",
    "        \n",
    "        return self.df\n",
    "    \n",
    "    def prepare_inputs(self):\n",
    "        \n",
    "        df = self.extract_text_df()\n",
    "        df = self.further_pre_process()\n",
    "        \n",
    "        sentence_list = [text for text in self.df['clean_text']]\n",
    "        word_list = [sent.split() for sent in sentence_list]\n",
    "        word_to_int = corpora.Dictionary(word_list)\n",
    "        corpus = [word_to_int.doc2bow(tweet) for tweet in word_list]\n",
    "        \n",
    "        return word_list, word_to_int, corpus\n",
    "        \n",
    "        \n",
    "            \n",
    "    def build(self):\n",
    "        word_list, word_to_int, corpus = self.prepare_inputs()\n",
    "        lda_model = gensim.models.ldamodel.LdaModel(\n",
    "            corpus, id2word=word_to_int,num_topics=5, \n",
    "            random_state=100, update_every=1, \n",
    "            chunksize=100, passes=10, alpha='auto',\n",
    "            per_word_topics=True\n",
    "        )"
   ]
  },
  {
   "cell_type": "code",
   "execution_count": 51,
   "metadata": {},
   "outputs": [
    {
     "name": "stdout",
     "output_type": "stream",
     "text": [
      "None\n"
     ]
    }
   ],
   "source": [
    "df = read_proccessed_data(CLEANED_SAVE_PATH)\n",
    "tm = TopicModel(df)\n",
    "print(tm.build())"
   ]
  },
  {
   "cell_type": "code",
   "execution_count": null,
   "metadata": {},
   "outputs": [],
   "source": []
  },
  {
   "cell_type": "code",
   "execution_count": null,
   "metadata": {},
   "outputs": [],
   "source": []
  },
  {
   "cell_type": "code",
   "execution_count": null,
   "metadata": {},
   "outputs": [],
   "source": []
  },
  {
   "cell_type": "code",
   "execution_count": null,
   "metadata": {},
   "outputs": [],
   "source": []
  }
 ],
 "metadata": {
  "kernelspec": {
   "display_name": "Python 3",
   "language": "python",
   "name": "python3"
  },
  "language_info": {
   "codemirror_mode": {
    "name": "ipython",
    "version": 3
   },
   "file_extension": ".py",
   "mimetype": "text/x-python",
   "name": "python",
   "nbconvert_exporter": "python",
   "pygments_lexer": "ipython3",
   "version": "3.8.5"
  }
 },
 "nbformat": 4,
 "nbformat_minor": 4
}
