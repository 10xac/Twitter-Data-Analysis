{
 "cells": [
  {
   "cell_type": "code",
   "execution_count": 56,
   "id": "d8a38e85",
   "metadata": {},
   "outputs": [
    {
     "data": {
      "text/html": [
       "<div>\n",
       "<style scoped>\n",
       "    .dataframe tbody tr th:only-of-type {\n",
       "        vertical-align: middle;\n",
       "    }\n",
       "\n",
       "    .dataframe tbody tr th {\n",
       "        vertical-align: top;\n",
       "    }\n",
       "\n",
       "    .dataframe thead th {\n",
       "        text-align: right;\n",
       "    }\n",
       "</style>\n",
       "<table border=\"1\" class=\"dataframe\">\n",
       "  <thead>\n",
       "    <tr style=\"text-align: right;\">\n",
       "      <th></th>\n",
       "      <th>created_at</th>\n",
       "      <th>source</th>\n",
       "      <th>original_text</th>\n",
       "      <th>sentiment</th>\n",
       "      <th>polarity</th>\n",
       "      <th>subjectivity</th>\n",
       "      <th>lang</th>\n",
       "      <th>favorite_count</th>\n",
       "      <th>retweet_count</th>\n",
       "      <th>original_author</th>\n",
       "      <th>followers_count</th>\n",
       "      <th>friends_count</th>\n",
       "      <th>possibly_sensitive</th>\n",
       "      <th>hashtags</th>\n",
       "      <th>user_mentions</th>\n",
       "      <th>place</th>\n",
       "    </tr>\n",
       "  </thead>\n",
       "  <tbody>\n",
       "    <tr>\n",
       "      <th>0</th>\n",
       "      <td>2022-04-22 22:17:05+00:00</td>\n",
       "      <td>&lt;a href=\"http://twitter.com/download/android\" ...</td>\n",
       "      <td>RT @NorthstarCharts: The 10-year yield is tell...</td>\n",
       "      <td>0.16</td>\n",
       "      <td>0.540000</td>\n",
       "      <td>1</td>\n",
       "      <td>en</td>\n",
       "      <td>188.0</td>\n",
       "      <td>43.0</td>\n",
       "      <td>davideiacovozzi</td>\n",
       "      <td>18</td>\n",
       "      <td>18</td>\n",
       "      <td>NaN</td>\n",
       "      <td>[{'text': 'gold', 'indices': [116, 121]}, {'te...</td>\n",
       "      <td>[{'screen_name': 'NorthstarCharts', 'name': 'N...</td>\n",
       "      <td>NaN</td>\n",
       "    </tr>\n",
       "    <tr>\n",
       "      <th>1</th>\n",
       "      <td>2022-04-22 13:44:53+00:00</td>\n",
       "      <td>&lt;a href=\"http://twitter.com/download/android\" ...</td>\n",
       "      <td>RT @MichaelAArouet: German 10y mortgage rate w...</td>\n",
       "      <td>0.15</td>\n",
       "      <td>NaN</td>\n",
       "      <td>1</td>\n",
       "      <td>en</td>\n",
       "      <td>NaN</td>\n",
       "      <td>NaN</td>\n",
       "      <td>davideiacovozzi</td>\n",
       "      <td>18</td>\n",
       "      <td>18</td>\n",
       "      <td>NaN</td>\n",
       "      <td>[]</td>\n",
       "      <td>[{'screen_name': 'MichaelAArouet', 'name': 'Mi...</td>\n",
       "      <td>NaN</td>\n",
       "    </tr>\n",
       "    <tr>\n",
       "      <th>2</th>\n",
       "      <td>2022-04-22 06:10:34+00:00</td>\n",
       "      <td>&lt;a href=\"http://twitter.com/download/android\" ...</td>\n",
       "      <td>RT @goldseek: When? https://t.co/kO2FfHKaZg</td>\n",
       "      <td>0.00</td>\n",
       "      <td>0.000000</td>\n",
       "      <td>-1</td>\n",
       "      <td>en</td>\n",
       "      <td>193.0</td>\n",
       "      <td>26.0</td>\n",
       "      <td>davideiacovozzi</td>\n",
       "      <td>18</td>\n",
       "      <td>18</td>\n",
       "      <td>False</td>\n",
       "      <td>[]</td>\n",
       "      <td>[{'screen_name': 'goldseek', 'name': 'Peter ⚒ ...</td>\n",
       "      <td>NaN</td>\n",
       "    </tr>\n",
       "    <tr>\n",
       "      <th>3</th>\n",
       "      <td>2022-04-21 17:22:09+00:00</td>\n",
       "      <td>&lt;a href=\"http://twitter.com/download/android\" ...</td>\n",
       "      <td>RT @charliebilello: The 30-year mortgage rate ...</td>\n",
       "      <td>0.00</td>\n",
       "      <td>0.183333</td>\n",
       "      <td>-1</td>\n",
       "      <td>en</td>\n",
       "      <td>620.0</td>\n",
       "      <td>213.0</td>\n",
       "      <td>davideiacovozzi</td>\n",
       "      <td>18</td>\n",
       "      <td>18</td>\n",
       "      <td>NaN</td>\n",
       "      <td>[]</td>\n",
       "      <td>[{'screen_name': 'charliebilello', 'name': 'Ch...</td>\n",
       "      <td>NaN</td>\n",
       "    </tr>\n",
       "    <tr>\n",
       "      <th>4</th>\n",
       "      <td>2022-04-21 10:32:26+00:00</td>\n",
       "      <td>&lt;a href=\"http://twitter.com/download/android\" ...</td>\n",
       "      <td>RT @biancoresearch: Rates rise until something...</td>\n",
       "      <td>-0.40</td>\n",
       "      <td>0.400000</td>\n",
       "      <td>0</td>\n",
       "      <td>en</td>\n",
       "      <td>1787.0</td>\n",
       "      <td>417.0</td>\n",
       "      <td>davideiacovozzi</td>\n",
       "      <td>18</td>\n",
       "      <td>18</td>\n",
       "      <td>False</td>\n",
       "      <td>[]</td>\n",
       "      <td>[{'screen_name': 'biancoresearch', 'name': 'Ji...</td>\n",
       "      <td>NaN</td>\n",
       "    </tr>\n",
       "  </tbody>\n",
       "</table>\n",
       "</div>"
      ],
      "text/plain": [
       "                  created_at  \\\n",
       "0  2022-04-22 22:17:05+00:00   \n",
       "1  2022-04-22 13:44:53+00:00   \n",
       "2  2022-04-22 06:10:34+00:00   \n",
       "3  2022-04-21 17:22:09+00:00   \n",
       "4  2022-04-21 10:32:26+00:00   \n",
       "\n",
       "                                              source  \\\n",
       "0  <a href=\"http://twitter.com/download/android\" ...   \n",
       "1  <a href=\"http://twitter.com/download/android\" ...   \n",
       "2  <a href=\"http://twitter.com/download/android\" ...   \n",
       "3  <a href=\"http://twitter.com/download/android\" ...   \n",
       "4  <a href=\"http://twitter.com/download/android\" ...   \n",
       "\n",
       "                                       original_text  sentiment  polarity  \\\n",
       "0  RT @NorthstarCharts: The 10-year yield is tell...       0.16  0.540000   \n",
       "1  RT @MichaelAArouet: German 10y mortgage rate w...       0.15       NaN   \n",
       "2        RT @goldseek: When? https://t.co/kO2FfHKaZg       0.00  0.000000   \n",
       "3  RT @charliebilello: The 30-year mortgage rate ...       0.00  0.183333   \n",
       "4  RT @biancoresearch: Rates rise until something...      -0.40  0.400000   \n",
       "\n",
       "   subjectivity lang  favorite_count  retweet_count  original_author  \\\n",
       "0             1   en           188.0           43.0  davideiacovozzi   \n",
       "1             1   en             NaN            NaN  davideiacovozzi   \n",
       "2            -1   en           193.0           26.0  davideiacovozzi   \n",
       "3            -1   en           620.0          213.0  davideiacovozzi   \n",
       "4             0   en          1787.0          417.0  davideiacovozzi   \n",
       "\n",
       "   followers_count  friends_count possibly_sensitive  \\\n",
       "0               18             18                NaN   \n",
       "1               18             18                NaN   \n",
       "2               18             18              False   \n",
       "3               18             18                NaN   \n",
       "4               18             18              False   \n",
       "\n",
       "                                            hashtags  \\\n",
       "0  [{'text': 'gold', 'indices': [116, 121]}, {'te...   \n",
       "1                                                 []   \n",
       "2                                                 []   \n",
       "3                                                 []   \n",
       "4                                                 []   \n",
       "\n",
       "                                       user_mentions place  \n",
       "0  [{'screen_name': 'NorthstarCharts', 'name': 'N...   NaN  \n",
       "1  [{'screen_name': 'MichaelAArouet', 'name': 'Mi...   NaN  \n",
       "2  [{'screen_name': 'goldseek', 'name': 'Peter ⚒ ...   NaN  \n",
       "3  [{'screen_name': 'charliebilello', 'name': 'Ch...   NaN  \n",
       "4  [{'screen_name': 'biancoresearch', 'name': 'Ji...   NaN  "
      ]
     },
     "execution_count": 56,
     "metadata": {},
     "output_type": "execute_result"
    }
   ],
   "source": [
    "import pandas as pd\n",
    "import os\n",
    "import sys\n",
    "import inspect\n",
    "tweets = pd.read_csv('C:/Users/NHOM/Desktop/10ac/Twitter-Data-Analysis/data/cleaned_tweet_data.csv')\n",
    "tweets.head()"
   ]
  },
  {
   "cell_type": "markdown",
   "id": "244ac030",
   "metadata": {},
   "source": [
    "\n",
    "#Find what columns we have\n",
    "#Find how many data we have\n",
    "#Find out what type of data there is in each column\n",
    "#Check for missing values"
   ]
  },
  {
   "cell_type": "code",
   "execution_count": 57,
   "id": "ab42cf04",
   "metadata": {},
   "outputs": [
    {
     "data": {
      "text/plain": [
       "Index(['created_at', 'source', 'original_text', 'sentiment', 'polarity',\n",
       "       'subjectivity', 'lang', 'favorite_count', 'retweet_count',\n",
       "       'original_author', 'followers_count', 'friends_count',\n",
       "       'possibly_sensitive', 'hashtags', 'user_mentions', 'place'],\n",
       "      dtype='object')"
      ]
     },
     "execution_count": 57,
     "metadata": {},
     "output_type": "execute_result"
    }
   ],
   "source": [
    "tweets.columns\n"
   ]
  },
  {
   "cell_type": "code",
   "execution_count": 58,
   "id": "10efe84d",
   "metadata": {},
   "outputs": [
    {
     "name": "stdout",
     "output_type": "stream",
     "text": [
      "<class 'pandas.core.frame.DataFrame'>\n",
      "RangeIndex: 16374 entries, 0 to 16373\n",
      "Data columns (total 16 columns):\n",
      " #   Column              Non-Null Count  Dtype  \n",
      "---  ------              --------------  -----  \n",
      " 0   created_at          16374 non-null  object \n",
      " 1   source              16374 non-null  object \n",
      " 2   original_text       16374 non-null  object \n",
      " 3   sentiment           16374 non-null  float64\n",
      " 4   polarity            14521 non-null  float64\n",
      " 5   subjectivity        16374 non-null  int64  \n",
      " 6   lang                16374 non-null  object \n",
      " 7   favorite_count      14521 non-null  float64\n",
      " 8   retweet_count       14521 non-null  float64\n",
      " 9   original_author     16374 non-null  object \n",
      " 10  followers_count     16374 non-null  int64  \n",
      " 11  friends_count       16374 non-null  int64  \n",
      " 12  possibly_sensitive  6168 non-null   object \n",
      " 13  hashtags            16374 non-null  object \n",
      " 14  user_mentions       16374 non-null  object \n",
      " 15  place               10671 non-null  object \n",
      "dtypes: float64(4), int64(3), object(9)\n",
      "memory usage: 2.0+ MB\n"
     ]
    }
   ],
   "source": [
    "tweets.info()"
   ]
  },
  {
   "cell_type": "code",
   "execution_count": 59,
   "id": "3c45d1ad",
   "metadata": {},
   "outputs": [
    {
     "data": {
      "text/plain": [
       "(16374, 16)"
      ]
     },
     "execution_count": 59,
     "metadata": {},
     "output_type": "execute_result"
    }
   ],
   "source": [
    "tweets.shape"
   ]
  },
  {
   "cell_type": "code",
   "execution_count": 60,
   "id": "faf6cc99",
   "metadata": {},
   "outputs": [
    {
     "name": "stdout",
     "output_type": "stream",
     "text": [
      "The number of missing value(s) based on columns:\n",
      "created_at                0\n",
      "source                    0\n",
      "original_text             0\n",
      "sentiment                 0\n",
      "polarity               1853\n",
      "subjectivity              0\n",
      "lang                      0\n",
      "favorite_count         1853\n",
      "retweet_count          1853\n",
      "original_author           0\n",
      "followers_count           0\n",
      "friends_count             0\n",
      "possibly_sensitive    10206\n",
      "hashtags                  0\n",
      "user_mentions             0\n",
      "place                  5703\n",
      "dtype: int64\n",
      "The number of missing value(s): 21468\n",
      "Columns having missing value(s):Index(['polarity', 'favorite_count', 'retweet_count', 'possibly_sensitive',\n",
      "       'place'],\n",
      "      dtype='object')\n"
     ]
    }
   ],
   "source": [
    "#checking for missing value\n",
    "print(\"The number of missing value(s) based on columns:\\n{}\".format(tweets.isnull().sum()))\n",
    "print(\"The number of missing value(s): {}\".format(tweets.isnull().sum().sum()))\n",
    "print(\"Columns having missing value(s):{}\".format(tweets.columns[tweets.isnull().any()]))"
   ]
  },
  {
   "cell_type": "code",
   "execution_count": 61,
   "id": "0e0a2a02",
   "metadata": {},
   "outputs": [],
   "source": [
    "###data preparation\n",
    "sys.path.append(os.path.abspath(os.path.join('..')))"
   ]
  },
  {
   "cell_type": "code",
   "execution_count": 62,
   "id": "a4d1fed7",
   "metadata": {},
   "outputs": [],
   "source": [
    "from clean_tweets_dataframe import Clean_Tweets"
   ]
  },
  {
   "cell_type": "code",
   "execution_count": 63,
   "id": "34424e67",
   "metadata": {},
   "outputs": [
    {
     "data": {
      "text/html": [
       "<div>\n",
       "<style scoped>\n",
       "    .dataframe tbody tr th:only-of-type {\n",
       "        vertical-align: middle;\n",
       "    }\n",
       "\n",
       "    .dataframe tbody tr th {\n",
       "        vertical-align: top;\n",
       "    }\n",
       "\n",
       "    .dataframe thead th {\n",
       "        text-align: right;\n",
       "    }\n",
       "</style>\n",
       "<table border=\"1\" class=\"dataframe\">\n",
       "  <thead>\n",
       "    <tr style=\"text-align: right;\">\n",
       "      <th></th>\n",
       "      <th>original_text</th>\n",
       "      <th>sentiment</th>\n",
       "      <th>lang</th>\n",
       "      <th>hashtags</th>\n",
       "    </tr>\n",
       "  </thead>\n",
       "  <tbody>\n",
       "    <tr>\n",
       "      <th>0</th>\n",
       "      <td>RT @NorthstarCharts: The 10-year yield is tell...</td>\n",
       "      <td>0.16</td>\n",
       "      <td>en</td>\n",
       "      <td>[{'text': 'gold', 'indices': [116, 121]}, {'te...</td>\n",
       "    </tr>\n",
       "    <tr>\n",
       "      <th>1</th>\n",
       "      <td>RT @MichaelAArouet: German 10y mortgage rate w...</td>\n",
       "      <td>0.15</td>\n",
       "      <td>en</td>\n",
       "      <td>[]</td>\n",
       "    </tr>\n",
       "    <tr>\n",
       "      <th>2</th>\n",
       "      <td>RT @goldseek: When? https://t.co/kO2FfHKaZg</td>\n",
       "      <td>0.00</td>\n",
       "      <td>en</td>\n",
       "      <td>[]</td>\n",
       "    </tr>\n",
       "    <tr>\n",
       "      <th>3</th>\n",
       "      <td>RT @charliebilello: The 30-year mortgage rate ...</td>\n",
       "      <td>0.00</td>\n",
       "      <td>en</td>\n",
       "      <td>[]</td>\n",
       "    </tr>\n",
       "    <tr>\n",
       "      <th>4</th>\n",
       "      <td>RT @biancoresearch: Rates rise until something...</td>\n",
       "      <td>-0.40</td>\n",
       "      <td>en</td>\n",
       "      <td>[]</td>\n",
       "    </tr>\n",
       "  </tbody>\n",
       "</table>\n",
       "</div>"
      ],
      "text/plain": [
       "                                       original_text  sentiment lang  \\\n",
       "0  RT @NorthstarCharts: The 10-year yield is tell...       0.16   en   \n",
       "1  RT @MichaelAArouet: German 10y mortgage rate w...       0.15   en   \n",
       "2        RT @goldseek: When? https://t.co/kO2FfHKaZg       0.00   en   \n",
       "3  RT @charliebilello: The 30-year mortgage rate ...       0.00   en   \n",
       "4  RT @biancoresearch: Rates rise until something...      -0.40   en   \n",
       "\n",
       "                                            hashtags  \n",
       "0  [{'text': 'gold', 'indices': [116, 121]}, {'te...  \n",
       "1                                                 []  \n",
       "2                                                 []  \n",
       "3                                                 []  \n",
       "4                                                 []  "
      ]
     },
     "execution_count": 63,
     "metadata": {},
     "output_type": "execute_result"
    }
   ],
   "source": [
    "tweets_df = pd.DataFrame(columns=['original_text','sentiment','lang','hashtags'])\n",
    "\n",
    "tweets_df['original_text'] = tweets['original_text'].to_list()\n",
    "tweets_df['sentiment'] =  tweets['sentiment'].to_list()\n",
    "tweets_df['lang'] = tweets['lang'].to_list()\n",
    "tweets_df['hashtags'] =tweets['hashtags'].to_list()\n",
    "\n",
    "tweets_df.head()"
   ]
  },
  {
   "cell_type": "code",
   "execution_count": 68,
   "id": "4cb3c79a",
   "metadata": {},
   "outputs": [
    {
     "data": {
      "text/plain": [
       "<AxesSubplot:ylabel='sentiment'>"
      ]
     },
     "execution_count": 68,
     "metadata": {},
     "output_type": "execute_result"
    },
    {
     "data": {
      "image/png": "[encoded data removed]",
      "text/plain": [
       "<Figure size 432x288 with 1 Axes>"
      ]
     },
     "metadata": {},
     "output_type": "display_data"
    }
   ],
   "source": [
    "tweets_df.sentiment.value_counts().plot(kind='pie')"
   ]
  },
  {
   "cell_type": "code",
   "execution_count": null,
   "id": "8fa7f44a",
   "metadata": {},
   "outputs": [],
   "source": [
    "\n"
   ]
  },
  {
   "cell_type": "code",
   "execution_count": 73,
   "id": "457ce9c1",
   "metadata": {},
   "outputs": [],
   "source": [
    "clean_tweet = pd.DataFrame(columns=['original_text','polarity'])\n",
    "clean_tweet['original_text'] =  tweets['original_text'].to_list()\n",
    "clean_tweet['polarity'] =  tweets['polarity'].to_list()"
   ]
  },
  {
   "cell_type": "code",
   "execution_count": 74,
   "id": "49affafb",
   "metadata": {},
   "outputs": [
    {
     "name": "stdout",
     "output_type": "stream",
     "text": [
      "<class 'pandas.core.frame.DataFrame'>\n",
      "Int64Index: 16374 entries, 0 to 16373\n",
      "Data columns (total 2 columns):\n",
      " #   Column         Non-Null Count  Dtype  \n",
      "---  ------         --------------  -----  \n",
      " 0   original_text  16374 non-null  object \n",
      " 1   polarity       14521 non-null  float64\n",
      "dtypes: float64(1), object(1)\n",
      "memory usage: 383.8+ KB\n"
     ]
    }
   ],
   "source": [
    "clean_tweet.dropna() # droping null values\n",
    "clean_tweet.drop(clean_tweet.loc[clean_tweet['polarity']==\"polarity\"].index, inplace=True)\n",
    "clean_tweet['polarity'] = pd.to_numeric(clean_tweet['polarity'])\n",
    "clean_tweet.info()"
   ]
  },
  {
   "cell_type": "code",
   "execution_count": 78,
   "id": "8a73e584",
   "metadata": {},
   "outputs": [],
   "source": [
    "def make_score(p:float)->str:\n",
    "    if(p > 0):\n",
    "        return \"positive\"\n",
    "    elif(p < 0):\n",
    "        return \"negative\"\n",
    "    else:\n",
    "        return \"neutral\""
   ]
  },
  {
   "cell_type": "code",
   "execution_count": 83,
   "id": "c27017c9",
   "metadata": {},
   "outputs": [
    {
     "data": {
      "text/html": [
       "<div>\n",
       "<style scoped>\n",
       "    .dataframe tbody tr th:only-of-type {\n",
       "        vertical-align: middle;\n",
       "    }\n",
       "\n",
       "    .dataframe tbody tr th {\n",
       "        vertical-align: top;\n",
       "    }\n",
       "\n",
       "    .dataframe thead th {\n",
       "        text-align: right;\n",
       "    }\n",
       "</style>\n",
       "<table border=\"1\" class=\"dataframe\">\n",
       "  <thead>\n",
       "    <tr style=\"text-align: right;\">\n",
       "      <th></th>\n",
       "      <th>original_text</th>\n",
       "      <th>polarity</th>\n",
       "      <th>score</th>\n",
       "      <th>tyoe</th>\n",
       "      <th>type</th>\n",
       "    </tr>\n",
       "  </thead>\n",
       "  <tbody>\n",
       "    <tr>\n",
       "      <th>0</th>\n",
       "      <td>RT @NorthstarCharts: The 10-year yield is tell...</td>\n",
       "      <td>0.540000</td>\n",
       "      <td>positive</td>\n",
       "      <td>positive</td>\n",
       "      <td>positive</td>\n",
       "    </tr>\n",
       "    <tr>\n",
       "      <th>1</th>\n",
       "      <td>RT @MichaelAArouet: German 10y mortgage rate w...</td>\n",
       "      <td>NaN</td>\n",
       "      <td>neutral</td>\n",
       "      <td>neutral</td>\n",
       "      <td>neutral</td>\n",
       "    </tr>\n",
       "    <tr>\n",
       "      <th>2</th>\n",
       "      <td>RT @goldseek: When? https://t.co/kO2FfHKaZg</td>\n",
       "      <td>0.000000</td>\n",
       "      <td>neutral</td>\n",
       "      <td>neutral</td>\n",
       "      <td>neutral</td>\n",
       "    </tr>\n",
       "    <tr>\n",
       "      <th>3</th>\n",
       "      <td>RT @charliebilello: The 30-year mortgage rate ...</td>\n",
       "      <td>0.183333</td>\n",
       "      <td>positive</td>\n",
       "      <td>positive</td>\n",
       "      <td>positive</td>\n",
       "    </tr>\n",
       "    <tr>\n",
       "      <th>4</th>\n",
       "      <td>RT @biancoresearch: Rates rise until something...</td>\n",
       "      <td>0.400000</td>\n",
       "      <td>positive</td>\n",
       "      <td>positive</td>\n",
       "      <td>positive</td>\n",
       "    </tr>\n",
       "    <tr>\n",
       "      <th>5</th>\n",
       "      <td>RT @LanceRoberts: Buying opportunities like th...</td>\n",
       "      <td>0.550000</td>\n",
       "      <td>positive</td>\n",
       "      <td>positive</td>\n",
       "      <td>positive</td>\n",
       "    </tr>\n",
       "    <tr>\n",
       "      <th>6</th>\n",
       "      <td>RT @MacroAlf: Welcome to September 2018.\\n\\nBo...</td>\n",
       "      <td>0.637500</td>\n",
       "      <td>positive</td>\n",
       "      <td>positive</td>\n",
       "      <td>positive</td>\n",
       "    </tr>\n",
       "    <tr>\n",
       "      <th>7</th>\n",
       "      <td>RT @BotBenFranklin: The horse thinks one thing...</td>\n",
       "      <td>0.000000</td>\n",
       "      <td>neutral</td>\n",
       "      <td>neutral</td>\n",
       "      <td>neutral</td>\n",
       "    </tr>\n",
       "    <tr>\n",
       "      <th>8</th>\n",
       "      <td>RT @Galactic_Trader: Global growth optimism at...</td>\n",
       "      <td>0.250000</td>\n",
       "      <td>positive</td>\n",
       "      <td>positive</td>\n",
       "      <td>positive</td>\n",
       "    </tr>\n",
       "    <tr>\n",
       "      <th>9</th>\n",
       "      <td>RT @AndreasSteno: This is the most important c...</td>\n",
       "      <td>0.750000</td>\n",
       "      <td>positive</td>\n",
       "      <td>positive</td>\n",
       "      <td>positive</td>\n",
       "    </tr>\n",
       "  </tbody>\n",
       "</table>\n",
       "</div>"
      ],
      "text/plain": [
       "                                       original_text  polarity     score  \\\n",
       "0  RT @NorthstarCharts: The 10-year yield is tell...  0.540000  positive   \n",
       "1  RT @MichaelAArouet: German 10y mortgage rate w...       NaN   neutral   \n",
       "2        RT @goldseek: When? https://t.co/kO2FfHKaZg  0.000000   neutral   \n",
       "3  RT @charliebilello: The 30-year mortgage rate ...  0.183333  positive   \n",
       "4  RT @biancoresearch: Rates rise until something...  0.400000  positive   \n",
       "5  RT @LanceRoberts: Buying opportunities like th...  0.550000  positive   \n",
       "6  RT @MacroAlf: Welcome to September 2018.\\n\\nBo...  0.637500  positive   \n",
       "7  RT @BotBenFranklin: The horse thinks one thing...  0.000000   neutral   \n",
       "8  RT @Galactic_Trader: Global growth optimism at...  0.250000  positive   \n",
       "9  RT @AndreasSteno: This is the most important c...  0.750000  positive   \n",
       "\n",
       "       tyoe      type  \n",
       "0  positive  positive  \n",
       "1   neutral   neutral  \n",
       "2   neutral   neutral  \n",
       "3  positive  positive  \n",
       "4  positive  positive  \n",
       "5  positive  positive  \n",
       "6  positive  positive  \n",
       "7   neutral   neutral  \n",
       "8  positive  positive  \n",
       "9  positive  positive  "
      ]
     },
     "execution_count": 83,
     "metadata": {},
     "output_type": "execute_result"
    }
   ],
   "source": [
    "clean_tweet['type'] = clean_tweet.polarity.apply(make_score)\n",
    "clean_tweet.head(10)"
   ]
  },
  {
   "cell_type": "code",
   "execution_count": 84,
   "id": "546791f2",
   "metadata": {},
   "outputs": [
    {
     "data": {
      "text/plain": [
       "<AxesSubplot:>"
      ]
     },
     "execution_count": 84,
     "metadata": {},
     "output_type": "execute_result"
    },
    {
     "data": {
      "image/png": "[encoded data removed]",
      "text/plain": [
       "<Figure size 432x288 with 1 Axes>"
      ]
     },
     "metadata": {
      "needs_background": "light"
     },
     "output_type": "display_data"
    }
   ],
   "source": [
    "clean_tweet['type'].value_counts().plot(kind='bar')"
   ]
  },
  {
   "cell_type": "code",
   "execution_count": 85,
   "id": "94e2785b",
   "metadata": {},
   "outputs": [
    {
     "data": {
      "text/plain": [
       "<AxesSubplot:ylabel='type'>"
      ]
     },
     "execution_count": 85,
     "metadata": {},
     "output_type": "execute_result"
    },
    {
     "data": {
      "image/png": "[encoded data removed]",
      "text/plain": [
       "<Figure size 432x288 with 1 Axes>"
      ]
     },
     "metadata": {},
     "output_type": "display_data"
    }
   ],
   "source": [
    "clean_tweet['type'].value_counts().plot(kind='pie')"
   ]
  },
  {
   "cell_type": "code",
   "execution_count": null,
   "id": "a9204c7f",
   "metadata": {},
   "outputs": [],
   "source": []
  }
 ],
 "metadata": {
  "kernelspec": {
   "display_name": "Python 3 (ipykernel)",
   "language": "python",
   "name": "python3"
  },
  "language_info": {
   "codemirror_mode": {
    "name": "ipython",
    "version": 3
   },
   "file_extension": ".py",
   "mimetype": "text/x-python",
   "name": "python",
   "nbconvert_exporter": "python",
   "pygments_lexer": "ipython3",
   "version": "3.9.7"
  }
 },
 "nbformat": 4,
 "nbformat_minor": 5
}
