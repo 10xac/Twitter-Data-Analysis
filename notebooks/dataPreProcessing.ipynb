{
 "cells": [
  {
   "cell_type": "code",
   "execution_count": 1,
   "metadata": {},
   "outputs": [],
   "source": [
    "import sys\n",
    "import os\n",
    "sys.path.append(os.path.abspath(os.path.join('..')))\n",
    "import pandas as pd\n",
    "import re\n",
    "\n",
    "from clean_tweets_dataframe import Clean_Tweets\n"
   ]
  },
  {
   "cell_type": "code",
   "execution_count": 2,
   "metadata": {},
   "outputs": [],
   "source": [
    "CSV_PATH = \"../processed_tweet_data.csv\"\n",
    "CLEANED_SAVE_PATH = \"../cleaned_tweet_data.csv\""
   ]
  },
  {
   "cell_type": "code",
   "execution_count": null,
   "metadata": {},
   "outputs": [],
   "source": []
  },
  {
   "cell_type": "code",
   "execution_count": 3,
   "metadata": {},
   "outputs": [],
   "source": [
    "# PreProcessing"
   ]
  },
  {
   "cell_type": "code",
   "execution_count": 4,
   "metadata": {},
   "outputs": [],
   "source": [
    "# taking a csv file path and reading a dataframe\n",
    "\n",
    "def read_proccessed_data(csv_path):\n",
    "    try:    \n",
    "        df = pd.read_csv(csv_path)\n",
    "        print(\"file read as csv\")\n",
    "        return df\n",
    "    except FileNotFoundError:\n",
    "        print(\"file not found\")\n",
    "    \n",
    "    "
   ]
  },
  {
   "cell_type": "code",
   "execution_count": 5,
   "metadata": {},
   "outputs": [],
   "source": [
    "def preprocess_and_clean(df: pd.DataFrame, save=False) -> pd.DataFrame:\n",
    "    \n",
    "    Tweet_cleaner = Clean_Tweets(df)\n",
    "    \n",
    "    df = Tweet_cleaner.drop_duplicate(df)\n",
    "    \n",
    "    df = Tweet_cleaner.drop_unwanted_column(df)\n",
    "    \n",
    "    df = Tweet_cleaner.drop_unwanted_column(df)\n",
    "    \n",
    "    df = Tweet_cleaner.convert_to_datetime(df)\n",
    "    \n",
    "    df = Tweet_cleaner.convert_to_numbers(df)\n",
    "    \n",
    "    df = Tweet_cleaner.remove_non_english_tweets(df)\n",
    "    \n",
    "    df['clean_text']= df['original_text'].astype(str)\n",
    "    df['clean_text'] = df['clean_text'].apply(lambda x: x.lower())\n",
    "    \n",
    "    print(\"data cleaned...\")\n",
    "    print(save)\n",
    "    \n",
    "    if save:\n",
    "        try: \n",
    "            df.to_csv(CLEANED_SAVE_PATH, index=False)\n",
    "            print('File Successfully Saved.!!!')\n",
    "        \n",
    "        except Exception:\n",
    "            print(\"Save failed...\")\n",
    "    \n",
    "    return df\n",
    "            \n",
    "\n",
    "\n",
    "    \n",
    "    \n",
    "    "
   ]
  },
  {
   "cell_type": "code",
   "execution_count": 6,
   "metadata": {},
   "outputs": [],
   "source": [
    "def get_data_info(tweet_df: pd.DataFrame):\n",
    "    \n",
    "    row_count, col_count = tweet_df.shape\n",
    "    \n",
    "    print(f\"Number of rows: {row_count}\")\n",
    "    print(f\"Number of columns: {col_count}\")\n",
    "\n",
    "    return tweet_df.info()\n",
    "    "
   ]
  },
  {
   "cell_type": "code",
   "execution_count": null,
   "metadata": {},
   "outputs": [],
   "source": [
    "tweet_df = read_proccessed_data(CSV_PATH)\n",
    "tweet_df.head()"
   ]
  },
  {
   "cell_type": "code",
   "execution_count": 16,
   "metadata": {},
   "outputs": [
    {
     "name": "stdout",
     "output_type": "stream",
     "text": [
      "Number of rows: 3720\n",
      "Number of columns: 15\n",
      "<class 'pandas.core.frame.DataFrame'>\n",
      "RangeIndex: 3720 entries, 0 to 3719\n",
      "Data columns (total 15 columns):\n",
      " #   Column              Non-Null Count  Dtype  \n",
      "---  ------              --------------  -----  \n",
      " 0   created_at          3720 non-null   object \n",
      " 1   source              3720 non-null   object \n",
      " 2   original_text       2248 non-null   object \n",
      " 3   polarity            3720 non-null   float64\n",
      " 4   subjectivity        3720 non-null   float64\n",
      " 5   lang                3720 non-null   object \n",
      " 6   favorite_count      3720 non-null   int64  \n",
      " 7   retweet_count       2810 non-null   float64\n",
      " 8   original_author     3720 non-null   object \n",
      " 9   followers_count     3720 non-null   int64  \n",
      " 10  friends_count       3720 non-null   int64  \n",
      " 11  possibly_sensitive  0 non-null      float64\n",
      " 12  hashtags            3720 non-null   object \n",
      " 13  user_mentions       3720 non-null   object \n",
      " 14  place               2430 non-null   object \n",
      "dtypes: float64(4), int64(3), object(8)\n",
      "memory usage: 436.1+ KB\n"
     ]
    }
   ],
   "source": [
    "get_data_info(tweet_df)"
   ]
  },
  {
   "cell_type": "code",
   "execution_count": 353,
   "metadata": {},
   "outputs": [
    {
     "name": "stdout",
     "output_type": "stream",
     "text": [
      "Automation in Action...!!!\n"
     ]
    },
    {
     "name": "stderr",
     "output_type": "stream",
     "text": [
      "/Users/daniel/opt/anaconda3/lib/python3.7/site-packages/pandas/core/ops/array_ops.py:253: FutureWarning: elementwise comparison failed; returning scalar instead, but in the future will perform elementwise comparison\n",
      "  res_values = method(rvalues)\n"
     ]
    },
    {
     "name": "stdout",
     "output_type": "stream",
     "text": [
      "data cleaned...\n"
     ]
    },
    {
     "data": {
      "text/html": [
       "<div>\n",
       "<style scoped>\n",
       "    .dataframe tbody tr th:only-of-type {\n",
       "        vertical-align: middle;\n",
       "    }\n",
       "\n",
       "    .dataframe tbody tr th {\n",
       "        vertical-align: top;\n",
       "    }\n",
       "\n",
       "    .dataframe thead th {\n",
       "        text-align: right;\n",
       "    }\n",
       "</style>\n",
       "<table border=\"1\" class=\"dataframe\">\n",
       "  <thead>\n",
       "    <tr style=\"text-align: right;\">\n",
       "      <th></th>\n",
       "      <th>created_at</th>\n",
       "      <th>source</th>\n",
       "      <th>original_text</th>\n",
       "      <th>polarity</th>\n",
       "      <th>subjectivity</th>\n",
       "      <th>lang</th>\n",
       "      <th>favorite_count</th>\n",
       "      <th>retweet_count</th>\n",
       "      <th>original_author</th>\n",
       "      <th>followers_count</th>\n",
       "      <th>friends_count</th>\n",
       "      <th>possibly_sensitive</th>\n",
       "      <th>hashtags</th>\n",
       "      <th>user_mentions</th>\n",
       "      <th>place</th>\n",
       "      <th>friends_count</th>\n",
       "      <th>clean_text</th>\n",
       "    </tr>\n",
       "  </thead>\n",
       "  <tbody>\n",
       "    <tr>\n",
       "      <th>0</th>\n",
       "      <td>2021-06-18 17:55:49+00:00</td>\n",
       "      <td>&lt;a href=\"http://twitter.com/download/iphone\" r...</td>\n",
       "      <td>🚨Africa is \"in the midst of a full-blown third...</td>\n",
       "      <td>0.166667</td>\n",
       "      <td>0.188889</td>\n",
       "      <td>en</td>\n",
       "      <td>548</td>\n",
       "      <td>612.0</td>\n",
       "      <td>ketuesriche</td>\n",
       "      <td>551</td>\n",
       "      <td>351</td>\n",
       "      <td>NaN</td>\n",
       "      <td>[]</td>\n",
       "      <td>[{'screen_name': 'TelGlobalHealth', 'name': 'T...</td>\n",
       "      <td>Mass</td>\n",
       "      <td>0.166667</td>\n",
       "      <td>🚨africa is \"in the midst of a full-blown third...</td>\n",
       "    </tr>\n",
       "    <tr>\n",
       "      <th>1</th>\n",
       "      <td>2021-06-18 17:55:59+00:00</td>\n",
       "      <td>&lt;a href=\"https://mobile.twitter.com\" rel=\"nofo...</td>\n",
       "      <td>Dr Moeti is head of WHO in Africa, and one of ...</td>\n",
       "      <td>0.133333</td>\n",
       "      <td>0.455556</td>\n",
       "      <td>en</td>\n",
       "      <td>195</td>\n",
       "      <td>92.0</td>\n",
       "      <td>Grid1949</td>\n",
       "      <td>66</td>\n",
       "      <td>92</td>\n",
       "      <td>NaN</td>\n",
       "      <td>[]</td>\n",
       "      <td>[{'screen_name': 'globalhlthtwit', 'name': 'An...</td>\n",
       "      <td>Edinburgh, Scotland</td>\n",
       "      <td>0.133333</td>\n",
       "      <td>dr moeti is head of who in africa, and one of ...</td>\n",
       "    </tr>\n",
       "    <tr>\n",
       "      <th>2</th>\n",
       "      <td>2021-06-18 17:56:07+00:00</td>\n",
       "      <td>&lt;a href=\"http://twitter.com/download/iphone\" r...</td>\n",
       "      <td>Thank you @research2note for creating this ama...</td>\n",
       "      <td>0.316667</td>\n",
       "      <td>0.483333</td>\n",
       "      <td>en</td>\n",
       "      <td>2</td>\n",
       "      <td>1.0</td>\n",
       "      <td>LeeTomlinson8</td>\n",
       "      <td>1195</td>\n",
       "      <td>1176</td>\n",
       "      <td>NaN</td>\n",
       "      <td>[{'text': 'red4research', 'indices': [103, 116]}]</td>\n",
       "      <td>[{'screen_name': 'NHSRDForum', 'name': 'NHS R&amp;...</td>\n",
       "      <td>NaN</td>\n",
       "      <td>0.316667</td>\n",
       "      <td>thank you @research2note for creating this ama...</td>\n",
       "    </tr>\n",
       "    <tr>\n",
       "      <th>3</th>\n",
       "      <td>2021-06-18 17:56:10+00:00</td>\n",
       "      <td>&lt;a href=\"https://mobile.twitter.com\" rel=\"nofo...</td>\n",
       "      <td>Former Pfizer VP and Virologist, Dr. Michael Y...</td>\n",
       "      <td>0.086111</td>\n",
       "      <td>0.197222</td>\n",
       "      <td>en</td>\n",
       "      <td>1580</td>\n",
       "      <td>899.0</td>\n",
       "      <td>RIPNY08</td>\n",
       "      <td>2666</td>\n",
       "      <td>2704</td>\n",
       "      <td>NaN</td>\n",
       "      <td>[]</td>\n",
       "      <td>[{'screen_name': 'HighWireTalk', 'name': 'The ...</td>\n",
       "      <td>NaN</td>\n",
       "      <td>0.086111</td>\n",
       "      <td>former pfizer vp and virologist, dr. michael y...</td>\n",
       "    </tr>\n",
       "    <tr>\n",
       "      <th>4</th>\n",
       "      <td>2021-06-18 17:56:20+00:00</td>\n",
       "      <td>&lt;a href=\"http://twitter.com/download/android\" ...</td>\n",
       "      <td>I think it’s important that we don’t sell COVA...</td>\n",
       "      <td>0.280000</td>\n",
       "      <td>0.620000</td>\n",
       "      <td>en</td>\n",
       "      <td>72</td>\n",
       "      <td>20.0</td>\n",
       "      <td>pash22</td>\n",
       "      <td>28250</td>\n",
       "      <td>30819</td>\n",
       "      <td>NaN</td>\n",
       "      <td>[]</td>\n",
       "      <td>[{'screen_name': 'PeterHotez', 'name': 'Prof P...</td>\n",
       "      <td>United Kingdom</td>\n",
       "      <td>0.280000</td>\n",
       "      <td>i think it’s important that we don’t sell cova...</td>\n",
       "    </tr>\n",
       "    <tr>\n",
       "      <th>...</th>\n",
       "      <td>...</td>\n",
       "      <td>...</td>\n",
       "      <td>...</td>\n",
       "      <td>...</td>\n",
       "      <td>...</td>\n",
       "      <td>...</td>\n",
       "      <td>...</td>\n",
       "      <td>...</td>\n",
       "      <td>...</td>\n",
       "      <td>...</td>\n",
       "      <td>...</td>\n",
       "      <td>...</td>\n",
       "      <td>...</td>\n",
       "      <td>...</td>\n",
       "      <td>...</td>\n",
       "      <td>...</td>\n",
       "      <td>...</td>\n",
       "    </tr>\n",
       "    <tr>\n",
       "      <th>3715</th>\n",
       "      <td>2021-06-19 00:53:47+00:00</td>\n",
       "      <td>&lt;a href=\"http://twitter.com/download/iphone\" r...</td>\n",
       "      <td>204,344 #COVID19 vaccines have been administer...</td>\n",
       "      <td>0.100000</td>\n",
       "      <td>0.400000</td>\n",
       "      <td>en</td>\n",
       "      <td>380</td>\n",
       "      <td>39.0</td>\n",
       "      <td>farshait</td>\n",
       "      <td>1489</td>\n",
       "      <td>4806</td>\n",
       "      <td>NaN</td>\n",
       "      <td>[{'text': 'COVID19', 'indices': [25, 33]}]</td>\n",
       "      <td>[{'screen_name': 'BogochIsaac', 'name': 'Isaac...</td>\n",
       "      <td>Toronto, Ontario</td>\n",
       "      <td>0.100000</td>\n",
       "      <td>204,344 #covid19 vaccines have been administer...</td>\n",
       "    </tr>\n",
       "    <tr>\n",
       "      <th>3716</th>\n",
       "      <td>2021-06-19 00:53:56+00:00</td>\n",
       "      <td>&lt;a href=\"http://twitter.com/download/android\" ...</td>\n",
       "      <td>🚨Africa is \"in the midst of a full-blown third...</td>\n",
       "      <td>-0.386111</td>\n",
       "      <td>0.622222</td>\n",
       "      <td>en</td>\n",
       "      <td>614</td>\n",
       "      <td>685.0</td>\n",
       "      <td>anandan22</td>\n",
       "      <td>2072</td>\n",
       "      <td>688</td>\n",
       "      <td>NaN</td>\n",
       "      <td>[]</td>\n",
       "      <td>[{'screen_name': 'TelGlobalHealth', 'name': 'T...</td>\n",
       "      <td>ADI  🛫 GGN  🛫 Noida 🛫 SBC</td>\n",
       "      <td>-0.386111</td>\n",
       "      <td>🚨africa is \"in the midst of a full-blown third...</td>\n",
       "    </tr>\n",
       "    <tr>\n",
       "      <th>3717</th>\n",
       "      <td>2021-06-19 00:54:00+00:00</td>\n",
       "      <td>&lt;a href=\"http://twitter.com/download/iphone\" r...</td>\n",
       "      <td>I’m pleased to welcome the #WeCanDoThis bus to...</td>\n",
       "      <td>-0.050000</td>\n",
       "      <td>0.400000</td>\n",
       "      <td>en</td>\n",
       "      <td>946</td>\n",
       "      <td>306.0</td>\n",
       "      <td>nanteos620</td>\n",
       "      <td>168</td>\n",
       "      <td>667</td>\n",
       "      <td>NaN</td>\n",
       "      <td>[{'text': 'WeCanDoThis', 'indices': [44, 56]},...</td>\n",
       "      <td>[{'screen_name': 'CDCDirector', 'name': 'Roche...</td>\n",
       "      <td>Auburn, AL</td>\n",
       "      <td>-0.050000</td>\n",
       "      <td>i’m pleased to welcome the #wecandothis bus to...</td>\n",
       "    </tr>\n",
       "    <tr>\n",
       "      <th>3718</th>\n",
       "      <td>2021-06-19 00:54:03+00:00</td>\n",
       "      <td>&lt;a href=\"http://twitter.com/download/android\" ...</td>\n",
       "      <td>In this interview, I discuss the possible lab ...</td>\n",
       "      <td>0.086111</td>\n",
       "      <td>0.197222</td>\n",
       "      <td>en</td>\n",
       "      <td>14</td>\n",
       "      <td>9.0</td>\n",
       "      <td>NVoluntaryist</td>\n",
       "      <td>1350</td>\n",
       "      <td>541</td>\n",
       "      <td>NaN</td>\n",
       "      <td>[]</td>\n",
       "      <td>[{'screen_name': 'jeremyrhammond', 'name': 'Je...</td>\n",
       "      <td>In the snowy mountains</td>\n",
       "      <td>0.086111</td>\n",
       "      <td>in this interview, i discuss the possible lab ...</td>\n",
       "    </tr>\n",
       "    <tr>\n",
       "      <th>3719</th>\n",
       "      <td>2021-06-19 00:54:19+00:00</td>\n",
       "      <td>&lt;a href=\"http://twitter.com/download/iphone\" r...</td>\n",
       "      <td>I don't think we should rush emergency approve...</td>\n",
       "      <td>0.125000</td>\n",
       "      <td>0.325000</td>\n",
       "      <td>en</td>\n",
       "      <td>6</td>\n",
       "      <td>1.0</td>\n",
       "      <td>chrisjsmith14</td>\n",
       "      <td>41</td>\n",
       "      <td>72</td>\n",
       "      <td>NaN</td>\n",
       "      <td>[]</td>\n",
       "      <td>[{'screen_name': 'm_etxe_ar', 'name': 'M To', ...</td>\n",
       "      <td>NaN</td>\n",
       "      <td>0.125000</td>\n",
       "      <td>i don't think we should rush emergency approve...</td>\n",
       "    </tr>\n",
       "  </tbody>\n",
       "</table>\n",
       "<p>3711 rows × 17 columns</p>\n",
       "</div>"
      ],
      "text/plain": [
       "                    created_at  \\\n",
       "0    2021-06-18 17:55:49+00:00   \n",
       "1    2021-06-18 17:55:59+00:00   \n",
       "2    2021-06-18 17:56:07+00:00   \n",
       "3    2021-06-18 17:56:10+00:00   \n",
       "4    2021-06-18 17:56:20+00:00   \n",
       "...                        ...   \n",
       "3715 2021-06-19 00:53:47+00:00   \n",
       "3716 2021-06-19 00:53:56+00:00   \n",
       "3717 2021-06-19 00:54:00+00:00   \n",
       "3718 2021-06-19 00:54:03+00:00   \n",
       "3719 2021-06-19 00:54:19+00:00   \n",
       "\n",
       "                                                 source  \\\n",
       "0     <a href=\"http://twitter.com/download/iphone\" r...   \n",
       "1     <a href=\"https://mobile.twitter.com\" rel=\"nofo...   \n",
       "2     <a href=\"http://twitter.com/download/iphone\" r...   \n",
       "3     <a href=\"https://mobile.twitter.com\" rel=\"nofo...   \n",
       "4     <a href=\"http://twitter.com/download/android\" ...   \n",
       "...                                                 ...   \n",
       "3715  <a href=\"http://twitter.com/download/iphone\" r...   \n",
       "3716  <a href=\"http://twitter.com/download/android\" ...   \n",
       "3717  <a href=\"http://twitter.com/download/iphone\" r...   \n",
       "3718  <a href=\"http://twitter.com/download/android\" ...   \n",
       "3719  <a href=\"http://twitter.com/download/iphone\" r...   \n",
       "\n",
       "                                          original_text  polarity  \\\n",
       "0     🚨Africa is \"in the midst of a full-blown third...  0.166667   \n",
       "1     Dr Moeti is head of WHO in Africa, and one of ...  0.133333   \n",
       "2     Thank you @research2note for creating this ama...  0.316667   \n",
       "3     Former Pfizer VP and Virologist, Dr. Michael Y...  0.086111   \n",
       "4     I think it’s important that we don’t sell COVA...  0.280000   \n",
       "...                                                 ...       ...   \n",
       "3715  204,344 #COVID19 vaccines have been administer...  0.100000   \n",
       "3716  🚨Africa is \"in the midst of a full-blown third... -0.386111   \n",
       "3717  I’m pleased to welcome the #WeCanDoThis bus to... -0.050000   \n",
       "3718  In this interview, I discuss the possible lab ...  0.086111   \n",
       "3719  I don't think we should rush emergency approve...  0.125000   \n",
       "\n",
       "      subjectivity lang  favorite_count  retweet_count original_author  \\\n",
       "0         0.188889   en             548          612.0     ketuesriche   \n",
       "1         0.455556   en             195           92.0        Grid1949   \n",
       "2         0.483333   en               2            1.0   LeeTomlinson8   \n",
       "3         0.197222   en            1580          899.0         RIPNY08   \n",
       "4         0.620000   en              72           20.0          pash22   \n",
       "...            ...  ...             ...            ...             ...   \n",
       "3715      0.400000   en             380           39.0        farshait   \n",
       "3716      0.622222   en             614          685.0       anandan22   \n",
       "3717      0.400000   en             946          306.0      nanteos620   \n",
       "3718      0.197222   en              14            9.0   NVoluntaryist   \n",
       "3719      0.325000   en               6            1.0   chrisjsmith14   \n",
       "\n",
       "      followers_count  friends_count  possibly_sensitive  \\\n",
       "0                 551            351                 NaN   \n",
       "1                  66             92                 NaN   \n",
       "2                1195           1176                 NaN   \n",
       "3                2666           2704                 NaN   \n",
       "4               28250          30819                 NaN   \n",
       "...               ...            ...                 ...   \n",
       "3715             1489           4806                 NaN   \n",
       "3716             2072            688                 NaN   \n",
       "3717              168            667                 NaN   \n",
       "3718             1350            541                 NaN   \n",
       "3719               41             72                 NaN   \n",
       "\n",
       "                                               hashtags  \\\n",
       "0                                                    []   \n",
       "1                                                    []   \n",
       "2     [{'text': 'red4research', 'indices': [103, 116]}]   \n",
       "3                                                    []   \n",
       "4                                                    []   \n",
       "...                                                 ...   \n",
       "3715         [{'text': 'COVID19', 'indices': [25, 33]}]   \n",
       "3716                                                 []   \n",
       "3717  [{'text': 'WeCanDoThis', 'indices': [44, 56]},...   \n",
       "3718                                                 []   \n",
       "3719                                                 []   \n",
       "\n",
       "                                          user_mentions  \\\n",
       "0     [{'screen_name': 'TelGlobalHealth', 'name': 'T...   \n",
       "1     [{'screen_name': 'globalhlthtwit', 'name': 'An...   \n",
       "2     [{'screen_name': 'NHSRDForum', 'name': 'NHS R&...   \n",
       "3     [{'screen_name': 'HighWireTalk', 'name': 'The ...   \n",
       "4     [{'screen_name': 'PeterHotez', 'name': 'Prof P...   \n",
       "...                                                 ...   \n",
       "3715  [{'screen_name': 'BogochIsaac', 'name': 'Isaac...   \n",
       "3716  [{'screen_name': 'TelGlobalHealth', 'name': 'T...   \n",
       "3717  [{'screen_name': 'CDCDirector', 'name': 'Roche...   \n",
       "3718  [{'screen_name': 'jeremyrhammond', 'name': 'Je...   \n",
       "3719  [{'screen_name': 'm_etxe_ar', 'name': 'M To', ...   \n",
       "\n",
       "                          place  friends_count   \\\n",
       "0                          Mass        0.166667   \n",
       "1           Edinburgh, Scotland        0.133333   \n",
       "2                           NaN        0.316667   \n",
       "3                           NaN        0.086111   \n",
       "4                United Kingdom        0.280000   \n",
       "...                         ...             ...   \n",
       "3715           Toronto, Ontario        0.100000   \n",
       "3716  ADI  🛫 GGN  🛫 Noida 🛫 SBC       -0.386111   \n",
       "3717                 Auburn, AL       -0.050000   \n",
       "3718     In the snowy mountains        0.086111   \n",
       "3719                        NaN        0.125000   \n",
       "\n",
       "                                             clean_text  \n",
       "0     🚨africa is \"in the midst of a full-blown third...  \n",
       "1     dr moeti is head of who in africa, and one of ...  \n",
       "2     thank you @research2note for creating this ama...  \n",
       "3     former pfizer vp and virologist, dr. michael y...  \n",
       "4     i think it’s important that we don’t sell cova...  \n",
       "...                                                 ...  \n",
       "3715  204,344 #covid19 vaccines have been administer...  \n",
       "3716  🚨africa is \"in the midst of a full-blown third...  \n",
       "3717  i’m pleased to welcome the #wecandothis bus to...  \n",
       "3718  in this interview, i discuss the possible lab ...  \n",
       "3719  i don't think we should rush emergency approve...  \n",
       "\n",
       "[3711 rows x 17 columns]"
      ]
     },
     "execution_count": 353,
     "metadata": {},
     "output_type": "execute_result"
    }
   ],
   "source": [
    "preprocess_and_clean(tweet_df, True)"
   ]
  },
  {
   "cell_type": "code",
   "execution_count": 354,
   "metadata": {},
   "outputs": [],
   "source": [
    "class TweeterDataExplorator:\n",
    "    \n",
    "    def __init__(self, df):\n",
    "        \n",
    "        self.df = df\n",
    "    \n",
    "    def read_head(self):\n",
    "        return self.df.head()\n",
    "    \n",
    "    def get_info(self):\n",
    "        row_count, col_count = self.df.shape\n",
    "    \n",
    "        print(f\"Number of rows: {row_count}\")\n",
    "        print(f\"Number of columns: {col_count}\")\n",
    "\n",
    "        return (row_count, col_count), self.df.info()\n",
    "    \n",
    "    def get_count(self, column_name):\n",
    "        return self.df[column_name].value_counts()\n",
    "    \n",
    "    def get_polarities_count(self):\n",
    "        postive_count = tweet_df[tweet_df['polarity'] > 0].shape[0]\n",
    "        neutral_count = tweet_df[tweet_df['polarity'] == 0].shape[0]\n",
    "        negative_count = tweet_df[tweet_df['polarity'] < 0].shape[0]\n",
    "        \n",
    "        return {\"postive\": postive_count, \"neutral\": neutral_count, \"negative\": negative_count}\n",
    "\n",
    "        \n",
    "    \n",
    "    def get_hash_tag_df(self):        \n",
    "        hash_tags = self.df.clean_text.apply(self.__find_hashtags)\n",
    "        \n",
    "        flattened_hash_tags = []\n",
    "        \n",
    "        for hash_tag_list in hash_tags:\n",
    "            for hash_tag in hash_tag_list:\n",
    "                flattened_hash_tags.append(hash_tag)\n",
    "        \n",
    "        hashtag_df = pd.DataFrame(columns=['hashtag'])\n",
    "        hashtag_df['hashtag'] = flattened_hash_tags\n",
    "        \n",
    "        return hashtag_df\n",
    "    \n",
    "    def most_used_hash_tag(self, top=None):\n",
    "        return self.get_hash_tag_df()['hashtag'].value_counts().head(top)\n",
    "        \n",
    "    def visualze_polarity(self):\n",
    "        return \n",
    "    \n",
    "    def most_used_language(self, top=None):\n",
    "        return self.df['lang'].value_counts().head(top)\n",
    "    \n",
    "    def authors(self, top=None):\n",
    "        \n",
    "        return self.df['original_author'].value_counts().head(top)\n",
    "    \n",
    "    \n",
    "    def most_retweeted_tweet(self):\n",
    "        pass\n",
    "    \n",
    "    def __find_hashtags(self, tweet):\n",
    "        \n",
    "        try:\n",
    "            return re.findall('(#[A-Za-z]+[A-Za-z0-9-_]+)', tweet)\n",
    "        except:\n",
    "            return []"
   ]
  },
  {
   "cell_type": "code",
   "execution_count": 355,
   "metadata": {},
   "outputs": [
    {
     "name": "stdout",
     "output_type": "stream",
     "text": [
      "file not found\n"
     ]
    }
   ],
   "source": [
    "cleaned_tweet_df = read_proccessed_data(CLEANED_SAVE_PATH)\n",
    "tweeterDataExplorator = TweeterDataExplorator(cleaned_tweet_df)"
   ]
  },
  {
   "cell_type": "code",
   "execution_count": 356,
   "metadata": {},
   "outputs": [
    {
     "ename": "AttributeError",
     "evalue": "'NoneType' object has no attribute 'shape'",
     "output_type": "error",
     "traceback": [
      "\u001b[0;31m---------------------------------------------------------------------------\u001b[0m",
      "\u001b[0;31mAttributeError\u001b[0m                            Traceback (most recent call last)",
      "\u001b[0;32m<ipython-input-356-88b83aed77bc>\u001b[0m in \u001b[0;36m<module>\u001b[0;34m\u001b[0m\n\u001b[0;32m----> 1\u001b[0;31m \u001b[0mtweeterDataExplorator\u001b[0m\u001b[0;34m.\u001b[0m\u001b[0mget_info\u001b[0m\u001b[0;34m(\u001b[0m\u001b[0;34m)\u001b[0m\u001b[0;34m\u001b[0m\u001b[0;34m\u001b[0m\u001b[0m\n\u001b[0m",
      "\u001b[0;32m<ipython-input-354-f4da37058313>\u001b[0m in \u001b[0;36mget_info\u001b[0;34m(self)\u001b[0m\n\u001b[1;32m      9\u001b[0m \u001b[0;34m\u001b[0m\u001b[0m\n\u001b[1;32m     10\u001b[0m     \u001b[0;32mdef\u001b[0m \u001b[0mget_info\u001b[0m\u001b[0;34m(\u001b[0m\u001b[0mself\u001b[0m\u001b[0;34m)\u001b[0m\u001b[0;34m:\u001b[0m\u001b[0;34m\u001b[0m\u001b[0;34m\u001b[0m\u001b[0m\n\u001b[0;32m---> 11\u001b[0;31m         \u001b[0mrow_count\u001b[0m\u001b[0;34m,\u001b[0m \u001b[0mcol_count\u001b[0m \u001b[0;34m=\u001b[0m \u001b[0mself\u001b[0m\u001b[0;34m.\u001b[0m\u001b[0mdf\u001b[0m\u001b[0;34m.\u001b[0m\u001b[0mshape\u001b[0m\u001b[0;34m\u001b[0m\u001b[0;34m\u001b[0m\u001b[0m\n\u001b[0m\u001b[1;32m     12\u001b[0m \u001b[0;34m\u001b[0m\u001b[0m\n\u001b[1;32m     13\u001b[0m         \u001b[0mprint\u001b[0m\u001b[0;34m(\u001b[0m\u001b[0;34mf\"Number of rows: {row_count}\"\u001b[0m\u001b[0;34m)\u001b[0m\u001b[0;34m\u001b[0m\u001b[0;34m\u001b[0m\u001b[0m\n",
      "\u001b[0;31mAttributeError\u001b[0m: 'NoneType' object has no attribute 'shape'"
     ]
    }
   ],
   "source": [
    "tweeterDataExplorator.get_info()"
   ]
  },
  {
   "cell_type": "code",
   "execution_count": 333,
   "metadata": {},
   "outputs": [
    {
     "name": "stdout",
     "output_type": "stream",
     "text": [
      "postive: 2781\n",
      "negative: 567\n",
      "neutal: 363\n"
     ]
    }
   ],
   "source": [
    "polaritites_count = tweeterDataExplorator.get_polarities_count()\n",
    "print(f\"postive: { polaritites_count['postive'] }\")\n",
    "print(f\"negative: { polaritites_count['negative'] }\")\n",
    "print(f\"neutal: { polaritites_count['neutral'] }\")"
   ]
  },
  {
   "cell_type": "code",
   "execution_count": 334,
   "metadata": {},
   "outputs": [
    {
     "ename": "AttributeError",
     "evalue": "'DataFrame' object has no attribute 'clean_text'",
     "output_type": "error",
     "traceback": [
      "\u001b[0;31m---------------------------------------------------------------------------\u001b[0m",
      "\u001b[0;31mAttributeError\u001b[0m                            Traceback (most recent call last)",
      "\u001b[0;32m<ipython-input-334-604d494ff3d3>\u001b[0m in \u001b[0;36m<module>\u001b[0;34m\u001b[0m\n\u001b[0;32m----> 1\u001b[0;31m \u001b[0mtop_ten_hash_tags_used\u001b[0m \u001b[0;34m=\u001b[0m \u001b[0mtweeterDataExplorator\u001b[0m\u001b[0;34m.\u001b[0m\u001b[0mmost_used_hash_tag\u001b[0m\u001b[0;34m(\u001b[0m\u001b[0;36m10\u001b[0m\u001b[0;34m)\u001b[0m\u001b[0;34m\u001b[0m\u001b[0;34m\u001b[0m\u001b[0m\n\u001b[0m\u001b[1;32m      2\u001b[0m \u001b[0mtop_ten_hash_tags_used\u001b[0m\u001b[0;34m\u001b[0m\u001b[0;34m\u001b[0m\u001b[0m\n",
      "\u001b[0;32m<ipython-input-330-f4da37058313>\u001b[0m in \u001b[0;36mmost_used_hash_tag\u001b[0;34m(self, top)\u001b[0m\n\u001b[1;32m     43\u001b[0m \u001b[0;34m\u001b[0m\u001b[0m\n\u001b[1;32m     44\u001b[0m     \u001b[0;32mdef\u001b[0m \u001b[0mmost_used_hash_tag\u001b[0m\u001b[0;34m(\u001b[0m\u001b[0mself\u001b[0m\u001b[0;34m,\u001b[0m \u001b[0mtop\u001b[0m\u001b[0;34m=\u001b[0m\u001b[0;32mNone\u001b[0m\u001b[0;34m)\u001b[0m\u001b[0;34m:\u001b[0m\u001b[0;34m\u001b[0m\u001b[0;34m\u001b[0m\u001b[0m\n\u001b[0;32m---> 45\u001b[0;31m         \u001b[0;32mreturn\u001b[0m \u001b[0mself\u001b[0m\u001b[0;34m.\u001b[0m\u001b[0mget_hash_tag_df\u001b[0m\u001b[0;34m(\u001b[0m\u001b[0;34m)\u001b[0m\u001b[0;34m[\u001b[0m\u001b[0;34m'hashtag'\u001b[0m\u001b[0;34m]\u001b[0m\u001b[0;34m.\u001b[0m\u001b[0mvalue_counts\u001b[0m\u001b[0;34m(\u001b[0m\u001b[0;34m)\u001b[0m\u001b[0;34m.\u001b[0m\u001b[0mhead\u001b[0m\u001b[0;34m(\u001b[0m\u001b[0mtop\u001b[0m\u001b[0;34m)\u001b[0m\u001b[0;34m\u001b[0m\u001b[0;34m\u001b[0m\u001b[0m\n\u001b[0m\u001b[1;32m     46\u001b[0m \u001b[0;34m\u001b[0m\u001b[0m\n\u001b[1;32m     47\u001b[0m     \u001b[0;32mdef\u001b[0m \u001b[0mvisualze_polarity\u001b[0m\u001b[0;34m(\u001b[0m\u001b[0mself\u001b[0m\u001b[0;34m)\u001b[0m\u001b[0;34m:\u001b[0m\u001b[0;34m\u001b[0m\u001b[0;34m\u001b[0m\u001b[0m\n",
      "\u001b[0;32m<ipython-input-330-f4da37058313>\u001b[0m in \u001b[0;36mget_hash_tag_df\u001b[0;34m(self)\u001b[0m\n\u001b[1;32m     29\u001b[0m \u001b[0;34m\u001b[0m\u001b[0m\n\u001b[1;32m     30\u001b[0m     \u001b[0;32mdef\u001b[0m \u001b[0mget_hash_tag_df\u001b[0m\u001b[0;34m(\u001b[0m\u001b[0mself\u001b[0m\u001b[0;34m)\u001b[0m\u001b[0;34m:\u001b[0m\u001b[0;34m\u001b[0m\u001b[0;34m\u001b[0m\u001b[0m\n\u001b[0;32m---> 31\u001b[0;31m         \u001b[0mhash_tags\u001b[0m \u001b[0;34m=\u001b[0m \u001b[0mself\u001b[0m\u001b[0;34m.\u001b[0m\u001b[0mdf\u001b[0m\u001b[0;34m.\u001b[0m\u001b[0mclean_text\u001b[0m\u001b[0;34m.\u001b[0m\u001b[0mapply\u001b[0m\u001b[0;34m(\u001b[0m\u001b[0mself\u001b[0m\u001b[0;34m.\u001b[0m\u001b[0m__find_hashtags\u001b[0m\u001b[0;34m)\u001b[0m\u001b[0;34m\u001b[0m\u001b[0;34m\u001b[0m\u001b[0m\n\u001b[0m\u001b[1;32m     32\u001b[0m \u001b[0;34m\u001b[0m\u001b[0m\n\u001b[1;32m     33\u001b[0m         \u001b[0mflattened_hash_tags\u001b[0m \u001b[0;34m=\u001b[0m \u001b[0;34m[\u001b[0m\u001b[0;34m]\u001b[0m\u001b[0;34m\u001b[0m\u001b[0;34m\u001b[0m\u001b[0m\n",
      "\u001b[0;32m~/opt/anaconda3/lib/python3.7/site-packages/pandas/core/generic.py\u001b[0m in \u001b[0;36m__getattr__\u001b[0;34m(self, name)\u001b[0m\n\u001b[1;32m   5272\u001b[0m             \u001b[0;32mif\u001b[0m \u001b[0mself\u001b[0m\u001b[0;34m.\u001b[0m\u001b[0m_info_axis\u001b[0m\u001b[0;34m.\u001b[0m\u001b[0m_can_hold_identifiers_and_holds_name\u001b[0m\u001b[0;34m(\u001b[0m\u001b[0mname\u001b[0m\u001b[0;34m)\u001b[0m\u001b[0;34m:\u001b[0m\u001b[0;34m\u001b[0m\u001b[0;34m\u001b[0m\u001b[0m\n\u001b[1;32m   5273\u001b[0m                 \u001b[0;32mreturn\u001b[0m \u001b[0mself\u001b[0m\u001b[0;34m[\u001b[0m\u001b[0mname\u001b[0m\u001b[0;34m]\u001b[0m\u001b[0;34m\u001b[0m\u001b[0;34m\u001b[0m\u001b[0m\n\u001b[0;32m-> 5274\u001b[0;31m             \u001b[0;32mreturn\u001b[0m \u001b[0mobject\u001b[0m\u001b[0;34m.\u001b[0m\u001b[0m__getattribute__\u001b[0m\u001b[0;34m(\u001b[0m\u001b[0mself\u001b[0m\u001b[0;34m,\u001b[0m \u001b[0mname\u001b[0m\u001b[0;34m)\u001b[0m\u001b[0;34m\u001b[0m\u001b[0;34m\u001b[0m\u001b[0m\n\u001b[0m\u001b[1;32m   5275\u001b[0m \u001b[0;34m\u001b[0m\u001b[0m\n\u001b[1;32m   5276\u001b[0m     \u001b[0;32mdef\u001b[0m \u001b[0m__setattr__\u001b[0m\u001b[0;34m(\u001b[0m\u001b[0mself\u001b[0m\u001b[0;34m,\u001b[0m \u001b[0mname\u001b[0m\u001b[0;34m:\u001b[0m \u001b[0mstr\u001b[0m\u001b[0;34m,\u001b[0m \u001b[0mvalue\u001b[0m\u001b[0;34m)\u001b[0m \u001b[0;34m->\u001b[0m \u001b[0;32mNone\u001b[0m\u001b[0;34m:\u001b[0m\u001b[0;34m\u001b[0m\u001b[0;34m\u001b[0m\u001b[0m\n",
      "\u001b[0;31mAttributeError\u001b[0m: 'DataFrame' object has no attribute 'clean_text'"
     ]
    }
   ],
   "source": [
    "top_ten_hash_tags_used = tweeterDataExplorator.most_used_hash_tag(10)\n",
    "top_ten_hash_tags_used"
   ]
  },
  {
   "cell_type": "code",
   "execution_count": 252,
   "metadata": {},
   "outputs": [
    {
     "data": {
      "text/plain": [
       "PuneUpdater        182\n",
       "viralvideovlogs     24\n",
       "Rosenchild          11\n",
       "StarColombo          9\n",
       "Skatiq3              9\n",
       "akramnaji9           8\n",
       "Traceva001           7\n",
       "LongCovidNYC         7\n",
       "TamukaKagoro77       7\n",
       "ECA_OFFICIAL         7\n",
       "Name: original_author, dtype: int64"
      ]
     },
     "execution_count": 252,
     "metadata": {},
     "output_type": "execute_result"
    }
   ],
   "source": [
    "top_ten_authors = tweeterDataExplorator.authors(10)\n",
    "top_ten_authors"
   ]
  },
  {
   "cell_type": "code",
   "execution_count": null,
   "metadata": {},
   "outputs": [],
   "source": [
    "# VISUALZATION"
   ]
  },
  {
   "cell_type": "code",
   "execution_count": 282,
   "metadata": {},
   "outputs": [
    {
     "data": {
      "text/plain": [
       "<matplotlib.axes._subplots.AxesSubplot at 0x124732890>"
      ]
     },
     "execution_count": 282,
     "metadata": {},
     "output_type": "execute_result"
    },
    {
     "data": {
      "image/png": "[encoded data removed]",
      "text/plain": [
       "<Figure size 576x576 with 1 Axes>"
      ]
     },
     "metadata": {
      "needs_background": "light"
     },
     "output_type": "display_data"
    }
   ],
   "source": [
    "top_ten_authors.plot(kind=\"bar\", title=\"Top Authors\", figsize=[8, 8])"
   ]
  },
  {
   "cell_type": "code",
   "execution_count": 283,
   "metadata": {},
   "outputs": [
    {
     "data": {
      "text/plain": [
       "<matplotlib.axes._subplots.AxesSubplot at 0x1248db450>"
      ]
     },
     "execution_count": 283,
     "metadata": {},
     "output_type": "execute_result"
    },
    {
     "data": {
      "image/png": "[encoded data removed]",
      "text/plain": [
       "<Figure size 576x576 with 1 Axes>"
      ]
     },
     "metadata": {},
     "output_type": "display_data"
    }
   ],
   "source": [
    "top_ten_authors.plot(kind=\"pie\", title=\"Top authors\", figsize=[8, 8])"
   ]
  },
  {
   "cell_type": "code",
   "execution_count": 284,
   "metadata": {},
   "outputs": [
    {
     "data": {
      "text/plain": [
       "<matplotlib.axes._subplots.AxesSubplot at 0x124a4fa50>"
      ]
     },
     "execution_count": 284,
     "metadata": {},
     "output_type": "execute_result"
    },
    {
     "data": {
      "image/png": "[encoded data removed]",
      "text/plain": [
       "<Figure size 576x576 with 1 Axes>"
      ]
     },
     "metadata": {
      "needs_background": "light"
     },
     "output_type": "display_data"
    }
   ],
   "source": [
    "top_ten_hash_tags_used.plot(kind=\"bar\", title=\"Frequent hashtags\", figsize=[8, 8])"
   ]
  },
  {
   "cell_type": "code",
   "execution_count": null,
   "metadata": {},
   "outputs": [],
   "source": []
  }
 ],
 "metadata": {
  "kernelspec": {
   "display_name": "Python 3",
   "language": "python",
   "name": "python3"
  },
  "language_info": {
   "codemirror_mode": {
    "name": "ipython",
    "version": 3
   },
   "file_extension": ".py",
   "mimetype": "text/x-python",
   "name": "python",
   "nbconvert_exporter": "python",
   "pygments_lexer": "ipython3",
   "version": "3.7.6"
  }
 },
 "nbformat": 4,
 "nbformat_minor": 4
}
