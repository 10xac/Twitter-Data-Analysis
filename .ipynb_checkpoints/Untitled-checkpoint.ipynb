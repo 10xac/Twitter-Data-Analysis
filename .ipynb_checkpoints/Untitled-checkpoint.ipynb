{
 "cells": [
  {
   "cell_type": "code",
   "execution_count": 24,
   "id": "b2f56ab3-722d-4f05-89d7-d73059bfc534",
   "metadata": {},
   "outputs": [],
   "source": [
    "import pandas as pd \n",
    "import numpy as np"
   ]
  },
  {
   "cell_type": "code",
   "execution_count": 17,
   "id": "e5b38bb6-3078-4300-b467-30e30934f09b",
   "metadata": {},
   "outputs": [],
   "source": [
    "df =pd.read_csv(\"/Users/alex/Desktop/10_acadamy/Twitter-Data-Analysis/data/covid19.csv\")"
   ]
  },
  {
   "cell_type": "code",
   "execution_count": 26,
   "id": "eebe10de-28c2-4d0e-92c8-67f41880d8de",
   "metadata": {},
   "outputs": [],
   "source": [
    "class CleanTweets:\n",
    "    def __init__(self, df:pd.DataFrame):\n",
    "        self.df = df\n",
    "        print('Automation in Action...!!!')\n"
   ]
  },
  {
   "cell_type": "code",
   "execution_count": 27,
   "id": "103545b8-1103-4823-b40f-f4fe841eaff7",
   "metadata": {},
   "outputs": [
    {
     "name": "stdout",
     "output_type": "stream",
     "text": [
      "<class 'str'>\n"
     ]
    }
   ],
   "source": [
    "print(type(\"clas\"))"
   ]
  },
  {
   "cell_type": "code",
   "execution_count": 28,
   "id": "28eebd2b-533a-4119-b336-bed8921185c9",
   "metadata": {},
   "outputs": [
    {
     "ename": "SyntaxError",
     "evalue": "unexpected EOF while parsing (3625675533.py, line 4)",
     "output_type": "error",
     "traceback": [
      "\u001b[0;36m  File \u001b[0;32m\"/var/folders/gd/ktcrdzpd1n93l_q5wz4ct1xm0000gn/T/ipykernel_42080/3625675533.py\"\u001b[0;36m, line \u001b[0;32m4\u001b[0m\n\u001b[0;31m    \u001b[0m\n\u001b[0m    ^\u001b[0m\n\u001b[0;31mSyntaxError\u001b[0m\u001b[0;31m:\u001b[0m unexpected EOF while parsing\n"
     ]
    }
   ],
   "source": [
    "class Atmospheric_Pressure:\n",
    "    def  altitude(h):\n",
    "        return \n",
    "        \n",
    "        "
   ]
  },
  {
   "cell_type": "code",
   "execution_count": 31,
   "id": "d165ed6a-44db-46ce-9eab-cafccf3799e3",
   "metadata": {},
   "outputs": [
    {
     "ename": "SyntaxError",
     "evalue": "unexpected EOF while parsing (157032853.py, line 3)",
     "output_type": "error",
     "traceback": [
      "\u001b[0;36m  File \u001b[0;32m\"/var/folders/gd/ktcrdzpd1n93l_q5wz4ct1xm0000gn/T/ipykernel_42080/157032853.py\"\u001b[0;36m, line \u001b[0;32m3\u001b[0m\n\u001b[0;31m    def  barometric(h , T):\u001b[0m\n\u001b[0m                           ^\u001b[0m\n\u001b[0;31mSyntaxError\u001b[0m\u001b[0;31m:\u001b[0m unexpected EOF while parsing\n"
     ]
    }
   ],
   "source": [
    "from math import exp\n",
    "\n",
    "def  barometric(h , T):\n"
   ]
  },
  {
   "cell_type": "code",
   "execution_count": 39,
   "id": "60780673-ce75-4501-bf66-76202e7a40ee",
   "metadata": {},
   "outputs": [
    {
     "name": "stdout",
     "output_type": "stream",
     "text": [
      "True\n"
     ]
    }
   ],
   "source": [
    "def positive_number(number):\n",
    "    if number > 0:\n",
    "        print (\"True\")\n",
    "    return None\n",
    "positive_number(5)"
   ]
  },
  {
   "cell_type": "code",
   "execution_count": 40,
   "id": "3b434ff5-c780-4542-9512-02e2a3eb4c0c",
   "metadata": {},
   "outputs": [],
   "source": [
    "def is_positive(number):\n",
    "  if number > 0:\n",
    "    print (\"True\")\n",
    "    return None\n",
    "positive_number(5)"
   ]
  },
  {
   "cell_type": "code",
   "execution_count": null,
   "id": "a6bff42e-0bc3-4a84-8c74-4b9802e2c0cc",
   "metadata": {},
   "outputs": [],
   "source": []
  }
 ],
 "metadata": {
  "kernelspec": {
   "display_name": "Python [conda env:deeplearn]",
   "language": "python",
   "name": "conda-env-deeplearn-py"
  },
  "language_info": {
   "codemirror_mode": {
    "name": "ipython",
    "version": 3
   },
   "file_extension": ".py",
   "mimetype": "text/x-python",
   "name": "python",
   "nbconvert_exporter": "python",
   "pygments_lexer": "ipython3",
   "version": "3.7.11"
  }
 },
 "nbformat": 4,
 "nbformat_minor": 5
}
