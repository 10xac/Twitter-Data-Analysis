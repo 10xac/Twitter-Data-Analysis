{
 "cells": [
  {
   "cell_type": "code",
   "execution_count": null,
   "id": "ae756726",
   "metadata": {},
   "outputs": [],
   "source": [
    "import numpy as np\n",
    "import pandas as pd\n",
    "import streamlit as st\n",
    "import altair as alt\n",
    "from wordcloud import WordCloud\n",
    "import plotly.express as px\n",
    "from add_data import db_execute_fetch"
   ]
  },
  {
   "cell_type": "code",
   "execution_count": null,
   "id": "b0180245",
   "metadata": {},
   "outputs": [],
   "source": [
    "st.set_page_config(page_title=\"Day 5\", layout=\"wide\")"
   ]
  },
  {
   "cell_type": "code",
   "execution_count": null,
   "id": "7c86afa5",
   "metadata": {},
   "outputs": [],
   "source": [
    "def loadData():\n",
    "    query = \"select * from TweetInformation\"\n",
    "    df = db_execute_fetch(query, dbName=\"tweets\", rdf=True)\n",
    "    return df"
   ]
  },
  {
   "cell_type": "code",
   "execution_count": null,
   "id": "3b9dd170",
   "metadata": {},
   "outputs": [],
   "source": [
    "def selectHashTag():\n",
    "    df = loadData()\n",
    "    hashTags = st.multiselect(\"choose combaniation of hashtags\", list(df['hashtags'].unique()))\n",
    "    if hashTags:\n",
    "        df = df[np.isin(df, hashTags).any(axis=1)]\n",
    "        st.write(df)"
   ]
  },
  {
   "cell_type": "code",
   "execution_count": null,
   "id": "0d8fa740",
   "metadata": {},
   "outputs": [],
   "source": [
    "def selectLocAndAuth():\n",
    "    df = loadData()\n",
    "    location = st.multiselect(\"choose Location of tweets\", list(df['place_coordinate'].unique()))\n",
    "    lang = st.multiselect(\"choose Language of tweets\", list(df['language'].unique()))\n",
    "\n",
    "    if location and not lang:\n",
    "        df = df[np.isin(df, location).any(axis=1)]\n",
    "        st.write(df)\n",
    "    elif lang and not location:\n",
    "        df = df[np.isin(df, lang).any(axis=1)]\n",
    "        st.write(df)\n",
    "    elif lang and location:\n",
    "        location.extend(lang)\n",
    "        df = df[np.isin(df, location).any(axis=1)]\n",
    "        st.write(df)\n",
    "    else:\n",
    "        st.write(df)"
   ]
  },
  {
   "cell_type": "code",
   "execution_count": null,
   "id": "03360c00",
   "metadata": {},
   "outputs": [],
   "source": [
    "def barChart(data, title, X, Y):\n",
    "    title = title.title()\n",
    "    st.title(f'{title} Chart')\n",
    "    msgChart = (alt.Chart(data).mark_bar().encode(alt.X(f\"{X}:N\", sort=alt.EncodingSortField(field=f\"{Y}\", op=\"values\",\n",
    "                order='ascending')), y=f\"{Y}:Q\"))\n",
    "    st.altair_chart(msgChart, use_container_width=True)\n"
   ]
  },
  {
   "cell_type": "code",
   "execution_count": null,
   "id": "197e184a",
   "metadata": {},
   "outputs": [],
   "source": [
    "def wordCloud():\n",
    "    df = loadData()\n",
    "    cleanText = ''\n",
    "    for text in df['clean_text']:\n",
    "        tokens = str(text).lower().split()\n",
    "\n",
    "        cleanText += \" \".join(tokens) + \" \"\n",
    "\n",
    "    wc = WordCloud(width=650, height=450, background_color='white', min_font_size=5).generate(cleanText)\n",
    "    st.title(\"Tweet Text Word Cloud\")\n",
    "    st.image(wc.to_array())"
   ]
  },
  {
   "cell_type": "code",
   "execution_count": null,
   "id": "d3a65c05",
   "metadata": {},
   "outputs": [],
   "source": [
    "def stBarChart():\n",
    "    df = loadData()\n",
    "    dfCount = pd.DataFrame({'Tweet_count': df.groupby(['original_author'])['clean_text'].count()}).reset_index()\n",
    "    dfCount[\"original_author\"] = dfCount[\"original_author\"].astype(str)\n",
    "    dfCount = dfCount.sort_values(\"Tweet_count\", ascending=False)\n",
    "\n",
    "    num = st.slider(\"Select number of Rankings\", 0, 50, 5)\n",
    "    title = f\"Top {num} Ranking By Number of tweets\"\n",
    "    barChart(dfCount.head(num), title, \"original_author\", \"Tweet_count\")\n"
   ]
  },
  {
   "cell_type": "code",
   "execution_count": null,
   "id": "f480a722",
   "metadata": {},
   "outputs": [],
   "source": [
    "def langPie():\n",
    "    df = loadData()\n",
    "    dfLangCount = pd.DataFrame({'Tweet_count': df.groupby(['language'])['clean_text'].count()}).reset_index()\n",
    "    dfLangCount[\"language\"] = dfLangCount[\"language\"].astype(str)\n",
    "    dfLangCount = dfLangCount.sort_values(\"Tweet_count\", ascending=False)\n",
    "    dfLangCount.loc[dfLangCount['Tweet_count'] < 10, 'lang'] = 'Other languages'\n",
    "    st.title(\" Tweets Language pie chart\")\n",
    "    fig = px.pie(dfLangCount, values='Tweet_count', names='language', width=500, height=350)\n",
    "    fig.update_traces(textposition='inside', textinfo='percent+label')\n",
    "\n",
    "    colB1, colB2 = st.beta_columns([2.5, 1])\n",
    "\n",
    "    with colB1:\n",
    "        st.plotly_chart(fig)\n",
    "    with colB2:\n",
    "        st.write(dfLangCount)\n",
    "\n",
    "\n",
    "st.title(\"Data Display\")\n",
    "selectHashTag()\n",
    "st.markdown(\"<p style='padding:10px; background-color:#000000;color:#00ECB9;font-size:16px;border-radius:10px;'>Section Break</p>\", unsafe_allow_html=True)\n",
    "selectLocAndAuth()\n",
    "st.title(\"Data Visualizations\")\n",
    "wordCloud()\n",
    "with st.beta_expander(\"Show More Graphs\"):\n",
    "    stBarChart()\n",
    "    langPie()\n"
   ]
  },
  {
   "cell_type": "code",
   "execution_count": null,
   "id": "3fdcf899",
   "metadata": {},
   "outputs": [],
   "source": []
  },
  {
   "cell_type": "code",
   "execution_count": null,
   "id": "0528ef13",
   "metadata": {},
   "outputs": [],
   "source": []
  },
  {
   "cell_type": "code",
   "execution_count": null,
   "id": "578d8af2",
   "metadata": {},
   "outputs": [],
   "source": []
  }
 ],
 "metadata": {
  "kernelspec": {
   "display_name": "Python 3",
   "language": "python",
   "name": "python3"
  },
  "language_info": {
   "codemirror_mode": {
    "name": "ipython",
    "version": 3
   },
   "file_extension": ".py",
   "mimetype": "text/x-python",
   "name": "python",
   "nbconvert_exporter": "python",
   "pygments_lexer": "ipython3",
   "version": "3.8.8"
  }
 },
 "nbformat": 4,
 "nbformat_minor": 5
}
