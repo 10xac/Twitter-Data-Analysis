{
 "cells": [
  {
   "cell_type": "code",
   "execution_count": 1,
   "id": "2681a26a",
   "metadata": {},
   "outputs": [],
   "source": [
    "import warnings\n",
    "warnings.filterwarnings('ignore')\n",
    "import matplotlib.pyplot as plt\n",
    "import seaborn as sns\n",
    "from wordcloud import STOPWORDS,WordCloud\n",
    "from gensim import corpora\n",
    "import pandas as pd\n",
    "import statistics\n",
    "import string\n",
    "import os\n",
    "import re"
   ]
  },
  {
   "cell_type": "code",
   "execution_count": 2,
   "id": "16d2ddc2",
   "metadata": {},
   "outputs": [],
   "source": [
    "from google.colab import drive\n",
    "drive.mount('/content/drive/')\n",
    "#To Change my directory\n",
    "os.chdir(\"drive/MyDrive\")\n",
    "os.listdir()"
   ]
  },
  {
   "cell_type": "code",
   "execution_count": null,
   "id": "20e24065",
   "metadata": {},
   "outputs": [],
   "source": [
    "#To read csv file and create dataframe\n",
    "tweets = pd.read_csv('cleaned_fintech_data.csv')\n",
    "tweets.head()"
   ]
  },
  {
   "cell_type": "code",
   "execution_count": null,
   "id": "e8506190",
   "metadata": {},
   "outputs": [],
   "source": [
    "#To get information abou the data\n",
    "tweets.info()\n"
   ]
  },
  {
   "cell_type": "code",
   "execution_count": null,
   "id": "9c5f9b63",
   "metadata": {},
   "outputs": [],
   "source": [
    "print(\"The number of missing value(s): {}\".format(tweets.isnull().sum().sum()))\n",
    "print(\"Columons having columns value:{}\".format(tweets.columns[tweets.isnull().any()]))"
   ]
  },
  {
   "cell_type": "code",
   "execution_count": null,
   "id": "43a0f86f",
   "metadata": {},
   "outputs": [],
   "source": [
    "tweets_df = pd.DataFrame(columns=['original_text','clean_text','lang'])\n",
    "\n",
    "tweets_df['original_text'] =  tweets['original_text'].to_list()\n",
    "tweets_df['clean_text'] =  tweets['clean_text'].to_list()\n",
    "tweets_df['lang'] = tweets['lang'].to_list()"
   ]
  },
  {
   "cell_type": "code",
   "execution_count": null,
   "id": "b54faacb",
   "metadata": {},
   "outputs": [],
   "source": [
    "# drop row having Null value\n",
    "tweets_df.dropna()\n",
    "tweets_df"
   ]
  },
  {
   "cell_type": "code",
   "execution_count": null,
   "id": "e124957b",
   "metadata": {},
   "outputs": [],
   "source": [
    "re.findall?"
   ]
  },
  {
   "cell_type": "code",
   "execution_count": null,
   "id": "285f5f31",
   "metadata": {},
   "outputs": [],
   "source": [
    "#Method to find hashtags from tweets\n",
    "def find_hashtags(tweet):\n",
    "    '''This function will extract hashtags'''\n",
    "    return re.findall('(#[A-Za-z]+[A-Za-z0-9-_]+)', tweet)"
   ]
  },
  {
   "cell_type": "code",
   "execution_count": null,
   "id": "fa4efc8f",
   "metadata": {},
   "outputs": [],
   "source": [
    "# update Hashtage columon with hashtages extracted from Orignal_text columon\n",
    "tweets_df['hashtags'] = tweets_df.original_text.apply(find_hashtags)\n",
    "print(tweets_df['hashtags'])"
   ]
  },
  {
   "cell_type": "code",
   "execution_count": null,
   "id": "d4e8fd6e",
   "metadata": {},
   "outputs": [],
   "source": [
    "# take the rows from the hashtag columns where there are actually hashtags\n",
    "hashtags_list_df = tweets_df.loc[\n",
    "                       tweets_df.hashtags.apply(\n",
    "                           lambda hashtags_list: hashtags_list !=[]\n",
    "                       ),['hashtags']]"
   ]
  },
  {
   "cell_type": "code",
   "execution_count": null,
   "id": "7ca61a4d",
   "metadata": {},
   "outputs": [],
   "source": [
    " #create dataframe where each use of hashtag gets its own row\n",
    "flattened_hashtags_df = pd.DataFrame(\n",
    "    [hashtag for hashtags_list in hashtags_list_df.hashtags\n",
    "    for hashtag in hashtags_list],\n",
    "    columns=['hashtag'])"
   ]
  },
  {
   "cell_type": "code",
   "execution_count": null,
   "id": "9622163c",
   "metadata": {},
   "outputs": [],
   "source": [
    "flattened_hashtags_df"
   ]
  },
  {
   "cell_type": "code",
   "execution_count": null,
   "id": "403038a2",
   "metadata": {},
   "outputs": [],
   "source": [
    "#add flatten_hashtags to tweet_df\n",
    "tweets_df[\"flattened_hashtags\"]= flattened_hashtags_df"
   ]
  },
  {
   "cell_type": "code",
   "execution_count": null,
   "id": "fc3e8fc5",
   "metadata": {},
   "outputs": [],
   "source": [
    "tweets_df"
   ]
  },
  {
   "cell_type": "code",
   "execution_count": null,
   "id": "640ea8ba",
   "metadata": {},
   "outputs": [],
   "source": [
    "# To plot Top 20 Hashtags\n",
    "tweets_df['flattened_hashtags'].value_counts()[:20].plot(kind='bar')"
   ]
  },
  {
   "cell_type": "code",
   "execution_count": null,
   "id": "64b95e6c",
   "metadata": {},
   "outputs": [],
   "source": [
    "#ploting Tweets by language \n",
    "tweets = pd.DataFrame(columns=['text','lang'])\n",
    "\n",
    "tweets['text'] =  tweets_df['clean_text'].to_list()\n",
    "tweets['lang'] = tweets_df['lang'].to_list()\n",
    "\n",
    "tweets_by_lang = tweets['lang'].value_counts()"
   ]
  },
  {
   "cell_type": "code",
   "execution_count": null,
   "id": "cd7f6b03",
   "metadata": {},
   "outputs": [],
   "source": [
    "fig, ax = plt.subplots()\n",
    "ax.tick_params(axis='x', labelsize=10)\n",
    "ax.tick_params(axis='y', labelsize=10)\n",
    "ax.set_xlabel('Languages', fontsize=10)\n",
    "ax.set_ylabel('Number of tweets' , fontsize=10)\n",
    "ax.set_title('Top 5 languages', fontsize=10)\n",
    "tweets_by_lang[:5].plot(ax=ax, kind='bar', color='orange')"
   ]
  },
  {
   "cell_type": "code",
   "execution_count": null,
   "id": "75b7baa7",
   "metadata": {},
   "outputs": [],
   "source": [
    "#from Our Language analysis we can see there are differnt languages we can select only tweets with english \n",
    "English_tweets = tweets_df.loc[tweets_df['lang'] ==\"en\"]"
   ]
  },
  {
   "cell_type": "code",
   "execution_count": null,
   "id": "c604a359",
   "metadata": {},
   "outputs": [],
   "source": [
    "English_tweets"
   ]
  },
  {
   "cell_type": "code",
   "execution_count": null,
   "id": "4b4ab98d",
   "metadata": {},
   "outputs": [],
   "source": [
    "#text Preprocessing\n",
    "English_tweets['clean_text']=English_tweets['clean_text'].astype(str)\n",
    "English_tweets['clean_text'] = English_tweets['clean_text'].apply(lambda x: x.lower())\n",
    "English_tweets['clean_text']= English_tweets['clean_text'].apply(lambda x: x.translate(str.maketrans(' ', ' ', string.punctuation)))\n"
   ]
  },
  {
   "cell_type": "code",
   "execution_count": null,
   "id": "a802cb61",
   "metadata": {},
   "outputs": [],
   "source": [
    "plt.figure(figsize=(20, 10))\n",
    "plt.imshow(WordCloud(width=1000,height=600,stopwords=STOPWORDS).generate(' '.join(English_tweets.clean_text .values)))\n",
    "plt.axis('off')\n",
    "plt.title('Most Frequent Words In Our Tweets',fontsize=16)\n",
    "plt.show()"
   ]
  },
  {
   "cell_type": "code",
   "execution_count": null,
   "id": "a6086b63",
   "metadata": {},
   "outputs": [],
   "source": [
    "#Converting tweets to list of words For feature engineering\n",
    "sentence_list = [tweet for tweet in English_tweets['clean_text']]\n",
    "word_list = [sent.split() for sent in sentence_list]\n",
    "\n",
    "word_list[:2]\n"
   ]
  },
  {
   "cell_type": "code",
   "execution_count": null,
   "id": "8e5200f7",
   "metadata": {},
   "outputs": [],
   "source": [
    "#Create dictionary which contains Id and word \n",
    "word_to_id = corpora.Dictionary(word_list)\n",
    "for k, v in word_to_id.items():\n",
    "    print(k,\"........\",v)"
   ]
  },
  {
   "cell_type": "code",
   "execution_count": null,
   "id": "9677ba80",
   "metadata": {},
   "outputs": [],
   "source": [
    "corpus_1[:2] = [word_to_id.doc2bow(tweet) for tweet in word_list]"
   ]
  },
  {
   "cell_type": "code",
   "execution_count": null,
   "id": "928eff11",
   "metadata": {},
   "outputs": [],
   "source": []
  },
  {
   "cell_type": "code",
   "execution_count": null,
   "id": "3c13bab8",
   "metadata": {},
   "outputs": [],
   "source": []
  }
 ],
 "metadata": {
  "kernelspec": {
   "display_name": "Python 3",
   "language": "python",
   "name": "python3"
  },
  "language_info": {
   "codemirror_mode": {
    "name": "ipython",
    "version": 3
   },
   "file_extension": ".py",
   "mimetype": "text/x-python",
   "name": "python",
   "nbconvert_exporter": "python",
   "pygments_lexer": "ipython3",
   "version": "3.8.8"
  }
 },
 "nbformat": 4,
 "nbformat_minor": 5
}
