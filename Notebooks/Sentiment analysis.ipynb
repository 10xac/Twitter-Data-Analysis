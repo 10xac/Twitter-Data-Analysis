{
 "cells": [
  {
   "cell_type": "code",
   "execution_count": 9,
   "id": "862515cb",
   "metadata": {},
   "outputs": [],
   "source": [
    "\n",
    "CLEANED_SAVE_PATH = \"../cleaned_tweet_data.csv\"\n",
    "#file path for the csv file to be analyzed"
   ]
  },
  {
   "cell_type": "code",
   "execution_count": 10,
   "id": "97bc46dc",
   "metadata": {},
   "outputs": [],
   "source": [
    "import pandas as pd\n",
    "from wordcloud import STOPWORDS,WordCloud\n",
    "#panda and word cloud are installed via anaconda terminal\n"
   ]
  },
  {
   "cell_type": "code",
   "execution_count": 11,
   "id": "812d4c74",
   "metadata": {},
   "outputs": [],
   "source": [
    "def read_proccessed_data(csv_path):\n",
    "    df = pd.read_csv(csv_path)\n",
    "    return df"
   ]
  },
  {
   "cell_type": "code",
   "execution_count": 12,
   "id": "9dc9add6",
   "metadata": {},
   "outputs": [
    {
     "name": "stdout",
     "output_type": "stream",
     "text": [
      "<class 'pandas.core.frame.DataFrame'>\n",
      "RangeIndex: 6532 entries, 0 to 6531\n",
      "Data columns (total 17 columns):\n",
      " #   Column              Non-Null Count  Dtype  \n",
      "---  ------              --------------  -----  \n",
      " 0   created_at          6532 non-null   object \n",
      " 1   source              6532 non-null   object \n",
      " 2   original_text       6532 non-null   object \n",
      " 3   polarity            6532 non-null   float64\n",
      " 4   subjectivity        6532 non-null   float64\n",
      " 5   lang                6532 non-null   object \n",
      " 6   favorite_count      6532 non-null   int64  \n",
      " 7   retweet_count       4785 non-null   float64\n",
      " 8   original_author     6532 non-null   object \n",
      " 9   followers_count     6532 non-null   int64  \n",
      " 10  friends_count       6532 non-null   int64  \n",
      " 11  possibly_sensitive  0 non-null      float64\n",
      " 12  hashtags            6532 non-null   object \n",
      " 13  user_mentions       6532 non-null   object \n",
      " 14  place               4088 non-null   object \n",
      " 15  friends_count       6532 non-null   float64\n",
      " 16  clean_text          6532 non-null   object \n",
      "dtypes: float64(5), int64(3), object(9)\n",
      "memory usage: 867.7+ KB\n"
     ]
    }
   ],
   "source": [
    "df = read_proccessed_data(CLEANED_SAVE_PATH)\n",
    "df.info()\n",
    "#to inspect the columns"
   ]
  },
  {
   "cell_type": "code",
   "execution_count": 13,
   "id": "f64452cb",
   "metadata": {},
   "outputs": [
    {
     "data": {
      "text/plain": [
       " 0.000000    1829\n",
       "-0.750000     501\n",
       " 0.500000     210\n",
       " 0.133333     202\n",
       " 0.337500     189\n",
       "             ... \n",
       " 0.112500       1\n",
       " 0.260000       1\n",
       " 0.063636       1\n",
       " 0.147500       1\n",
       " 0.495312       1\n",
       "Name: polarity, Length: 373, dtype: int64"
      ]
     },
     "execution_count": 13,
     "metadata": {},
     "output_type": "execute_result"
    }
   ],
   "source": [
    "\n",
    "# identifying the third column which is polarity\n",
    "df['polarity']\n",
    "df['polarity'].value_counts()"
   ]
  },
  {
   "cell_type": "code",
   "execution_count": 14,
   "id": "ccb8a6b7",
   "metadata": {},
   "outputs": [
    {
     "name": "stdout",
     "output_type": "stream",
     "text": [
      "the total null vaues in the column \"clean_Text\" is: 0\n",
      "the total null vaues in the column \"polarity\" is: 0\n"
     ]
    }
   ],
   "source": [
    "# checking if there are null values\n",
    "text_null_sum = df['clean_text'].isnull().sum()\n",
    "polarity_null_sum = df['polarity'].isnull().sum()\n",
    "\n",
    "print(f'the total null vaues in the column \"clean_Text\" is: {text_null_sum}')\n",
    "print(f'the total null vaues in the column \"polarity\" is: {polarity_null_sum}')"
   ]
  },
  {
   "cell_type": "code",
   "execution_count": 15,
   "id": "c7afdfb8",
   "metadata": {},
   "outputs": [],
   "source": [
    "# now creating a separate dataframe called \"cleanedtweet\" for 'polarity' and 'clean_text' columns \n",
    "cleanedTweet = pd.DataFrame(columns=['clean_text','polarity'])\n",
    "\n",
    "cleanedTweet['clean_text'] = df['clean_text']\n",
    "cleanedTweet['polarity'] = df['polarity']\n",
    "cleanedTweet.dropna(inplace=True)"
   ]
  },
  {
   "cell_type": "code",
   "execution_count": 16,
   "id": "be2f2525",
   "metadata": {},
   "outputs": [
    {
     "data": {
      "text/html": [
       "<div>\n",
       "<style scoped>\n",
       "    .dataframe tbody tr th:only-of-type {\n",
       "        vertical-align: middle;\n",
       "    }\n",
       "\n",
       "    .dataframe tbody tr th {\n",
       "        vertical-align: top;\n",
       "    }\n",
       "\n",
       "    .dataframe thead th {\n",
       "        text-align: right;\n",
       "    }\n",
       "</style>\n",
       "<table border=\"1\" class=\"dataframe\">\n",
       "  <thead>\n",
       "    <tr style=\"text-align: right;\">\n",
       "      <th></th>\n",
       "      <th>clean_text</th>\n",
       "      <th>polarity</th>\n",
       "    </tr>\n",
       "  </thead>\n",
       "  <tbody>\n",
       "    <tr>\n",
       "      <th>0</th>\n",
       "      <td>🚨africa is \"in the midst of a full-blown third...</td>\n",
       "      <td>0.166667</td>\n",
       "    </tr>\n",
       "    <tr>\n",
       "      <th>1</th>\n",
       "      <td>dr moeti is head of who in africa, and one of ...</td>\n",
       "      <td>0.133333</td>\n",
       "    </tr>\n",
       "    <tr>\n",
       "      <th>2</th>\n",
       "      <td>thank you  for creating this amazing campaign ...</td>\n",
       "      <td>0.316667</td>\n",
       "    </tr>\n",
       "    <tr>\n",
       "      <th>3</th>\n",
       "      <td>former pfizer vp and virologist, dr. michael y...</td>\n",
       "      <td>0.086111</td>\n",
       "    </tr>\n",
       "    <tr>\n",
       "      <th>4</th>\n",
       "      <td>i think it’s important that we don’t sell cova...</td>\n",
       "      <td>0.280000</td>\n",
       "    </tr>\n",
       "    <tr>\n",
       "      <th>...</th>\n",
       "      <td>...</td>\n",
       "      <td>...</td>\n",
       "    </tr>\n",
       "    <tr>\n",
       "      <th>6527</th>\n",
       "      <td>rt : zweli please just release the graphic des...</td>\n",
       "      <td>0.000000</td>\n",
       "    </tr>\n",
       "    <tr>\n",
       "      <th>6528</th>\n",
       "      <td>former pfizer vp and virologist, dr. michael y...</td>\n",
       "      <td>0.086111</td>\n",
       "    </tr>\n",
       "    <tr>\n",
       "      <th>6529</th>\n",
       "      <td>respectfully, veterinarians have to have a b...</td>\n",
       "      <td>0.281250</td>\n",
       "    </tr>\n",
       "    <tr>\n",
       "      <th>6530</th>\n",
       "      <td>\"africa needs millions more doses here &amp;amp; n...</td>\n",
       "      <td>0.125000</td>\n",
       "    </tr>\n",
       "    <tr>\n",
       "      <th>6531</th>\n",
       "      <td>rt : liars. you tried to load off your expired...</td>\n",
       "      <td>0.000000</td>\n",
       "    </tr>\n",
       "  </tbody>\n",
       "</table>\n",
       "<p>6532 rows × 2 columns</p>\n",
       "</div>"
      ],
      "text/plain": [
       "                                             clean_text  polarity\n",
       "0     🚨africa is \"in the midst of a full-blown third...  0.166667\n",
       "1     dr moeti is head of who in africa, and one of ...  0.133333\n",
       "2     thank you  for creating this amazing campaign ...  0.316667\n",
       "3     former pfizer vp and virologist, dr. michael y...  0.086111\n",
       "4     i think it’s important that we don’t sell cova...  0.280000\n",
       "...                                                 ...       ...\n",
       "6527  rt : zweli please just release the graphic des...  0.000000\n",
       "6528  former pfizer vp and virologist, dr. michael y...  0.086111\n",
       "6529    respectfully, veterinarians have to have a b...  0.281250\n",
       "6530  \"africa needs millions more doses here &amp; n...  0.125000\n",
       "6531  rt : liars. you tried to load off your expired...  0.000000\n",
       "\n",
       "[6532 rows x 2 columns]"
      ]
     },
     "execution_count": 16,
     "metadata": {},
     "output_type": "execute_result"
    }
   ],
   "source": [
    "cleanedTweet"
   ]
  },
  {
   "cell_type": "code",
   "execution_count": 17,
   "id": "3bf53b7d",
   "metadata": {},
   "outputs": [],
   "source": [
    "def text_category(e: float) -> str:\n",
    "    if e > 0:\n",
    "        return \"positive\"\n",
    "    elif e == 0:\n",
    "        return \"neutral\"\n",
    "    else:\n",
    "        return \"negative\"\n",
    "    # this function  will taka a float variable 'p' to evaluate it in the \"if\" function and return it as a string"
   ]
  },
  {
   "cell_type": "code",
   "execution_count": 18,
   "id": "70687f92",
   "metadata": {},
   "outputs": [
    {
     "data": {
      "text/plain": [
       "positive    3426\n",
       "neutral     1829\n",
       "negative    1277\n",
       "Name: score, dtype: int64"
      ]
     },
     "execution_count": 18,
     "metadata": {},
     "output_type": "execute_result"
    }
   ],
   "source": [
    "# creating score column by applying text_category\n",
    "cleanedTweet['score'] = cleanedTweet['polarity'].apply(text_category)\n",
    "cleanedTweet['score'].value_counts()\n",
    "#data is ready to be plotted and analyzed"
   ]
  },
  {
   "cell_type": "code",
   "execution_count": 19,
   "id": "51e797e5",
   "metadata": {},
   "outputs": [],
   "source": [
    "from sklearn.feature_extraction.text import CountVectorizer, TfidfTransformer\n",
    "from joblib import dump, load # used for saving and loading sklearn objects\n",
    "from scipy.sparse import save_npz, load_npz # used for saving and loading sparse matrices\n",
    "from sklearn.decomposition import NMF, LatentDirichletAllocation\n",
    "from sklearn.linear_model import SGDClassifier\n",
    "from sklearn.model_selection import train_test_split\n",
    "\n",
    "#importing the necessary librarie packages for a plot"
   ]
  },
  {
   "cell_type": "code",
   "execution_count": 20,
   "id": "6bd2b930",
   "metadata": {},
   "outputs": [
    {
     "data": {
      "text/plain": [
       "<AxesSubplot:title={'center':'score'}>"
      ]
     },
     "execution_count": 20,
     "metadata": {},
     "output_type": "execute_result"
    },
    {
     "data": {
      "image/png": "[encoded data removed]",
      "text/plain": [
       "<Figure size 360x360 with 1 Axes>"
      ]
     },
     "metadata": {
      "needs_background": "light"
     },
     "output_type": "display_data"
    }
   ],
   "source": [
    "# Grouping the scores and plotting bar graph\n",
    "score_count =  cleanedTweet['score'].value_counts()\n",
    "score_count.plot(kind=\"bar\", y=\"score\", title=\"score\", figsize=[5, 5])"
   ]
  },
  {
   "cell_type": "code",
   "execution_count": 21,
   "id": "18b83a6c",
   "metadata": {},
   "outputs": [
    {
     "data": {
      "text/plain": [
       "<AxesSubplot:title={'center':'score'}, ylabel='score'>"
      ]
     },
     "execution_count": 21,
     "metadata": {},
     "output_type": "execute_result"
    },
    {
     "data": {
      "image/png": "[encoded data removed]",
      "text/plain": [
       "<Figure size 288x288 with 1 Axes>"
      ]
     },
     "metadata": {},
     "output_type": "display_data"
    }
   ],
   "source": [
    "score_count.plot(kind=\"pie\", y=\"score\", title=\"score\", x=\"\", figsize=[4, 4])"
   ]
  },
  {
   "cell_type": "code",
   "execution_count": null,
   "id": "b5bdb5d8",
   "metadata": {},
   "outputs": [],
   "source": []
  },
  {
   "cell_type": "code",
   "execution_count": null,
   "id": "8023b020",
   "metadata": {},
   "outputs": [],
   "source": []
  },
  {
   "cell_type": "code",
   "execution_count": null,
   "id": "5083a286",
   "metadata": {},
   "outputs": [],
   "source": []
  },
  {
   "cell_type": "code",
   "execution_count": null,
   "id": "3d6858b9",
   "metadata": {},
   "outputs": [],
   "source": []
  },
  {
   "cell_type": "code",
   "execution_count": null,
   "id": "8a897749",
   "metadata": {},
   "outputs": [],
   "source": []
  },
  {
   "cell_type": "code",
   "execution_count": null,
   "id": "68400ce0",
   "metadata": {},
   "outputs": [],
   "source": []
  }
 ],
 "metadata": {
  "kernelspec": {
   "display_name": "Python 3",
   "language": "python",
   "name": "python3"
  },
  "language_info": {
   "codemirror_mode": {
    "name": "ipython",
    "version": 3
   },
   "file_extension": ".py",
   "mimetype": "text/x-python",
   "name": "python",
   "nbconvert_exporter": "python",
   "pygments_lexer": "ipython3",
   "version": "3.8.8"
  }
 },
 "nbformat": 4,
 "nbformat_minor": 5
}
