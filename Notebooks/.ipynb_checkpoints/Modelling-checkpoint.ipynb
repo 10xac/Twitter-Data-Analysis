{
 "cells": [
  {
   "cell_type": "code",
   "execution_count": 1,
   "id": "5e8e81cf",
   "metadata": {},
   "outputs": [],
   "source": [
    "import sys\n",
    "import os\n",
    "sys.path.append(os.path.abspath(os.path.join('..')))\n",
    "import pandas as pd\n",
    "import re\n",
    "from wordcloud import STOPWORDS,WordCloud\n",
    "import matplotlib.pyplot as plt\n",
    "\n",
    "\n",
    "from clean_tweets_dataframe import Clean_Tweets\n"
   ]
  },
  {
   "cell_type": "code",
   "execution_count": 4,
   "id": "6dcf1e1e",
   "metadata": {},
   "outputs": [],
   "source": [
    "CSV_PATH = \"./processed_tweet_data.csv\"\n",
    "CLEANED_SAVE_PATH = \"./cleaned_tweet_data.csv\"\n",
    "  "
   ]
  },
  {
   "cell_type": "code",
   "execution_count": 5,
   "id": "23e04a53",
   "metadata": {},
   "outputs": [],
   "source": [
    "# taking a csv file path and reading a dataframe\n",
    "\n",
    "def read_proccessed_data(csv_path):\n",
    "    try:    \n",
    "        df = pd.read_csv(csv_path)\n",
    "        print(\"file read as csv\")\n",
    "        return df\n",
    "    except FileNotFoundError:\n",
    "        print(\"file not found\")"
   ]
  },
  {
   "cell_type": "code",
   "execution_count": 6,
   "id": "be530d1e",
   "metadata": {},
   "outputs": [
    {
     "ename": "SyntaxError",
     "evalue": "invalid syntax (<ipython-input-6-d04ae2712f20>, line 8)",
     "output_type": "error",
     "traceback": [
      "\u001b[1;36m  File \u001b[1;32m\"<ipython-input-6-d04ae2712f20>\"\u001b[1;36m, line \u001b[1;32m8\u001b[0m\n\u001b[1;33m    return cleanedtweets_df=DataLoader_obj.read_csv()\u001b[0m\n\u001b[1;37m                           ^\u001b[0m\n\u001b[1;31mSyntaxError\u001b[0m\u001b[1;31m:\u001b[0m invalid syntax\n"
     ]
    }
   ],
   "source": [
    "# replacing hash tags, username starting by @ and links\n",
    "def clean_text(text):\n",
    "    hash_tag_removed = re.sub('(#[A-Za-z]+[A-Za-z0-9-_]+)', '', text)\n",
    "    hash_tag_removed = re.sub('(@[A-Za-z]+[A-Za-z0-9-_]+)', '', text)\n",
    "\n",
    "    removed_links = re.sub('http[s]?://(?:[a-zA-Z]|[0-9]|[$-_@.&+]|[!*\\(\\),]|(?:%[0-9a-fA-F][0-9a-fA-F]))+', '', text, flags=re.MULTILINE)\n",
    "    cleaned = re.sub('(@[A-Za-z]+[A-Za-z0-9-_]+)', '', removed_links)\n",
    "    return cleanedtweets_df=DataLoader_obj.read_csv()\n",
    "tweets_df.dropna()\n"
   ]
  },
  {
   "cell_type": "code",
   "execution_count": 33,
   "id": "db2c0f79",
   "metadata": {},
   "outputs": [
    {
     "ename": "NameError",
     "evalue": "name 'tweets_df' is not defined",
     "output_type": "error",
     "traceback": [
      "\u001b[1;31m---------------------------------------------------------------------------\u001b[0m",
      "\u001b[1;31mNameError\u001b[0m                                 Traceback (most recent call last)",
      "\u001b[1;32m<ipython-input-33-648b6f38ae38>\u001b[0m in \u001b[0;36m<module>\u001b[1;34m\u001b[0m\n\u001b[1;32m----> 1\u001b[1;33m \u001b[0mlen\u001b[0m\u001b[1;33m(\u001b[0m\u001b[0mtweets_df\u001b[0m\u001b[1;33m)\u001b[0m\u001b[1;33m\u001b[0m\u001b[1;33m\u001b[0m\u001b[0m\n\u001b[0m",
      "\u001b[1;31mNameError\u001b[0m: name 'tweets_df' is not defined"
     ]
    }
   ],
   "source": [
    "def preprocess_and_clean(df: pd.DataFrame, save=False) -> pd.DataFrame:\n",
    "    \n",
    "    Tweet_cleaner = Clean_Tweets(df)\n",
    "    \n",
    "    df = Tweet_cleaner.drop_duplicate(df)\n",
    "    \n",
    "    df = Tweet_cleaner.drop_unwanted_column(df)\n",
    "    \n",
    "    df = Tweet_cleaner.drop_unwanted_column(df)\n",
    "    \n",
    "    df = Tweet_cleaner.convert_to_datetime(df)\n",
    "    \n",
    "    df = Tweet_cleaner.convert_to_numbers(df)\n",
    "    \n",
    "    df = Tweet_cleaner.remove_non_english_tweets(df)\n",
    "    \n",
    "    \n",
    "    df['clean_text']= df['original_text'].astype(str)\n",
    "    df['clean_text'] = df['clean_text'].apply(lambda x: x.lower())\n",
    "\n",
    "    df['clean_text']  = df['clean_text'].map(lambda x: re.sub('[,\\.!?]', '', x))\n",
    "    df['clean_text']  = df['clean_text'].apply(clean_text)\n",
    "\n",
    "    \n",
    "    \n",
    "    print(\"data cleaned...\")\n",
    "    print(df)\n",
    "    \n",
    "    if save:\n",
    "        try: \n",
    "            df.to_csv(CLEANED_SAVE_PATH, index=False)\n",
    "            print('File Successfully Saved.!!!')\n",
    "        \n",
    "        except Exception:\n",
    "            print(\"Save failed...\")\n",
    "    \n",
    "    return df"
   ]
  },
  {
   "cell_type": "code",
   "execution_count": 27,
   "id": "75c88d54",
   "metadata": {},
   "outputs": [],
   "source": [
    "def get_data_info(tweet_df: pd.DataFrame):\n",
    "    \n",
    "    row_count, col_count = tweet_df.shape\n",
    "    \n",
    "    print(f\"Number of rows: {row_count}\")\n",
    "    print(f\"Number of columns: {col_count}\")\n",
    "\n",
    "    return tweet_df.info()"
   ]
  },
  {
   "cell_type": "code",
   "execution_count": null,
   "id": "72f46c10",
   "metadata": {},
   "outputs": [],
   "source": [
    "tweet_df = read_proccessed_data(CSV_PATH)\n",
    "get_data_info(tweet_df)"
   ]
  },
  {
   "cell_type": "code",
   "execution_count": null,
   "id": "1ba17b7d",
   "metadata": {},
   "outputs": [],
   "source": [
    "\n",
    "tweet_df.head()"
   ]
  },
  {
   "cell_type": "code",
   "execution_count": null,
   "id": "39afd281",
   "metadata": {},
   "outputs": [],
   "source": [
    "tweet_df['lang'].value_counts()"
   ]
  },
  {
   "cell_type": "code",
   "execution_count": null,
   "id": "0a6bda6f",
   "metadata": {},
   "outputs": [],
   "source": [
    "get_data_info(tweet_df)"
   ]
  },
  {
   "cell_type": "code",
   "execution_count": null,
   "id": "eb9e50a3",
   "metadata": {},
   "outputs": [],
   "source": [
    "preprocess_and_clean(tweet_df, True)"
   ]
  },
  {
   "cell_type": "code",
   "execution_count": null,
   "id": "df0cf8e7",
   "metadata": {},
   "outputs": [],
   "source": [
    "class TweeterDataExplorator:\n",
    "    \n",
    "    def __init__(self, df):\n",
    "        \n",
    "        self.df = df\n",
    "    \n",
    "    def read_head(self):\n",
    "        return self.df.head()\n",
    "    \n",
    "    def get_info(self):\n",
    "        row_count, col_count = self.df.shape\n",
    "    \n",
    "        print(f\"Number of rows: {row_count}\")\n",
    "        print(f\"Number of columns: {col_count}\")\n",
    "\n",
    "        return (row_count, col_count), self.df.info()\n",
    "    \n",
    "    def get_count(self, column_name):\n",
    "        return self.df[column_name].value_counts()\n",
    "    \n",
    "    def get_polarities_count(self):\n",
    "        postive_count = tweet_df[tweet_df['polarity'] > 0].shape[0]\n",
    "        neutral_count = tweet_df[tweet_df['polarity'] == 0].shape[0]\n",
    "        negative_count = tweet_df[tweet_df['polarity'] < 0].shape[0]\n",
    "        \n",
    "        return {\"postive\": postive_count, \"neutral\": neutral_count, \"negative\": negative_count}\n",
    "\n",
    "        \n",
    "    \n",
    "    def get_hash_tag_df(self):        \n",
    "        hash_tags = self.df.clean_text.apply(self.__find_hashtags)\n",
    "        \n",
    "        flattened_hash_tags = []\n",
    "        \n",
    "        for hash_tag_list in hash_tags:\n",
    "            for hash_tag in hash_tag_list:\n",
    "                flattened_hash_tags.append(hash_tag)\n",
    "        \n",
    "        hashtag_df = pd.DataFrame(columns=['hashtag'])\n",
    "        hashtag_df['hashtag'] = flattened_hash_tags\n",
    "        \n",
    "        return hashtag_df\n",
    "    \n",
    "    def most_used_hash_tag(self, top=None):\n",
    "        return self.get_hash_tag_df()['hashtag'].value_counts().head(top)\n",
    "        \n",
    "    def visualze_polarity(self):\n",
    "        return \n",
    "    \n",
    "    def most_used_language(self, top=None):\n",
    "        return self.df['lang'].value_counts().head(top)\n",
    "    \n",
    "    def authors(self, top=None):\n",
    "        \n",
    "        return self.df['original_author'].value_counts().head(top)\n",
    "    \n",
    "    \n",
    "    def most_retweeted_tweet(self):\n",
    "        pass\n",
    "    \n",
    "    def __find_hashtags(self, tweet):\n",
    "        \n",
    "        try:\n",
    "            return re.findall('(#[A-Za-z]+[A-Za-z0-9-_]+)', tweet)\n",
    "        except:\n",
    "            return []\n"
   ]
  },
  {
   "cell_type": "code",
   "execution_count": null,
   "id": "783a7a96",
   "metadata": {},
   "outputs": [],
   "source": [
    "\n",
    "cleaned_tweet_df = read_proccessed_data(CLEANED_SAVE_PATH)\n",
    "tweeterDataExplorator = TweeterDataExplorator(cleaned_tweet_df)"
   ]
  },
  {
   "cell_type": "code",
   "execution_count": null,
   "id": "429001e4",
   "metadata": {},
   "outputs": [],
   "source": [
    "cleaned_tweet_df"
   ]
  },
  {
   "cell_type": "code",
   "execution_count": null,
   "id": "273d1bd9",
   "metadata": {},
   "outputs": [],
   "source": [
    "tweeterDataExplorator.get_info()"
   ]
  },
  {
   "cell_type": "code",
   "execution_count": null,
   "id": "89cdc449",
   "metadata": {},
   "outputs": [],
   "source": [
    "polaritites_count = tweeterDataExplorator.get_polarities_count()\n",
    "print(f\"postive: { polaritites_count['postive'] }\")\n",
    "print(f\"negative: { polaritites_count['negative'] }\")\n",
    "print(f\"neutal: { polaritites_count['neutral'] }\")"
   ]
  },
  {
   "cell_type": "code",
   "execution_count": null,
   "id": "c434a2fa",
   "metadata": {},
   "outputs": [],
   "source": [
    "top_ten_hash_tags_used = tweeterDataExplorator.most_used_hash_tag(5)\n",
    "top_ten_hash_tags_used"
   ]
  },
  {
   "cell_type": "code",
   "execution_count": null,
   "id": "3e71e36d",
   "metadata": {},
   "outputs": [],
   "source": [
    "\n",
    "top_ten_authors = tweeterDataExplorator.authors(5)\n",
    "top_ten_authors"
   ]
  },
  {
   "cell_type": "code",
   "execution_count": null,
   "id": "58df932f",
   "metadata": {},
   "outputs": [],
   "source": [
    "# VISUALZATION"
   ]
  },
  {
   "cell_type": "code",
   "execution_count": null,
   "id": "b63008fb",
   "metadata": {},
   "outputs": [],
   "source": [
    "top_ten_authors.plot(kind=\"bar\", title=\"Top Authors\", figsize=[8, 8])"
   ]
  },
  {
   "cell_type": "code",
   "execution_count": null,
   "id": "c3431795",
   "metadata": {},
   "outputs": [],
   "source": [
    "top_ten_authors.plot(kind=\"pie\", title=\"Top authors\", figsize=[8, 8])"
   ]
  },
  {
   "cell_type": "code",
   "execution_count": null,
   "id": "baddb2db",
   "metadata": {},
   "outputs": [],
   "source": [
    "top_ten_hash_tags_used.plot(kind=\"bar\", title=\"Frequent hashtags\", figsize=[8, 8])"
   ]
  },
  {
   "cell_type": "code",
   "execution_count": null,
   "id": "1cb5e689",
   "metadata": {},
   "outputs": [],
   "source": [
    "\n",
    "clean_text_df = pd.DataFrame(cleaned_tweet_df['clean_text'])\n",
    "clean_text_df.dropna(inplace=True)\n",
    "clean_text_df"
   ]
  },
  {
   "cell_type": "code",
   "execution_count": null,
   "id": "be267414",
   "metadata": {},
   "outputs": [],
   "source": [
    "plt.figure(figsize=(20, 10))\n",
    "plt.imshow(WordCloud(width=1000,height=600,stopwords=STOPWORDS).generate(' '.join(clean_text_df.clean_text)))\n",
    "plt.axis('off')\n",
    "plt.title('Most Frequent Words In Our Tweets',fontsize=16)\n",
    "plt.show()"
   ]
  },
  {
   "cell_type": "code",
   "execution_count": null,
   "id": "cf58c121",
   "metadata": {},
   "outputs": [],
   "source": []
  },
  {
   "cell_type": "code",
   "execution_count": null,
   "id": "f0de6be3",
   "metadata": {},
   "outputs": [],
   "source": []
  },
  {
   "cell_type": "code",
   "execution_count": null,
   "id": "9766d7a4",
   "metadata": {},
   "outputs": [],
   "source": []
  },
  {
   "cell_type": "code",
   "execution_count": null,
   "id": "7407359f",
   "metadata": {},
   "outputs": [],
   "source": []
  },
  {
   "cell_type": "code",
   "execution_count": null,
   "id": "0fd60415",
   "metadata": {},
   "outputs": [],
   "source": []
  }
 ],
 "metadata": {
  "kernelspec": {
   "display_name": "Python 3",
   "language": "python",
   "name": "python3"
  },
  "language_info": {
   "codemirror_mode": {
    "name": "ipython",
    "version": 3
   },
   "file_extension": ".py",
   "mimetype": "text/x-python",
   "name": "python",
   "nbconvert_exporter": "python",
   "pygments_lexer": "ipython3",
   "version": "3.8.8"
  }
 },
 "nbformat": 4,
 "nbformat_minor": 5
}
