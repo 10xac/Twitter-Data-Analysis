{
  "nbformat": 4,
  "nbformat_minor": 0,
  "metadata": {
    "colab": {
      "name": "data_science_workflow_and_model_building.ipynb",
      "provenance": [],
      "collapsed_sections": [],
      "include_colab_link": true
    },
    "kernelspec": {
      "name": "python3",
      "display_name": "Python 3"
    },
    "language_info": {
      "name": "python"
    }
  },
  "cells": [
    {
      "cell_type": "markdown",
      "metadata": {
        "id": "view-in-github",
        "colab_type": "text"
      },
      "source": [
        "<a href=\"https://colab.research.google.com/github/Azariagmt/Twitter-Data-Analysis/blob/main/data_science_workflow_and_model_building.ipynb\" target=\"_parent\"><img src=\"https://colab.research.google.com/assets/colab-badge.svg\" alt=\"Open In Colab\"/></a>"
      ]
    },
    {
      "cell_type": "markdown",
      "metadata": {
        "id": "zDwep1K8Erxl"
      },
      "source": [
        "**Project:** Twitter sentiment analysis project on COVID dataset"
      ]
    },
    {
      "cell_type": "markdown",
      "metadata": {
        "id": "J4MwiCYzj2_u"
      },
      "source": [
        "### Main objectives of this project"
      ]
    },
    {
      "cell_type": "code",
      "metadata": {
        "id": "STyLda45j1Mf"
      },
      "source": [
        "main_objectives = ''' Analyze people's sentiments on COVID data using specific keywords and\n",
        "find if the tweet has positive, negative or neutral sentiment.'''"
      ],
      "execution_count": 8,
      "outputs": []
    },
    {
      "cell_type": "code",
      "metadata": {
        "id": "CuOlxLxKMOLI"
      },
      "source": [
        "assert len(main_objectives) < 500 , \"main_objectives should be less than 150\"\n",
        "assert len(main_objectives) > 80 , \"main_objectives should be greater than 100\"\n",
        "# silence is the best truth if it passes then it says nothing"
      ],
      "execution_count": 16,
      "outputs": []
    },
    {
      "cell_type": "markdown",
      "metadata": {
        "id": "NyXeNxlCkbaw"
      },
      "source": [
        "### Different data analysis steps you will follow to carry out the project"
      ]
    },
    {
      "cell_type": "code",
      "metadata": {
        "id": "rC-tl8sUksQq"
      },
      "source": [
        "dm_outline = '''\n",
        "Business understanding (BU): \n",
        "  COVID-19 is a pandemic that has affected everyone's lives globally and has left a scar in many people's memories that will be remembered in history books. Although\n",
        "  vaccines have been found and restrictive measures are being lifted in different parts of the world here in Africa we are still seeing the highest number of cases being\n",
        "  recorded. And the lack of ability to produce the vaccines and the economy to purchase them shows that Africa's dark days of covid might still be ahead. Understanding\n",
        "  the different sentiments that exist in tweets about covid-19 here in Africa is an essential task in identifying and implementing preventive or proactive measures\n",
        "  in the times to come.\n",
        "\n",
        "Data understanding (DU):\n",
        "  From the tweepy API we can pass in specific keywords and get back a json object containint the tweet with those specific keyword. The \n",
        "  The data is a messy json object with many properties and indexation levels that requires a lot of data wrangling. \n",
        "\n",
        "Data preparation (DP): \n",
        "  The json object will be parsed into a proper csv format to be parsed in into a notebook using the pandas library to do different data analysis tasks and modelling.\n",
        "  We need to prepare our data properly for the sentiment model we'll be building in the end. We need to select essential columns (polarity and original text) in this case \n",
        "  and do basic text preprocessing like removing punctuation, removing stopwords, converting to lowercase and stemming.\n",
        "\n",
        "Modeling (M): \n",
        "  We will build an SGDClassifier model from the training data we have prepared in the Data preparation phase.\n",
        "  \n",
        "Evaluation (E): \n",
        "  Because this is a classification problem we will use evaluation metrics such as accuracy, precision, f1-score and recall. Which metric we end up using depends\n",
        "  on the imbalance of the data and different factors we'll weigh in in the data analysis phase\n",
        "\n",
        "Deployment (D): \n",
        "  Our final deployed predictive model will be a flask app deployed on Microsoft Azure app service. Containerizing the application is a requirement to not run into\n",
        "  errors later on, help manage our dependencies and have an easy deployment. The docker image will be publicly available on dockerhub for anyone to download and use.\n",
        "'''"
      ],
      "execution_count": null,
      "outputs": []
    },
    {
      "cell_type": "code",
      "metadata": {
        "id": "-K1mWuDoksTk"
      },
      "source": [
        "assert len(dm_outline) > 100 \n",
        "### BEGIN HIDDEN TESTS\n",
        "assert len(dm_outline) > 70 \n",
        "### END HIDDEN TESTS"
      ],
      "execution_count": null,
      "outputs": []
    },
    {
      "cell_type": "markdown",
      "metadata": {
        "id": "pmUDFG1wkzUy"
      },
      "source": [
        "### What metrics will you use to measure the performance of your data analysis model? \n",
        "equations of the metrics to be used"
      ]
    },
    {
      "cell_type": "markdown",
      "metadata": {
        "id": "KCNulojKk_BP"
      },
      "source": [
        "Accuracy = $\\frac{(TP+TN)}{(TP+FP+FN+TN)}$\n",
        "<br>\n",
        "Precision = $\\frac{TP}{(TP + FP)}$\n",
        "<br>\n",
        "Recall = $\\frac{TP}{(TP+FN)}$\n",
        "<br>\n",
        "F1 Score = $\\frac{(2\\times(Recall \\times Precision))} {(Recall + Precision)}$"
      ]
    },
    {
      "cell_type": "code",
      "metadata": {
        "id": "LSynT14KlPSJ"
      },
      "source": [
        "why_metrics = '''\n",
        "Accuracy: Because it is the most intuitive of the metrics used for a classification problem and tells us ratio of correctly\n",
        "          predicted predictions. Accuracy may not be the best metric when used in an imbalanced dataset tho\n",
        "Precision:  ratio of correctly predicted positive observations to the total predicted positive observations. To answer\n",
        "        the question of how many positive sentiments has the model classified in accordance to the actuall true sentiments\n",
        "Recall: ratio of correctly predicted positive observations to the all observations in actual class. To answer the question\n",
        "      of the actual positive sentiments how many were labeled correctly\n",
        "F1 Score: to take into account both false positives and false negatives into account. and as it might give a better indication\n",
        "      than accuracy on imbalanced class.\n",
        "'''"
      ],
      "execution_count": 12,
      "outputs": []
    },
    {
      "cell_type": "code",
      "metadata": {
        "id": "yr-Mk0E8lPVJ"
      },
      "source": [
        "assert len(why_metrics) > 100 "
      ],
      "execution_count": 13,
      "outputs": []
    },
    {
      "cell_type": "markdown",
      "metadata": {
        "id": "aAo19Ip6lUtm"
      },
      "source": [
        "### How would you know if your data analysis work is a success or not?\n",
        "minimum of 100 characters"
      ]
    },
    {
      "cell_type": "code",
      "metadata": {
        "id": "HESsiXW5llX-"
      },
      "source": [
        "how_success = '''\n",
        "If the features we've selected actually help build a good predictive model. To check if our model is a good predictive model\n",
        "we will first split the data into training and testing set.This split allows us to have separation between data used to\n",
        "train the model and data used to evaluate the model(check that it can actually predict the sentiment). After building the\n",
        "model we will predict using the test data and using the above classification metrics we can see how accurate or precise the model is.\n",
        "'''"
      ],
      "execution_count": 14,
      "outputs": []
    },
    {
      "cell_type": "code",
      "metadata": {
        "id": "FdUoiMIOlmXq"
      },
      "source": [
        "assert len(how_success) > 100 "
      ],
      "execution_count": 15,
      "outputs": []
    },
    {
      "cell_type": "markdown",
      "metadata": {
        "id": "DQE6dqo6l1TZ"
      },
      "source": [
        "## What kind of challenges do you expect in your analysis?\n",
        "List at least 3 challenges"
      ]
    },
    {
      "cell_type": "code",
      "metadata": {
        "id": "WrAhBQhQl8Lh"
      },
      "source": [
        "challenge_text = '''\n",
        "Challenge 1: \n",
        "'''"
      ],
      "execution_count": null,
      "outputs": []
    },
    {
      "cell_type": "code",
      "metadata": {
        "id": "EedHa-Pll8X7"
      },
      "source": [
        "assert len(challenge_text) > 100 , \"too small of a challenges scoped\""
      ],
      "execution_count": null,
      "outputs": []
    },
    {
      "cell_type": "markdown",
      "metadata": {
        "id": "vHlZ5G_GRBBu"
      },
      "source": [
        "# Model Building"
      ]
    },
    {
      "cell_type": "markdown",
      "metadata": {
        "id": "K8Jj95hA3T2q"
      },
      "source": [
        "## Import required packages"
      ]
    },
    {
      "cell_type": "code",
      "metadata": {
        "id": "85WxmGNGDcBY"
      },
      "source": [
        "import pandas as pd\n",
        "import matplotlib.pyplot as plt\n",
        "import seaborn as sns"
      ],
      "execution_count": null,
      "outputs": []
    },
    {
      "cell_type": "code",
      "metadata": {
        "id": "fqi7O-Qpj7cR"
      },
      "source": [
        "df = pd.read_csv('/content/processed_tweet_data.csv')"
      ],
      "execution_count": null,
      "outputs": []
    },
    {
      "cell_type": "code",
      "metadata": {
        "colab": {
          "base_uri": "https://localhost:8080/",
          "height": 479
        },
        "id": "MLztaKW4kCaS",
        "outputId": "69d5b891-39e5-48a3-b223-f872fe1ede04"
      },
      "source": [
        "df.head()"
      ],
      "execution_count": null,
      "outputs": [
        {
          "output_type": "execute_result",
          "data": {
            "text/html": [
              "<div>\n",
              "<style scoped>\n",
              "    .dataframe tbody tr th:only-of-type {\n",
              "        vertical-align: middle;\n",
              "    }\n",
              "\n",
              "    .dataframe tbody tr th {\n",
              "        vertical-align: top;\n",
              "    }\n",
              "\n",
              "    .dataframe thead th {\n",
              "        text-align: right;\n",
              "    }\n",
              "</style>\n",
              "<table border=\"1\" class=\"dataframe\">\n",
              "  <thead>\n",
              "    <tr style=\"text-align: right;\">\n",
              "      <th></th>\n",
              "      <th>created_at</th>\n",
              "      <th>source</th>\n",
              "      <th>polarity</th>\n",
              "      <th>subjectivity</th>\n",
              "      <th>original_text</th>\n",
              "      <th>lang</th>\n",
              "      <th>favorite_count</th>\n",
              "      <th>retweet_count</th>\n",
              "      <th>original_author</th>\n",
              "      <th>followers_count</th>\n",
              "      <th>friends_count</th>\n",
              "      <th>possibly_sensitive</th>\n",
              "      <th>hashtags</th>\n",
              "      <th>user_mentions</th>\n",
              "      <th>location</th>\n",
              "    </tr>\n",
              "  </thead>\n",
              "  <tbody>\n",
              "    <tr>\n",
              "      <th>0</th>\n",
              "      <td>Fri Jun 18 17:55:49 +0000 2021</td>\n",
              "      <td>&lt;a href=\"http://twitter.com/download/iphone\" r...</td>\n",
              "      <td>0.166667</td>\n",
              "      <td>0.188889</td>\n",
              "      <td>🚨Africa is \"in the midst of a full-blown third...</td>\n",
              "      <td>en</td>\n",
              "      <td>548.0</td>\n",
              "      <td>612.0</td>\n",
              "      <td>ketuesriche</td>\n",
              "      <td>551</td>\n",
              "      <td>351</td>\n",
              "      <td>NaN</td>\n",
              "      <td>[]</td>\n",
              "      <td>[{'screen_name': 'WHOAFRO', 'name': 'WHO Afric...</td>\n",
              "      <td>Mass</td>\n",
              "    </tr>\n",
              "    <tr>\n",
              "      <th>1</th>\n",
              "      <td>Fri Jun 18 17:55:59 +0000 2021</td>\n",
              "      <td>&lt;a href=\"https://mobile.twitter.com\" rel=\"nofo...</td>\n",
              "      <td>0.133333</td>\n",
              "      <td>0.455556</td>\n",
              "      <td>Dr Moeti is head of WHO in Africa, and one of ...</td>\n",
              "      <td>en</td>\n",
              "      <td>195.0</td>\n",
              "      <td>92.0</td>\n",
              "      <td>Grid1949</td>\n",
              "      <td>66</td>\n",
              "      <td>92</td>\n",
              "      <td>NaN</td>\n",
              "      <td>[]</td>\n",
              "      <td>[]</td>\n",
              "      <td>Edinburgh, Scotland</td>\n",
              "    </tr>\n",
              "    <tr>\n",
              "      <th>2</th>\n",
              "      <td>Fri Jun 18 17:56:07 +0000 2021</td>\n",
              "      <td>&lt;a href=\"http://twitter.com/download/iphone\" r...</td>\n",
              "      <td>0.316667</td>\n",
              "      <td>0.483333</td>\n",
              "      <td>Thank you @research2note for creating this ama...</td>\n",
              "      <td>en</td>\n",
              "      <td>2.0</td>\n",
              "      <td>1.0</td>\n",
              "      <td>LeeTomlinson8</td>\n",
              "      <td>1195</td>\n",
              "      <td>1176</td>\n",
              "      <td>NaN</td>\n",
              "      <td>[{'text': 'red4research', 'indices': [87, 100]}]</td>\n",
              "      <td>[{'screen_name': 'Research2note', 'name': 'Res...</td>\n",
              "      <td>NaN</td>\n",
              "    </tr>\n",
              "    <tr>\n",
              "      <th>3</th>\n",
              "      <td>Fri Jun 18 17:56:10 +0000 2021</td>\n",
              "      <td>&lt;a href=\"https://mobile.twitter.com\" rel=\"nofo...</td>\n",
              "      <td>0.086111</td>\n",
              "      <td>0.197222</td>\n",
              "      <td>Former Pfizer VP and Virologist, Dr. Michael Y...</td>\n",
              "      <td>en</td>\n",
              "      <td>1580.0</td>\n",
              "      <td>899.0</td>\n",
              "      <td>RIPNY08</td>\n",
              "      <td>2666</td>\n",
              "      <td>2704</td>\n",
              "      <td>NaN</td>\n",
              "      <td>[{'text': 'Covid19', 'indices': [145, 153]}]</td>\n",
              "      <td>[]</td>\n",
              "      <td>NaN</td>\n",
              "    </tr>\n",
              "    <tr>\n",
              "      <th>4</th>\n",
              "      <td>Fri Jun 18 17:56:20 +0000 2021</td>\n",
              "      <td>&lt;a href=\"http://twitter.com/download/android\" ...</td>\n",
              "      <td>0.280000</td>\n",
              "      <td>0.620000</td>\n",
              "      <td>I think it’s important that we don’t sell COVA...</td>\n",
              "      <td>en</td>\n",
              "      <td>72.0</td>\n",
              "      <td>20.0</td>\n",
              "      <td>pash22</td>\n",
              "      <td>28250</td>\n",
              "      <td>30819</td>\n",
              "      <td>NaN</td>\n",
              "      <td>[]</td>\n",
              "      <td>[{'screen_name': 'TexasChildrens', 'name': \"Te...</td>\n",
              "      <td>United Kingdom</td>\n",
              "    </tr>\n",
              "  </tbody>\n",
              "</table>\n",
              "</div>"
            ],
            "text/plain": [
              "                       created_at  ...             location\n",
              "0  Fri Jun 18 17:55:49 +0000 2021  ...                 Mass\n",
              "1  Fri Jun 18 17:55:59 +0000 2021  ...  Edinburgh, Scotland\n",
              "2  Fri Jun 18 17:56:07 +0000 2021  ...                  NaN\n",
              "3  Fri Jun 18 17:56:10 +0000 2021  ...                  NaN\n",
              "4  Fri Jun 18 17:56:20 +0000 2021  ...       United Kingdom\n",
              "\n",
              "[5 rows x 15 columns]"
            ]
          },
          "metadata": {
            "tags": []
          },
          "execution_count": 45
        }
      ]
    },
    {
      "cell_type": "code",
      "metadata": {
        "colab": {
          "base_uri": "https://localhost:8080/",
          "height": 204
        },
        "id": "OW7-Ti2gkDZi",
        "outputId": "61b46ab5-e63f-4a88-8764-55ef35743d6c"
      },
      "source": [
        "# Form a new data frame (named cleanTweet), containing columns  clean-text  and  polarity .\n",
        "cleanTweet = df[['polarity', 'original_text']]\n",
        "cleanTweet.head()"
      ],
      "execution_count": null,
      "outputs": [
        {
          "output_type": "execute_result",
          "data": {
            "text/html": [
              "<div>\n",
              "<style scoped>\n",
              "    .dataframe tbody tr th:only-of-type {\n",
              "        vertical-align: middle;\n",
              "    }\n",
              "\n",
              "    .dataframe tbody tr th {\n",
              "        vertical-align: top;\n",
              "    }\n",
              "\n",
              "    .dataframe thead th {\n",
              "        text-align: right;\n",
              "    }\n",
              "</style>\n",
              "<table border=\"1\" class=\"dataframe\">\n",
              "  <thead>\n",
              "    <tr style=\"text-align: right;\">\n",
              "      <th></th>\n",
              "      <th>polarity</th>\n",
              "      <th>original_text</th>\n",
              "    </tr>\n",
              "  </thead>\n",
              "  <tbody>\n",
              "    <tr>\n",
              "      <th>0</th>\n",
              "      <td>0.166667</td>\n",
              "      <td>🚨Africa is \"in the midst of a full-blown third...</td>\n",
              "    </tr>\n",
              "    <tr>\n",
              "      <th>1</th>\n",
              "      <td>0.133333</td>\n",
              "      <td>Dr Moeti is head of WHO in Africa, and one of ...</td>\n",
              "    </tr>\n",
              "    <tr>\n",
              "      <th>2</th>\n",
              "      <td>0.316667</td>\n",
              "      <td>Thank you @research2note for creating this ama...</td>\n",
              "    </tr>\n",
              "    <tr>\n",
              "      <th>3</th>\n",
              "      <td>0.086111</td>\n",
              "      <td>Former Pfizer VP and Virologist, Dr. Michael Y...</td>\n",
              "    </tr>\n",
              "    <tr>\n",
              "      <th>4</th>\n",
              "      <td>0.280000</td>\n",
              "      <td>I think it’s important that we don’t sell COVA...</td>\n",
              "    </tr>\n",
              "  </tbody>\n",
              "</table>\n",
              "</div>"
            ],
            "text/plain": [
              "   polarity                                      original_text\n",
              "0  0.166667  🚨Africa is \"in the midst of a full-blown third...\n",
              "1  0.133333  Dr Moeti is head of WHO in Africa, and one of ...\n",
              "2  0.316667  Thank you @research2note for creating this ama...\n",
              "3  0.086111  Former Pfizer VP and Virologist, Dr. Michael Y...\n",
              "4  0.280000  I think it’s important that we don’t sell COVA..."
            ]
          },
          "metadata": {
            "tags": []
          },
          "execution_count": 46
        }
      ]
    },
    {
      "cell_type": "markdown",
      "metadata": {
        "id": "EtQHJKDlzzG_"
      },
      "source": [
        "### Basic preprocessing\n"
      ]
    },
    {
      "cell_type": "code",
      "metadata": {
        "colab": {
          "base_uri": "https://localhost:8080/"
        },
        "id": "V9AZPLL22Cww",
        "outputId": "7d9c42b8-983e-4b92-95d2-22b24526f03e"
      },
      "source": [
        "cleanTweet.dtypes"
      ],
      "execution_count": null,
      "outputs": [
        {
          "output_type": "execute_result",
          "data": {
            "text/plain": [
              "polarity         float64\n",
              "original_text     object\n",
              "dtype: object"
            ]
          },
          "metadata": {
            "tags": []
          },
          "execution_count": 47
        }
      ]
    },
    {
      "cell_type": "code",
      "metadata": {
        "colab": {
          "base_uri": "https://localhost:8080/",
          "height": 768
        },
        "id": "9ARDzrWrz4X-",
        "outputId": "f0284e9b-e3d7-4021-d184-019dce92f479"
      },
      "source": [
        "import nltk\n",
        "nltk.download('stopwords')\n",
        "# from nltk.corpus import stopwords\n",
        "stop = stopwords.words('english')\n",
        "\n",
        "# convert all original_text fields to strings\n",
        "cleanTweet['original_text'] = cleanTweet['original_text'].astype(str)\n",
        "cleanTweet['clean_text'] = cleanTweet['original_text'].str.replace('[^\\w\\s]','')\n",
        "cleanTweet['clean_text'] = cleanTweet['clean_text'].apply(lambda x: \" \".join(x for x in x.split() if x not in stop))\n",
        "cleanTweet['clean_text'] = cleanTweet['clean_text'].apply(lambda x: \" \".join(x.lower() for x in x.split()))\n",
        "#Lines 4 to 6\n",
        "from nltk.stem import PorterStemmer\n",
        "stemmer = PorterStemmer()\n",
        "cleanTweet['clean_text'] = cleanTweet['clean_text'].apply(lambda x: \" \".join([stemmer.stem(word) for word in x.split()]))\n",
        "\n",
        "cleanTweet[['polarity','original_text','clean_text']].head()"
      ],
      "execution_count": null,
      "outputs": [
        {
          "output_type": "stream",
          "text": [
            "[nltk_data] Downloading package stopwords to /root/nltk_data...\n",
            "[nltk_data]   Package stopwords is already up-to-date!\n"
          ],
          "name": "stdout"
        },
        {
          "output_type": "stream",
          "text": [
            "/usr/local/lib/python3.7/dist-packages/ipykernel_launcher.py:7: SettingWithCopyWarning: \n",
            "A value is trying to be set on a copy of a slice from a DataFrame.\n",
            "Try using .loc[row_indexer,col_indexer] = value instead\n",
            "\n",
            "See the caveats in the documentation: https://pandas.pydata.org/pandas-docs/stable/user_guide/indexing.html#returning-a-view-versus-a-copy\n",
            "  import sys\n",
            "/usr/local/lib/python3.7/dist-packages/ipykernel_launcher.py:8: SettingWithCopyWarning: \n",
            "A value is trying to be set on a copy of a slice from a DataFrame.\n",
            "Try using .loc[row_indexer,col_indexer] = value instead\n",
            "\n",
            "See the caveats in the documentation: https://pandas.pydata.org/pandas-docs/stable/user_guide/indexing.html#returning-a-view-versus-a-copy\n",
            "  \n",
            "/usr/local/lib/python3.7/dist-packages/ipykernel_launcher.py:9: SettingWithCopyWarning: \n",
            "A value is trying to be set on a copy of a slice from a DataFrame.\n",
            "Try using .loc[row_indexer,col_indexer] = value instead\n",
            "\n",
            "See the caveats in the documentation: https://pandas.pydata.org/pandas-docs/stable/user_guide/indexing.html#returning-a-view-versus-a-copy\n",
            "  if __name__ == '__main__':\n",
            "/usr/local/lib/python3.7/dist-packages/ipykernel_launcher.py:10: SettingWithCopyWarning: \n",
            "A value is trying to be set on a copy of a slice from a DataFrame.\n",
            "Try using .loc[row_indexer,col_indexer] = value instead\n",
            "\n",
            "See the caveats in the documentation: https://pandas.pydata.org/pandas-docs/stable/user_guide/indexing.html#returning-a-view-versus-a-copy\n",
            "  # Remove the CWD from sys.path while we load stuff.\n",
            "/usr/local/lib/python3.7/dist-packages/ipykernel_launcher.py:14: SettingWithCopyWarning: \n",
            "A value is trying to be set on a copy of a slice from a DataFrame.\n",
            "Try using .loc[row_indexer,col_indexer] = value instead\n",
            "\n",
            "See the caveats in the documentation: https://pandas.pydata.org/pandas-docs/stable/user_guide/indexing.html#returning-a-view-versus-a-copy\n",
            "  \n"
          ],
          "name": "stderr"
        },
        {
          "output_type": "execute_result",
          "data": {
            "text/html": [
              "<div>\n",
              "<style scoped>\n",
              "    .dataframe tbody tr th:only-of-type {\n",
              "        vertical-align: middle;\n",
              "    }\n",
              "\n",
              "    .dataframe tbody tr th {\n",
              "        vertical-align: top;\n",
              "    }\n",
              "\n",
              "    .dataframe thead th {\n",
              "        text-align: right;\n",
              "    }\n",
              "</style>\n",
              "<table border=\"1\" class=\"dataframe\">\n",
              "  <thead>\n",
              "    <tr style=\"text-align: right;\">\n",
              "      <th></th>\n",
              "      <th>polarity</th>\n",
              "      <th>original_text</th>\n",
              "      <th>clean_text</th>\n",
              "    </tr>\n",
              "  </thead>\n",
              "  <tbody>\n",
              "    <tr>\n",
              "      <th>0</th>\n",
              "      <td>0.166667</td>\n",
              "      <td>🚨Africa is \"in the midst of a full-blown third...</td>\n",
              "      <td>africa midst fullblown third wave coronaviru h...</td>\n",
              "    </tr>\n",
              "    <tr>\n",
              "      <th>1</th>\n",
              "      <td>0.133333</td>\n",
              "      <td>Dr Moeti is head of WHO in Africa, and one of ...</td>\n",
              "      <td>dr moeti head who africa one best public healt...</td>\n",
              "    </tr>\n",
              "    <tr>\n",
              "      <th>2</th>\n",
              "      <td>0.316667</td>\n",
              "      <td>Thank you @research2note for creating this ama...</td>\n",
              "      <td>thank research2not creat amaz campaign amp tur...</td>\n",
              "    </tr>\n",
              "    <tr>\n",
              "      <th>3</th>\n",
              "      <td>0.086111</td>\n",
              "      <td>Former Pfizer VP and Virologist, Dr. Michael Y...</td>\n",
              "      <td>former pfizer vp virologist dr michael yeadon ...</td>\n",
              "    </tr>\n",
              "    <tr>\n",
              "      <th>4</th>\n",
              "      <td>0.280000</td>\n",
              "      <td>I think it’s important that we don’t sell COVA...</td>\n",
              "      <td>i think import dont sell covax short it still ...</td>\n",
              "    </tr>\n",
              "  </tbody>\n",
              "</table>\n",
              "</div>"
            ],
            "text/plain": [
              "   polarity  ...                                         clean_text\n",
              "0  0.166667  ...  africa midst fullblown third wave coronaviru h...\n",
              "1  0.133333  ...  dr moeti head who africa one best public healt...\n",
              "2  0.316667  ...  thank research2not creat amaz campaign amp tur...\n",
              "3  0.086111  ...  former pfizer vp virologist dr michael yeadon ...\n",
              "4  0.280000  ...  i think import dont sell covax short it still ...\n",
              "\n",
              "[5 rows x 3 columns]"
            ]
          },
          "metadata": {
            "tags": []
          },
          "execution_count": 48
        }
      ]
    },
    {
      "cell_type": "code",
      "metadata": {
        "id": "yszqeCrAkSCq"
      },
      "source": [
        "# Write a function text_category that takes a value p and returns, depending on the value of p, a string 'positive', 'negative' or 'neutral'.\n",
        "\n",
        "def text_category(p):\n",
        "  if p > 0:\n",
        "    return 'positive'\n",
        "  elif p < 0:\n",
        "    return 'negative'\n",
        "  else: return 'neutral'"
      ],
      "execution_count": null,
      "outputs": []
    },
    {
      "cell_type": "code",
      "metadata": {
        "colab": {
          "base_uri": "https://localhost:8080/",
          "height": 204
        },
        "id": "-YppMHhLkyFE",
        "outputId": "63a576a2-bb55-439b-ef23-12ada5b27523"
      },
      "source": [
        "# Apply this function (text_category) on the  polarity  column of cleanTweet in 1 above to form a new column called  score  in cleanTweet.\n",
        "\n",
        "scores = pd.Series([text_category(row_val) for row_val in cleanTweet['polarity']])\n",
        "cleanTweet = pd.concat([cleanTweet, scores.rename(\"score\")], axis=1)\n",
        "cleanTweet.head()"
      ],
      "execution_count": null,
      "outputs": [
        {
          "output_type": "execute_result",
          "data": {
            "text/html": [
              "<div>\n",
              "<style scoped>\n",
              "    .dataframe tbody tr th:only-of-type {\n",
              "        vertical-align: middle;\n",
              "    }\n",
              "\n",
              "    .dataframe tbody tr th {\n",
              "        vertical-align: top;\n",
              "    }\n",
              "\n",
              "    .dataframe thead th {\n",
              "        text-align: right;\n",
              "    }\n",
              "</style>\n",
              "<table border=\"1\" class=\"dataframe\">\n",
              "  <thead>\n",
              "    <tr style=\"text-align: right;\">\n",
              "      <th></th>\n",
              "      <th>polarity</th>\n",
              "      <th>original_text</th>\n",
              "      <th>clean_text</th>\n",
              "      <th>score</th>\n",
              "    </tr>\n",
              "  </thead>\n",
              "  <tbody>\n",
              "    <tr>\n",
              "      <th>0</th>\n",
              "      <td>0.166667</td>\n",
              "      <td>🚨Africa is \"in the midst of a full-blown third...</td>\n",
              "      <td>africa midst fullblown third wave coronaviru h...</td>\n",
              "      <td>positive</td>\n",
              "    </tr>\n",
              "    <tr>\n",
              "      <th>1</th>\n",
              "      <td>0.133333</td>\n",
              "      <td>Dr Moeti is head of WHO in Africa, and one of ...</td>\n",
              "      <td>dr moeti head who africa one best public healt...</td>\n",
              "      <td>positive</td>\n",
              "    </tr>\n",
              "    <tr>\n",
              "      <th>2</th>\n",
              "      <td>0.316667</td>\n",
              "      <td>Thank you @research2note for creating this ama...</td>\n",
              "      <td>thank research2not creat amaz campaign amp tur...</td>\n",
              "      <td>positive</td>\n",
              "    </tr>\n",
              "    <tr>\n",
              "      <th>3</th>\n",
              "      <td>0.086111</td>\n",
              "      <td>Former Pfizer VP and Virologist, Dr. Michael Y...</td>\n",
              "      <td>former pfizer vp virologist dr michael yeadon ...</td>\n",
              "      <td>positive</td>\n",
              "    </tr>\n",
              "    <tr>\n",
              "      <th>4</th>\n",
              "      <td>0.280000</td>\n",
              "      <td>I think it’s important that we don’t sell COVA...</td>\n",
              "      <td>i think import dont sell covax short it still ...</td>\n",
              "      <td>positive</td>\n",
              "    </tr>\n",
              "  </tbody>\n",
              "</table>\n",
              "</div>"
            ],
            "text/plain": [
              "   polarity  ...     score\n",
              "0  0.166667  ...  positive\n",
              "1  0.133333  ...  positive\n",
              "2  0.316667  ...  positive\n",
              "3  0.086111  ...  positive\n",
              "4  0.280000  ...  positive\n",
              "\n",
              "[5 rows x 4 columns]"
            ]
          },
          "metadata": {
            "tags": []
          },
          "execution_count": 50
        }
      ]
    },
    {
      "cell_type": "code",
      "metadata": {
        "colab": {
          "base_uri": "https://localhost:8080/",
          "height": 419
        },
        "id": "3-nH1dvYo6_O",
        "outputId": "9bf6695d-b11d-411a-893c-2cd8c550e2eb"
      },
      "source": [
        "cleanTweet"
      ],
      "execution_count": null,
      "outputs": [
        {
          "output_type": "execute_result",
          "data": {
            "text/html": [
              "<div>\n",
              "<style scoped>\n",
              "    .dataframe tbody tr th:only-of-type {\n",
              "        vertical-align: middle;\n",
              "    }\n",
              "\n",
              "    .dataframe tbody tr th {\n",
              "        vertical-align: top;\n",
              "    }\n",
              "\n",
              "    .dataframe thead th {\n",
              "        text-align: right;\n",
              "    }\n",
              "</style>\n",
              "<table border=\"1\" class=\"dataframe\">\n",
              "  <thead>\n",
              "    <tr style=\"text-align: right;\">\n",
              "      <th></th>\n",
              "      <th>polarity</th>\n",
              "      <th>original_text</th>\n",
              "      <th>clean_text</th>\n",
              "      <th>score</th>\n",
              "    </tr>\n",
              "  </thead>\n",
              "  <tbody>\n",
              "    <tr>\n",
              "      <th>0</th>\n",
              "      <td>0.166667</td>\n",
              "      <td>🚨Africa is \"in the midst of a full-blown third...</td>\n",
              "      <td>africa midst fullblown third wave coronaviru h...</td>\n",
              "      <td>positive</td>\n",
              "    </tr>\n",
              "    <tr>\n",
              "      <th>1</th>\n",
              "      <td>0.133333</td>\n",
              "      <td>Dr Moeti is head of WHO in Africa, and one of ...</td>\n",
              "      <td>dr moeti head who africa one best public healt...</td>\n",
              "      <td>positive</td>\n",
              "    </tr>\n",
              "    <tr>\n",
              "      <th>2</th>\n",
              "      <td>0.316667</td>\n",
              "      <td>Thank you @research2note for creating this ama...</td>\n",
              "      <td>thank research2not creat amaz campaign amp tur...</td>\n",
              "      <td>positive</td>\n",
              "    </tr>\n",
              "    <tr>\n",
              "      <th>3</th>\n",
              "      <td>0.086111</td>\n",
              "      <td>Former Pfizer VP and Virologist, Dr. Michael Y...</td>\n",
              "      <td>former pfizer vp virologist dr michael yeadon ...</td>\n",
              "      <td>positive</td>\n",
              "    </tr>\n",
              "    <tr>\n",
              "      <th>4</th>\n",
              "      <td>0.280000</td>\n",
              "      <td>I think it’s important that we don’t sell COVA...</td>\n",
              "      <td>i think import dont sell covax short it still ...</td>\n",
              "      <td>positive</td>\n",
              "    </tr>\n",
              "    <tr>\n",
              "      <th>...</th>\n",
              "      <td>...</td>\n",
              "      <td>...</td>\n",
              "      <td>...</td>\n",
              "      <td>...</td>\n",
              "    </tr>\n",
              "    <tr>\n",
              "      <th>3715</th>\n",
              "      <td>0.100000</td>\n",
              "      <td>204,344 #COVID19 vaccines have been administer...</td>\n",
              "      <td>204344 covid19 vaccin administ far today ontar...</td>\n",
              "      <td>positive</td>\n",
              "    </tr>\n",
              "    <tr>\n",
              "      <th>3716</th>\n",
              "      <td>-0.386111</td>\n",
              "      <td>🚨Africa is \"in the midst of a full-blown third...</td>\n",
              "      <td>africa midst fullblown third wave coronaviru h...</td>\n",
              "      <td>negative</td>\n",
              "    </tr>\n",
              "    <tr>\n",
              "      <th>3717</th>\n",
              "      <td>-0.050000</td>\n",
              "      <td>I’m pleased to welcome the #WeCanDoThis bus to...</td>\n",
              "      <td>im pleas welcom wecandothi bu atlanta today re...</td>\n",
              "      <td>negative</td>\n",
              "    </tr>\n",
              "    <tr>\n",
              "      <th>3718</th>\n",
              "      <td>0.086111</td>\n",
              "      <td>In this interview, I discuss the possible lab ...</td>\n",
              "      <td>in interview i discuss possibl lab origin sars...</td>\n",
              "      <td>positive</td>\n",
              "    </tr>\n",
              "    <tr>\n",
              "      <th>3719</th>\n",
              "      <td>0.125000</td>\n",
              "      <td>I don't think we should rush emergency approve...</td>\n",
              "      <td>i dont think rush emerg approv vaccin children...</td>\n",
              "      <td>positive</td>\n",
              "    </tr>\n",
              "  </tbody>\n",
              "</table>\n",
              "<p>3720 rows × 4 columns</p>\n",
              "</div>"
            ],
            "text/plain": [
              "      polarity  ...     score\n",
              "0     0.166667  ...  positive\n",
              "1     0.133333  ...  positive\n",
              "2     0.316667  ...  positive\n",
              "3     0.086111  ...  positive\n",
              "4     0.280000  ...  positive\n",
              "...        ...  ...       ...\n",
              "3715  0.100000  ...  positive\n",
              "3716 -0.386111  ...  negative\n",
              "3717 -0.050000  ...  negative\n",
              "3718  0.086111  ...  positive\n",
              "3719  0.125000  ...  positive\n",
              "\n",
              "[3720 rows x 4 columns]"
            ]
          },
          "metadata": {
            "tags": []
          },
          "execution_count": 51
        }
      ]
    },
    {
      "cell_type": "code",
      "metadata": {
        "colab": {
          "base_uri": "https://localhost:8080/"
        },
        "id": "FFY4Zn8-opo9",
        "outputId": "2549a1ce-d01f-4e7c-eeeb-01224aa3ee2d"
      },
      "source": [
        "print(len(cleanTweet[cleanTweet['score'] == \"positive\"]))"
      ],
      "execution_count": null,
      "outputs": [
        {
          "output_type": "stream",
          "text": [
            "2786\n"
          ],
          "name": "stdout"
        }
      ]
    },
    {
      "cell_type": "code",
      "metadata": {
        "colab": {
          "base_uri": "https://localhost:8080/",
          "height": 328
        },
        "id": "iW-h2ei6nHYJ",
        "outputId": "89ba31f6-a676-47c9-b29c-2c5fc12f0187"
      },
      "source": [
        "# Visualize The  score  column using piechart and barchart\n",
        "# Pie chart, where the slices will be ordered and plotted counter-clockwise:\n",
        "labels = ['neutral', 'positive', 'negative']\n",
        "\n",
        "neutral_count = len(cleanTweet[cleanTweet['score'] == \"neutral\"])\n",
        "positive_count = len(cleanTweet[cleanTweet['score'] == \"positive\"])\n",
        "negative_count = len(cleanTweet[cleanTweet['score'] == \"negative\"])\n",
        "sizes = [neutral_count, positive_count, negative_count]\n",
        "# Create a figure for 2 subplots (1 row, 2 columns)\n",
        "fig, ax = plt.subplots(1, 2, figsize = (10,4))\n",
        "\n",
        "# Create a bar plot of score column\n",
        "ax[0].bar(x=labels, height=[neutral_count, positive_count, negative_count], color='orange')\n",
        "ax[0].set_title('Barchart of score column')\n",
        "ax[0].set_xticklabels(labels, rotation=90)\n",
        "\n",
        "# Create a pie chart of score column based on neutral, positive or negative\n",
        "\n",
        "ax[1].pie(sizes,labels=labels, autopct='%1.1f%%',\n",
        "        shadow=True, startangle=90)\n",
        "ax[1].set_title('piechart of score column')\n",
        "ax[1].legend(labels)\n",
        "\n",
        "# Add a title to the Figure\n",
        "fig.suptitle('Score column plots')\n",
        "\n",
        "# Show the figure\n",
        "fig.show()"
      ],
      "execution_count": null,
      "outputs": [
        {
          "output_type": "display_data",
          "data": {
            "image/png": "[encoded data removed]",
            "text/plain": [
              "<Figure size 720x288 with 2 Axes>"
            ]
          },
          "metadata": {
            "tags": [],
            "needs_background": "light"
          }
        }
      ]
    },
    {
      "cell_type": "markdown",
      "metadata": {
        "id": "XsycMoCks1k6"
      },
      "source": [
        "## Building a classification model"
      ]
    },
    {
      "cell_type": "code",
      "metadata": {
        "colab": {
          "base_uri": "https://localhost:8080/"
        },
        "id": "bXGsjwDvnSAw",
        "outputId": "71ae4bb3-76df-469a-839d-6913f1d09d1c"
      },
      "source": [
        "# Remove rows from cleanTweet where  polarity   =0  (i.e where  score  = Neutral) and reset the frame index.\n",
        "print(cleanTweet.shape)\n",
        "cleanTweet = cleanTweet[cleanTweet['score'] != 'neutral']\n",
        "cleanTweet.shape"
      ],
      "execution_count": null,
      "outputs": [
        {
          "output_type": "stream",
          "text": [
            "(3720, 4)\n"
          ],
          "name": "stdout"
        },
        {
          "output_type": "execute_result",
          "data": {
            "text/plain": [
              "(3354, 4)"
            ]
          },
          "metadata": {
            "tags": []
          },
          "execution_count": 54
        }
      ]
    },
    {
      "cell_type": "code",
      "metadata": {
        "id": "k7TJBHbKtxfq",
        "colab": {
          "base_uri": "https://localhost:8080/",
          "height": 204
        },
        "outputId": "c0114238-7823-4595-e9d7-df4b13adfbc8"
      },
      "source": [
        "# Construct a column  scoremap  Use the mapping {'positive':1, 'negative':0} on the  score  column\n",
        "scoremaps = pd.Series([int(1) if row_val == 'positive' else int(0) for row_val in cleanTweet['score']])\n",
        "cleanTweet = pd.concat([cleanTweet, scoremaps.rename(\"scoremap\")], axis=1)\n",
        "cleanTweet.head()"
      ],
      "execution_count": null,
      "outputs": [
        {
          "output_type": "execute_result",
          "data": {
            "text/html": [
              "<div>\n",
              "<style scoped>\n",
              "    .dataframe tbody tr th:only-of-type {\n",
              "        vertical-align: middle;\n",
              "    }\n",
              "\n",
              "    .dataframe tbody tr th {\n",
              "        vertical-align: top;\n",
              "    }\n",
              "\n",
              "    .dataframe thead th {\n",
              "        text-align: right;\n",
              "    }\n",
              "</style>\n",
              "<table border=\"1\" class=\"dataframe\">\n",
              "  <thead>\n",
              "    <tr style=\"text-align: right;\">\n",
              "      <th></th>\n",
              "      <th>polarity</th>\n",
              "      <th>original_text</th>\n",
              "      <th>clean_text</th>\n",
              "      <th>score</th>\n",
              "      <th>scoremap</th>\n",
              "    </tr>\n",
              "  </thead>\n",
              "  <tbody>\n",
              "    <tr>\n",
              "      <th>0</th>\n",
              "      <td>0.166667</td>\n",
              "      <td>🚨Africa is \"in the midst of a full-blown third...</td>\n",
              "      <td>africa midst fullblown third wave coronaviru h...</td>\n",
              "      <td>positive</td>\n",
              "      <td>1.0</td>\n",
              "    </tr>\n",
              "    <tr>\n",
              "      <th>1</th>\n",
              "      <td>0.133333</td>\n",
              "      <td>Dr Moeti is head of WHO in Africa, and one of ...</td>\n",
              "      <td>dr moeti head who africa one best public healt...</td>\n",
              "      <td>positive</td>\n",
              "      <td>1.0</td>\n",
              "    </tr>\n",
              "    <tr>\n",
              "      <th>2</th>\n",
              "      <td>0.316667</td>\n",
              "      <td>Thank you @research2note for creating this ama...</td>\n",
              "      <td>thank research2not creat amaz campaign amp tur...</td>\n",
              "      <td>positive</td>\n",
              "      <td>1.0</td>\n",
              "    </tr>\n",
              "    <tr>\n",
              "      <th>3</th>\n",
              "      <td>0.086111</td>\n",
              "      <td>Former Pfizer VP and Virologist, Dr. Michael Y...</td>\n",
              "      <td>former pfizer vp virologist dr michael yeadon ...</td>\n",
              "      <td>positive</td>\n",
              "      <td>1.0</td>\n",
              "    </tr>\n",
              "    <tr>\n",
              "      <th>4</th>\n",
              "      <td>0.280000</td>\n",
              "      <td>I think it’s important that we don’t sell COVA...</td>\n",
              "      <td>i think import dont sell covax short it still ...</td>\n",
              "      <td>positive</td>\n",
              "      <td>1.0</td>\n",
              "    </tr>\n",
              "  </tbody>\n",
              "</table>\n",
              "</div>"
            ],
            "text/plain": [
              "   polarity  ... scoremap\n",
              "0  0.166667  ...      1.0\n",
              "1  0.133333  ...      1.0\n",
              "2  0.316667  ...      1.0\n",
              "3  0.086111  ...      1.0\n",
              "4  0.280000  ...      1.0\n",
              "\n",
              "[5 rows x 5 columns]"
            ]
          },
          "metadata": {
            "tags": []
          },
          "execution_count": 55
        }
      ]
    },
    {
      "cell_type": "code",
      "metadata": {
        "id": "bqvXiEqJ6H9M"
      },
      "source": [
        "# Create feature and target variables (X,y) from  clean-text  and  scoremap  columns respectively.\n",
        "cleanTweet.reset_index()\n",
        "X, y = cleanTweet['clean_text'], cleanTweet['scoremap']"
      ],
      "execution_count": null,
      "outputs": []
    },
    {
      "cell_type": "code",
      "metadata": {
        "id": "eNwnvrSQvQZh"
      },
      "source": [
        "# Use train_test_split function to construct (X_train, y_train) and (X_test, y_test) from (X,y)\n",
        "from sklearn.model_selection import train_test_split\n",
        "X_train, X_test, y_train, y_test = train_test_split(X, y, random_state=101)"
      ],
      "execution_count": null,
      "outputs": []
    },
    {
      "cell_type": "code",
      "metadata": {
        "colab": {
          "base_uri": "https://localhost:8080/"
        },
        "id": "VkHeCj6t6r1S",
        "outputId": "a58b7ec9-f9b4-42ca-d0d8-3bd85ebe18d8"
      },
      "source": [
        "print(X_train[:5])\n",
        "print(y_train[:5])\n",
        "print(X_test[:5])\n",
        "y_test[:5]"
      ],
      "execution_count": null,
      "outputs": [
        {
          "output_type": "stream",
          "text": [
            "1489    big news up 25800 may kill covid vaccin i bet ...\n",
            "1632                                                  NaN\n",
            "7       yet anoth amazingli qualifi courag doctor roge...\n",
            "300                                                   nan\n",
            "339     how know covid19 vaccin safe cdc amp us_fda sa...\n",
            "Name: clean_text, dtype: object\n",
            "1489    1.0\n",
            "1632    1.0\n",
            "7       1.0\n",
            "300     1.0\n",
            "339     1.0\n",
            "Name: scoremap, dtype: float64\n",
            "1079    it precis peopl have done research find come l...\n",
            "3136                                                  NaN\n",
            "2655                                                  NaN\n",
            "1434                                                  nan\n",
            "1414    as covid19 vaccin roll across countri import c...\n",
            "Name: clean_text, dtype: object\n"
          ],
          "name": "stdout"
        },
        {
          "output_type": "execute_result",
          "data": {
            "text/plain": [
              "1079    1.0\n",
              "3136    1.0\n",
              "2655    1.0\n",
              "1434    1.0\n",
              "1414    1.0\n",
              "Name: scoremap, dtype: float64"
            ]
          },
          "metadata": {
            "tags": []
          },
          "execution_count": 109
        }
      ]
    },
    {
      "cell_type": "code",
      "metadata": {
        "id": "9UHpG8N5yCf7"
      },
      "source": [
        "# Build an SGDClassifier model from the vectorize train text data. Use CountVectorizer() with a  trigram  parameter.\n",
        "from sklearn.feature_extraction.text import CountVectorizer\n",
        "import numpy as np\n",
        "count_vect = CountVectorizer(3,3)\n",
        "X_train = X_train.replace(np.nan, '', regex=True)\n",
        "X_train_counts = count_vect.fit_transform(X_train)\n",
        "X_train_counts = X_train_counts.toarray()"
      ],
      "execution_count": null,
      "outputs": []
    },
    {
      "cell_type": "code",
      "metadata": {
        "id": "X5EumCFb96ax"
      },
      "source": [
        "# fill NaN values in y_train with 0\n",
        "y_train = y_train.fillna(0)"
      ],
      "execution_count": null,
      "outputs": []
    },
    {
      "cell_type": "code",
      "metadata": {
        "colab": {
          "base_uri": "https://localhost:8080/"
        },
        "id": "PPxqarUb9Wwq",
        "outputId": "6ad8a9dd-a051-4ea0-b40b-9441fe875635"
      },
      "source": [
        "np.any(np.isnan(y_train))"
      ],
      "execution_count": null,
      "outputs": [
        {
          "output_type": "execute_result",
          "data": {
            "text/plain": [
              "False"
            ]
          },
          "metadata": {
            "tags": []
          },
          "execution_count": 132
        }
      ]
    },
    {
      "cell_type": "code",
      "metadata": {
        "id": "aC_ds3iJ8e-J"
      },
      "source": [
        "from sklearn.linear_model import SGDClassifier\n",
        "# clf = SDGC().fit(X_train_tfidf, twenty_train.target)\n",
        "clf = SGDClassifier().fit(X_train_counts, y_train)"
      ],
      "execution_count": null,
      "outputs": []
    },
    {
      "cell_type": "markdown",
      "metadata": {
        "id": "cHXeJ84BEKu3"
      },
      "source": [
        "## Evaluate model"
      ]
    },
    {
      "cell_type": "code",
      "metadata": {
        "colab": {
          "base_uri": "https://localhost:8080/"
        },
        "id": "JJbzvDdjDpWN",
        "outputId": "b4714e3d-008a-4f89-8208-78d605f790b7"
      },
      "source": [
        "X_test = X_test.replace(np.nan, '', regex=True)\n",
        "X_test[:5]"
      ],
      "execution_count": null,
      "outputs": [
        {
          "output_type": "execute_result",
          "data": {
            "text/plain": [
              "1079    it precis peopl have done research find come l...\n",
              "3136                                                     \n",
              "2655                                                     \n",
              "1434                                                  nan\n",
              "1414    as covid19 vaccin roll across countri import c...\n",
              "Name: clean_text, dtype: object"
            ]
          },
          "metadata": {
            "tags": []
          },
          "execution_count": 134
        }
      ]
    },
    {
      "cell_type": "code",
      "metadata": {
        "id": "w0rlK1zE_BW8"
      },
      "source": [
        "X_test = X_test.replace(np.nan, '', regex=True)\n",
        "# use transform not fit_transform\n",
        "X_test_counts = count_vect.transform(X_test)\n",
        "X_test_counts = X_test_counts.toarray()\n",
        "# prediction = clf.prevaluedict(X_test_counts)\n",
        "prediction = clf.predict(X_test_counts)"
      ],
      "execution_count": null,
      "outputs": []
    },
    {
      "cell_type": "code",
      "metadata": {
        "colab": {
          "base_uri": "https://localhost:8080/"
        },
        "id": "kmEEWmwyEXsa",
        "outputId": "894af98f-e90e-4228-90a6-44fbf5b9e328"
      },
      "source": [
        "np.mean(prediction == y_test)\n",
        "# 70% acc"
      ],
      "execution_count": null,
      "outputs": [
        {
          "output_type": "execute_result",
          "data": {
            "text/plain": [
              "0.7079261672095548"
            ]
          },
          "metadata": {
            "tags": []
          },
          "execution_count": 137
        }
      ]
    }
  ]
}